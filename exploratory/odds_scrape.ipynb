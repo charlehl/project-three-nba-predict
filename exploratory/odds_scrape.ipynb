{
 "cells": [
  {
   "cell_type": "code",
   "execution_count": 1,
   "metadata": {},
   "outputs": [],
   "source": [
    "import numpy as np\n",
    "import pandas as pd\n",
    "#import datetime as dt\n",
    "import pymongo\n",
    "import json\n",
    "import datetime as dt\n",
    "import pickle\n",
    "import math\n",
    "#import os\n",
    "from bs4 import BeautifulSoup as bs\n",
    "#import requests\n",
    "from splinter import Browser\n",
    "import time\n",
    "import re\n",
    "import datetime \n",
    "import dateutil.parser\n",
    "import string"
   ]
  },
  {
   "cell_type": "code",
   "execution_count": 2,
   "metadata": {},
   "outputs": [],
   "source": [
    "# create mongo db connection\n",
    "conn = 'mongodb://localhost:27017'\n",
    "client = pymongo.MongoClient(conn)\n",
    "# connect to my nba data db\n",
    "db = client.nba_data_db"
   ]
  },
  {
   "cell_type": "code",
   "execution_count": 3,
   "metadata": {},
   "outputs": [],
   "source": [
    "# create splinter browser\n",
    "def init_browser(noShowBrowser):\n",
    "    executable_path = {'executable_path': 'chromedriver.exe'}\n",
    "    browser = Browser('chrome', **executable_path, headless=noShowBrowser)\n",
    "    return browser"
   ]
  },
  {
   "cell_type": "code",
   "execution_count": 4,
   "metadata": {},
   "outputs": [],
   "source": [
    "browser = init_browser(False)"
   ]
  },
  {
   "cell_type": "code",
   "execution_count": 5,
   "metadata": {},
   "outputs": [],
   "source": [
    "nba_odds_url = \"https://www.actionnetwork.com/nba/live-odds\""
   ]
  },
  {
   "cell_type": "code",
   "execution_count": 6,
   "metadata": {},
   "outputs": [],
   "source": [
    "browser.visit(nba_odds_url)"
   ]
  },
  {
   "cell_type": "code",
   "execution_count": 18,
   "metadata": {},
   "outputs": [],
   "source": [
    "# parse html in soup\n",
    "html = browser.html\n",
    "# Parse with soup\n",
    "soup = bs(html, 'html.parser')"
   ]
  },
  {
   "cell_type": "code",
   "execution_count": 19,
   "metadata": {},
   "outputs": [],
   "source": [
    "# Find all tables\n",
    "table = soup.find_all('table')[0] \n",
    "df = pd.read_html(str(table))"
   ]
  },
  {
   "cell_type": "code",
   "execution_count": 20,
   "metadata": {},
   "outputs": [],
   "source": [
    "df[0].columns = df[0].columns.droplevel()"
   ]
  },
  {
   "cell_type": "code",
   "execution_count": 21,
   "metadata": {},
   "outputs": [],
   "source": [
    "df_odds = df[0][['SCHEDULEDSCHEDULED','OPEN']]"
   ]
  },
  {
   "cell_type": "code",
   "execution_count": 22,
   "metadata": {},
   "outputs": [
    {
     "data": {
      "text/html": [
       "<div>\n",
       "<style scoped>\n",
       "    .dataframe tbody tr th:only-of-type {\n",
       "        vertical-align: middle;\n",
       "    }\n",
       "\n",
       "    .dataframe tbody tr th {\n",
       "        vertical-align: top;\n",
       "    }\n",
       "\n",
       "    .dataframe thead th {\n",
       "        text-align: right;\n",
       "    }\n",
       "</style>\n",
       "<table border=\"1\" class=\"dataframe\">\n",
       "  <thead>\n",
       "    <tr style=\"text-align: right;\">\n",
       "      <th></th>\n",
       "      <th>SCHEDULEDSCHEDULED</th>\n",
       "      <th>OPEN</th>\n",
       "    </tr>\n",
       "  </thead>\n",
       "  <tbody>\n",
       "    <tr>\n",
       "      <th>0</th>\n",
       "      <td>523CHA524ORL4:00 PM</td>\n",
       "      <td>+3 -110-3 -110</td>\n",
       "    </tr>\n",
       "    <tr>\n",
       "      <th>1</th>\n",
       "      <td>525NYK526ATL4:30 PM</td>\n",
       "      <td>+6 -110-6 -110</td>\n",
       "    </tr>\n",
       "    <tr>\n",
       "      <th>2</th>\n",
       "      <td>527OKC528NOP5:00 PM</td>\n",
       "      <td>-4 -110+4 -110</td>\n",
       "    </tr>\n",
       "  </tbody>\n",
       "</table>\n",
       "</div>"
      ],
      "text/plain": [
       "    SCHEDULEDSCHEDULED            OPEN\n",
       "0  523CHA524ORL4:00 PM  +3 -110-3 -110\n",
       "1  525NYK526ATL4:30 PM  +6 -110-6 -110\n",
       "2  527OKC528NOP5:00 PM  -4 -110+4 -110"
      ]
     },
     "execution_count": 22,
     "metadata": {},
     "output_type": "execute_result"
    }
   ],
   "source": [
    "df_odds"
   ]
  },
  {
   "cell_type": "code",
   "execution_count": 156,
   "metadata": {},
   "outputs": [
    {
     "data": {
      "text/plain": [
       "'02/13/19'"
      ]
     },
     "execution_count": 156,
     "metadata": {},
     "output_type": "execute_result"
    }
   ],
   "source": [
    "gameDate = datetime.date.today().strftime(\"%x\")\n",
    "gameDate"
   ]
  },
  {
   "cell_type": "code",
   "execution_count": 133,
   "metadata": {},
   "outputs": [],
   "source": [
    "gameDate = datetime.date.today().strftime(\"%x\")\n",
    "gameDate = datetime.date.today() - datetime.timedelta(1)\n",
    "gameDate = gameDate.strftime(\"%x\")"
   ]
  },
  {
   "cell_type": "code",
   "execution_count": 134,
   "metadata": {},
   "outputs": [
    {
     "data": {
      "text/plain": [
       "'2019-02-12T00:00:00'"
      ]
     },
     "execution_count": 134,
     "metadata": {},
     "output_type": "execute_result"
    }
   ],
   "source": [
    "#temp = time.strptime(gameDate, '%m/%d/%y')\n",
    "#temp.isoformat()\n",
    "date = parser.parse(gameDate).isoformat()\n",
    "date"
   ]
  },
  {
   "cell_type": "code",
   "execution_count": 23,
   "metadata": {},
   "outputs": [],
   "source": [
    "roadTeam = []\n",
    "homeTeam = []\n",
    "pointSpread = []\n",
    "for index, row in df_odds.iterrows():\n",
    "    game = row['SCHEDULEDSCHEDULED']\n",
    "    roadTeam.append(game[3:6])\n",
    "    homeTeam.append(game[9:12])\n",
    "    pointSpread.append(-1.0*float(row['OPEN'].split()[0]))\n",
    "    #print(row['OPEN'])"
   ]
  },
  {
   "cell_type": "code",
   "execution_count": 26,
   "metadata": {},
   "outputs": [
    {
     "data": {
      "text/plain": [
       "['ORL', 'ATL', 'NOP']"
      ]
     },
     "execution_count": 26,
     "metadata": {},
     "output_type": "execute_result"
    }
   ],
   "source": [
    "homeTeam"
   ]
  },
  {
   "cell_type": "code",
   "execution_count": 14,
   "metadata": {},
   "outputs": [],
   "source": [
    "def getOddsDf():\n",
    "    # parse html in soup\n",
    "    html = browser.html\n",
    "    # Parse with soup\n",
    "    soup = bs(html, 'html.parser')\n",
    "    # Find all tables\n",
    "    table = soup.find_all('table')[0] \n",
    "    df = pd.read_html(str(table))\n",
    "    df[0].columns = df[0].columns.droplevel()\n",
    "    df_odds = df[0][['SCHEDULEDSCHEDULED','OPEN']]\n",
    "    return df_odds"
   ]
  },
  {
   "cell_type": "code",
   "execution_count": 12,
   "metadata": {},
   "outputs": [],
   "source": [
    "def getDailyOdds(df_odds):\n",
    "    roadTeam = []\n",
    "    homeTeam = []\n",
    "    pointSpread = []\n",
    "    gameDate = dateutil.parser.parse(datetime.date.today().strftime(\"%x\")).isoformat()\n",
    "    #gameDate = dateutil.parser.parse((datetime.date.today()- datetime.timedelta(1)).strftime(\"%x\")).isoformat()\n",
    "    for index, row in df_odds.iterrows():\n",
    "        game = row['SCHEDULEDSCHEDULED']\n",
    "        roadTeam.append(game[3:6])\n",
    "        homeTeam.append(game[9:12])\n",
    "        if(row['OPEN'].split()[0] == 'PK'):\n",
    "            pointSpread.append(0.0)\n",
    "        else:\n",
    "            pointSpread.append(-1.0*float(row['OPEN'].split()[0]))\n",
    "    oddsDict = {'GameDate' : gameDate,\n",
    "                'roadTeam' : roadTeam,\n",
    "                'homeTeam' : homeTeam,\n",
    "                'pointSpread' : pointSpread\n",
    "               }\n",
    "    return oddsDict"
   ]
  },
  {
   "cell_type": "code",
   "execution_count": 28,
   "metadata": {},
   "outputs": [],
   "source": [
    "def getDailyOddsPast(df_odds, daysAgo):\n",
    "    roadTeam = []\n",
    "    homeTeam = []\n",
    "    pointSpread = []\n",
    "    gameDate = dateutil.parser.parse((datetime.date.today()- datetime.timedelta(daysAgo)).strftime(\"%x\")).isoformat()\n",
    "    for index, row in df_odds.iterrows():\n",
    "        game = row['SCHEDULEDSCHEDULED']\n",
    "        roadTeam.append(game[3:6])\n",
    "        if(game[9].isalpha()):\n",
    "            homeTeam.append(game[9:12])\n",
    "        elif(game[11].isalpha()):\n",
    "            homeTeam.append(game[11:14])\n",
    "        else:\n",
    "            homeTeam.append(game[12:15])\n",
    "        if(row['OPEN'].split()[0] == 'PK'):\n",
    "            pointSpread.append(0.0)\n",
    "        else:\n",
    "            pointSpread.append(-1.0*float(row['OPEN'].split()[0]))\n",
    "    oddsDict = {'GameDate' : gameDate,\n",
    "                'roadTeam' : roadTeam,\n",
    "                'homeTeam' : homeTeam,\n",
    "                'pointSpread' : pointSpread\n",
    "               }\n",
    "    return oddsDict"
   ]
  },
  {
   "cell_type": "code",
   "execution_count": 141,
   "metadata": {},
   "outputs": [],
   "source": [
    "temp = getDailyOdds(df_odds)"
   ]
  },
  {
   "cell_type": "code",
   "execution_count": 157,
   "metadata": {},
   "outputs": [],
   "source": [
    "temp = getDailyOddsPast(df_odds, 1)"
   ]
  },
  {
   "cell_type": "code",
   "execution_count": 29,
   "metadata": {},
   "outputs": [
    {
     "data": {
      "text/plain": [
       "{'GameDate': '2019-02-14T00:00:00',\n",
       " 'roadTeam': ['CHA', 'NYK', 'OKC'],\n",
       " 'homeTeam': ['ORL', 'ATL', 'NOP'],\n",
       " 'pointSpread': [-3.0, -6.0, 4.0]}"
      ]
     },
     "execution_count": 29,
     "metadata": {},
     "output_type": "execute_result"
    }
   ],
   "source": [
    "df_odds = getOddsDf()\n",
    "temp = getDailyOddsPast(df_odds, 0)\n",
    "temp"
   ]
  },
  {
   "cell_type": "code",
   "execution_count": 30,
   "metadata": {},
   "outputs": [
    {
     "data": {
      "text/plain": [
       "<pymongo.results.InsertOneResult at 0x1b174620588>"
      ]
     },
     "execution_count": 30,
     "metadata": {},
     "output_type": "execute_result"
    }
   ],
   "source": [
    "db.nba_odds.insert_one(temp)"
   ]
  },
  {
   "cell_type": "code",
   "execution_count": 110,
   "metadata": {},
   "outputs": [],
   "source": [
    "def getPointsSpread():\n",
    "    # create mongo db connection\n",
    "    conn = 'mongodb://localhost:27017'\n",
    "    client = pymongo.MongoClient(conn)\n",
    "    # connect to my nba data db\n",
    "    db = client.nba_data_db\n",
    "    temp = db.nba_odds.find().sort('GameDate',pymongo.DESCENDING).limit(1)\n",
    "    date_index = temp[0]['GameDate']\n",
    "    last_date = dateutil.parser.parse(date_index)\n",
    "    last_date = last_date.strftime('%m/%d/%Y')\n",
    "    temp = list(temp)\n",
    "    for i in temp:\n",
    "        i.pop('_id', None)\n",
    "    temp[0]['GameDate'] = last_date\n",
    "    return temp[0]"
   ]
  },
  {
   "cell_type": "code",
   "execution_count": 111,
   "metadata": {},
   "outputs": [
    {
     "data": {
      "text/plain": [
       "{'GameDate': '02/11/2019',\n",
       " 'roadTeam': ['LAL', 'SAS', 'ORL', 'BOS', 'UTA'],\n",
       " 'homeTeam': ['ATL', 'MEM', 'NOP', 'PHI', 'GSW'],\n",
       " 'pointSpread': [5.5, 4.5, -4.5, -5.0, -9.5]}"
      ]
     },
     "execution_count": 111,
     "metadata": {},
     "output_type": "execute_result"
    }
   ],
   "source": [
    "dailyOdds = getPointsSpread()\n",
    "dailyOdds"
   ]
  },
  {
   "cell_type": "code",
   "execution_count": 35,
   "metadata": {},
   "outputs": [],
   "source": [
    "temp = db.nba_team_current_elo.find()\n",
    "temp = list(temp)\n",
    "for i in temp:\n",
    "    i.pop('_id', None)\n",
    "df_elo = pd.DataFrame(temp).T.reset_index()"
   ]
  },
  {
   "cell_type": "code",
   "execution_count": 37,
   "metadata": {},
   "outputs": [],
   "source": [
    "df_elo.columns = ['Team', 'ELO']"
   ]
  },
  {
   "cell_type": "code",
   "execution_count": 46,
   "metadata": {},
   "outputs": [],
   "source": [
    "df_elo = df_elo.sort_values(['ELO'], ascending=False).reset_index(drop=True)"
   ]
  },
  {
   "cell_type": "code",
   "execution_count": 47,
   "metadata": {},
   "outputs": [
    {
     "data": {
      "text/plain": [
       "'{\"Team\":{\"0\":\"GSW\",\"1\":\"TOR\",\"2\":\"MIL\",\"3\":\"OKC\",\"4\":\"DEN\",\"5\":\"HOU\",\"6\":\"PHI\",\"7\":\"BOS\",\"8\":\"IND\",\"9\":\"UTA\",\"10\":\"POR\",\"11\":\"SAS\",\"12\":\"LAC\",\"13\":\"SAC\",\"14\":\"MIN\",\"15\":\"BKN\",\"16\":\"MIA\",\"17\":\"DET\",\"18\":\"LAL\",\"19\":\"NOP\",\"20\":\"CHA\",\"21\":\"ORL\",\"22\":\"WAS\",\"23\":\"DAL\",\"24\":\"ATL\",\"25\":\"MEM\",\"26\":\"CLE\",\"27\":\"CHI\",\"28\":\"PHX\",\"29\":\"NYK\"},\"ELO\":{\"0\":1675.5920753664,\"1\":1670.3931310332,\"2\":1658.1458472072,\"3\":1621.9333169611,\"4\":1620.883200795,\"5\":1612.3141838139,\"6\":1609.6539417177,\"7\":1606.1994232384,\"8\":1596.9245586204,\"9\":1594.998126242,\"10\":1591.207661975,\"11\":1557.0098678961,\"12\":1514.1894740622,\"13\":1502.8510831605,\"14\":1491.5325571331,\"15\":1487.4396251909,\"16\":1472.1572658327,\"17\":1465.974613901,\"18\":1462.9035832076,\"19\":1461.7944236782,\"20\":1457.9319757768,\"21\":1451.6432644501,\"22\":1450.2733459055,\"23\":1444.8333268861,\"24\":1393.3587904009,\"25\":1374.4285153569,\"26\":1340.5690804595,\"27\":1315.3342114183,\"28\":1254.8896038372,\"29\":1242.639924476}}'"
      ]
     },
     "execution_count": 47,
     "metadata": {},
     "output_type": "execute_result"
    }
   ],
   "source": [
    "df_elo.to_json(orient='columns')"
   ]
  },
  {
   "cell_type": "code",
   "execution_count": null,
   "metadata": {},
   "outputs": [],
   "source": []
  }
 ],
 "metadata": {
  "kernelspec": {
   "display_name": "Python [conda env:PythonData]",
   "language": "python",
   "name": "conda-env-PythonData-py"
  },
  "language_info": {
   "codemirror_mode": {
    "name": "ipython",
    "version": 3
   },
   "file_extension": ".py",
   "mimetype": "text/x-python",
   "name": "python",
   "nbconvert_exporter": "python",
   "pygments_lexer": "ipython3",
   "version": "3.6.5"
  }
 },
 "nbformat": 4,
 "nbformat_minor": 2
}

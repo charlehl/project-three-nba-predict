{
 "cells": [
  {
   "cell_type": "code",
   "execution_count": 99,
   "metadata": {},
   "outputs": [],
   "source": [
    "import numpy as np\n",
    "import pandas as pd\n",
    "#import datetime as dt\n",
    "import pymongo\n",
    "import json\n",
    "import datetime as dt\n",
    "import pickle\n",
    "import math\n",
    "#import os\n",
    "from bs4 import BeautifulSoup as bs\n",
    "#import requests\n",
    "from splinter import Browser\n",
    "import time\n",
    "import re\n",
    "import datetime\n",
    "import dateutil.parser"
   ]
  },
  {
   "cell_type": "code",
   "execution_count": 2,
   "metadata": {},
   "outputs": [],
   "source": [
    "# create mongo db connection\n",
    "conn = 'mongodb://localhost:27017'\n",
    "client = pymongo.MongoClient(conn)\n",
    "# connect to my nba data db\n",
    "db = client.nba_data_db"
   ]
  },
  {
   "cell_type": "code",
   "execution_count": 3,
   "metadata": {},
   "outputs": [],
   "source": [
    "# create splinter browser\n",
    "def init_browser(noShowBrowser):\n",
    "    executable_path = {'executable_path': 'chromedriver.exe'}\n",
    "    browser = Browser('chrome', **executable_path, headless=noShowBrowser)\n",
    "    return browser"
   ]
  },
  {
   "cell_type": "code",
   "execution_count": 4,
   "metadata": {},
   "outputs": [],
   "source": [
    "browser = init_browser(False)"
   ]
  },
  {
   "cell_type": "code",
   "execution_count": 5,
   "metadata": {},
   "outputs": [],
   "source": [
    "nba_odds_url = \"https://www.actionnetwork.com/nba/live-odds\""
   ]
  },
  {
   "cell_type": "code",
   "execution_count": 6,
   "metadata": {},
   "outputs": [],
   "source": [
    "browser.visit(nba_odds_url)"
   ]
  },
  {
   "cell_type": "code",
   "execution_count": 15,
   "metadata": {},
   "outputs": [],
   "source": [
    "# parse html in soup\n",
    "html = browser.html\n",
    "# Parse with soup\n",
    "soup = bs(html, 'html.parser')"
   ]
  },
  {
   "cell_type": "code",
   "execution_count": 43,
   "metadata": {},
   "outputs": [],
   "source": [
    "# Find all tables\n",
    "table = soup.find_all('table')[0] \n",
    "df = pd.read_html(str(table))"
   ]
  },
  {
   "cell_type": "code",
   "execution_count": 45,
   "metadata": {},
   "outputs": [],
   "source": [
    "df[0].columns = df[0].columns.droplevel()"
   ]
  },
  {
   "cell_type": "code",
   "execution_count": 51,
   "metadata": {},
   "outputs": [],
   "source": [
    "df_odds = df[0][['SCHEDULEDSCHEDULED','OPEN']]"
   ]
  },
  {
   "cell_type": "code",
   "execution_count": 86,
   "metadata": {},
   "outputs": [
    {
     "data": {
      "text/plain": [
       "'02/11/19'"
      ]
     },
     "execution_count": 86,
     "metadata": {},
     "output_type": "execute_result"
    }
   ],
   "source": [
    "gameDate = datetime.date.today().strftime(\"%x\")\n",
    "gameDate"
   ]
  },
  {
   "cell_type": "code",
   "execution_count": 91,
   "metadata": {},
   "outputs": [
    {
     "data": {
      "text/plain": [
       "'2019-02-11T00:00:00'"
      ]
     },
     "execution_count": 91,
     "metadata": {},
     "output_type": "execute_result"
    }
   ],
   "source": [
    "#temp = time.strptime(gameDate, '%m/%d/%y')\n",
    "#temp.isoformat()\n",
    "date = parser.parse(gameDate).isoformat()\n",
    "date"
   ]
  },
  {
   "cell_type": "code",
   "execution_count": 70,
   "metadata": {},
   "outputs": [],
   "source": [
    "roadTeam = []\n",
    "homeTeam = []\n",
    "pointSpread = []\n",
    "for index, row in df_odds.iterrows():\n",
    "    game = row['SCHEDULEDSCHEDULED']\n",
    "    roadTeam.append(game[3:6])\n",
    "    homeTeam.append(game[9:12])\n",
    "    pointSpread.append(-1.0*float(row['OPEN'].split()[0]))\n",
    "    #print(row['OPEN'])"
   ]
  },
  {
   "cell_type": "code",
   "execution_count": 71,
   "metadata": {},
   "outputs": [
    {
     "data": {
      "text/plain": [
       "[5.5, 4.5, -4.5, -5.0, -9.5]"
      ]
     },
     "execution_count": 71,
     "metadata": {},
     "output_type": "execute_result"
    }
   ],
   "source": [
    "pointSpread"
   ]
  },
  {
   "cell_type": "code",
   "execution_count": 100,
   "metadata": {},
   "outputs": [],
   "source": [
    "def getDailyOdds(df_odds):\n",
    "    roadTeam = []\n",
    "    homeTeam = []\n",
    "    pointSpread = []\n",
    "    gameDate = dateutil.parser.parse(datetime.date.today().strftime(\"%x\")).isoformat()\n",
    "    for index, row in df_odds.iterrows():\n",
    "        game = row['SCHEDULEDSCHEDULED']\n",
    "        roadTeam.append(game[3:6])\n",
    "        homeTeam.append(game[9:12])\n",
    "        pointSpread.append(-1.0*float(row['OPEN'].split()[0]))\n",
    "    oddsDict = {'GameDate' : gameDate,\n",
    "                'roadTeam' : roadTeam,\n",
    "                'homeTeam' : homeTeam,\n",
    "                'pointSpread' : pointSpread\n",
    "               }\n",
    "    return oddsDict"
   ]
  },
  {
   "cell_type": "code",
   "execution_count": 101,
   "metadata": {},
   "outputs": [],
   "source": [
    "temp = getDailyOdds(df_odds)"
   ]
  },
  {
   "cell_type": "code",
   "execution_count": 102,
   "metadata": {},
   "outputs": [
    {
     "data": {
      "text/plain": [
       "{'GameDate': '2019-02-11T00:00:00',\n",
       " 'roadTeam': ['LAL', 'SAS', 'ORL', 'BOS', 'UTA'],\n",
       " 'homeTeam': ['ATL', 'MEM', 'NOP', 'PHI', 'GSW'],\n",
       " 'pointSpread': [5.5, 4.5, -4.5, -5.0, -9.5]}"
      ]
     },
     "execution_count": 102,
     "metadata": {},
     "output_type": "execute_result"
    }
   ],
   "source": [
    "temp"
   ]
  },
  {
   "cell_type": "code",
   "execution_count": 96,
   "metadata": {},
   "outputs": [
    {
     "data": {
      "text/plain": [
       "<pymongo.results.InsertOneResult at 0x1805a0c7ec8>"
      ]
     },
     "execution_count": 96,
     "metadata": {},
     "output_type": "execute_result"
    }
   ],
   "source": [
    "db.nba_odds.insert_one(temp)"
   ]
  },
  {
   "cell_type": "code",
   "execution_count": 110,
   "metadata": {},
   "outputs": [],
   "source": [
    "def getPointsSpread():\n",
    "    # create mongo db connection\n",
    "    conn = 'mongodb://localhost:27017'\n",
    "    client = pymongo.MongoClient(conn)\n",
    "    # connect to my nba data db\n",
    "    db = client.nba_data_db\n",
    "    temp = db.nba_odds.find().sort('GameDate',pymongo.DESCENDING).limit(1)\n",
    "    date_index = temp[0]['GameDate']\n",
    "    last_date = dateutil.parser.parse(date_index)\n",
    "    last_date = last_date.strftime('%m/%d/%Y')\n",
    "    temp = list(temp)\n",
    "    for i in temp:\n",
    "        i.pop('_id', None)\n",
    "    temp[0]['GameDate'] = last_date\n",
    "    return temp[0]"
   ]
  },
  {
   "cell_type": "code",
   "execution_count": 111,
   "metadata": {},
   "outputs": [
    {
     "data": {
      "text/plain": [
       "{'GameDate': '02/11/2019',\n",
       " 'roadTeam': ['LAL', 'SAS', 'ORL', 'BOS', 'UTA'],\n",
       " 'homeTeam': ['ATL', 'MEM', 'NOP', 'PHI', 'GSW'],\n",
       " 'pointSpread': [5.5, 4.5, -4.5, -5.0, -9.5]}"
      ]
     },
     "execution_count": 111,
     "metadata": {},
     "output_type": "execute_result"
    }
   ],
   "source": [
    "dailyOdds = getPointsSpread()\n",
    "dailyOdds"
   ]
  },
  {
   "cell_type": "code",
   "execution_count": null,
   "metadata": {},
   "outputs": [],
   "source": []
  }
 ],
 "metadata": {
  "kernelspec": {
   "display_name": "Python [conda env:PythonData]",
   "language": "python",
   "name": "conda-env-PythonData-py"
  },
  "language_info": {
   "codemirror_mode": {
    "name": "ipython",
    "version": 3
   },
   "file_extension": ".py",
   "mimetype": "text/x-python",
   "name": "python",
   "nbconvert_exporter": "python",
   "pygments_lexer": "ipython3",
   "version": "3.6.5"
  }
 },
 "nbformat": 4,
 "nbformat_minor": 2
}

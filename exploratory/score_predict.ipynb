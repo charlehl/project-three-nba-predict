{
 "cells": [
  {
   "cell_type": "code",
   "execution_count": 23,
   "metadata": {},
   "outputs": [],
   "source": [
    "import numpy as np\n",
    "import pandas as pd\n",
    "#import datetime as dt\n",
    "import pymongo\n",
    "import json\n",
    "import datetime as dt\n",
    "import pickle\n",
    "import math"
   ]
  },
  {
   "cell_type": "code",
   "execution_count": 2,
   "metadata": {},
   "outputs": [],
   "source": [
    "#import os\n",
    "from bs4 import BeautifulSoup as bs\n",
    "#import requests\n",
    "from splinter import Browser\n",
    "import time"
   ]
  },
  {
   "cell_type": "code",
   "execution_count": 3,
   "metadata": {},
   "outputs": [],
   "source": [
    "# create mongo db connection\n",
    "conn = 'mongodb://localhost:27017'\n",
    "client = pymongo.MongoClient(conn)\n",
    "# connect to my nba data db\n",
    "db = client.nba_data_db"
   ]
  },
  {
   "cell_type": "code",
   "execution_count": 163,
   "metadata": {},
   "outputs": [],
   "source": [
    "# Get season stats for 16-17 season to get starting elo for training data\n",
    "nba_16_17_fourfactor_url = \"https://stats.nba.com/teams/boxscores-four-factors/?Season=2016-17&SeasonType=Regular%20Season\""
   ]
  },
  {
   "cell_type": "code",
   "execution_count": 164,
   "metadata": {},
   "outputs": [],
   "source": [
    "# visit website\n",
    "browser.visit(nba_16_17_fourfactor_url)\n",
    "time.sleep(10)\n",
    "# get click path by xpath from browser inspector\n",
    "sel_all_path = browser.find_by_xpath(\"/html/body/main/div[2]/div/div[2]/div/div/nba-stat-table/div[1]/div/div/select/option[1]\")\n",
    "# select to display all games\n",
    "sel_all_path.click()\n",
    "time.sleep(5)\n",
    "# parse html in soup\n",
    "html = browser.html\n",
    "# Parse with soup\n",
    "soup = bs(html, 'html.parser')\n",
    "# Find all tables\n",
    "table = soup.find_all('table')[0] \n",
    "df = pd.read_html(str(table))\n",
    "# drop season column since unneeded\n",
    "df = df[0].drop(columns=['Season'])\n",
    "# Rename columns\n",
    "df.rename(columns={\"Game\\xa0Date\": \"GameDate\", \"Match\\xa0Up\": \"MatchUp\", \"OppFTA\\xa0Rate\": \"OppFTARate\"}, inplace=True)\n",
    "# change gamedate to datetime\n",
    "df['GameDate'] = df['GameDate'].apply(lambda x: dt.datetime.strptime(x, \"%m/%d/%Y\"))"
   ]
  },
  {
   "cell_type": "code",
   "execution_count": 165,
   "metadata": {},
   "outputs": [],
   "source": [
    "# Init ELO for training season\n",
    "elo_list = {}\n",
    "for team in myteam:\n",
    "    elo_list[team] = 1500.0"
   ]
  },
  {
   "cell_type": "code",
   "execution_count": 166,
   "metadata": {},
   "outputs": [],
   "source": [
    "df_init = df.sort_values(['GameDate'], ascending = 1).reset_index(drop=True)\n",
    "game_dates = df_init['GameDate'].unique()\n",
    "game_dates = [game_day for game_day in game_dates]"
   ]
  },
  {
   "cell_type": "code",
   "execution_count": 167,
   "metadata": {},
   "outputs": [],
   "source": [
    "date_index=0\n",
    "newElo = {}\n",
    "eloScores = []\n",
    "for row in df_init.itertuples():\n",
    "    if(game_dates[date_index] != np.datetime64(row.GameDate)):\n",
    "        #print(\"Update ELO\")\n",
    "        for key in newElo:\n",
    "            elo_list[key] = newElo[key]\n",
    "        newElo = {}\n",
    "        date_index += 1\n",
    "    temp = row.MatchUp.split(' ')\n",
    "    team1 = temp[0]\n",
    "    team2 = temp[2]\n",
    "    if temp[1] == 'vs.':\n",
    "        if row._4 == 'W':\n",
    "            outcome = True\n",
    "        else:\n",
    "            outcome = False\n",
    "        eloUpdate, dummy = EloRating(elo_list[team1], elo_list[team2], 20, outcome)\n",
    "    else:\n",
    "        # Opposite since road team\n",
    "        if row._4 == 'W':\n",
    "            outcome = False\n",
    "        else:\n",
    "            outcome = True\n",
    "        dummy, eloUpdate = EloRating(elo_list[team2], elo_list[team1], 20, outcome)\n",
    "    newElo[row.Team] = eloUpdate\n",
    "# Update for last date\n",
    "for key in newElo:\n",
    "    elo_list[key] = newElo[key]"
   ]
  },
  {
   "cell_type": "code",
   "execution_count": 169,
   "metadata": {},
   "outputs": [
    {
     "data": {
      "text/plain": [
       "<pymongo.results.InsertOneResult at 0x29e3a890888>"
      ]
     },
     "execution_count": 169,
     "metadata": {},
     "output_type": "execute_result"
    }
   ],
   "source": [
    "db.nba_team_elo_training.insert_one(elo_list)"
   ]
  },
  {
   "cell_type": "code",
   "execution_count": 4,
   "metadata": {},
   "outputs": [],
   "source": [
    "# Url to get all boxscores for 2017-2018 regular season games\n",
    "nba_17_18_trad_boxscores_url = \"https://stats.nba.com/teams/boxscores-traditional/?Season=2017-18&SeasonType=Regular%20Season\"\n",
    "nba_17_18_boxscores_url = \"https://stats.nba.com/teams/boxscores-advanced/?Season=2017-18&SeasonType=Regular%20Season\"\n",
    "nba_17_18_fourfactor_url = \"https://stats.nba.com/teams/boxscores-four-factors/?Season=2017-18&SeasonType=Regular%20Season\""
   ]
  },
  {
   "cell_type": "code",
   "execution_count": 8,
   "metadata": {},
   "outputs": [],
   "source": [
    "# create splinter browser\n",
    "def init_browser(noShowBrowser):\n",
    "    executable_path = {'executable_path': 'chromedriver.exe'}\n",
    "    browser = Browser('chrome', **executable_path, headless=noShowBrowser)\n",
    "    return browser"
   ]
  },
  {
   "cell_type": "code",
   "execution_count": 7,
   "metadata": {},
   "outputs": [],
   "source": [
    "browser = init_browser(False)"
   ]
  },
  {
   "cell_type": "code",
   "execution_count": 9,
   "metadata": {},
   "outputs": [],
   "source": [
    "# visit website\n",
    "browser.visit(nba_17_18_boxscores_url)\n",
    "time.sleep(10)\n",
    "# get click path by xpath from browser inspector\n",
    "sel_all_path = browser.find_by_xpath(\"/html/body/main/div[2]/div/div[2]/div/div/nba-stat-table/div[1]/div/div/select/option[1]\")\n",
    "# select to display all games\n",
    "sel_all_path.click()\n",
    "time.sleep(5)\n",
    "# parse html in soup\n",
    "html = browser.html\n",
    "# Parse with soup\n",
    "soup = bs(html, 'html.parser')\n",
    "# Find all tables\n",
    "table = soup.find_all('table')[0] \n",
    "df = pd.read_html(str(table))\n",
    "# drop season column since unneeded\n",
    "df_adv = df[0].drop(columns=['Season'])\n",
    "# Rename column names\n",
    "df_adv.rename(columns={\"Game\\xa0Date\": \"GameDate\", \"Match\\xa0Up\": \"MatchUp\"}, inplace=True)\n",
    "# change gamedate to datetime\n",
    "df_adv['GameDate'] = df_adv['GameDate'].apply(lambda x: dt.datetime.strptime(x, \"%m/%d/%Y\"))"
   ]
  },
  {
   "cell_type": "code",
   "execution_count": 10,
   "metadata": {},
   "outputs": [],
   "source": [
    "# visit website\n",
    "browser.visit(nba_17_18_fourfactor_url)\n",
    "time.sleep(10)\n",
    "# get click path by xpath from browser inspector\n",
    "sel_all_path = browser.find_by_xpath(\"/html/body/main/div[2]/div/div[2]/div/div/nba-stat-table/div[1]/div/div/select/option[1]\")\n",
    "# select to display all games\n",
    "sel_all_path.click()\n",
    "time.sleep(5)\n",
    "# parse html in soup\n",
    "html = browser.html\n",
    "# Parse with soup\n",
    "soup = bs(html, 'html.parser')\n",
    "# Find all tables\n",
    "table = soup.find_all('table')[0] \n",
    "df = pd.read_html(str(table))\n",
    "# drop season column since unneeded\n",
    "df = df[0].drop(columns=['Season'])\n",
    "# Rename columns\n",
    "df.rename(columns={\"Game\\xa0Date\": \"GameDate\", \"Match\\xa0Up\": \"MatchUp\", \"OppFTA\\xa0Rate\": \"OppFTARate\"}, inplace=True)\n",
    "# Convert to float percent values\n",
    "df['OREB%'] = df['OREB%'].str.rstrip('%').astype('float')\n",
    "df['OppOREB%'] = df['OppOREB%'].str.rstrip('%').astype('float')\n",
    "df['OppeFG%'] = df['OppeFG%'].str.rstrip('%').astype('float')\n",
    "df['eFG%'] = df['eFG%'].str.rstrip('%').astype('float')\n",
    "# change gamedate to datetime\n",
    "df['GameDate'] = df['GameDate'].apply(lambda x: dt.datetime.strptime(x, \"%m/%d/%Y\"))\n",
    "df_ff = df.drop(['MIN', 'MatchUp', 'W/L', 'eFG%', 'OREB%', 'TOV%'], axis=1)"
   ]
  },
  {
   "cell_type": "code",
   "execution_count": 19,
   "metadata": {},
   "outputs": [],
   "source": [
    "# visit website\n",
    "browser.visit(nba_17_18_trad_boxscores_url)\n",
    "time.sleep(10)\n",
    "# get click path by xpath from browser inspector\n",
    "sel_all_path = browser.find_by_xpath(\"/html/body/main/div[2]/div/div[2]/div/div/nba-stat-table/div[1]/div/div/select/option[1]\")\n",
    "# select to display all games\n",
    "sel_all_path.click()\n",
    "time.sleep(5)\n",
    "# parse html in soup\n",
    "html = browser.html\n",
    "# Parse with soup\n",
    "soup = bs(html, 'html.parser')\n",
    "# Find all tables\n",
    "table = soup.find_all('table')[0] \n",
    "df = pd.read_html(str(table))\n",
    "# drop season column since unneeded\n",
    "df = df[0].drop(columns=['Season'])\n",
    "# Rename columns\n",
    "df.rename(columns={\"Game\\xa0Date\": \"GameDate\", \"Match\\xa0Up\": \"MatchUp\"}, inplace=True)\n",
    "# change gamedate to datetime\n",
    "df['GameDate'] = df['GameDate'].apply(lambda x: dt.datetime.strptime(x, \"%m/%d/%Y\"))\n",
    "df_trad = df.drop(['MIN', 'MatchUp', 'W/L'], axis=1)"
   ]
  },
  {
   "cell_type": "code",
   "execution_count": 21,
   "metadata": {},
   "outputs": [
    {
     "data": {
      "text/plain": [
       "Index(['Team', 'MatchUp', 'GameDate', 'W/L', 'MIN', 'OffRtg', 'DefRtg',\n",
       "       'NetRtg', 'AST%', 'AST/TO', 'ASTRatio', 'OREB%', 'DREB%', 'REB%',\n",
       "       'TOV%', 'eFG%', 'TS%', 'PACE', 'PIE', 'FTARate', 'OppeFG%',\n",
       "       'OppFTARate', 'OppTOV%', 'OppOREB%'],\n",
       "      dtype='object')"
      ]
     },
     "execution_count": 21,
     "metadata": {},
     "output_type": "execute_result"
    }
   ],
   "source": [
    "result = pd.merge(df_adv, df_ff, on=['Team', 'GameDate'])\n",
    "result.columns"
   ]
  },
  {
   "cell_type": "code",
   "execution_count": 22,
   "metadata": {},
   "outputs": [
    {
     "data": {
      "text/plain": [
       "Index(['Team', 'MatchUp', 'GameDate', 'W/L', 'MIN', 'OffRtg', 'DefRtg',\n",
       "       'NetRtg', 'AST%', 'AST/TO', 'ASTRatio', 'OREB%', 'DREB%', 'REB%',\n",
       "       'TOV%', 'eFG%', 'TS%', 'PACE', 'PIE', 'FTARate', 'OppeFG%',\n",
       "       'OppFTARate', 'OppTOV%', 'OppOREB%', 'PTS', 'FGM', 'FGA', 'FG%', '3PM',\n",
       "       '3PA', '3P%', 'FTM', 'FTA', 'FT%', 'OREB', 'DREB', 'REB', 'AST', 'TOV',\n",
       "       'STL', 'BLK', 'PF', '+/-'],\n",
       "      dtype='object')"
      ]
     },
     "execution_count": 22,
     "metadata": {},
     "output_type": "execute_result"
    }
   ],
   "source": [
    "result_final = pd.merge(result, df_trad, on=['Team', 'GameDate'])\n",
    "result_final.columns"
   ]
  },
  {
   "cell_type": "code",
   "execution_count": 28,
   "metadata": {},
   "outputs": [],
   "source": [
    "teams = result_final['Team'].unique()"
   ]
  },
  {
   "cell_type": "code",
   "execution_count": 29,
   "metadata": {},
   "outputs": [],
   "source": [
    "myteam = [team for team in teams]"
   ]
  },
  {
   "cell_type": "code",
   "execution_count": 30,
   "metadata": {},
   "outputs": [],
   "source": [
    "myteam.sort()"
   ]
  },
  {
   "cell_type": "code",
   "execution_count": 94,
   "metadata": {},
   "outputs": [],
   "source": [
    "# Init ELO for training season\n",
    "elo_list = {}\n",
    "for team in myteam:\n",
    "    elo_list[team] = 1500.0"
   ]
  },
  {
   "cell_type": "code",
   "execution_count": 37,
   "metadata": {},
   "outputs": [
    {
     "data": {
      "text/plain": [
       "<pymongo.results.InsertOneResult at 0x29e298e7748>"
      ]
     },
     "execution_count": 37,
     "metadata": {},
     "output_type": "execute_result"
    }
   ],
   "source": [
    "db.nba_team_elo_training.insert_one(elo_list)"
   ]
  },
  {
   "cell_type": "code",
   "execution_count": 62,
   "metadata": {},
   "outputs": [],
   "source": [
    "result_sorted = result_final.sort_values(['GameDate'], ascending = 1).reset_index(drop=True)\n",
    "result_sorted['HomeGame'] = result_sorted['MatchUp'].apply(lambda x: 1 if x.split(' ')[1] == 'vs.' else 0)"
   ]
  },
  {
   "cell_type": "code",
   "execution_count": 64,
   "metadata": {},
   "outputs": [],
   "source": [
    "def eloProbability(rating1, rating2):\n",
    "    return 1.0 * 1.0 / (1 + 1.0 * math.pow(10, 1.0 * (rating1 - rating2) / 400))\n",
    "def EloRating(homeTeam, roadTeam, K, homeTeamWins):\n",
    "    # To calculate the Winning \n",
    "    # Probability of Player B \n",
    "    Pb = eloProbability(homeTeam, roadTeam) \n",
    "\n",
    "    # To calculate the Winning \n",
    "    # Probability of Player A \n",
    "    Pa = eloProbability(roadTeam, homeTeam) \n",
    "\n",
    "    # Case -1 When Player A wins \n",
    "    # Updating the Elo Ratings \n",
    "    if (homeTeamWins == True) : \n",
    "        homeTeam = homeTeam + K * (1 - Pa) \n",
    "        roadTeam = roadTeam + K * (0 - Pb) \n",
    "\n",
    "\n",
    "    # Case -2 When Player B wins \n",
    "    # Updating the Elo Ratings \n",
    "    else : \n",
    "        homeTeam = homeTeam + K * (0 - Pa)\n",
    "        roadTeam = roadTeam + K * (1 - Pb)\n",
    "    return homeTeam, roadTeam"
   ]
  },
  {
   "cell_type": "code",
   "execution_count": 66,
   "metadata": {},
   "outputs": [],
   "source": [
    "team1 = 1000\n",
    "team2 = 1000"
   ]
  },
  {
   "cell_type": "code",
   "execution_count": 67,
   "metadata": {},
   "outputs": [],
   "source": [
    "team1, team2 = EloRating(team1, team2, 20, False)"
   ]
  },
  {
   "cell_type": "code",
   "execution_count": 69,
   "metadata": {},
   "outputs": [
    {
     "data": {
      "text/plain": [
       "1010.0"
      ]
     },
     "execution_count": 69,
     "metadata": {},
     "output_type": "execute_result"
    }
   ],
   "source": [
    "team2"
   ]
  },
  {
   "cell_type": "code",
   "execution_count": 170,
   "metadata": {},
   "outputs": [
    {
     "data": {
      "text/plain": [
       "numpy.datetime64('2017-10-17T00:00:00.000000000')"
      ]
     },
     "execution_count": 170,
     "metadata": {},
     "output_type": "execute_result"
    }
   ],
   "source": [
    "game_dates = result_sorted['GameDate'].unique()\n",
    "game_dates = [game_day for game_day in game_dates]\n",
    "game_dates[0]"
   ]
  },
  {
   "cell_type": "code",
   "execution_count": 81,
   "metadata": {},
   "outputs": [
    {
     "data": {
      "text/plain": [
       "False"
      ]
     },
     "execution_count": 81,
     "metadata": {},
     "output_type": "execute_result"
    }
   ],
   "source": [
    "game_dates[1] == np.datetime64(result_sorted.iloc[0]['GameDate'])"
   ]
  },
  {
   "cell_type": "code",
   "execution_count": 76,
   "metadata": {},
   "outputs": [
    {
     "data": {
      "text/plain": [
       "Timestamp('2017-10-17 00:00:00')"
      ]
     },
     "execution_count": 76,
     "metadata": {},
     "output_type": "execute_result"
    }
   ],
   "source": [
    "result_sorted.iloc[0]['GameDate']"
   ]
  },
  {
   "cell_type": "code",
   "execution_count": 171,
   "metadata": {},
   "outputs": [],
   "source": [
    "temp_df = result_sorted.copy()"
   ]
  },
  {
   "cell_type": "code",
   "execution_count": 172,
   "metadata": {},
   "outputs": [
    {
     "data": {
      "text/html": [
       "<div>\n",
       "<style scoped>\n",
       "    .dataframe tbody tr th:only-of-type {\n",
       "        vertical-align: middle;\n",
       "    }\n",
       "\n",
       "    .dataframe tbody tr th {\n",
       "        vertical-align: top;\n",
       "    }\n",
       "\n",
       "    .dataframe thead th {\n",
       "        text-align: right;\n",
       "    }\n",
       "</style>\n",
       "<table border=\"1\" class=\"dataframe\">\n",
       "  <thead>\n",
       "    <tr style=\"text-align: right;\">\n",
       "      <th></th>\n",
       "      <th>Team</th>\n",
       "      <th>MatchUp</th>\n",
       "      <th>GameDate</th>\n",
       "      <th>W/L</th>\n",
       "      <th>MIN</th>\n",
       "      <th>OffRtg</th>\n",
       "      <th>DefRtg</th>\n",
       "      <th>NetRtg</th>\n",
       "      <th>AST%</th>\n",
       "      <th>AST/TO</th>\n",
       "      <th>...</th>\n",
       "      <th>OREB</th>\n",
       "      <th>DREB</th>\n",
       "      <th>REB</th>\n",
       "      <th>AST</th>\n",
       "      <th>TOV</th>\n",
       "      <th>STL</th>\n",
       "      <th>BLK</th>\n",
       "      <th>PF</th>\n",
       "      <th>+/-</th>\n",
       "      <th>HomeGame</th>\n",
       "    </tr>\n",
       "  </thead>\n",
       "  <tbody>\n",
       "    <tr>\n",
       "      <th>0</th>\n",
       "      <td>GSW</td>\n",
       "      <td>GSW vs. HOU</td>\n",
       "      <td>2017-10-17</td>\n",
       "      <td>L</td>\n",
       "      <td>48</td>\n",
       "      <td>118.6</td>\n",
       "      <td>119.6</td>\n",
       "      <td>-1.0</td>\n",
       "      <td>79.1</td>\n",
       "      <td>2.00</td>\n",
       "      <td>...</td>\n",
       "      <td>6</td>\n",
       "      <td>35</td>\n",
       "      <td>41</td>\n",
       "      <td>34</td>\n",
       "      <td>17</td>\n",
       "      <td>5</td>\n",
       "      <td>9</td>\n",
       "      <td>25</td>\n",
       "      <td>-1</td>\n",
       "      <td>1</td>\n",
       "    </tr>\n",
       "    <tr>\n",
       "      <th>1</th>\n",
       "      <td>CLE</td>\n",
       "      <td>CLE vs. BOS</td>\n",
       "      <td>2017-10-17</td>\n",
       "      <td>W</td>\n",
       "      <td>48</td>\n",
       "      <td>104.1</td>\n",
       "      <td>100.0</td>\n",
       "      <td>4.1</td>\n",
       "      <td>50.0</td>\n",
       "      <td>1.12</td>\n",
       "      <td>...</td>\n",
       "      <td>9</td>\n",
       "      <td>41</td>\n",
       "      <td>50</td>\n",
       "      <td>19</td>\n",
       "      <td>17</td>\n",
       "      <td>3</td>\n",
       "      <td>4</td>\n",
       "      <td>25</td>\n",
       "      <td>3</td>\n",
       "      <td>1</td>\n",
       "    </tr>\n",
       "    <tr>\n",
       "      <th>2</th>\n",
       "      <td>HOU</td>\n",
       "      <td>HOU @ GSW</td>\n",
       "      <td>2017-10-17</td>\n",
       "      <td>W</td>\n",
       "      <td>48</td>\n",
       "      <td>119.6</td>\n",
       "      <td>118.6</td>\n",
       "      <td>1.0</td>\n",
       "      <td>59.6</td>\n",
       "      <td>2.15</td>\n",
       "      <td>...</td>\n",
       "      <td>10</td>\n",
       "      <td>33</td>\n",
       "      <td>43</td>\n",
       "      <td>28</td>\n",
       "      <td>13</td>\n",
       "      <td>9</td>\n",
       "      <td>5</td>\n",
       "      <td>16</td>\n",
       "      <td>1</td>\n",
       "      <td>0</td>\n",
       "    </tr>\n",
       "    <tr>\n",
       "      <th>3</th>\n",
       "      <td>BOS</td>\n",
       "      <td>BOS @ CLE</td>\n",
       "      <td>2017-10-17</td>\n",
       "      <td>L</td>\n",
       "      <td>48</td>\n",
       "      <td>100.0</td>\n",
       "      <td>104.1</td>\n",
       "      <td>-4.1</td>\n",
       "      <td>66.7</td>\n",
       "      <td>2.00</td>\n",
       "      <td>...</td>\n",
       "      <td>9</td>\n",
       "      <td>37</td>\n",
       "      <td>46</td>\n",
       "      <td>24</td>\n",
       "      <td>12</td>\n",
       "      <td>11</td>\n",
       "      <td>4</td>\n",
       "      <td>24</td>\n",
       "      <td>-3</td>\n",
       "      <td>0</td>\n",
       "    </tr>\n",
       "    <tr>\n",
       "      <th>4</th>\n",
       "      <td>IND</td>\n",
       "      <td>IND vs. BKN</td>\n",
       "      <td>2017-10-18</td>\n",
       "      <td>W</td>\n",
       "      <td>48</td>\n",
       "      <td>119.7</td>\n",
       "      <td>113.9</td>\n",
       "      <td>5.7</td>\n",
       "      <td>54.7</td>\n",
       "      <td>2.07</td>\n",
       "      <td>...</td>\n",
       "      <td>14</td>\n",
       "      <td>33</td>\n",
       "      <td>47</td>\n",
       "      <td>29</td>\n",
       "      <td>14</td>\n",
       "      <td>12</td>\n",
       "      <td>9</td>\n",
       "      <td>25</td>\n",
       "      <td>9</td>\n",
       "      <td>1</td>\n",
       "    </tr>\n",
       "  </tbody>\n",
       "</table>\n",
       "<p>5 rows × 44 columns</p>\n",
       "</div>"
      ],
      "text/plain": [
       "  Team      MatchUp   GameDate W/L  MIN  OffRtg  DefRtg  NetRtg  AST%  AST/TO  \\\n",
       "0  GSW  GSW vs. HOU 2017-10-17   L   48   118.6   119.6    -1.0  79.1    2.00   \n",
       "1  CLE  CLE vs. BOS 2017-10-17   W   48   104.1   100.0     4.1  50.0    1.12   \n",
       "2  HOU    HOU @ GSW 2017-10-17   W   48   119.6   118.6     1.0  59.6    2.15   \n",
       "3  BOS    BOS @ CLE 2017-10-17   L   48   100.0   104.1    -4.1  66.7    2.00   \n",
       "4  IND  IND vs. BKN 2017-10-18   W   48   119.7   113.9     5.7  54.7    2.07   \n",
       "\n",
       "     ...     OREB  DREB  REB  AST  TOV  STL  BLK  PF  +/-  HomeGame  \n",
       "0    ...        6    35   41   34   17    5    9  25   -1         1  \n",
       "1    ...        9    41   50   19   17    3    4  25    3         1  \n",
       "2    ...       10    33   43   28   13    9    5  16    1         0  \n",
       "3    ...        9    37   46   24   12   11    4  24   -3         0  \n",
       "4    ...       14    33   47   29   14   12    9  25    9         1  \n",
       "\n",
       "[5 rows x 44 columns]"
      ]
     },
     "execution_count": 172,
     "metadata": {},
     "output_type": "execute_result"
    }
   ],
   "source": [
    "temp_df.head()"
   ]
  },
  {
   "cell_type": "code",
   "execution_count": 155,
   "metadata": {},
   "outputs": [],
   "source": [
    "# Init ELO for training season\n",
    "elo_list = {}\n",
    "for team in myteam:\n",
    "    elo_list[team] = 1500.0"
   ]
  },
  {
   "cell_type": "code",
   "execution_count": 173,
   "metadata": {},
   "outputs": [],
   "source": [
    "date_index=0\n",
    "newElo = {}\n",
    "eloScores = []\n",
    "for row in temp_df.itertuples():\n",
    "    if(game_dates[date_index] != np.datetime64(row.GameDate)):\n",
    "        #print(\"Update ELO\")\n",
    "        for key in newElo:\n",
    "            elo_list[key] = newElo[key]\n",
    "        newElo = {}\n",
    "        date_index += 1\n",
    "    temp = row.MatchUp.split(' ')\n",
    "    team1 = temp[0]\n",
    "    team2 = temp[2]\n",
    "    if temp[1] == 'vs.':\n",
    "        if row._4 == 'W':\n",
    "            outcome = True\n",
    "        else:\n",
    "            outcome = False\n",
    "        eloUpdate, dummy = EloRating(elo_list[team1], elo_list[team2], 20, outcome)\n",
    "    else:\n",
    "        # Opposite since road team\n",
    "        if row._4 == 'W':\n",
    "            outcome = False\n",
    "        else:\n",
    "            outcome = True\n",
    "        dummy, eloUpdate = EloRating(elo_list[team2], elo_list[team1], 20, outcome)\n",
    "    newElo[row.Team] = eloUpdate\n",
    "    eloScores.append(eloUpdate)\n",
    "# Update for last date\n",
    "for key in newElo:\n",
    "    elo_list[key] = newElo[key]"
   ]
  },
  {
   "cell_type": "code",
   "execution_count": 184,
   "metadata": {},
   "outputs": [
    {
     "data": {
      "text/plain": [
       "{'ATL': 1375.7075741834688,\n",
       " 'BKN': 1385.7473632514852,\n",
       " 'BOS': 1593.1622149515758,\n",
       " 'CHA': 1447.7280767309485,\n",
       " 'CHI': 1367.1005274309066,\n",
       " 'CLE': 1570.4270859757785,\n",
       " 'DAL': 1343.0240681009527,\n",
       " 'DEN': 1571.0319534263213,\n",
       " 'DET': 1461.7873401532459,\n",
       " 'GSW': 1619.4570676450153,\n",
       " 'HOU': 1727.4508941343163,\n",
       " 'IND': 1581.231834171123,\n",
       " 'LAC': 1524.2948631384638,\n",
       " 'LAL': 1451.6639776614604,\n",
       " 'MEM': 1312.794183162584,\n",
       " 'MIA': 1518.578999882534,\n",
       " 'MIL': 1518.6617359287,\n",
       " 'MIN': 1533.1207602745035,\n",
       " 'NOP': 1588.8232069597443,\n",
       " 'NYK': 1356.0233382357949,\n",
       " 'OKC': 1586.408713208459,\n",
       " 'ORL': 1336.8270182401138,\n",
       " 'PHI': 1624.0357372854346,\n",
       " 'PHX': 1286.05099854899,\n",
       " 'POR': 1598.9654622637888,\n",
       " 'SAC': 1390.6202815200002,\n",
       " 'SAS': 1558.4988631578274,\n",
       " 'TOR': 1652.5998449378783,\n",
       " 'UTA': 1626.4434841314753,\n",
       " 'WAS': 1491.7325313071099,\n",
       " '_id': ObjectId('5c5968398a95a602e4636635')}"
      ]
     },
     "execution_count": 184,
     "metadata": {},
     "output_type": "execute_result"
    }
   ],
   "source": [
    "elo_list"
   ]
  },
  {
   "cell_type": "code",
   "execution_count": 175,
   "metadata": {},
   "outputs": [
    {
     "data": {
      "text/plain": [
       "2460"
      ]
     },
     "execution_count": 175,
     "metadata": {},
     "output_type": "execute_result"
    }
   ],
   "source": [
    "len(eloScores)"
   ]
  },
  {
   "cell_type": "code",
   "execution_count": 176,
   "metadata": {},
   "outputs": [
    {
     "data": {
      "text/plain": [
       "2460"
      ]
     },
     "execution_count": 176,
     "metadata": {},
     "output_type": "execute_result"
    }
   ],
   "source": [
    "len(temp_df)"
   ]
  },
  {
   "cell_type": "code",
   "execution_count": 177,
   "metadata": {},
   "outputs": [],
   "source": [
    "temp_df['ELO'] = eloScores"
   ]
  },
  {
   "cell_type": "code",
   "execution_count": 178,
   "metadata": {},
   "outputs": [
    {
     "data": {
      "text/plain": [
       "Index(['Team', 'MatchUp', 'GameDate', 'W/L', 'MIN', 'OffRtg', 'DefRtg',\n",
       "       'NetRtg', 'AST%', 'AST/TO', 'ASTRatio', 'OREB%', 'DREB%', 'REB%',\n",
       "       'TOV%', 'eFG%', 'TS%', 'PACE', 'PIE', 'FTARate', 'OppeFG%',\n",
       "       'OppFTARate', 'OppTOV%', 'OppOREB%', 'PTS', 'FGM', 'FGA', 'FG%', '3PM',\n",
       "       '3PA', '3P%', 'FTM', 'FTA', 'FT%', 'OREB', 'DREB', 'REB', 'AST', 'TOV',\n",
       "       'STL', 'BLK', 'PF', '+/-', 'HomeGame', 'ELO'],\n",
       "      dtype='object')"
      ]
     },
     "execution_count": 178,
     "metadata": {},
     "output_type": "execute_result"
    }
   ],
   "source": [
    "temp_df.columns"
   ]
  },
  {
   "cell_type": "code",
   "execution_count": 180,
   "metadata": {},
   "outputs": [],
   "source": [
    "db.training_data.drop()"
   ]
  },
  {
   "cell_type": "code",
   "execution_count": 182,
   "metadata": {},
   "outputs": [],
   "source": [
    "# export to json\n",
    "items = temp_df.to_json(orient='records', date_format='iso')\n",
    "# load json string to json\n",
    "items_db = json.loads(items)"
   ]
  },
  {
   "cell_type": "code",
   "execution_count": 183,
   "metadata": {},
   "outputs": [
    {
     "data": {
      "text/plain": [
       "<pymongo.results.InsertManyResult at 0x29e1bbd4808>"
      ]
     },
     "execution_count": 183,
     "metadata": {},
     "output_type": "execute_result"
    }
   ],
   "source": [
    "db.training_data.insert_many(items_db)"
   ]
  },
  {
   "cell_type": "code",
   "execution_count": 185,
   "metadata": {},
   "outputs": [
    {
     "data": {
      "text/plain": [
       "<pymongo.results.InsertOneResult at 0x29e1bbd4c08>"
      ]
     },
     "execution_count": 185,
     "metadata": {},
     "output_type": "execute_result"
    }
   ],
   "source": [
    "db.nba_team_elo_testing.insert_one(elo_list)"
   ]
  },
  {
   "cell_type": "code",
   "execution_count": 186,
   "metadata": {},
   "outputs": [],
   "source": [
    "temp = db.nba_team_elo_testing.find()"
   ]
  },
  {
   "cell_type": "code",
   "execution_count": 188,
   "metadata": {},
   "outputs": [],
   "source": [
    "temp = list(temp)"
   ]
  },
  {
   "cell_type": "code",
   "execution_count": 192,
   "metadata": {},
   "outputs": [],
   "source": [
    "for i in temp:\n",
    "    i.pop('_id', None)"
   ]
  },
  {
   "cell_type": "code",
   "execution_count": 194,
   "metadata": {},
   "outputs": [],
   "source": [
    "elo_testing = temp[0]"
   ]
  },
  {
   "cell_type": "code",
   "execution_count": 195,
   "metadata": {},
   "outputs": [
    {
     "data": {
      "text/plain": [
       "{'ATL': 1375.7075741834688,\n",
       " 'BKN': 1385.7473632514852,\n",
       " 'BOS': 1593.1622149515758,\n",
       " 'CHA': 1447.7280767309485,\n",
       " 'CHI': 1367.1005274309066,\n",
       " 'CLE': 1570.4270859757785,\n",
       " 'DAL': 1343.0240681009527,\n",
       " 'DEN': 1571.0319534263213,\n",
       " 'DET': 1461.7873401532459,\n",
       " 'GSW': 1619.4570676450153,\n",
       " 'HOU': 1727.4508941343163,\n",
       " 'IND': 1581.231834171123,\n",
       " 'LAC': 1524.2948631384638,\n",
       " 'LAL': 1451.6639776614604,\n",
       " 'MEM': 1312.794183162584,\n",
       " 'MIA': 1518.578999882534,\n",
       " 'MIL': 1518.6617359287,\n",
       " 'MIN': 1533.1207602745035,\n",
       " 'NOP': 1588.8232069597443,\n",
       " 'NYK': 1356.0233382357949,\n",
       " 'OKC': 1586.408713208459,\n",
       " 'ORL': 1336.8270182401138,\n",
       " 'PHI': 1624.0357372854346,\n",
       " 'PHX': 1286.05099854899,\n",
       " 'POR': 1598.9654622637888,\n",
       " 'SAC': 1390.6202815200002,\n",
       " 'SAS': 1558.4988631578274,\n",
       " 'TOR': 1652.5998449378783,\n",
       " 'UTA': 1626.4434841314753,\n",
       " 'WAS': 1491.7325313071099}"
      ]
     },
     "execution_count": 195,
     "metadata": {},
     "output_type": "execute_result"
    }
   ],
   "source": [
    "elo_testing"
   ]
  },
  {
   "cell_type": "code",
   "execution_count": 196,
   "metadata": {},
   "outputs": [],
   "source": [
    "from sklearn.linear_model import LinearRegression\n",
    "from sklearn.preprocessing import StandardScaler"
   ]
  },
  {
   "cell_type": "code",
   "execution_count": 206,
   "metadata": {},
   "outputs": [],
   "source": [
    "X_train = temp_df.loc[:,['TS%', 'TOV%', 'OREB%', 'FTARate', 'DefRtg', 'OppFTARate', 'OppOREB%', 'OppTOV%', 'OppeFG%', 'ELO']]\n",
    "y = temp_df['PTS']"
   ]
  },
  {
   "cell_type": "code",
   "execution_count": 207,
   "metadata": {},
   "outputs": [],
   "source": [
    "X_scaler = StandardScaler().fit(X_train)\n",
    "X_train_scaled = X_scaler.transform(X_train)"
   ]
  },
  {
   "cell_type": "code",
   "execution_count": 208,
   "metadata": {},
   "outputs": [],
   "source": [
    "scorePredictor = LinearRegression()"
   ]
  },
  {
   "cell_type": "code",
   "execution_count": 209,
   "metadata": {},
   "outputs": [
    {
     "data": {
      "text/plain": [
       "LinearRegression(copy_X=True, fit_intercept=True, n_jobs=1, normalize=False)"
      ]
     },
     "execution_count": 209,
     "metadata": {},
     "output_type": "execute_result"
    }
   ],
   "source": [
    "scorePredictor.fit(X_train_scaled, y)"
   ]
  },
  {
   "cell_type": "code",
   "execution_count": 210,
   "metadata": {},
   "outputs": [
    {
     "data": {
      "text/plain": [
       "0.781045061630136"
      ]
     },
     "execution_count": 210,
     "metadata": {},
     "output_type": "execute_result"
    }
   ],
   "source": [
    "scorePredictor.score(X_train_scaled, y)"
   ]
  },
  {
   "cell_type": "code",
   "execution_count": 211,
   "metadata": {},
   "outputs": [
    {
     "data": {
      "text/plain": [
       "array([10.1279262 , -4.08551689,  3.26405907,  0.56223314, -1.23909495,\n",
       "        1.04883183, -0.35987596, -0.16382807,  1.29840268, -0.21903964])"
      ]
     },
     "execution_count": 211,
     "metadata": {},
     "output_type": "execute_result"
    }
   ],
   "source": [
    "scorePredictor.coef_"
   ]
  },
  {
   "cell_type": "code",
   "execution_count": null,
   "metadata": {},
   "outputs": [],
   "source": []
  }
 ],
 "metadata": {
  "kernelspec": {
   "display_name": "Python [conda env:PythonData]",
   "language": "python",
   "name": "conda-env-PythonData-py"
  },
  "language_info": {
   "codemirror_mode": {
    "name": "ipython",
    "version": 3
   },
   "file_extension": ".py",
   "mimetype": "text/x-python",
   "name": "python",
   "nbconvert_exporter": "python",
   "pygments_lexer": "ipython3",
   "version": "3.6.5"
  }
 },
 "nbformat": 4,
 "nbformat_minor": 2
}

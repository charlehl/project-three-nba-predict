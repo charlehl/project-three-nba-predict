{
 "cells": [
  {
   "cell_type": "code",
   "execution_count": 23,
   "metadata": {},
   "outputs": [],
   "source": [
    "import numpy as np\n",
    "import pandas as pd\n",
    "#import datetime as dt\n",
    "import pymongo\n",
    "import json\n",
    "import datetime as dt\n",
    "import pickle\n",
    "import math"
   ]
  },
  {
   "cell_type": "code",
   "execution_count": 2,
   "metadata": {},
   "outputs": [],
   "source": [
    "#import os\n",
    "from bs4 import BeautifulSoup as bs\n",
    "#import requests\n",
    "from splinter import Browser\n",
    "import time"
   ]
  },
  {
   "cell_type": "code",
   "execution_count": 3,
   "metadata": {},
   "outputs": [],
   "source": [
    "# create mongo db connection\n",
    "conn = 'mongodb://localhost:27017'\n",
    "client = pymongo.MongoClient(conn)\n",
    "# connect to my nba data db\n",
    "db = client.nba_data_db"
   ]
  },
  {
   "cell_type": "code",
   "execution_count": 163,
   "metadata": {},
   "outputs": [],
   "source": [
    "# Get season stats for 16-17 season to get starting elo for training data\n",
    "nba_16_17_fourfactor_url = \"https://stats.nba.com/teams/boxscores-four-factors/?Season=2016-17&SeasonType=Regular%20Season\""
   ]
  },
  {
   "cell_type": "code",
   "execution_count": 164,
   "metadata": {},
   "outputs": [],
   "source": [
    "# visit website\n",
    "browser.visit(nba_16_17_fourfactor_url)\n",
    "time.sleep(10)\n",
    "# get click path by xpath from browser inspector\n",
    "sel_all_path = browser.find_by_xpath(\"/html/body/main/div[2]/div/div[2]/div/div/nba-stat-table/div[1]/div/div/select/option[1]\")\n",
    "# select to display all games\n",
    "sel_all_path.click()\n",
    "time.sleep(5)\n",
    "# parse html in soup\n",
    "html = browser.html\n",
    "# Parse with soup\n",
    "soup = bs(html, 'html.parser')\n",
    "# Find all tables\n",
    "table = soup.find_all('table')[0] \n",
    "df = pd.read_html(str(table))\n",
    "# drop season column since unneeded\n",
    "df = df[0].drop(columns=['Season'])\n",
    "# Rename columns\n",
    "df.rename(columns={\"Game\\xa0Date\": \"GameDate\", \"Match\\xa0Up\": \"MatchUp\", \"OppFTA\\xa0Rate\": \"OppFTARate\"}, inplace=True)\n",
    "# change gamedate to datetime\n",
    "df['GameDate'] = df['GameDate'].apply(lambda x: dt.datetime.strptime(x, \"%m/%d/%Y\"))"
   ]
  },
  {
   "cell_type": "code",
   "execution_count": 165,
   "metadata": {},
   "outputs": [],
   "source": [
    "# Init ELO for training season\n",
    "elo_list = {}\n",
    "for team in myteam:\n",
    "    elo_list[team] = 1500.0"
   ]
  },
  {
   "cell_type": "code",
   "execution_count": 166,
   "metadata": {},
   "outputs": [],
   "source": [
    "df_init = df.sort_values(['GameDate'], ascending = 1).reset_index(drop=True)\n",
    "game_dates = df_init['GameDate'].unique()\n",
    "game_dates = [game_day for game_day in game_dates]"
   ]
  },
  {
   "cell_type": "code",
   "execution_count": 167,
   "metadata": {},
   "outputs": [],
   "source": [
    "date_index=0\n",
    "newElo = {}\n",
    "eloScores = []\n",
    "for row in df_init.itertuples():\n",
    "    if(game_dates[date_index] != np.datetime64(row.GameDate)):\n",
    "        #print(\"Update ELO\")\n",
    "        for key in newElo:\n",
    "            elo_list[key] = newElo[key]\n",
    "        newElo = {}\n",
    "        date_index += 1\n",
    "    temp = row.MatchUp.split(' ')\n",
    "    team1 = temp[0]\n",
    "    team2 = temp[2]\n",
    "    if temp[1] == 'vs.':\n",
    "        if row._4 == 'W':\n",
    "            outcome = True\n",
    "        else:\n",
    "            outcome = False\n",
    "        eloUpdate, dummy = EloRating(elo_list[team1], elo_list[team2], 20, outcome)\n",
    "    else:\n",
    "        # Opposite since road team\n",
    "        if row._4 == 'W':\n",
    "            outcome = False\n",
    "        else:\n",
    "            outcome = True\n",
    "        dummy, eloUpdate = EloRating(elo_list[team2], elo_list[team1], 20, outcome)\n",
    "    newElo[row.Team] = eloUpdate\n",
    "# Update for last date\n",
    "for key in newElo:\n",
    "    elo_list[key] = newElo[key]"
   ]
  },
  {
   "cell_type": "code",
   "execution_count": 169,
   "metadata": {},
   "outputs": [
    {
     "data": {
      "text/plain": [
       "<pymongo.results.InsertOneResult at 0x29e3a890888>"
      ]
     },
     "execution_count": 169,
     "metadata": {},
     "output_type": "execute_result"
    }
   ],
   "source": [
    "db.nba_team_elo_training.insert_one(elo_list)"
   ]
  },
  {
   "cell_type": "code",
   "execution_count": 4,
   "metadata": {},
   "outputs": [],
   "source": [
    "# Url to get all boxscores for 2017-2018 regular season games\n",
    "nba_17_18_trad_boxscores_url = \"https://stats.nba.com/teams/boxscores-traditional/?Season=2017-18&SeasonType=Regular%20Season\"\n",
    "nba_17_18_boxscores_url = \"https://stats.nba.com/teams/boxscores-advanced/?Season=2017-18&SeasonType=Regular%20Season\"\n",
    "nba_17_18_fourfactor_url = \"https://stats.nba.com/teams/boxscores-four-factors/?Season=2017-18&SeasonType=Regular%20Season\""
   ]
  },
  {
   "cell_type": "code",
   "execution_count": 8,
   "metadata": {},
   "outputs": [],
   "source": [
    "# create splinter browser\n",
    "def init_browser(noShowBrowser):\n",
    "    executable_path = {'executable_path': 'chromedriver.exe'}\n",
    "    browser = Browser('chrome', **executable_path, headless=noShowBrowser)\n",
    "    return browser"
   ]
  },
  {
   "cell_type": "code",
   "execution_count": 224,
   "metadata": {},
   "outputs": [],
   "source": [
    "browser = init_browser(False)"
   ]
  },
  {
   "cell_type": "code",
   "execution_count": 225,
   "metadata": {},
   "outputs": [],
   "source": [
    "# visit website\n",
    "browser.visit(nba_17_18_boxscores_url)\n",
    "time.sleep(10)\n",
    "# get click path by xpath from browser inspector\n",
    "sel_all_path = browser.find_by_xpath(\"/html/body/main/div[2]/div/div[2]/div/div/nba-stat-table/div[1]/div/div/select/option[1]\")\n",
    "# select to display all games\n",
    "sel_all_path.click()\n",
    "time.sleep(5)\n",
    "# parse html in soup\n",
    "html = browser.html\n",
    "# Parse with soup\n",
    "soup = bs(html, 'html.parser')\n",
    "# Find all tables\n",
    "table = soup.find_all('table')[0] \n",
    "df = pd.read_html(str(table))\n",
    "# drop season column since unneeded\n",
    "df_adv = df[0].drop(columns=['Season'])\n",
    "# Rename column names\n",
    "df_adv.rename(columns={\"Game\\xa0Date\": \"GameDate\", \"Match\\xa0Up\": \"MatchUp\"}, inplace=True)\n",
    "# change gamedate to datetime\n",
    "df_adv['GameDate'] = df_adv['GameDate'].apply(lambda x: dt.datetime.strptime(x, \"%m/%d/%Y\"))"
   ]
  },
  {
   "cell_type": "code",
   "execution_count": 226,
   "metadata": {},
   "outputs": [
    {
     "data": {
      "text/plain": [
       "Index(['Team', 'MatchUp', 'GameDate', 'W/L', 'MIN', 'OffRtg', 'DefRtg',\n",
       "       'NetRtg', 'AST%', 'AST/TO', 'ASTRatio', 'OREB%', 'DREB%', 'REB%',\n",
       "       'TOV%', 'eFG%', 'TS%', 'PACE', 'PIE'],\n",
       "      dtype='object')"
      ]
     },
     "execution_count": 226,
     "metadata": {},
     "output_type": "execute_result"
    }
   ],
   "source": [
    "df_adv.columns"
   ]
  },
  {
   "cell_type": "code",
   "execution_count": 229,
   "metadata": {},
   "outputs": [],
   "source": [
    "# visit website\n",
    "browser.visit(nba_17_18_fourfactor_url)\n",
    "time.sleep(10)\n",
    "# get click path by xpath from browser inspector\n",
    "sel_all_path = browser.find_by_xpath(\"/html/body/main/div[2]/div/div[2]/div/div/nba-stat-table/div[1]/div/div/select/option[1]\")\n",
    "# select to display all games\n",
    "sel_all_path.click()\n",
    "time.sleep(5)\n",
    "# parse html in soup\n",
    "html = browser.html\n",
    "# Parse with soup\n",
    "soup = bs(html, 'html.parser')\n",
    "# Find all tables\n",
    "table = soup.find_all('table')[0] \n",
    "df = pd.read_html(str(table))\n",
    "# drop season column since unneeded\n",
    "df = df[0].drop(columns=['Season'])\n",
    "# Rename columns\n",
    "df.rename(columns={\"Game\\xa0Date\": \"GameDate\", \"Match\\xa0Up\": \"MatchUp\", \"OppFTA\\xa0Rate\": \"OppFTARate\"}, inplace=True)\n",
    "# Convert to float percent values\n",
    "df['OREB%'] = df['OREB%'].str.rstrip('%').astype('float')\n",
    "df['OppOREB%'] = df['OppOREB%'].str.rstrip('%').astype('float')\n",
    "df['OppeFG%'] = df['OppeFG%'].str.rstrip('%').astype('float')\n",
    "df['eFG%'] = df['eFG%'].str.rstrip('%').astype('float')\n",
    "# change gamedate to datetime\n",
    "df['GameDate'] = df['GameDate'].apply(lambda x: dt.datetime.strptime(x, \"%m/%d/%Y\"))\n",
    "df_ff = df.drop(['MIN', 'MatchUp', 'W/L', 'eFG%', 'OREB%', 'TOV%', 'OppeFG%', 'OppFTARate', 'OppTOV%', 'OppOREB%'], axis=1)"
   ]
  },
  {
   "cell_type": "code",
   "execution_count": 230,
   "metadata": {},
   "outputs": [
    {
     "data": {
      "text/plain": [
       "Index(['Team', 'GameDate', 'FTARate'], dtype='object')"
      ]
     },
     "execution_count": 230,
     "metadata": {},
     "output_type": "execute_result"
    }
   ],
   "source": [
    "df_ff.columns"
   ]
  },
  {
   "cell_type": "code",
   "execution_count": 232,
   "metadata": {},
   "outputs": [],
   "source": [
    "# visit website\n",
    "browser.visit(nba_17_18_trad_boxscores_url)\n",
    "time.sleep(10)\n",
    "# get click path by xpath from browser inspector\n",
    "sel_all_path = browser.find_by_xpath(\"/html/body/main/div[2]/div/div[2]/div/div/nba-stat-table/div[1]/div/div/select/option[1]\")\n",
    "# select to display all games\n",
    "sel_all_path.click()\n",
    "time.sleep(5)\n",
    "# parse html in soup\n",
    "html = browser.html\n",
    "# Parse with soup\n",
    "soup = bs(html, 'html.parser')\n",
    "# Find all tables\n",
    "table = soup.find_all('table')[0] \n",
    "df = pd.read_html(str(table))\n",
    "# drop season column since unneeded\n",
    "df = df[0].drop(columns=['Season'])\n",
    "# Rename columns\n",
    "df.rename(columns={\"Game\\xa0Date\": \"GameDate\", \"Match\\xa0Up\": \"MatchUp\"}, inplace=True)\n",
    "# change gamedate to datetime\n",
    "df['GameDate'] = df['GameDate'].apply(lambda x: dt.datetime.strptime(x, \"%m/%d/%Y\"))\n",
    "df_trad = df.drop(['MIN', 'MatchUp', 'W/L', 'FGM', 'FGA', 'FG%', '3PM', '3PA', '3P%',\n",
    "       'FTM', 'FTA', 'FT%', 'OREB', 'DREB', 'REB', 'AST', 'TOV', 'STL', 'BLK',\n",
    "       'PF', '+/-'], axis=1)"
   ]
  },
  {
   "cell_type": "code",
   "execution_count": 233,
   "metadata": {},
   "outputs": [
    {
     "data": {
      "text/plain": [
       "Index(['Team', 'GameDate', 'PTS'], dtype='object')"
      ]
     },
     "execution_count": 233,
     "metadata": {},
     "output_type": "execute_result"
    }
   ],
   "source": [
    "df_trad.columns"
   ]
  },
  {
   "cell_type": "code",
   "execution_count": 234,
   "metadata": {},
   "outputs": [
    {
     "data": {
      "text/plain": [
       "Index(['Team', 'MatchUp', 'GameDate', 'W/L', 'MIN', 'OffRtg', 'DefRtg',\n",
       "       'NetRtg', 'AST%', 'AST/TO', 'ASTRatio', 'OREB%', 'DREB%', 'REB%',\n",
       "       'TOV%', 'eFG%', 'TS%', 'PACE', 'PIE', 'FTARate'],\n",
       "      dtype='object')"
      ]
     },
     "execution_count": 234,
     "metadata": {},
     "output_type": "execute_result"
    }
   ],
   "source": [
    "result = pd.merge(df_adv, df_ff, on=['Team', 'GameDate'])\n",
    "result.columns"
   ]
  },
  {
   "cell_type": "code",
   "execution_count": 235,
   "metadata": {},
   "outputs": [
    {
     "data": {
      "text/plain": [
       "Index(['Team', 'MatchUp', 'GameDate', 'W/L', 'MIN', 'OffRtg', 'DefRtg',\n",
       "       'NetRtg', 'AST%', 'AST/TO', 'ASTRatio', 'OREB%', 'DREB%', 'REB%',\n",
       "       'TOV%', 'eFG%', 'TS%', 'PACE', 'PIE', 'FTARate', 'PTS'],\n",
       "      dtype='object')"
      ]
     },
     "execution_count": 235,
     "metadata": {},
     "output_type": "execute_result"
    }
   ],
   "source": [
    "result_final = pd.merge(result, df_trad, on=['Team', 'GameDate'])\n",
    "result_final.columns"
   ]
  },
  {
   "cell_type": "code",
   "execution_count": 28,
   "metadata": {},
   "outputs": [],
   "source": [
    "teams = result_final['Team'].unique()"
   ]
  },
  {
   "cell_type": "code",
   "execution_count": 29,
   "metadata": {},
   "outputs": [],
   "source": [
    "myteam = [team for team in teams]"
   ]
  },
  {
   "cell_type": "code",
   "execution_count": 30,
   "metadata": {},
   "outputs": [],
   "source": [
    "myteam.sort()"
   ]
  },
  {
   "cell_type": "code",
   "execution_count": 236,
   "metadata": {},
   "outputs": [],
   "source": [
    "# Init ELO for training season\n",
    "elo_list = {}\n",
    "for team in myteam:\n",
    "    elo_list[team] = 1500.0"
   ]
  },
  {
   "cell_type": "code",
   "execution_count": 37,
   "metadata": {},
   "outputs": [
    {
     "data": {
      "text/plain": [
       "<pymongo.results.InsertOneResult at 0x29e298e7748>"
      ]
     },
     "execution_count": 37,
     "metadata": {},
     "output_type": "execute_result"
    }
   ],
   "source": [
    "db.nba_team_elo_training.insert_one(elo_list)"
   ]
  },
  {
   "cell_type": "code",
   "execution_count": 261,
   "metadata": {},
   "outputs": [],
   "source": [
    "result_sorted = result_final.sort_values(['GameDate'], ascending = 1).reset_index(drop=True)\n",
    "#result_sorted['HomeGame'] = result_sorted['MatchUp'].apply(lambda x: 1 if x.split(' ')[1] == 'vs.' else 0)"
   ]
  },
  {
   "cell_type": "code",
   "execution_count": 64,
   "metadata": {},
   "outputs": [],
   "source": [
    "def eloProbability(rating1, rating2):\n",
    "    return 1.0 * 1.0 / (1 + 1.0 * math.pow(10, 1.0 * (rating1 - rating2) / 400))\n",
    "def EloRating(homeTeam, roadTeam, K, homeTeamWins):\n",
    "    # To calculate the Winning \n",
    "    # Probability of Player B \n",
    "    Pb = eloProbability(homeTeam, roadTeam) \n",
    "\n",
    "    # To calculate the Winning \n",
    "    # Probability of Player A \n",
    "    Pa = eloProbability(roadTeam, homeTeam) \n",
    "\n",
    "    # Case -1 When Player A wins \n",
    "    # Updating the Elo Ratings \n",
    "    if (homeTeamWins == True) : \n",
    "        homeTeam = homeTeam + K * (1 - Pa) \n",
    "        roadTeam = roadTeam + K * (0 - Pb) \n",
    "\n",
    "\n",
    "    # Case -2 When Player B wins \n",
    "    # Updating the Elo Ratings \n",
    "    else : \n",
    "        homeTeam = homeTeam + K * (0 - Pa)\n",
    "        roadTeam = roadTeam + K * (1 - Pb)\n",
    "    return homeTeam, roadTeam"
   ]
  },
  {
   "cell_type": "code",
   "execution_count": 66,
   "metadata": {},
   "outputs": [],
   "source": [
    "team1 = 1000\n",
    "team2 = 1000"
   ]
  },
  {
   "cell_type": "code",
   "execution_count": 67,
   "metadata": {},
   "outputs": [],
   "source": [
    "team1, team2 = EloRating(team1, team2, 20, False)"
   ]
  },
  {
   "cell_type": "code",
   "execution_count": 69,
   "metadata": {},
   "outputs": [
    {
     "data": {
      "text/plain": [
       "1010.0"
      ]
     },
     "execution_count": 69,
     "metadata": {},
     "output_type": "execute_result"
    }
   ],
   "source": [
    "team2"
   ]
  },
  {
   "cell_type": "code",
   "execution_count": 262,
   "metadata": {},
   "outputs": [
    {
     "data": {
      "text/plain": [
       "numpy.datetime64('2017-10-17T00:00:00.000000000')"
      ]
     },
     "execution_count": 262,
     "metadata": {},
     "output_type": "execute_result"
    }
   ],
   "source": [
    "game_dates = result_sorted['GameDate'].unique()\n",
    "game_dates = [game_day for game_day in game_dates]\n",
    "game_dates[0]"
   ]
  },
  {
   "cell_type": "code",
   "execution_count": 81,
   "metadata": {},
   "outputs": [
    {
     "data": {
      "text/plain": [
       "False"
      ]
     },
     "execution_count": 81,
     "metadata": {},
     "output_type": "execute_result"
    }
   ],
   "source": [
    "game_dates[1] == np.datetime64(result_sorted.iloc[0]['GameDate'])"
   ]
  },
  {
   "cell_type": "code",
   "execution_count": 76,
   "metadata": {},
   "outputs": [
    {
     "data": {
      "text/plain": [
       "Timestamp('2017-10-17 00:00:00')"
      ]
     },
     "execution_count": 76,
     "metadata": {},
     "output_type": "execute_result"
    }
   ],
   "source": [
    "result_sorted.iloc[0]['GameDate']"
   ]
  },
  {
   "cell_type": "code",
   "execution_count": 264,
   "metadata": {},
   "outputs": [],
   "source": [
    "temp_df = result_sorted.copy()"
   ]
  },
  {
   "cell_type": "code",
   "execution_count": 265,
   "metadata": {},
   "outputs": [
    {
     "data": {
      "text/plain": [
       "Team                object\n",
       "MatchUp             object\n",
       "GameDate    datetime64[ns]\n",
       "W/L                 object\n",
       "MIN                  int64\n",
       "OffRtg             float64\n",
       "DefRtg             float64\n",
       "NetRtg             float64\n",
       "AST%               float64\n",
       "AST/TO             float64\n",
       "ASTRatio           float64\n",
       "OREB%              float64\n",
       "DREB%              float64\n",
       "REB%               float64\n",
       "TOV%               float64\n",
       "eFG%               float64\n",
       "TS%                float64\n",
       "PACE               float64\n",
       "PIE                float64\n",
       "FTARate            float64\n",
       "PTS                  int64\n",
       "dtype: object"
      ]
     },
     "execution_count": 265,
     "metadata": {},
     "output_type": "execute_result"
    }
   ],
   "source": [
    "temp_df.dtypes"
   ]
  },
  {
   "cell_type": "code",
   "execution_count": 266,
   "metadata": {},
   "outputs": [],
   "source": [
    "# Init ELO for training season\n",
    "elo_list = {}\n",
    "for team in myteam:\n",
    "    elo_list[team] = 1500.0"
   ]
  },
  {
   "cell_type": "code",
   "execution_count": 267,
   "metadata": {},
   "outputs": [],
   "source": [
    "date_index=0\n",
    "newElo = {}\n",
    "eloScores = []\n",
    "homeTeam = []\n",
    "roadTeam = []\n",
    "for row in temp_df.itertuples():\n",
    "    if(game_dates[date_index] != np.datetime64(row.GameDate)):\n",
    "        #print(\"Update ELO\")\n",
    "        for key in newElo:\n",
    "            elo_list[key] = newElo[key]\n",
    "        newElo = {}\n",
    "        date_index += 1\n",
    "    temp = row.MatchUp.split(' ')\n",
    "    team1 = temp[0]\n",
    "    team2 = temp[2]\n",
    "    if temp[1] == 'vs.':\n",
    "        if row._4 == 'W':\n",
    "            outcome = True\n",
    "        else:\n",
    "            outcome = False\n",
    "        eloUpdate, dummy = EloRating(elo_list[team1], elo_list[team2], 20, outcome)\n",
    "        homeTeam.append(team1)\n",
    "        roadTeam.append(team2)\n",
    "    else:\n",
    "        # Opposite since road team\n",
    "        if row._4 == 'W':\n",
    "            outcome = False\n",
    "        else:\n",
    "            outcome = True\n",
    "        dummy, eloUpdate = EloRating(elo_list[team2], elo_list[team1], 20, outcome)\n",
    "        roadTeam.append(team1)\n",
    "        homeTeam.append(team2)\n",
    "        \n",
    "    newElo[row.Team] = eloUpdate\n",
    "    eloScores.append(eloUpdate)\n",
    "# Update for last date\n",
    "for key in newElo:\n",
    "    elo_list[key] = newElo[key]"
   ]
  },
  {
   "cell_type": "code",
   "execution_count": 268,
   "metadata": {},
   "outputs": [
    {
     "data": {
      "text/plain": [
       "{'ATL': 1379.585954026032,\n",
       " 'BKN': 1404.8281020435775,\n",
       " 'BOS': 1581.6442164590449,\n",
       " 'CHA': 1455.7326971389414,\n",
       " 'CHI': 1369.5264989320076,\n",
       " 'CLE': 1569.2570084824733,\n",
       " 'DAL': 1349.9955539253224,\n",
       " 'DEN': 1567.3908510170115,\n",
       " 'DET': 1469.2436740169394,\n",
       " 'GSW': 1585.218097082357,\n",
       " 'HOU': 1712.3692616813594,\n",
       " 'IND': 1579.9535417247766,\n",
       " 'LAC': 1514.4717110441677,\n",
       " 'LAL': 1463.3333766030464,\n",
       " 'MEM': 1315.91711181331,\n",
       " 'MIA': 1515.8396295778298,\n",
       " 'MIL': 1518.023873793636,\n",
       " 'MIN': 1538.5720049287456,\n",
       " 'NOP': 1588.4605069805805,\n",
       " 'NYK': 1369.6778447449904,\n",
       " 'OKC': 1579.0910067247698,\n",
       " 'ORL': 1352.7914611902586,\n",
       " 'PHI': 1638.0820435490868,\n",
       " 'PHX': 1305.2825248358438,\n",
       " 'POR': 1592.5772517125845,\n",
       " 'SAC': 1399.0131403590187,\n",
       " 'SAS': 1541.9868737873699,\n",
       " 'TOR': 1642.7968580395868,\n",
       " 'UTA': 1613.6622117595898,\n",
       " 'WAS': 1485.675112025742}"
      ]
     },
     "execution_count": 268,
     "metadata": {},
     "output_type": "execute_result"
    }
   ],
   "source": [
    "elo_list"
   ]
  },
  {
   "cell_type": "code",
   "execution_count": 245,
   "metadata": {},
   "outputs": [
    {
     "data": {
      "text/plain": [
       "2460"
      ]
     },
     "execution_count": 245,
     "metadata": {},
     "output_type": "execute_result"
    }
   ],
   "source": [
    "len(eloScores)"
   ]
  },
  {
   "cell_type": "code",
   "execution_count": 246,
   "metadata": {},
   "outputs": [
    {
     "data": {
      "text/plain": [
       "2460"
      ]
     },
     "execution_count": 246,
     "metadata": {},
     "output_type": "execute_result"
    }
   ],
   "source": [
    "len(temp_df)"
   ]
  },
  {
   "cell_type": "code",
   "execution_count": 269,
   "metadata": {},
   "outputs": [],
   "source": [
    "temp_df['ELO'] = eloScores\n",
    "temp_df['HomeTeam'] = homeTeam\n",
    "temp_df['RoadTeam'] = roadTeam"
   ]
  },
  {
   "cell_type": "code",
   "execution_count": 270,
   "metadata": {},
   "outputs": [
    {
     "data": {
      "text/plain": [
       "Index(['Team', 'MatchUp', 'GameDate', 'W/L', 'MIN', 'OffRtg', 'DefRtg',\n",
       "       'NetRtg', 'AST%', 'AST/TO', 'ASTRatio', 'OREB%', 'DREB%', 'REB%',\n",
       "       'TOV%', 'eFG%', 'TS%', 'PACE', 'PIE', 'FTARate', 'PTS', 'ELO',\n",
       "       'HomeTeam', 'RoadTeam'],\n",
       "      dtype='object')"
      ]
     },
     "execution_count": 270,
     "metadata": {},
     "output_type": "execute_result"
    }
   ],
   "source": [
    "temp_df.columns"
   ]
  },
  {
   "cell_type": "code",
   "execution_count": 271,
   "metadata": {},
   "outputs": [],
   "source": [
    "home_df = temp_df[temp_df['Team'] == temp_df['HomeTeam']]\n",
    "road_df = temp_df[temp_df['Team'] == temp_df['RoadTeam']]"
   ]
  },
  {
   "cell_type": "code",
   "execution_count": 278,
   "metadata": {},
   "outputs": [],
   "source": [
    "game_df = pd.merge(home_df, road_df, how='inner', on=['HomeTeam', 'RoadTeam', 'GameDate'], suffixes=('_h', '_r'), validate=\"one_to_one\")"
   ]
  },
  {
   "cell_type": "code",
   "execution_count": 279,
   "metadata": {},
   "outputs": [
    {
     "data": {
      "text/plain": [
       "Index(['Team_h', 'MatchUp_h', 'GameDate', 'W/L_h', 'MIN_h', 'OffRtg_h',\n",
       "       'DefRtg_h', 'NetRtg_h', 'AST%_h', 'AST/TO_h', 'ASTRatio_h', 'OREB%_h',\n",
       "       'DREB%_h', 'REB%_h', 'TOV%_h', 'eFG%_h', 'TS%_h', 'PACE_h', 'PIE_h',\n",
       "       'FTARate_h', 'PTS_h', 'ELO_h', 'HomeTeam', 'RoadTeam', 'Team_r',\n",
       "       'MatchUp_r', 'W/L_r', 'MIN_r', 'OffRtg_r', 'DefRtg_r', 'NetRtg_r',\n",
       "       'AST%_r', 'AST/TO_r', 'ASTRatio_r', 'OREB%_r', 'DREB%_r', 'REB%_r',\n",
       "       'TOV%_r', 'eFG%_r', 'TS%_r', 'PACE_r', 'PIE_r', 'FTARate_r', 'PTS_r',\n",
       "       'ELO_r'],\n",
       "      dtype='object')"
      ]
     },
     "execution_count": 279,
     "metadata": {},
     "output_type": "execute_result"
    }
   ],
   "source": [
    "game_df.columns"
   ]
  },
  {
   "cell_type": "code",
   "execution_count": 280,
   "metadata": {},
   "outputs": [],
   "source": [
    "game_df = game_df.drop(['Team_h', 'Team_r', 'MatchUp_h', 'MatchUp_r', 'W/L_h', 'W/L_r', 'MIN_h', 'MIN_r'], axis=1)"
   ]
  },
  {
   "cell_type": "code",
   "execution_count": 282,
   "metadata": {},
   "outputs": [
    {
     "data": {
      "text/plain": [
       "Index(['GameDate', 'OffRtg_h', 'DefRtg_h', 'NetRtg_h', 'AST%_h', 'AST/TO_h',\n",
       "       'ASTRatio_h', 'OREB%_h', 'DREB%_h', 'REB%_h', 'TOV%_h', 'eFG%_h',\n",
       "       'TS%_h', 'PACE_h', 'PIE_h', 'FTARate_h', 'PTS_h', 'ELO_h', 'HomeTeam',\n",
       "       'RoadTeam', 'OffRtg_r', 'DefRtg_r', 'NetRtg_r', 'AST%_r', 'AST/TO_r',\n",
       "       'ASTRatio_r', 'OREB%_r', 'DREB%_r', 'REB%_r', 'TOV%_r', 'eFG%_r',\n",
       "       'TS%_r', 'PACE_r', 'PIE_r', 'FTARate_r', 'PTS_r', 'ELO_r'],\n",
       "      dtype='object')"
      ]
     },
     "execution_count": 282,
     "metadata": {},
     "output_type": "execute_result"
    }
   ],
   "source": [
    "game_df.columns"
   ]
  },
  {
   "cell_type": "code",
   "execution_count": 283,
   "metadata": {},
   "outputs": [],
   "source": [
    "db.score_pred_training_data.drop()"
   ]
  },
  {
   "cell_type": "code",
   "execution_count": 284,
   "metadata": {},
   "outputs": [],
   "source": [
    "# export to json\n",
    "items = game_df.to_json(orient='records', date_format='iso')\n",
    "# load json string to json\n",
    "items_db = json.loads(items)"
   ]
  },
  {
   "cell_type": "code",
   "execution_count": 285,
   "metadata": {},
   "outputs": [
    {
     "data": {
      "text/plain": [
       "<pymongo.results.InsertManyResult at 0x29e1bbb6148>"
      ]
     },
     "execution_count": 285,
     "metadata": {},
     "output_type": "execute_result"
    }
   ],
   "source": [
    "db.score_pred_training_data.insert_many(items_db)"
   ]
  },
  {
   "cell_type": "code",
   "execution_count": 185,
   "metadata": {},
   "outputs": [
    {
     "data": {
      "text/plain": [
       "<pymongo.results.InsertOneResult at 0x29e1bbd4c08>"
      ]
     },
     "execution_count": 185,
     "metadata": {},
     "output_type": "execute_result"
    }
   ],
   "source": [
    "db.nba_team_elo_testing.insert_one(elo_list)"
   ]
  },
  {
   "cell_type": "code",
   "execution_count": 186,
   "metadata": {},
   "outputs": [],
   "source": [
    "temp = db.nba_team_elo_testing.find()"
   ]
  },
  {
   "cell_type": "code",
   "execution_count": 188,
   "metadata": {},
   "outputs": [],
   "source": [
    "temp = list(temp)"
   ]
  },
  {
   "cell_type": "code",
   "execution_count": 192,
   "metadata": {},
   "outputs": [],
   "source": [
    "for i in temp:\n",
    "    i.pop('_id', None)"
   ]
  },
  {
   "cell_type": "code",
   "execution_count": 194,
   "metadata": {},
   "outputs": [],
   "source": [
    "elo_testing = temp[0]"
   ]
  },
  {
   "cell_type": "code",
   "execution_count": 220,
   "metadata": {},
   "outputs": [
    {
     "data": {
      "text/plain": [
       "{'ATL': 1375.7075741834688,\n",
       " 'BKN': 1385.7473632514852,\n",
       " 'BOS': 1593.1622149515758,\n",
       " 'CHA': 1447.7280767309485,\n",
       " 'CHI': 1367.1005274309066,\n",
       " 'CLE': 1570.4270859757785,\n",
       " 'DAL': 1343.0240681009527,\n",
       " 'DEN': 1571.0319534263213,\n",
       " 'DET': 1461.7873401532459,\n",
       " 'GSW': 1619.4570676450153,\n",
       " 'HOU': 1727.4508941343163,\n",
       " 'IND': 1581.231834171123,\n",
       " 'LAC': 1524.2948631384638,\n",
       " 'LAL': 1451.6639776614604,\n",
       " 'MEM': 1312.794183162584,\n",
       " 'MIA': 1518.578999882534,\n",
       " 'MIL': 1518.6617359287,\n",
       " 'MIN': 1533.1207602745035,\n",
       " 'NOP': 1588.8232069597443,\n",
       " 'NYK': 1356.0233382357949,\n",
       " 'OKC': 1586.408713208459,\n",
       " 'ORL': 1336.8270182401138,\n",
       " 'PHI': 1624.0357372854346,\n",
       " 'PHX': 1286.05099854899,\n",
       " 'POR': 1598.9654622637888,\n",
       " 'SAC': 1390.6202815200002,\n",
       " 'SAS': 1558.4988631578274,\n",
       " 'TOR': 1652.5998449378783,\n",
       " 'UTA': 1626.4434841314753,\n",
       " 'WAS': 1491.7325313071099}"
      ]
     },
     "execution_count": 220,
     "metadata": {},
     "output_type": "execute_result"
    }
   ],
   "source": [
    "elo_testing"
   ]
  },
  {
   "cell_type": "code",
   "execution_count": 196,
   "metadata": {},
   "outputs": [],
   "source": [
    "from sklearn.linear_model import LinearRegression\n",
    "from sklearn.preprocessing import StandardScaler"
   ]
  },
  {
   "cell_type": "code",
   "execution_count": 286,
   "metadata": {},
   "outputs": [
    {
     "data": {
      "text/plain": [
       "Index(['GameDate', 'OffRtg_h', 'DefRtg_h', 'NetRtg_h', 'AST%_h', 'AST/TO_h',\n",
       "       'ASTRatio_h', 'OREB%_h', 'DREB%_h', 'REB%_h', 'TOV%_h', 'eFG%_h',\n",
       "       'TS%_h', 'PACE_h', 'PIE_h', 'FTARate_h', 'PTS_h', 'ELO_h', 'HomeTeam',\n",
       "       'RoadTeam', 'OffRtg_r', 'DefRtg_r', 'NetRtg_r', 'AST%_r', 'AST/TO_r',\n",
       "       'ASTRatio_r', 'OREB%_r', 'DREB%_r', 'REB%_r', 'TOV%_r', 'eFG%_r',\n",
       "       'TS%_r', 'PACE_r', 'PIE_r', 'FTARate_r', 'PTS_r', 'ELO_r'],\n",
       "      dtype='object')"
      ]
     },
     "execution_count": 286,
     "metadata": {},
     "output_type": "execute_result"
    }
   ],
   "source": [
    "game_df.columns"
   ]
  },
  {
   "cell_type": "code",
   "execution_count": 438,
   "metadata": {},
   "outputs": [],
   "source": [
    "#X_train = game_df.loc[:,['OffRtg_h', 'DefRtg_h', 'REB%_h', 'TOV%_h', 'TS%_h', 'PACE_h', 'ELO_h',\n",
    "#                         'OffRtg_r', 'DefRtg_r', 'REB%_r', 'TOV%_r', 'TS%_r', 'PACE_r', 'ELO_r']]\n",
    "X_train = game_df.loc[:,['PIE_h', 'FTARate_h', 'REB%_h', 'TOV%_h', 'TS%_h', 'PACE_h', 'ELO_h',\n",
    "                         'PIE_r', 'FTARate_r', 'REB%_r', 'TOV%_r', 'TS%_r', 'PACE_r', 'ELO_r']]\n",
    "y_h = game_df['PTS_h']\n",
    "y_r = game_df['PTS_r']"
   ]
  },
  {
   "cell_type": "code",
   "execution_count": 439,
   "metadata": {},
   "outputs": [],
   "source": [
    "X_scaler = StandardScaler().fit(X_train)\n",
    "X_train_scaled = X_scaler.transform(X_train)"
   ]
  },
  {
   "cell_type": "code",
   "execution_count": 299,
   "metadata": {},
   "outputs": [],
   "source": [
    "homeScorePredictor = LinearRegression()\n",
    "roadScorePredictor = LinearRegression()"
   ]
  },
  {
   "cell_type": "code",
   "execution_count": 300,
   "metadata": {},
   "outputs": [
    {
     "data": {
      "text/plain": [
       "LinearRegression(copy_X=True, fit_intercept=True, n_jobs=1, normalize=False)"
      ]
     },
     "execution_count": 300,
     "metadata": {},
     "output_type": "execute_result"
    }
   ],
   "source": [
    "homeScorePredictor.fit(X_train_scaled, y_h)\n",
    "roadScorePredictor.fit(X_train_scaled, y_r)"
   ]
  },
  {
   "cell_type": "code",
   "execution_count": 301,
   "metadata": {},
   "outputs": [
    {
     "data": {
      "text/plain": [
       "0.8589936215712799"
      ]
     },
     "execution_count": 301,
     "metadata": {},
     "output_type": "execute_result"
    }
   ],
   "source": [
    "homeScorePredictor.score(X_train_scaled, y_h)"
   ]
  },
  {
   "cell_type": "code",
   "execution_count": 302,
   "metadata": {},
   "outputs": [
    {
     "data": {
      "text/plain": [
       "0.8675338273816895"
      ]
     },
     "execution_count": 302,
     "metadata": {},
     "output_type": "execute_result"
    }
   ],
   "source": [
    "roadScorePredictor.score(X_train_scaled, y_r)"
   ]
  },
  {
   "cell_type": "code",
   "execution_count": 303,
   "metadata": {},
   "outputs": [
    {
     "data": {
      "text/plain": [
       "array([ 2.58503402e+02, -1.62216669e-01,  2.76297419e+01, -4.00828910e+00,\n",
       "        8.07205963e+00,  2.05972202e+00,  2.10898674e-01,  2.57524054e+02,\n",
       "        3.92920522e-01,  2.52358929e+01,  1.75240593e-01,  1.45243507e+00,\n",
       "        2.05972202e+00, -1.01268017e-01])"
      ]
     },
     "execution_count": 303,
     "metadata": {},
     "output_type": "execute_result"
    }
   ],
   "source": [
    "homeScorePredictor.coef_"
   ]
  },
  {
   "cell_type": "code",
   "execution_count": 304,
   "metadata": {},
   "outputs": [
    {
     "data": {
      "text/plain": [
       "array([ 2.37036741e+02,  2.52750004e-01, -1.79132152e+01,  2.25720489e-01,\n",
       "        1.26837505e+00,  2.04936389e+00, -8.64979886e-02,  2.37786874e+02,\n",
       "       -3.02186776e-02, -1.53423093e+01, -4.02832807e+00,  8.62107714e+00,\n",
       "        2.04936389e+00,  2.39525620e-01])"
      ]
     },
     "execution_count": 304,
     "metadata": {},
     "output_type": "execute_result"
    }
   ],
   "source": [
    "roadScorePredictor.coef_"
   ]
  },
  {
   "cell_type": "code",
   "execution_count": 444,
   "metadata": {},
   "outputs": [],
   "source": [
    "from sklearn.linear_model import BayesianRidge"
   ]
  },
  {
   "cell_type": "code",
   "execution_count": 448,
   "metadata": {},
   "outputs": [],
   "source": [
    "homeBay = BayesianRidge(verbose=1)\n",
    "roadBay = BayesianRidge(verbose=1)"
   ]
  },
  {
   "cell_type": "code",
   "execution_count": 449,
   "metadata": {},
   "outputs": [
    {
     "data": {
      "text/plain": [
       "(802, 14)"
      ]
     },
     "execution_count": 449,
     "metadata": {},
     "output_type": "execute_result"
    }
   ],
   "source": [
    "X_train_scaled.shape"
   ]
  },
  {
   "cell_type": "code",
   "execution_count": 450,
   "metadata": {},
   "outputs": [
    {
     "name": "stdout",
     "output_type": "stream",
     "text": [
      "Convergence after  4  iterations\n",
      "Convergence after  4  iterations\n"
     ]
    },
    {
     "data": {
      "text/plain": [
       "BayesianRidge(alpha_1=1e-06, alpha_2=1e-06, compute_score=False, copy_X=True,\n",
       "       fit_intercept=True, lambda_1=1e-06, lambda_2=1e-06, n_iter=300,\n",
       "       normalize=False, tol=0.001, verbose=1)"
      ]
     },
     "execution_count": 450,
     "metadata": {},
     "output_type": "execute_result"
    }
   ],
   "source": [
    "homeBay.fit(X_train_scaled, y_h)\n",
    "roadBay.fit(X_train_scaled, y_r)"
   ]
  },
  {
   "cell_type": "code",
   "execution_count": 463,
   "metadata": {},
   "outputs": [
    {
     "data": {
      "text/plain": [
       "0.8524515534343657"
      ]
     },
     "execution_count": 463,
     "metadata": {},
     "output_type": "execute_result"
    }
   ],
   "source": [
    "homeBay.score(X_train_scaled, y_h)"
   ]
  },
  {
   "cell_type": "code",
   "execution_count": 464,
   "metadata": {},
   "outputs": [
    {
     "data": {
      "text/plain": [
       "0.8436031702629764"
      ]
     },
     "execution_count": 464,
     "metadata": {},
     "output_type": "execute_result"
    }
   ],
   "source": [
    "roadBay.score(X_train_scaled, y_r)"
   ]
  },
  {
   "cell_type": "markdown",
   "metadata": {},
   "source": [
    "# Create Testing Data"
   ]
  },
  {
   "cell_type": "code",
   "execution_count": 305,
   "metadata": {},
   "outputs": [],
   "source": [
    "# Url to get all boxscores for 2017-2018 regular season games\n",
    "nba_18_19_trad_boxscores_url = \"https://stats.nba.com/teams/boxscores-traditional/\"\n",
    "nba_18_19_boxscores_url = \"https://stats.nba.com/teams/boxscores-advanced/\"\n",
    "nba_18_19_fourfactor_url = \"https://stats.nba.com/teams/boxscores-four-factors/\""
   ]
  },
  {
   "cell_type": "code",
   "execution_count": 306,
   "metadata": {},
   "outputs": [],
   "source": [
    "# visit website\n",
    "browser.visit(nba_18_19_boxscores_url)\n",
    "time.sleep(10)\n",
    "# get click path by xpath from browser inspector\n",
    "sel_all_path = browser.find_by_xpath(\"/html/body/main/div[2]/div/div[2]/div/div/nba-stat-table/div[1]/div/div/select/option[1]\")\n",
    "# select to display all games\n",
    "sel_all_path.click()\n",
    "time.sleep(5)\n",
    "# parse html in soup\n",
    "html = browser.html\n",
    "# Parse with soup\n",
    "soup = bs(html, 'html.parser')\n",
    "# Find all tables\n",
    "table = soup.find_all('table')[0] \n",
    "df = pd.read_html(str(table))\n",
    "# drop season column since unneeded\n",
    "df_adv = df[0].drop(columns=['Season'])\n",
    "# Rename column names\n",
    "df_adv.rename(columns={\"Game\\xa0Date\": \"GameDate\", \"Match\\xa0Up\": \"MatchUp\"}, inplace=True)\n",
    "# change gamedate to datetime\n",
    "df_adv['GameDate'] = df_adv['GameDate'].apply(lambda x: dt.datetime.strptime(x, \"%m/%d/%Y\"))\n",
    "df_adv = df_adv.drop(['MIN'], axis=1)"
   ]
  },
  {
   "cell_type": "code",
   "execution_count": 307,
   "metadata": {},
   "outputs": [],
   "source": [
    "# visit website\n",
    "browser.visit(nba_18_19_fourfactor_url)\n",
    "time.sleep(10)\n",
    "# get click path by xpath from browser inspector\n",
    "sel_all_path = browser.find_by_xpath(\"/html/body/main/div[2]/div/div[2]/div/div/nba-stat-table/div[1]/div/div/select/option[1]\")\n",
    "# select to display all games\n",
    "sel_all_path.click()\n",
    "time.sleep(5)\n",
    "# parse html in soup\n",
    "html = browser.html\n",
    "# Parse with soup\n",
    "soup = bs(html, 'html.parser')\n",
    "# Find all tables\n",
    "table = soup.find_all('table')[0] \n",
    "df = pd.read_html(str(table))\n",
    "# drop season column since unneeded\n",
    "df = df[0].drop(columns=['Season'])\n",
    "# Rename columns\n",
    "df.rename(columns={\"Game\\xa0Date\": \"GameDate\", \"Match\\xa0Up\": \"MatchUp\", \"OppFTA\\xa0Rate\": \"OppFTARate\"}, inplace=True)\n",
    "# Convert to float percent values\n",
    "df['OREB%'] = df['OREB%'].str.rstrip('%').astype('float')\n",
    "df['OppOREB%'] = df['OppOREB%'].str.rstrip('%').astype('float')\n",
    "df['OppeFG%'] = df['OppeFG%'].str.rstrip('%').astype('float')\n",
    "df['eFG%'] = df['eFG%'].str.rstrip('%').astype('float')\n",
    "# change gamedate to datetime\n",
    "df['GameDate'] = df['GameDate'].apply(lambda x: dt.datetime.strptime(x, \"%m/%d/%Y\"))\n",
    "df_ff = df.drop(['MIN', 'MatchUp', 'W/L', 'eFG%', 'OREB%', 'TOV%', 'OppeFG%', 'OppFTARate', 'OppTOV%', 'OppOREB%'], axis=1)"
   ]
  },
  {
   "cell_type": "code",
   "execution_count": 308,
   "metadata": {},
   "outputs": [],
   "source": [
    "# visit website\n",
    "browser.visit(nba_18_19_trad_boxscores_url)\n",
    "time.sleep(10)\n",
    "# get click path by xpath from browser inspector\n",
    "sel_all_path = browser.find_by_xpath(\"/html/body/main/div[2]/div/div[2]/div/div/nba-stat-table/div[1]/div/div/select/option[1]\")\n",
    "# select to display all games\n",
    "sel_all_path.click()\n",
    "time.sleep(5)\n",
    "# parse html in soup\n",
    "html = browser.html\n",
    "# Parse with soup\n",
    "soup = bs(html, 'html.parser')\n",
    "# Find all tables\n",
    "table = soup.find_all('table')[0] \n",
    "df = pd.read_html(str(table))\n",
    "# drop season column since unneeded\n",
    "df = df[0].drop(columns=['Season'])\n",
    "# Rename columns\n",
    "df.rename(columns={\"Game\\xa0Date\": \"GameDate\", \"Match\\xa0Up\": \"MatchUp\"}, inplace=True)\n",
    "# change gamedate to datetime\n",
    "df['GameDate'] = df['GameDate'].apply(lambda x: dt.datetime.strptime(x, \"%m/%d/%Y\"))\n",
    "df_trad = df.drop(['MIN', 'MatchUp', 'W/L', 'FGM', 'FGA', 'FG%', '3PM', '3PA', '3P%',\n",
    "       'FTM', 'FTA', 'FT%', 'OREB', 'DREB', 'REB', 'AST', 'TOV', 'STL', 'BLK',\n",
    "       'PF', '+/-'], axis=1)"
   ]
  },
  {
   "cell_type": "code",
   "execution_count": 309,
   "metadata": {},
   "outputs": [],
   "source": [
    "result_test = pd.merge(df_adv, df_ff, on=['Team', 'GameDate'])\n",
    "result_test_final = pd.merge(result_test, df_trad, on=['Team', 'GameDate'])"
   ]
  },
  {
   "cell_type": "code",
   "execution_count": 310,
   "metadata": {},
   "outputs": [],
   "source": [
    "result_test_sorted = result_test_final.sort_values(['GameDate'], ascending = 1).reset_index(drop=True)"
   ]
  },
  {
   "cell_type": "code",
   "execution_count": 311,
   "metadata": {},
   "outputs": [],
   "source": [
    "game_dates = result_test_sorted['GameDate'].unique()\n",
    "game_dates = [game_day for game_day in game_dates]"
   ]
  },
  {
   "cell_type": "code",
   "execution_count": 313,
   "metadata": {},
   "outputs": [],
   "source": [
    "temp_df = result_test_sorted.copy()"
   ]
  },
  {
   "cell_type": "code",
   "execution_count": 314,
   "metadata": {},
   "outputs": [],
   "source": [
    "temp = db.nba_team_elo_testing.find()\n",
    "temp = list(temp)\n",
    "for i in temp:\n",
    "    i.pop('_id', None)\n",
    "elo_testing = temp[0]"
   ]
  },
  {
   "cell_type": "code",
   "execution_count": 315,
   "metadata": {},
   "outputs": [],
   "source": [
    "date_index=0\n",
    "newElo = {}\n",
    "eloScores = []\n",
    "homeTeam = []\n",
    "roadTeam = []\n",
    "for row in temp_df.itertuples():\n",
    "    if(game_dates[date_index] != np.datetime64(row.GameDate)):\n",
    "        #print(\"Update ELO\")\n",
    "        for key in newElo:\n",
    "            elo_testing[key] = newElo[key]\n",
    "        newElo = {}\n",
    "        date_index += 1\n",
    "    temp = row.MatchUp.split(' ')\n",
    "    team1 = temp[0]\n",
    "    team2 = temp[2]\n",
    "    if temp[1] == 'vs.':\n",
    "        if row._4 == 'W':\n",
    "            outcome = True\n",
    "        else:\n",
    "            outcome = False\n",
    "        eloUpdate, dummy = EloRating(elo_testing[team1], elo_testing[team2], 20, outcome)\n",
    "        homeTeam.append(team1)\n",
    "        roadTeam.append(team2)\n",
    "    else:\n",
    "        # Opposite since road team\n",
    "        if row._4 == 'W':\n",
    "            outcome = False\n",
    "        else:\n",
    "            outcome = True\n",
    "        dummy, eloUpdate = EloRating(elo_testing[team2], elo_testing[team1], 20, outcome)\n",
    "        roadTeam.append(team1)\n",
    "        homeTeam.append(team2)\n",
    "        \n",
    "    newElo[row.Team] = eloUpdate\n",
    "    eloScores.append(eloUpdate)\n",
    "# Update for last date\n",
    "for key in newElo:\n",
    "    elo_testing[key] = newElo[key]\n",
    "# Should update ELO Testing DB"
   ]
  },
  {
   "cell_type": "code",
   "execution_count": 316,
   "metadata": {},
   "outputs": [],
   "source": [
    "temp_df['ELO'] = eloScores\n",
    "temp_df['HomeTeam'] = homeTeam\n",
    "temp_df['RoadTeam'] = roadTeam"
   ]
  },
  {
   "cell_type": "code",
   "execution_count": 318,
   "metadata": {},
   "outputs": [],
   "source": [
    "home_df = temp_df[temp_df['Team'] == temp_df['HomeTeam']]\n",
    "road_df = temp_df[temp_df['Team'] == temp_df['RoadTeam']]"
   ]
  },
  {
   "cell_type": "code",
   "execution_count": 319,
   "metadata": {},
   "outputs": [],
   "source": [
    "game_df = pd.merge(home_df, road_df, how='inner', on=['HomeTeam', 'RoadTeam', 'GameDate'], suffixes=('_h', '_r'), validate=\"one_to_one\")"
   ]
  },
  {
   "cell_type": "code",
   "execution_count": 320,
   "metadata": {},
   "outputs": [
    {
     "data": {
      "text/plain": [
       "Index(['Team_h', 'MatchUp_h', 'GameDate', 'W/L_h', 'OffRtg_h', 'DefRtg_h',\n",
       "       'NetRtg_h', 'AST%_h', 'AST/TO_h', 'ASTRatio_h', 'OREB%_h', 'DREB%_h',\n",
       "       'REB%_h', 'TOV%_h', 'eFG%_h', 'TS%_h', 'PACE_h', 'PIE_h', 'FTARate_h',\n",
       "       'PTS_h', 'ELO_h', 'HomeTeam', 'RoadTeam', 'Team_r', 'MatchUp_r',\n",
       "       'W/L_r', 'OffRtg_r', 'DefRtg_r', 'NetRtg_r', 'AST%_r', 'AST/TO_r',\n",
       "       'ASTRatio_r', 'OREB%_r', 'DREB%_r', 'REB%_r', 'TOV%_r', 'eFG%_r',\n",
       "       'TS%_r', 'PACE_r', 'PIE_r', 'FTARate_r', 'PTS_r', 'ELO_r'],\n",
       "      dtype='object')"
      ]
     },
     "execution_count": 320,
     "metadata": {},
     "output_type": "execute_result"
    }
   ],
   "source": [
    "game_df.columns"
   ]
  },
  {
   "cell_type": "code",
   "execution_count": 321,
   "metadata": {},
   "outputs": [],
   "source": [
    "game_df = game_df.drop(['Team_h', 'Team_r', 'MatchUp_h', 'MatchUp_r', 'W/L_h', 'W/L_r'], axis=1)"
   ]
  },
  {
   "cell_type": "code",
   "execution_count": 334,
   "metadata": {},
   "outputs": [
    {
     "data": {
      "text/html": [
       "<div>\n",
       "<style scoped>\n",
       "    .dataframe tbody tr th:only-of-type {\n",
       "        vertical-align: middle;\n",
       "    }\n",
       "\n",
       "    .dataframe tbody tr th {\n",
       "        vertical-align: top;\n",
       "    }\n",
       "\n",
       "    .dataframe thead th {\n",
       "        text-align: right;\n",
       "    }\n",
       "</style>\n",
       "<table border=\"1\" class=\"dataframe\">\n",
       "  <thead>\n",
       "    <tr style=\"text-align: right;\">\n",
       "      <th></th>\n",
       "      <th>GameDate</th>\n",
       "      <th>OffRtg_h</th>\n",
       "      <th>DefRtg_h</th>\n",
       "      <th>NetRtg_h</th>\n",
       "      <th>AST%_h</th>\n",
       "      <th>AST/TO_h</th>\n",
       "      <th>ASTRatio_h</th>\n",
       "      <th>OREB%_h</th>\n",
       "      <th>DREB%_h</th>\n",
       "      <th>REB%_h</th>\n",
       "      <th>...</th>\n",
       "      <th>DREB%_r</th>\n",
       "      <th>REB%_r</th>\n",
       "      <th>TOV%_r</th>\n",
       "      <th>eFG%_r</th>\n",
       "      <th>TS%_r</th>\n",
       "      <th>PACE_r</th>\n",
       "      <th>PIE_r</th>\n",
       "      <th>FTARate_r</th>\n",
       "      <th>PTS_r</th>\n",
       "      <th>ELO_r</th>\n",
       "    </tr>\n",
       "  </thead>\n",
       "  <tbody>\n",
       "    <tr>\n",
       "      <th>797</th>\n",
       "      <td>2019-02-05</td>\n",
       "      <td>134.7</td>\n",
       "      <td>92.2</td>\n",
       "      <td>42.5</td>\n",
       "      <td>66.1</td>\n",
       "      <td>3.70</td>\n",
       "      <td>24.7</td>\n",
       "      <td>26.7</td>\n",
       "      <td>82.9</td>\n",
       "      <td>53.5</td>\n",
       "      <td>...</td>\n",
       "      <td>73.3</td>\n",
       "      <td>46.5</td>\n",
       "      <td>18.6</td>\n",
       "      <td>49.3</td>\n",
       "      <td>54.4</td>\n",
       "      <td>101.5</td>\n",
       "      <td>34.8</td>\n",
       "      <td>0.347</td>\n",
       "      <td>94</td>\n",
       "      <td>1467.988589</td>\n",
       "    </tr>\n",
       "    <tr>\n",
       "      <th>798</th>\n",
       "      <td>2019-02-05</td>\n",
       "      <td>117.3</td>\n",
       "      <td>121.9</td>\n",
       "      <td>-4.5</td>\n",
       "      <td>48.7</td>\n",
       "      <td>3.80</td>\n",
       "      <td>14.6</td>\n",
       "      <td>26.8</td>\n",
       "      <td>78.3</td>\n",
       "      <td>50.0</td>\n",
       "      <td>...</td>\n",
       "      <td>73.2</td>\n",
       "      <td>50.0</td>\n",
       "      <td>11.5</td>\n",
       "      <td>58.6</td>\n",
       "      <td>61.9</td>\n",
       "      <td>97.0</td>\n",
       "      <td>51.2</td>\n",
       "      <td>0.195</td>\n",
       "      <td>117</td>\n",
       "      <td>1517.404605</td>\n",
       "    </tr>\n",
       "    <tr>\n",
       "      <th>799</th>\n",
       "      <td>2019-02-05</td>\n",
       "      <td>103.2</td>\n",
       "      <td>109.6</td>\n",
       "      <td>-6.3</td>\n",
       "      <td>52.5</td>\n",
       "      <td>1.50</td>\n",
       "      <td>15.6</td>\n",
       "      <td>36.8</td>\n",
       "      <td>78.6</td>\n",
       "      <td>54.5</td>\n",
       "      <td>...</td>\n",
       "      <td>63.2</td>\n",
       "      <td>45.5</td>\n",
       "      <td>13.8</td>\n",
       "      <td>54.3</td>\n",
       "      <td>58.4</td>\n",
       "      <td>93.5</td>\n",
       "      <td>60.9</td>\n",
       "      <td>0.171</td>\n",
       "      <td>103</td>\n",
       "      <td>1615.457081</td>\n",
       "    </tr>\n",
       "    <tr>\n",
       "      <th>800</th>\n",
       "      <td>2019-02-05</td>\n",
       "      <td>116.8</td>\n",
       "      <td>108.0</td>\n",
       "      <td>8.8</td>\n",
       "      <td>54.3</td>\n",
       "      <td>1.47</td>\n",
       "      <td>16.6</td>\n",
       "      <td>28.0</td>\n",
       "      <td>83.0</td>\n",
       "      <td>56.3</td>\n",
       "      <td>...</td>\n",
       "      <td>72.0</td>\n",
       "      <td>43.7</td>\n",
       "      <td>15.9</td>\n",
       "      <td>52.8</td>\n",
       "      <td>58.1</td>\n",
       "      <td>113.0</td>\n",
       "      <td>46.0</td>\n",
       "      <td>0.378</td>\n",
       "      <td>122</td>\n",
       "      <td>1403.429442</td>\n",
       "    </tr>\n",
       "    <tr>\n",
       "      <th>801</th>\n",
       "      <td>2019-02-05</td>\n",
       "      <td>113.7</td>\n",
       "      <td>110.4</td>\n",
       "      <td>3.3</td>\n",
       "      <td>50.0</td>\n",
       "      <td>2.25</td>\n",
       "      <td>14.3</td>\n",
       "      <td>24.1</td>\n",
       "      <td>59.2</td>\n",
       "      <td>40.8</td>\n",
       "      <td>...</td>\n",
       "      <td>75.9</td>\n",
       "      <td>59.2</td>\n",
       "      <td>17.7</td>\n",
       "      <td>50.0</td>\n",
       "      <td>55.3</td>\n",
       "      <td>95.5</td>\n",
       "      <td>51.9</td>\n",
       "      <td>0.230</td>\n",
       "      <td>106</td>\n",
       "      <td>1488.293300</td>\n",
       "    </tr>\n",
       "  </tbody>\n",
       "</table>\n",
       "<p>5 rows × 37 columns</p>\n",
       "</div>"
      ],
      "text/plain": [
       "      GameDate  OffRtg_h  DefRtg_h  NetRtg_h  AST%_h  AST/TO_h  ASTRatio_h  \\\n",
       "797 2019-02-05     134.7      92.2      42.5    66.1      3.70        24.7   \n",
       "798 2019-02-05     117.3     121.9      -4.5    48.7      3.80        14.6   \n",
       "799 2019-02-05     103.2     109.6      -6.3    52.5      1.50        15.6   \n",
       "800 2019-02-05     116.8     108.0       8.8    54.3      1.47        16.6   \n",
       "801 2019-02-05     113.7     110.4       3.3    50.0      2.25        14.3   \n",
       "\n",
       "     OREB%_h  DREB%_h  REB%_h     ...       DREB%_r  REB%_r  TOV%_r  eFG%_r  \\\n",
       "797     26.7     82.9    53.5     ...          73.3    46.5    18.6    49.3   \n",
       "798     26.8     78.3    50.0     ...          73.2    50.0    11.5    58.6   \n",
       "799     36.8     78.6    54.5     ...          63.2    45.5    13.8    54.3   \n",
       "800     28.0     83.0    56.3     ...          72.0    43.7    15.9    52.8   \n",
       "801     24.1     59.2    40.8     ...          75.9    59.2    17.7    50.0   \n",
       "\n",
       "     TS%_r  PACE_r  PIE_r  FTARate_r PTS_r        ELO_r  \n",
       "797   54.4   101.5   34.8      0.347    94  1467.988589  \n",
       "798   61.9    97.0   51.2      0.195   117  1517.404605  \n",
       "799   58.4    93.5   60.9      0.171   103  1615.457081  \n",
       "800   58.1   113.0   46.0      0.378   122  1403.429442  \n",
       "801   55.3    95.5   51.9      0.230   106  1488.293300  \n",
       "\n",
       "[5 rows x 37 columns]"
      ]
     },
     "execution_count": 334,
     "metadata": {},
     "output_type": "execute_result"
    }
   ],
   "source": [
    "game_df.tail()"
   ]
  },
  {
   "cell_type": "code",
   "execution_count": 323,
   "metadata": {},
   "outputs": [],
   "source": [
    "# export to json\n",
    "items = game_df.to_json(orient='records', date_format='iso')\n",
    "# load json string to json\n",
    "items_db = json.loads(items)"
   ]
  },
  {
   "cell_type": "code",
   "execution_count": 324,
   "metadata": {},
   "outputs": [
    {
     "data": {
      "text/plain": [
       "<pymongo.results.InsertManyResult at 0x29e245a6788>"
      ]
     },
     "execution_count": 324,
     "metadata": {},
     "output_type": "execute_result"
    }
   ],
   "source": [
    "db.score_pred_testing_data.insert_many(items_db)"
   ]
  },
  {
   "cell_type": "code",
   "execution_count": 325,
   "metadata": {},
   "outputs": [],
   "source": [
    "X_test = game_df.loc[:,['PIE_h', 'FTARate_h', 'REB%_h', 'TOV%_h', 'TS%_h', 'PACE_h', 'ELO_h',\n",
    "                         'PIE_r', 'FTARate_r', 'REB%_r', 'TOV%_r', 'TS%_r', 'PACE_r', 'ELO_r']]\n",
    "y_h = game_df['PTS_h']\n",
    "y_r = game_df['PTS_r']"
   ]
  },
  {
   "cell_type": "code",
   "execution_count": 370,
   "metadata": {},
   "outputs": [
    {
     "data": {
      "text/plain": [
       "(802, 14)"
      ]
     },
     "execution_count": 370,
     "metadata": {},
     "output_type": "execute_result"
    }
   ],
   "source": [
    "X_test.shape"
   ]
  },
  {
   "cell_type": "code",
   "execution_count": 326,
   "metadata": {},
   "outputs": [],
   "source": [
    "X_test_scaled = X_scaler.transform(X_test)"
   ]
  },
  {
   "cell_type": "code",
   "execution_count": 327,
   "metadata": {},
   "outputs": [
    {
     "data": {
      "text/plain": [
       "0.8319517712939757"
      ]
     },
     "execution_count": 327,
     "metadata": {},
     "output_type": "execute_result"
    }
   ],
   "source": [
    "homeScorePredictor.score(X_test_scaled, y_h)"
   ]
  },
  {
   "cell_type": "code",
   "execution_count": 328,
   "metadata": {},
   "outputs": [
    {
     "data": {
      "text/plain": [
       "0.830255034316016"
      ]
     },
     "execution_count": 328,
     "metadata": {},
     "output_type": "execute_result"
    }
   ],
   "source": [
    "roadScorePredictor.score(X_test_scaled, y_r)"
   ]
  },
  {
   "cell_type": "code",
   "execution_count": 332,
   "metadata": {},
   "outputs": [],
   "source": [
    "predictions_h = homeScorePredictor.predict(X_test_scaled)"
   ]
  },
  {
   "cell_type": "code",
   "execution_count": 330,
   "metadata": {},
   "outputs": [
    {
     "data": {
      "text/plain": [
       "102.24064642117432"
      ]
     },
     "execution_count": 330,
     "metadata": {},
     "output_type": "execute_result"
    }
   ],
   "source": [
    "predictions[0]"
   ]
  },
  {
   "cell_type": "code",
   "execution_count": 335,
   "metadata": {},
   "outputs": [
    {
     "data": {
      "text/plain": [
       "136"
      ]
     },
     "execution_count": 335,
     "metadata": {},
     "output_type": "execute_result"
    }
   ],
   "source": [
    "y_h[797]"
   ]
  },
  {
   "cell_type": "code",
   "execution_count": 336,
   "metadata": {},
   "outputs": [],
   "source": [
    "predictions_r = roadScorePredictor.predict(X_test_scaled)"
   ]
  },
  {
   "cell_type": "code",
   "execution_count": 337,
   "metadata": {},
   "outputs": [
    {
     "data": {
      "text/plain": [
       "132.77524310276573"
      ]
     },
     "execution_count": 337,
     "metadata": {},
     "output_type": "execute_result"
    }
   ],
   "source": [
    "predictions_h[797]"
   ]
  },
  {
   "cell_type": "code",
   "execution_count": 338,
   "metadata": {},
   "outputs": [
    {
     "data": {
      "text/plain": [
       "100.9754252279464"
      ]
     },
     "execution_count": 338,
     "metadata": {},
     "output_type": "execute_result"
    }
   ],
   "source": [
    "predictions_r[797]"
   ]
  },
  {
   "cell_type": "code",
   "execution_count": 339,
   "metadata": {},
   "outputs": [
    {
     "data": {
      "text/plain": [
       "94"
      ]
     },
     "execution_count": 339,
     "metadata": {},
     "output_type": "execute_result"
    }
   ],
   "source": [
    "y_r[797]"
   ]
  },
  {
   "cell_type": "code",
   "execution_count": 344,
   "metadata": {},
   "outputs": [],
   "source": [
    "#lakers_df = game_df[np.logical_or(game_df['HomeTeam'] == 'LAL', game_df['RoadTeam'] == 'LAL')]"
   ]
  },
  {
   "cell_type": "code",
   "execution_count": 348,
   "metadata": {},
   "outputs": [],
   "source": [
    "lakers_df = game_df[game_df['RoadTeam'] == 'LAL']"
   ]
  },
  {
   "cell_type": "code",
   "execution_count": 349,
   "metadata": {},
   "outputs": [],
   "source": [
    "indiana_df = game_df[game_df['HomeTeam'] == 'IND']"
   ]
  },
  {
   "cell_type": "code",
   "execution_count": 350,
   "metadata": {},
   "outputs": [],
   "source": [
    "#result_test_sorted = result_test_final.sort_values(['GameDate'], ascending = 1).reset_index(drop=True)\n",
    "lakers_df = lakers_df.sort_values(['GameDate'], ascending=0).reset_index(drop=True)\n",
    "indiana_df = indiana_df.sort_values(['GameDate'], ascending=0).reset_index(drop=True)"
   ]
  },
  {
   "cell_type": "code",
   "execution_count": 453,
   "metadata": {},
   "outputs": [],
   "source": [
    "laker_mean = lakers_df[1:6].mean()"
   ]
  },
  {
   "cell_type": "code",
   "execution_count": 433,
   "metadata": {},
   "outputs": [
    {
     "data": {
      "text/plain": [
       "GameDate      2019-01-19 00:00:00\n",
       "OffRtg_h                    124.3\n",
       "DefRtg_h                    119.6\n",
       "NetRtg_h                      4.7\n",
       "AST%_h                       54.8\n",
       "AST/TO_h                     1.92\n",
       "ASTRatio_h                   15.3\n",
       "OREB%_h                      27.4\n",
       "DREB%_h                      65.3\n",
       "REB%_h                       44.1\n",
       "TOV%_h                       10.8\n",
       "eFG%_h                       54.5\n",
       "TS%_h                        59.6\n",
       "PACE_h                     100.98\n",
       "PIE_h                          45\n",
       "FTARate_h                    0.36\n",
       "PTS_h                         138\n",
       "ELO_h                     1630.34\n",
       "HomeTeam                      HOU\n",
       "RoadTeam                      LAL\n",
       "OffRtg_r                    119.6\n",
       "DefRtg_r                    124.3\n",
       "NetRtg_r                     -4.7\n",
       "AST%_r                         54\n",
       "AST/TO_r                     1.69\n",
       "ASTRatio_r                   17.4\n",
       "OREB%_r                      34.7\n",
       "DREB%_r                      72.6\n",
       "REB%_r                       55.9\n",
       "TOV%_r                       14.3\n",
       "eFG%_r                       57.3\n",
       "TS%_r                        61.4\n",
       "PACE_r                     100.98\n",
       "PIE_r                          55\n",
       "FTARate_r                   0.313\n",
       "PTS_r                         134\n",
       "ELO_r                     1484.97\n",
       "Name: 3, dtype: object"
      ]
     },
     "execution_count": 433,
     "metadata": {},
     "output_type": "execute_result"
    }
   ],
   "source": [
    "laker_mean.iloc[2]"
   ]
  },
  {
   "cell_type": "code",
   "execution_count": 454,
   "metadata": {},
   "outputs": [],
   "source": [
    "indiana_mean = indiana_df[1:6].mean()"
   ]
  },
  {
   "cell_type": "code",
   "execution_count": 401,
   "metadata": {},
   "outputs": [
    {
     "data": {
      "text/plain": [
       "134.7"
      ]
     },
     "execution_count": 401,
     "metadata": {},
     "output_type": "execute_result"
    }
   ],
   "source": [
    "laker_mean['OffRtg_h']"
   ]
  },
  {
   "cell_type": "code",
   "execution_count": 455,
   "metadata": {},
   "outputs": [
    {
     "data": {
      "text/plain": [
       "0       48.700000\n",
       "1        0.180800\n",
       "2       48.380000\n",
       "3       10.920000\n",
       "4       53.240000\n",
       "5       98.500000\n",
       "6     1603.494912\n",
       "7       48.980000\n",
       "8        0.263000\n",
       "9       53.460000\n",
       "10      15.240000\n",
       "11      54.600000\n",
       "12     103.394000\n",
       "13    1483.664565\n",
       "dtype: float64"
      ]
     },
     "execution_count": 455,
     "metadata": {},
     "output_type": "execute_result"
    }
   ],
   "source": [
    "my_test = pd.Series(data = [indiana_mean['PIE_h'], indiana_mean['FTARate_h'], indiana_mean['REB%_h'], indiana_mean['TOV%_h'], indiana_mean['TS%_h'], indiana_mean['PACE_h'], indiana_mean['ELO_h'],\n",
    "                            laker_mean['PIE_r'], laker_mean['FTARate_r'], laker_mean['REB%_r'], laker_mean['TOV%_r'], laker_mean['TS%_r'], laker_mean['PACE_r'], laker_mean['ELO_r']\n",
    "                           ])\n",
    "my_test"
   ]
  },
  {
   "cell_type": "code",
   "execution_count": 417,
   "metadata": {},
   "outputs": [
    {
     "data": {
      "text/plain": [
       "0       48.700000\n",
       "1        0.180800\n",
       "2       48.380000\n",
       "3       10.920000\n",
       "4       53.240000\n",
       "5       98.500000\n",
       "6     1603.494912\n",
       "7       48.980000\n",
       "8        0.263000\n",
       "9       53.460000\n",
       "10      15.240000\n",
       "11      54.600000\n",
       "12     103.394000\n",
       "13    1483.664565\n",
       "dtype: float64"
      ]
     },
     "execution_count": 417,
     "metadata": {},
     "output_type": "execute_result"
    }
   ],
   "source": [
    "my_test = pd.Series(data = [indiana_mean['PIE_h'], indiana_mean['FTARate_h'], indiana_mean['REB%_h'], indiana_mean['TOV%_h'], indiana_mean['TS%_h'], indiana_mean['PACE_h'], indiana_mean['ELO_h'],\n",
    "                            laker_mean['PIE_r'], laker_mean['FTARate_r'], laker_mean['REB%_r'], laker_mean['TOV%_r'], laker_mean['TS%_r'], laker_mean['PACE_r'], laker_mean['ELO_r']\n",
    "                           ])\n",
    "my_test"
   ]
  },
  {
   "cell_type": "code",
   "execution_count": 456,
   "metadata": {},
   "outputs": [],
   "source": [
    "my_test = my_test.values.reshape(1,14)"
   ]
  },
  {
   "cell_type": "code",
   "execution_count": 457,
   "metadata": {},
   "outputs": [],
   "source": [
    "X_my_scaled = X_scaler.transform(my_test)"
   ]
  },
  {
   "cell_type": "code",
   "execution_count": 469,
   "metadata": {},
   "outputs": [],
   "source": [
    "homeScore = homeScorePredictor.predict(X_my_scaled)"
   ]
  },
  {
   "cell_type": "code",
   "execution_count": 470,
   "metadata": {},
   "outputs": [
    {
     "data": {
      "text/plain": [
       "223.93688820520185"
      ]
     },
     "execution_count": 470,
     "metadata": {},
     "output_type": "execute_result"
    }
   ],
   "source": [
    "homeScore[0]"
   ]
  },
  {
   "cell_type": "code",
   "execution_count": 471,
   "metadata": {},
   "outputs": [
    {
     "data": {
      "text/plain": [
       "200.0637713494899"
      ]
     },
     "execution_count": 471,
     "metadata": {},
     "output_type": "execute_result"
    }
   ],
   "source": [
    "roadScorePredictor.predict(X_my_scaled)[0]"
   ]
  },
  {
   "cell_type": "code",
   "execution_count": 393,
   "metadata": {},
   "outputs": [
    {
     "data": {
      "text/plain": [
       "0    65.2\n",
       "Name: PIE_h, dtype: float64"
      ]
     },
     "execution_count": 393,
     "metadata": {},
     "output_type": "execute_result"
    }
   ],
   "source": [
    "lakers_df[0:1]['PIE_h']"
   ]
  },
  {
   "cell_type": "code",
   "execution_count": 539,
   "metadata": {},
   "outputs": [
    {
     "data": {
      "text/plain": [
       "107.59452499218354"
      ]
     },
     "execution_count": 539,
     "metadata": {},
     "output_type": "execute_result"
    }
   ],
   "source": [
    "homeBay.predict(X_my_scaled)[0]"
   ]
  },
  {
   "cell_type": "code",
   "execution_count": 473,
   "metadata": {},
   "outputs": [
    {
     "data": {
      "text/plain": [
       "array([111.39097325])"
      ]
     },
     "execution_count": 473,
     "metadata": {},
     "output_type": "execute_result"
    }
   ],
   "source": [
    "roadBay.predict(X_my_scaled)"
   ]
  },
  {
   "cell_type": "code",
   "execution_count": 465,
   "metadata": {},
   "outputs": [],
   "source": [
    "def getHomeRoadMeans(teamHome, teamRoad):\n",
    "    temp = db.score_pred_testing_data.find({'$or' : [{'HomeTeam': teamHome}, {'RoadTeam': teamRoad}]})\n",
    "    temp = list(temp)\n",
    "    for i in temp:\n",
    "        i.pop('_id', None)\n",
    "    df_test = pd.DataFrame(temp)\n",
    "    df_test = df_test.sort_values(['GameDate'], ascending=0).reset_index(drop=True)\n",
    "    home_df = df_test[df_test['HomeTeam'] == teamHome].reset_index(drop=True)\n",
    "    road_df = df_test[df_test['RoadTeam'] == teamRoad].reset_index(drop=True)\n",
    "    homeMean = home_df[0:5].mean()\n",
    "    roadMean = road_df[0:5].mean()\n",
    "    test_series = pd.Series(data = [homeMean['PIE_h'], homeMean['FTARate_h'], homeMean['REB%_h'], homeMean['TOV%_h'], homeMean['TS%_h'], homeMean['PACE_h'], homeMean['ELO_h'],\n",
    "                                    roadMean['PIE_r'], roadMean['FTARate_r'], roadMean['REB%_r'], roadMean['TOV%_r'], roadMean['TS%_r'], roadMean['PACE_r'], roadMean['ELO_r']\n",
    "                           ])\n",
    "    test_data = test_series.values.reshape(1,14)\n",
    "    return test_data"
   ]
  },
  {
   "cell_type": "code",
   "execution_count": 497,
   "metadata": {},
   "outputs": [],
   "source": [
    "X_test = getHomeRoadMeans('UTA', 'HOU')"
   ]
  },
  {
   "cell_type": "code",
   "execution_count": 498,
   "metadata": {},
   "outputs": [
    {
     "data": {
      "text/plain": [
       "array([[4.83200000e+01, 3.40000000e-01, 4.99200000e+01, 1.42400000e+01,\n",
       "        5.48600000e+01, 9.86000000e+01, 1.59891654e+03, 5.11400000e+01,\n",
       "        2.64000000e-01, 5.01800000e+01, 1.51600000e+01, 5.76000000e+01,\n",
       "        9.87000000e+01, 1.68651798e+03]])"
      ]
     },
     "execution_count": 498,
     "metadata": {},
     "output_type": "execute_result"
    }
   ],
   "source": [
    "X_test"
   ]
  },
  {
   "cell_type": "code",
   "execution_count": 499,
   "metadata": {},
   "outputs": [],
   "source": [
    "X_my_scaled = X_scaler.transform(X_test)"
   ]
  },
  {
   "cell_type": "code",
   "execution_count": 500,
   "metadata": {},
   "outputs": [
    {
     "data": {
      "text/plain": [
       "107.59452499218354"
      ]
     },
     "execution_count": 500,
     "metadata": {},
     "output_type": "execute_result"
    }
   ],
   "source": [
    "homeBay.predict(X_my_scaled)[0]"
   ]
  },
  {
   "cell_type": "code",
   "execution_count": 501,
   "metadata": {},
   "outputs": [
    {
     "data": {
      "text/plain": [
       "110.73290017421905"
      ]
     },
     "execution_count": 501,
     "metadata": {},
     "output_type": "execute_result"
    }
   ],
   "source": [
    "roadBay.predict(X_my_scaled)[0]"
   ]
  },
  {
   "cell_type": "code",
   "execution_count": 503,
   "metadata": {},
   "outputs": [],
   "source": [
    "import pickle\n",
    "from sklearn.externals import joblib"
   ]
  },
  {
   "cell_type": "code",
   "execution_count": 504,
   "metadata": {},
   "outputs": [],
   "source": [
    "scaler_filename = \"bay_rig_scaler.save\"\n",
    "joblib.dump(X_scaler, scaler_filename)\n",
    "bay_rig_home_filename = 'bay_rig_home_model.pkl'\n",
    "pickle.dump(homeBay, open(bay_rig_home_filename, 'wb'))\n",
    "bay_rig_road_filename = 'bay_rig_road_model.pkl'\n",
    "pickle.dump(roadBay, open(bay_rig_road_filename, 'wb'))\n"
   ]
  },
  {
   "cell_type": "code",
   "execution_count": 537,
   "metadata": {},
   "outputs": [],
   "source": [
    "teamHome = 'LAL'\n",
    "teamRoad = 'LAC'\n",
    "temp = db.score_pred_testing_data.find({'$or' : [{'HomeTeam': teamHome}, {'RoadTeam': teamRoad}]})\n",
    "temp = list(temp)\n",
    "for i in temp:\n",
    "    i.pop('_id', None)\n",
    "df_test = pd.DataFrame(temp)\n",
    "df_test = df_test.sort_values(['GameDate'], ascending=0).reset_index(drop=True)\n",
    "home_df = df_test[df_test['HomeTeam'] == teamHome].reset_index(drop=True)\n",
    "road_df = df_test[df_test['RoadTeam'] == teamRoad].reset_index(drop=True)"
   ]
  },
  {
   "cell_type": "code",
   "execution_count": 532,
   "metadata": {},
   "outputs": [],
   "source": [
    "temp = home_df.head()['ELO_h']"
   ]
  },
  {
   "cell_type": "code",
   "execution_count": 538,
   "metadata": {},
   "outputs": [
    {
     "data": {
      "text/plain": [
       "1468.8400819865"
      ]
     },
     "execution_count": 538,
     "metadata": {},
     "output_type": "execute_result"
    }
   ],
   "source": [
    "home_df.iloc[0]['ELO_h']"
   ]
  },
  {
   "cell_type": "code",
   "execution_count": 529,
   "metadata": {},
   "outputs": [
    {
     "data": {
      "text/plain": [
       "level_0       0.000000\n",
       "index         3.000000\n",
       "ELO_h      1468.840082\n",
       "Name: 0, dtype: float64"
      ]
     },
     "execution_count": 529,
     "metadata": {},
     "output_type": "execute_result"
    }
   ],
   "source": [
    "temp"
   ]
  },
  {
   "cell_type": "code",
   "execution_count": 540,
   "metadata": {},
   "outputs": [],
   "source": [
    "bayScalar_filename = \"bay_rig_scaler.save\"\n",
    "bay_rig_scaler = joblib.load(bayScalar_filename)"
   ]
  },
  {
   "cell_type": "code",
   "execution_count": null,
   "metadata": {},
   "outputs": [],
   "source": [
    "bay_rig_scaler.scale_"
   ]
  }
 ],
 "metadata": {
  "kernelspec": {
   "display_name": "Python [conda env:PythonData]",
   "language": "python",
   "name": "conda-env-PythonData-py"
  },
  "language_info": {
   "codemirror_mode": {
    "name": "ipython",
    "version": 3
   },
   "file_extension": ".py",
   "mimetype": "text/x-python",
   "name": "python",
   "nbconvert_exporter": "python",
   "pygments_lexer": "ipython3",
   "version": "3.6.5"
  }
 },
 "nbformat": 4,
 "nbformat_minor": 2
}

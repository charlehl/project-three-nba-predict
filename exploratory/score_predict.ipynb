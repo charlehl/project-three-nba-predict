{
 "cells": [
  {
   "cell_type": "code",
   "execution_count": 23,
   "metadata": {},
   "outputs": [],
   "source": [
    "import numpy as np\n",
    "import pandas as pd\n",
    "#import datetime as dt\n",
    "import pymongo\n",
    "import json\n",
    "import datetime as dt\n",
    "import pickle\n",
    "import math"
   ]
  },
  {
   "cell_type": "code",
   "execution_count": 2,
   "metadata": {},
   "outputs": [],
   "source": [
    "#import os\n",
    "from bs4 import BeautifulSoup as bs\n",
    "#import requests\n",
    "from splinter import Browser\n",
    "import time"
   ]
  },
  {
   "cell_type": "code",
   "execution_count": 541,
   "metadata": {},
   "outputs": [],
   "source": [
    "# create mongo db connection\n",
    "conn = 'mongodb://localhost:27017'\n",
    "client = pymongo.MongoClient(conn)\n",
    "# connect to my nba data db\n",
    "db = client.nba_data_db"
   ]
  },
  {
   "cell_type": "code",
   "execution_count": 163,
   "metadata": {},
   "outputs": [],
   "source": [
    "# Get season stats for 16-17 season to get starting elo for training data\n",
    "nba_16_17_fourfactor_url = \"https://stats.nba.com/teams/boxscores-four-factors/?Season=2016-17&SeasonType=Regular%20Season\""
   ]
  },
  {
   "cell_type": "code",
   "execution_count": 164,
   "metadata": {},
   "outputs": [],
   "source": [
    "# visit website\n",
    "browser.visit(nba_16_17_fourfactor_url)\n",
    "time.sleep(10)\n",
    "# get click path by xpath from browser inspector\n",
    "sel_all_path = browser.find_by_xpath(\"/html/body/main/div[2]/div/div[2]/div/div/nba-stat-table/div[1]/div/div/select/option[1]\")\n",
    "# select to display all games\n",
    "sel_all_path.click()\n",
    "time.sleep(5)\n",
    "# parse html in soup\n",
    "html = browser.html\n",
    "# Parse with soup\n",
    "soup = bs(html, 'html.parser')\n",
    "# Find all tables\n",
    "table = soup.find_all('table')[0] \n",
    "df = pd.read_html(str(table))\n",
    "# drop season column since unneeded\n",
    "df = df[0].drop(columns=['Season'])\n",
    "# Rename columns\n",
    "df.rename(columns={\"Game\\xa0Date\": \"GameDate\", \"Match\\xa0Up\": \"MatchUp\", \"OppFTA\\xa0Rate\": \"OppFTARate\"}, inplace=True)\n",
    "# change gamedate to datetime\n",
    "df['GameDate'] = df['GameDate'].apply(lambda x: dt.datetime.strptime(x, \"%m/%d/%Y\"))"
   ]
  },
  {
   "cell_type": "code",
   "execution_count": 165,
   "metadata": {},
   "outputs": [],
   "source": [
    "# Init ELO for training season\n",
    "elo_list = {}\n",
    "for team in myteam:\n",
    "    elo_list[team] = 1500.0"
   ]
  },
  {
   "cell_type": "code",
   "execution_count": 166,
   "metadata": {},
   "outputs": [],
   "source": [
    "df_init = df.sort_values(['GameDate'], ascending = 1).reset_index(drop=True)\n",
    "game_dates = df_init['GameDate'].unique()\n",
    "game_dates = [game_day for game_day in game_dates]"
   ]
  },
  {
   "cell_type": "code",
   "execution_count": 167,
   "metadata": {},
   "outputs": [],
   "source": [
    "date_index=0\n",
    "newElo = {}\n",
    "eloScores = []\n",
    "for row in df_init.itertuples():\n",
    "    if(game_dates[date_index] != np.datetime64(row.GameDate)):\n",
    "        #print(\"Update ELO\")\n",
    "        for key in newElo:\n",
    "            elo_list[key] = newElo[key]\n",
    "        newElo = {}\n",
    "        date_index += 1\n",
    "    temp = row.MatchUp.split(' ')\n",
    "    team1 = temp[0]\n",
    "    team2 = temp[2]\n",
    "    if temp[1] == 'vs.':\n",
    "        if row._4 == 'W':\n",
    "            outcome = True\n",
    "        else:\n",
    "            outcome = False\n",
    "        eloUpdate, dummy = EloRating(elo_list[team1], elo_list[team2], 20, outcome)\n",
    "    else:\n",
    "        # Opposite since road team\n",
    "        if row._4 == 'W':\n",
    "            outcome = False\n",
    "        else:\n",
    "            outcome = True\n",
    "        dummy, eloUpdate = EloRating(elo_list[team2], elo_list[team1], 20, outcome)\n",
    "    newElo[row.Team] = eloUpdate\n",
    "# Update for last date\n",
    "for key in newElo:\n",
    "    elo_list[key] = newElo[key]"
   ]
  },
  {
   "cell_type": "code",
   "execution_count": 169,
   "metadata": {},
   "outputs": [
    {
     "data": {
      "text/plain": [
       "<pymongo.results.InsertOneResult at 0x29e3a890888>"
      ]
     },
     "execution_count": 169,
     "metadata": {},
     "output_type": "execute_result"
    }
   ],
   "source": [
    "db.nba_team_elo_training.insert_one(elo_list)"
   ]
  },
  {
   "cell_type": "code",
   "execution_count": 4,
   "metadata": {},
   "outputs": [],
   "source": [
    "# Url to get all boxscores for 2017-2018 regular season games\n",
    "nba_17_18_trad_boxscores_url = \"https://stats.nba.com/teams/boxscores-traditional/?Season=2017-18&SeasonType=Regular%20Season\"\n",
    "nba_17_18_boxscores_url = \"https://stats.nba.com/teams/boxscores-advanced/?Season=2017-18&SeasonType=Regular%20Season\"\n",
    "nba_17_18_fourfactor_url = \"https://stats.nba.com/teams/boxscores-four-factors/?Season=2017-18&SeasonType=Regular%20Season\""
   ]
  },
  {
   "cell_type": "code",
   "execution_count": 8,
   "metadata": {},
   "outputs": [],
   "source": [
    "# create splinter browser\n",
    "def init_browser(noShowBrowser):\n",
    "    executable_path = {'executable_path': 'chromedriver.exe'}\n",
    "    browser = Browser('chrome', **executable_path, headless=noShowBrowser)\n",
    "    return browser"
   ]
  },
  {
   "cell_type": "code",
   "execution_count": 542,
   "metadata": {},
   "outputs": [],
   "source": [
    "browser = init_browser(False)"
   ]
  },
  {
   "cell_type": "code",
   "execution_count": 225,
   "metadata": {},
   "outputs": [],
   "source": [
    "# visit website\n",
    "browser.visit(nba_17_18_boxscores_url)\n",
    "time.sleep(10)\n",
    "# get click path by xpath from browser inspector\n",
    "sel_all_path = browser.find_by_xpath(\"/html/body/main/div[2]/div/div[2]/div/div/nba-stat-table/div[1]/div/div/select/option[1]\")\n",
    "# select to display all games\n",
    "sel_all_path.click()\n",
    "time.sleep(5)\n",
    "# parse html in soup\n",
    "html = browser.html\n",
    "# Parse with soup\n",
    "soup = bs(html, 'html.parser')\n",
    "# Find all tables\n",
    "table = soup.find_all('table')[0] \n",
    "df = pd.read_html(str(table))\n",
    "# drop season column since unneeded\n",
    "df_adv = df[0].drop(columns=['Season'])\n",
    "# Rename column names\n",
    "df_adv.rename(columns={\"Game\\xa0Date\": \"GameDate\", \"Match\\xa0Up\": \"MatchUp\"}, inplace=True)\n",
    "# change gamedate to datetime\n",
    "df_adv['GameDate'] = df_adv['GameDate'].apply(lambda x: dt.datetime.strptime(x, \"%m/%d/%Y\"))"
   ]
  },
  {
   "cell_type": "code",
   "execution_count": 226,
   "metadata": {},
   "outputs": [
    {
     "data": {
      "text/plain": [
       "Index(['Team', 'MatchUp', 'GameDate', 'W/L', 'MIN', 'OffRtg', 'DefRtg',\n",
       "       'NetRtg', 'AST%', 'AST/TO', 'ASTRatio', 'OREB%', 'DREB%', 'REB%',\n",
       "       'TOV%', 'eFG%', 'TS%', 'PACE', 'PIE'],\n",
       "      dtype='object')"
      ]
     },
     "execution_count": 226,
     "metadata": {},
     "output_type": "execute_result"
    }
   ],
   "source": [
    "df_adv.columns"
   ]
  },
  {
   "cell_type": "code",
   "execution_count": 229,
   "metadata": {},
   "outputs": [],
   "source": [
    "# visit website\n",
    "browser.visit(nba_17_18_fourfactor_url)\n",
    "time.sleep(10)\n",
    "# get click path by xpath from browser inspector\n",
    "sel_all_path = browser.find_by_xpath(\"/html/body/main/div[2]/div/div[2]/div/div/nba-stat-table/div[1]/div/div/select/option[1]\")\n",
    "# select to display all games\n",
    "sel_all_path.click()\n",
    "time.sleep(5)\n",
    "# parse html in soup\n",
    "html = browser.html\n",
    "# Parse with soup\n",
    "soup = bs(html, 'html.parser')\n",
    "# Find all tables\n",
    "table = soup.find_all('table')[0] \n",
    "df = pd.read_html(str(table))\n",
    "# drop season column since unneeded\n",
    "df = df[0].drop(columns=['Season'])\n",
    "# Rename columns\n",
    "df.rename(columns={\"Game\\xa0Date\": \"GameDate\", \"Match\\xa0Up\": \"MatchUp\", \"OppFTA\\xa0Rate\": \"OppFTARate\"}, inplace=True)\n",
    "# Convert to float percent values\n",
    "df['OREB%'] = df['OREB%'].str.rstrip('%').astype('float')\n",
    "df['OppOREB%'] = df['OppOREB%'].str.rstrip('%').astype('float')\n",
    "df['OppeFG%'] = df['OppeFG%'].str.rstrip('%').astype('float')\n",
    "df['eFG%'] = df['eFG%'].str.rstrip('%').astype('float')\n",
    "# change gamedate to datetime\n",
    "df['GameDate'] = df['GameDate'].apply(lambda x: dt.datetime.strptime(x, \"%m/%d/%Y\"))\n",
    "df_ff = df.drop(['MIN', 'MatchUp', 'W/L', 'eFG%', 'OREB%', 'TOV%', 'OppeFG%', 'OppFTARate', 'OppTOV%', 'OppOREB%'], axis=1)"
   ]
  },
  {
   "cell_type": "code",
   "execution_count": 230,
   "metadata": {},
   "outputs": [
    {
     "data": {
      "text/plain": [
       "Index(['Team', 'GameDate', 'FTARate'], dtype='object')"
      ]
     },
     "execution_count": 230,
     "metadata": {},
     "output_type": "execute_result"
    }
   ],
   "source": [
    "df_ff.columns"
   ]
  },
  {
   "cell_type": "code",
   "execution_count": 232,
   "metadata": {},
   "outputs": [],
   "source": [
    "# visit website\n",
    "browser.visit(nba_17_18_trad_boxscores_url)\n",
    "time.sleep(10)\n",
    "# get click path by xpath from browser inspector\n",
    "sel_all_path = browser.find_by_xpath(\"/html/body/main/div[2]/div/div[2]/div/div/nba-stat-table/div[1]/div/div/select/option[1]\")\n",
    "# select to display all games\n",
    "sel_all_path.click()\n",
    "time.sleep(5)\n",
    "# parse html in soup\n",
    "html = browser.html\n",
    "# Parse with soup\n",
    "soup = bs(html, 'html.parser')\n",
    "# Find all tables\n",
    "table = soup.find_all('table')[0] \n",
    "df = pd.read_html(str(table))\n",
    "# drop season column since unneeded\n",
    "df = df[0].drop(columns=['Season'])\n",
    "# Rename columns\n",
    "df.rename(columns={\"Game\\xa0Date\": \"GameDate\", \"Match\\xa0Up\": \"MatchUp\"}, inplace=True)\n",
    "# change gamedate to datetime\n",
    "df['GameDate'] = df['GameDate'].apply(lambda x: dt.datetime.strptime(x, \"%m/%d/%Y\"))\n",
    "df_trad = df.drop(['MIN', 'MatchUp', 'W/L', 'FGM', 'FGA', 'FG%', '3PM', '3PA', '3P%',\n",
    "       'FTM', 'FTA', 'FT%', 'OREB', 'DREB', 'REB', 'AST', 'TOV', 'STL', 'BLK',\n",
    "       'PF', '+/-'], axis=1)"
   ]
  },
  {
   "cell_type": "code",
   "execution_count": 233,
   "metadata": {},
   "outputs": [
    {
     "data": {
      "text/plain": [
       "Index(['Team', 'GameDate', 'PTS'], dtype='object')"
      ]
     },
     "execution_count": 233,
     "metadata": {},
     "output_type": "execute_result"
    }
   ],
   "source": [
    "df_trad.columns"
   ]
  },
  {
   "cell_type": "code",
   "execution_count": 234,
   "metadata": {},
   "outputs": [
    {
     "data": {
      "text/plain": [
       "Index(['Team', 'MatchUp', 'GameDate', 'W/L', 'MIN', 'OffRtg', 'DefRtg',\n",
       "       'NetRtg', 'AST%', 'AST/TO', 'ASTRatio', 'OREB%', 'DREB%', 'REB%',\n",
       "       'TOV%', 'eFG%', 'TS%', 'PACE', 'PIE', 'FTARate'],\n",
       "      dtype='object')"
      ]
     },
     "execution_count": 234,
     "metadata": {},
     "output_type": "execute_result"
    }
   ],
   "source": [
    "result = pd.merge(df_adv, df_ff, on=['Team', 'GameDate'])\n",
    "result.columns"
   ]
  },
  {
   "cell_type": "code",
   "execution_count": 235,
   "metadata": {},
   "outputs": [
    {
     "data": {
      "text/plain": [
       "Index(['Team', 'MatchUp', 'GameDate', 'W/L', 'MIN', 'OffRtg', 'DefRtg',\n",
       "       'NetRtg', 'AST%', 'AST/TO', 'ASTRatio', 'OREB%', 'DREB%', 'REB%',\n",
       "       'TOV%', 'eFG%', 'TS%', 'PACE', 'PIE', 'FTARate', 'PTS'],\n",
       "      dtype='object')"
      ]
     },
     "execution_count": 235,
     "metadata": {},
     "output_type": "execute_result"
    }
   ],
   "source": [
    "result_final = pd.merge(result, df_trad, on=['Team', 'GameDate'])\n",
    "result_final.columns"
   ]
  },
  {
   "cell_type": "code",
   "execution_count": 28,
   "metadata": {},
   "outputs": [],
   "source": [
    "teams = result_final['Team'].unique()"
   ]
  },
  {
   "cell_type": "code",
   "execution_count": 29,
   "metadata": {},
   "outputs": [],
   "source": [
    "myteam = [team for team in teams]"
   ]
  },
  {
   "cell_type": "code",
   "execution_count": 30,
   "metadata": {},
   "outputs": [],
   "source": [
    "myteam.sort()"
   ]
  },
  {
   "cell_type": "code",
   "execution_count": 236,
   "metadata": {},
   "outputs": [],
   "source": [
    "# Init ELO for training season\n",
    "elo_list = {}\n",
    "for team in myteam:\n",
    "    elo_list[team] = 1500.0"
   ]
  },
  {
   "cell_type": "code",
   "execution_count": 37,
   "metadata": {},
   "outputs": [
    {
     "data": {
      "text/plain": [
       "<pymongo.results.InsertOneResult at 0x29e298e7748>"
      ]
     },
     "execution_count": 37,
     "metadata": {},
     "output_type": "execute_result"
    }
   ],
   "source": [
    "db.nba_team_elo_training.insert_one(elo_list)"
   ]
  },
  {
   "cell_type": "code",
   "execution_count": 261,
   "metadata": {},
   "outputs": [],
   "source": [
    "result_sorted = result_final.sort_values(['GameDate'], ascending = 1).reset_index(drop=True)\n",
    "#result_sorted['HomeGame'] = result_sorted['MatchUp'].apply(lambda x: 1 if x.split(' ')[1] == 'vs.' else 0)"
   ]
  },
  {
   "cell_type": "code",
   "execution_count": 64,
   "metadata": {},
   "outputs": [],
   "source": [
    "def eloProbability(rating1, rating2):\n",
    "    return 1.0 * 1.0 / (1 + 1.0 * math.pow(10, 1.0 * (rating1 - rating2) / 400))\n",
    "def EloRating(homeTeam, roadTeam, K, homeTeamWins):\n",
    "    # To calculate the Winning \n",
    "    # Probability of Player B \n",
    "    Pb = eloProbability(homeTeam, roadTeam) \n",
    "\n",
    "    # To calculate the Winning \n",
    "    # Probability of Player A \n",
    "    Pa = eloProbability(roadTeam, homeTeam) \n",
    "\n",
    "    # Case -1 When Player A wins \n",
    "    # Updating the Elo Ratings \n",
    "    if (homeTeamWins == True) : \n",
    "        homeTeam = homeTeam + K * (1 - Pa) \n",
    "        roadTeam = roadTeam + K * (0 - Pb) \n",
    "\n",
    "\n",
    "    # Case -2 When Player B wins \n",
    "    # Updating the Elo Ratings \n",
    "    else : \n",
    "        homeTeam = homeTeam + K * (0 - Pa)\n",
    "        roadTeam = roadTeam + K * (1 - Pb)\n",
    "    return homeTeam, roadTeam"
   ]
  },
  {
   "cell_type": "code",
   "execution_count": 66,
   "metadata": {},
   "outputs": [],
   "source": [
    "team1 = 1000\n",
    "team2 = 1000"
   ]
  },
  {
   "cell_type": "code",
   "execution_count": 67,
   "metadata": {},
   "outputs": [],
   "source": [
    "team1, team2 = EloRating(team1, team2, 20, False)"
   ]
  },
  {
   "cell_type": "code",
   "execution_count": 69,
   "metadata": {},
   "outputs": [
    {
     "data": {
      "text/plain": [
       "1010.0"
      ]
     },
     "execution_count": 69,
     "metadata": {},
     "output_type": "execute_result"
    }
   ],
   "source": [
    "team2"
   ]
  },
  {
   "cell_type": "code",
   "execution_count": 262,
   "metadata": {},
   "outputs": [
    {
     "data": {
      "text/plain": [
       "numpy.datetime64('2017-10-17T00:00:00.000000000')"
      ]
     },
     "execution_count": 262,
     "metadata": {},
     "output_type": "execute_result"
    }
   ],
   "source": [
    "game_dates = result_sorted['GameDate'].unique()\n",
    "game_dates = [game_day for game_day in game_dates]\n",
    "game_dates[0]"
   ]
  },
  {
   "cell_type": "code",
   "execution_count": 81,
   "metadata": {},
   "outputs": [
    {
     "data": {
      "text/plain": [
       "False"
      ]
     },
     "execution_count": 81,
     "metadata": {},
     "output_type": "execute_result"
    }
   ],
   "source": [
    "game_dates[1] == np.datetime64(result_sorted.iloc[0]['GameDate'])"
   ]
  },
  {
   "cell_type": "code",
   "execution_count": 76,
   "metadata": {},
   "outputs": [
    {
     "data": {
      "text/plain": [
       "Timestamp('2017-10-17 00:00:00')"
      ]
     },
     "execution_count": 76,
     "metadata": {},
     "output_type": "execute_result"
    }
   ],
   "source": [
    "result_sorted.iloc[0]['GameDate']"
   ]
  },
  {
   "cell_type": "code",
   "execution_count": 264,
   "metadata": {},
   "outputs": [],
   "source": [
    "temp_df = result_sorted.copy()"
   ]
  },
  {
   "cell_type": "code",
   "execution_count": 265,
   "metadata": {},
   "outputs": [
    {
     "data": {
      "text/plain": [
       "Team                object\n",
       "MatchUp             object\n",
       "GameDate    datetime64[ns]\n",
       "W/L                 object\n",
       "MIN                  int64\n",
       "OffRtg             float64\n",
       "DefRtg             float64\n",
       "NetRtg             float64\n",
       "AST%               float64\n",
       "AST/TO             float64\n",
       "ASTRatio           float64\n",
       "OREB%              float64\n",
       "DREB%              float64\n",
       "REB%               float64\n",
       "TOV%               float64\n",
       "eFG%               float64\n",
       "TS%                float64\n",
       "PACE               float64\n",
       "PIE                float64\n",
       "FTARate            float64\n",
       "PTS                  int64\n",
       "dtype: object"
      ]
     },
     "execution_count": 265,
     "metadata": {},
     "output_type": "execute_result"
    }
   ],
   "source": [
    "temp_df.dtypes"
   ]
  },
  {
   "cell_type": "code",
   "execution_count": 266,
   "metadata": {},
   "outputs": [],
   "source": [
    "# Init ELO for training season\n",
    "elo_list = {}\n",
    "for team in myteam:\n",
    "    elo_list[team] = 1500.0"
   ]
  },
  {
   "cell_type": "code",
   "execution_count": 267,
   "metadata": {},
   "outputs": [],
   "source": [
    "date_index=0\n",
    "newElo = {}\n",
    "eloScores = []\n",
    "homeTeam = []\n",
    "roadTeam = []\n",
    "for row in temp_df.itertuples():\n",
    "    if(game_dates[date_index] != np.datetime64(row.GameDate)):\n",
    "        #print(\"Update ELO\")\n",
    "        for key in newElo:\n",
    "            elo_list[key] = newElo[key]\n",
    "        newElo = {}\n",
    "        date_index += 1\n",
    "    temp = row.MatchUp.split(' ')\n",
    "    team1 = temp[0]\n",
    "    team2 = temp[2]\n",
    "    if temp[1] == 'vs.':\n",
    "        if row._4 == 'W':\n",
    "            outcome = True\n",
    "        else:\n",
    "            outcome = False\n",
    "        eloUpdate, dummy = EloRating(elo_list[team1], elo_list[team2], 20, outcome)\n",
    "        homeTeam.append(team1)\n",
    "        roadTeam.append(team2)\n",
    "    else:\n",
    "        # Opposite since road team\n",
    "        if row._4 == 'W':\n",
    "            outcome = False\n",
    "        else:\n",
    "            outcome = True\n",
    "        dummy, eloUpdate = EloRating(elo_list[team2], elo_list[team1], 20, outcome)\n",
    "        roadTeam.append(team1)\n",
    "        homeTeam.append(team2)\n",
    "        \n",
    "    newElo[row.Team] = eloUpdate\n",
    "    eloScores.append(eloUpdate)\n",
    "# Update for last date\n",
    "for key in newElo:\n",
    "    elo_list[key] = newElo[key]"
   ]
  },
  {
   "cell_type": "code",
   "execution_count": 544,
   "metadata": {},
   "outputs": [
    {
     "data": {
      "text/plain": [
       "{'ATL': 1379.585954026032,\n",
       " 'BKN': 1404.8281020435775,\n",
       " 'BOS': 1581.6442164590449,\n",
       " 'CHA': 1455.7326971389414,\n",
       " 'CHI': 1369.5264989320076,\n",
       " 'CLE': 1569.2570084824733,\n",
       " 'DAL': 1349.9955539253224,\n",
       " 'DEN': 1567.3908510170115,\n",
       " 'DET': 1469.2436740169394,\n",
       " 'GSW': 1585.218097082357,\n",
       " 'HOU': 1712.3692616813594,\n",
       " 'IND': 1579.9535417247766,\n",
       " 'LAC': 1514.4717110441677,\n",
       " 'LAL': 1463.3333766030464,\n",
       " 'MEM': 1315.91711181331,\n",
       " 'MIA': 1515.8396295778298,\n",
       " 'MIL': 1518.023873793636,\n",
       " 'MIN': 1538.5720049287456,\n",
       " 'NOP': 1588.4605069805805,\n",
       " 'NYK': 1369.6778447449904,\n",
       " 'OKC': 1579.0910067247698,\n",
       " 'ORL': 1352.7914611902586,\n",
       " 'PHI': 1638.0820435490868,\n",
       " 'PHX': 1305.2825248358438,\n",
       " 'POR': 1592.5772517125845,\n",
       " 'SAC': 1399.0131403590187,\n",
       " 'SAS': 1541.9868737873699,\n",
       " 'TOR': 1642.7968580395868,\n",
       " 'UTA': 1613.6622117595898,\n",
       " 'WAS': 1485.675112025742}"
      ]
     },
     "execution_count": 544,
     "metadata": {},
     "output_type": "execute_result"
    }
   ],
   "source": [
    "elo_list"
   ]
  },
  {
   "cell_type": "code",
   "execution_count": 245,
   "metadata": {},
   "outputs": [
    {
     "data": {
      "text/plain": [
       "2460"
      ]
     },
     "execution_count": 245,
     "metadata": {},
     "output_type": "execute_result"
    }
   ],
   "source": [
    "len(eloScores)"
   ]
  },
  {
   "cell_type": "code",
   "execution_count": 246,
   "metadata": {},
   "outputs": [
    {
     "data": {
      "text/plain": [
       "2460"
      ]
     },
     "execution_count": 246,
     "metadata": {},
     "output_type": "execute_result"
    }
   ],
   "source": [
    "len(temp_df)"
   ]
  },
  {
   "cell_type": "code",
   "execution_count": 269,
   "metadata": {},
   "outputs": [],
   "source": [
    "temp_df['ELO'] = eloScores\n",
    "temp_df['HomeTeam'] = homeTeam\n",
    "temp_df['RoadTeam'] = roadTeam"
   ]
  },
  {
   "cell_type": "code",
   "execution_count": 270,
   "metadata": {},
   "outputs": [
    {
     "data": {
      "text/plain": [
       "Index(['Team', 'MatchUp', 'GameDate', 'W/L', 'MIN', 'OffRtg', 'DefRtg',\n",
       "       'NetRtg', 'AST%', 'AST/TO', 'ASTRatio', 'OREB%', 'DREB%', 'REB%',\n",
       "       'TOV%', 'eFG%', 'TS%', 'PACE', 'PIE', 'FTARate', 'PTS', 'ELO',\n",
       "       'HomeTeam', 'RoadTeam'],\n",
       "      dtype='object')"
      ]
     },
     "execution_count": 270,
     "metadata": {},
     "output_type": "execute_result"
    }
   ],
   "source": [
    "temp_df.columns"
   ]
  },
  {
   "cell_type": "code",
   "execution_count": 271,
   "metadata": {},
   "outputs": [],
   "source": [
    "home_df = temp_df[temp_df['Team'] == temp_df['HomeTeam']]\n",
    "road_df = temp_df[temp_df['Team'] == temp_df['RoadTeam']]"
   ]
  },
  {
   "cell_type": "code",
   "execution_count": 278,
   "metadata": {},
   "outputs": [],
   "source": [
    "game_df = pd.merge(home_df, road_df, how='inner', on=['HomeTeam', 'RoadTeam', 'GameDate'], suffixes=('_h', '_r'), validate=\"one_to_one\")"
   ]
  },
  {
   "cell_type": "code",
   "execution_count": 279,
   "metadata": {},
   "outputs": [
    {
     "data": {
      "text/plain": [
       "Index(['Team_h', 'MatchUp_h', 'GameDate', 'W/L_h', 'MIN_h', 'OffRtg_h',\n",
       "       'DefRtg_h', 'NetRtg_h', 'AST%_h', 'AST/TO_h', 'ASTRatio_h', 'OREB%_h',\n",
       "       'DREB%_h', 'REB%_h', 'TOV%_h', 'eFG%_h', 'TS%_h', 'PACE_h', 'PIE_h',\n",
       "       'FTARate_h', 'PTS_h', 'ELO_h', 'HomeTeam', 'RoadTeam', 'Team_r',\n",
       "       'MatchUp_r', 'W/L_r', 'MIN_r', 'OffRtg_r', 'DefRtg_r', 'NetRtg_r',\n",
       "       'AST%_r', 'AST/TO_r', 'ASTRatio_r', 'OREB%_r', 'DREB%_r', 'REB%_r',\n",
       "       'TOV%_r', 'eFG%_r', 'TS%_r', 'PACE_r', 'PIE_r', 'FTARate_r', 'PTS_r',\n",
       "       'ELO_r'],\n",
       "      dtype='object')"
      ]
     },
     "execution_count": 279,
     "metadata": {},
     "output_type": "execute_result"
    }
   ],
   "source": [
    "game_df.columns"
   ]
  },
  {
   "cell_type": "code",
   "execution_count": 280,
   "metadata": {},
   "outputs": [],
   "source": [
    "game_df = game_df.drop(['Team_h', 'Team_r', 'MatchUp_h', 'MatchUp_r', 'W/L_h', 'W/L_r', 'MIN_h', 'MIN_r'], axis=1)"
   ]
  },
  {
   "cell_type": "code",
   "execution_count": 282,
   "metadata": {},
   "outputs": [
    {
     "data": {
      "text/plain": [
       "Index(['GameDate', 'OffRtg_h', 'DefRtg_h', 'NetRtg_h', 'AST%_h', 'AST/TO_h',\n",
       "       'ASTRatio_h', 'OREB%_h', 'DREB%_h', 'REB%_h', 'TOV%_h', 'eFG%_h',\n",
       "       'TS%_h', 'PACE_h', 'PIE_h', 'FTARate_h', 'PTS_h', 'ELO_h', 'HomeTeam',\n",
       "       'RoadTeam', 'OffRtg_r', 'DefRtg_r', 'NetRtg_r', 'AST%_r', 'AST/TO_r',\n",
       "       'ASTRatio_r', 'OREB%_r', 'DREB%_r', 'REB%_r', 'TOV%_r', 'eFG%_r',\n",
       "       'TS%_r', 'PACE_r', 'PIE_r', 'FTARate_r', 'PTS_r', 'ELO_r'],\n",
       "      dtype='object')"
      ]
     },
     "execution_count": 282,
     "metadata": {},
     "output_type": "execute_result"
    }
   ],
   "source": [
    "game_df.columns"
   ]
  },
  {
   "cell_type": "code",
   "execution_count": 283,
   "metadata": {},
   "outputs": [],
   "source": [
    "db.score_pred_training_data.drop()"
   ]
  },
  {
   "cell_type": "code",
   "execution_count": 284,
   "metadata": {},
   "outputs": [],
   "source": [
    "# export to json\n",
    "items = game_df.to_json(orient='records', date_format='iso')\n",
    "# load json string to json\n",
    "items_db = json.loads(items)"
   ]
  },
  {
   "cell_type": "code",
   "execution_count": 285,
   "metadata": {},
   "outputs": [
    {
     "data": {
      "text/plain": [
       "<pymongo.results.InsertManyResult at 0x29e1bbb6148>"
      ]
     },
     "execution_count": 285,
     "metadata": {},
     "output_type": "execute_result"
    }
   ],
   "source": [
    "db.score_pred_training_data.insert_many(items_db)"
   ]
  },
  {
   "cell_type": "code",
   "execution_count": 185,
   "metadata": {},
   "outputs": [
    {
     "data": {
      "text/plain": [
       "<pymongo.results.InsertOneResult at 0x29e1bbd4c08>"
      ]
     },
     "execution_count": 185,
     "metadata": {},
     "output_type": "execute_result"
    }
   ],
   "source": [
    "db.nba_team_elo_testing.insert_one(elo_list)"
   ]
  },
  {
   "cell_type": "code",
   "execution_count": 545,
   "metadata": {},
   "outputs": [],
   "source": [
    "temp = db.nba_team_elo_testing.find()"
   ]
  },
  {
   "cell_type": "code",
   "execution_count": 546,
   "metadata": {},
   "outputs": [],
   "source": [
    "temp = list(temp)"
   ]
  },
  {
   "cell_type": "code",
   "execution_count": 547,
   "metadata": {},
   "outputs": [],
   "source": [
    "for i in temp:\n",
    "    i.pop('_id', None)"
   ]
  },
  {
   "cell_type": "code",
   "execution_count": 548,
   "metadata": {},
   "outputs": [],
   "source": [
    "elo_testing = temp[0]"
   ]
  },
  {
   "cell_type": "code",
   "execution_count": 549,
   "metadata": {},
   "outputs": [
    {
     "data": {
      "text/plain": [
       "{'ATL': 1375.7075741834688,\n",
       " 'BKN': 1385.7473632514852,\n",
       " 'BOS': 1593.1622149515758,\n",
       " 'CHA': 1447.7280767309485,\n",
       " 'CHI': 1367.1005274309066,\n",
       " 'CLE': 1570.4270859757785,\n",
       " 'DAL': 1343.0240681009527,\n",
       " 'DEN': 1571.0319534263213,\n",
       " 'DET': 1461.7873401532459,\n",
       " 'GSW': 1619.4570676450153,\n",
       " 'HOU': 1727.4508941343163,\n",
       " 'IND': 1581.231834171123,\n",
       " 'LAC': 1524.2948631384638,\n",
       " 'LAL': 1451.6639776614604,\n",
       " 'MEM': 1312.794183162584,\n",
       " 'MIA': 1518.578999882534,\n",
       " 'MIL': 1518.6617359287,\n",
       " 'MIN': 1533.1207602745035,\n",
       " 'NOP': 1588.8232069597443,\n",
       " 'NYK': 1356.0233382357949,\n",
       " 'OKC': 1586.408713208459,\n",
       " 'ORL': 1336.8270182401138,\n",
       " 'PHI': 1624.0357372854346,\n",
       " 'PHX': 1286.05099854899,\n",
       " 'POR': 1598.9654622637888,\n",
       " 'SAC': 1390.6202815200002,\n",
       " 'SAS': 1558.4988631578274,\n",
       " 'TOR': 1652.5998449378783,\n",
       " 'UTA': 1626.4434841314753,\n",
       " 'WAS': 1491.7325313071099}"
      ]
     },
     "execution_count": 549,
     "metadata": {},
     "output_type": "execute_result"
    }
   ],
   "source": [
    "elo_testing"
   ]
  },
  {
   "cell_type": "code",
   "execution_count": 196,
   "metadata": {},
   "outputs": [],
   "source": [
    "from sklearn.linear_model import LinearRegression\n",
    "from sklearn.preprocessing import StandardScaler"
   ]
  },
  {
   "cell_type": "code",
   "execution_count": 551,
   "metadata": {},
   "outputs": [],
   "source": [
    "temp = db.score_pred_training_data.find()\n",
    "temp = list(temp)\n",
    "for i in temp:\n",
    "    i.pop('_id', None)\n",
    "df_train = pd.DataFrame(temp)"
   ]
  },
  {
   "cell_type": "code",
   "execution_count": 286,
   "metadata": {},
   "outputs": [
    {
     "data": {
      "text/plain": [
       "Index(['GameDate', 'OffRtg_h', 'DefRtg_h', 'NetRtg_h', 'AST%_h', 'AST/TO_h',\n",
       "       'ASTRatio_h', 'OREB%_h', 'DREB%_h', 'REB%_h', 'TOV%_h', 'eFG%_h',\n",
       "       'TS%_h', 'PACE_h', 'PIE_h', 'FTARate_h', 'PTS_h', 'ELO_h', 'HomeTeam',\n",
       "       'RoadTeam', 'OffRtg_r', 'DefRtg_r', 'NetRtg_r', 'AST%_r', 'AST/TO_r',\n",
       "       'ASTRatio_r', 'OREB%_r', 'DREB%_r', 'REB%_r', 'TOV%_r', 'eFG%_r',\n",
       "       'TS%_r', 'PACE_r', 'PIE_r', 'FTARate_r', 'PTS_r', 'ELO_r'],\n",
       "      dtype='object')"
      ]
     },
     "execution_count": 286,
     "metadata": {},
     "output_type": "execute_result"
    }
   ],
   "source": [
    "game_df.columns"
   ]
  },
  {
   "cell_type": "code",
   "execution_count": 552,
   "metadata": {},
   "outputs": [
    {
     "data": {
      "text/html": [
       "<div>\n",
       "<style scoped>\n",
       "    .dataframe tbody tr th:only-of-type {\n",
       "        vertical-align: middle;\n",
       "    }\n",
       "\n",
       "    .dataframe tbody tr th {\n",
       "        vertical-align: top;\n",
       "    }\n",
       "\n",
       "    .dataframe thead th {\n",
       "        text-align: right;\n",
       "    }\n",
       "</style>\n",
       "<table border=\"1\" class=\"dataframe\">\n",
       "  <thead>\n",
       "    <tr style=\"text-align: right;\">\n",
       "      <th></th>\n",
       "      <th>AST%_h</th>\n",
       "      <th>AST%_r</th>\n",
       "      <th>AST/TO_h</th>\n",
       "      <th>AST/TO_r</th>\n",
       "      <th>ASTRatio_h</th>\n",
       "      <th>ASTRatio_r</th>\n",
       "      <th>DREB%_h</th>\n",
       "      <th>DREB%_r</th>\n",
       "      <th>DefRtg_h</th>\n",
       "      <th>DefRtg_r</th>\n",
       "      <th>...</th>\n",
       "      <th>PTS_r</th>\n",
       "      <th>REB%_h</th>\n",
       "      <th>REB%_r</th>\n",
       "      <th>RoadTeam</th>\n",
       "      <th>TOV%_h</th>\n",
       "      <th>TOV%_r</th>\n",
       "      <th>TS%_h</th>\n",
       "      <th>TS%_r</th>\n",
       "      <th>eFG%_h</th>\n",
       "      <th>eFG%_r</th>\n",
       "    </tr>\n",
       "  </thead>\n",
       "  <tbody>\n",
       "    <tr>\n",
       "      <th>0</th>\n",
       "      <td>79.1</td>\n",
       "      <td>59.6</td>\n",
       "      <td>2.00</td>\n",
       "      <td>2.15</td>\n",
       "      <td>23.9</td>\n",
       "      <td>18.9</td>\n",
       "      <td>66.7</td>\n",
       "      <td>84.6</td>\n",
       "      <td>119.6</td>\n",
       "      <td>118.6</td>\n",
       "      <td>...</td>\n",
       "      <td>122</td>\n",
       "      <td>45.2</td>\n",
       "      <td>54.8</td>\n",
       "      <td>HOU</td>\n",
       "      <td>16.7</td>\n",
       "      <td>12.7</td>\n",
       "      <td>67.8</td>\n",
       "      <td>57.9</td>\n",
       "      <td>63.8</td>\n",
       "      <td>56.2</td>\n",
       "    </tr>\n",
       "    <tr>\n",
       "      <th>1</th>\n",
       "      <td>50.0</td>\n",
       "      <td>66.7</td>\n",
       "      <td>1.12</td>\n",
       "      <td>2.00</td>\n",
       "      <td>14.8</td>\n",
       "      <td>17.9</td>\n",
       "      <td>76.8</td>\n",
       "      <td>77.1</td>\n",
       "      <td>100.0</td>\n",
       "      <td>104.1</td>\n",
       "      <td>...</td>\n",
       "      <td>99</td>\n",
       "      <td>51.9</td>\n",
       "      <td>48.1</td>\n",
       "      <td>BOS</td>\n",
       "      <td>17.3</td>\n",
       "      <td>12.1</td>\n",
       "      <td>54.3</td>\n",
       "      <td>50.0</td>\n",
       "      <td>48.8</td>\n",
       "      <td>45.5</td>\n",
       "    </tr>\n",
       "    <tr>\n",
       "      <th>2</th>\n",
       "      <td>54.7</td>\n",
       "      <td>48.9</td>\n",
       "      <td>2.07</td>\n",
       "      <td>1.10</td>\n",
       "      <td>17.6</td>\n",
       "      <td>14.4</td>\n",
       "      <td>68.6</td>\n",
       "      <td>63.0</td>\n",
       "      <td>113.9</td>\n",
       "      <td>119.7</td>\n",
       "      <td>...</td>\n",
       "      <td>131</td>\n",
       "      <td>52.4</td>\n",
       "      <td>47.6</td>\n",
       "      <td>BKN</td>\n",
       "      <td>12.0</td>\n",
       "      <td>17.4</td>\n",
       "      <td>60.3</td>\n",
       "      <td>60.6</td>\n",
       "      <td>56.4</td>\n",
       "      <td>54.3</td>\n",
       "    </tr>\n",
       "    <tr>\n",
       "      <th>3</th>\n",
       "      <td>35.7</td>\n",
       "      <td>50.0</td>\n",
       "      <td>0.63</td>\n",
       "      <td>1.22</td>\n",
       "      <td>7.9</td>\n",
       "      <td>15.3</td>\n",
       "      <td>53.2</td>\n",
       "      <td>74.2</td>\n",
       "      <td>122.8</td>\n",
       "      <td>74.5</td>\n",
       "      <td>...</td>\n",
       "      <td>124</td>\n",
       "      <td>37.6</td>\n",
       "      <td>62.4</td>\n",
       "      <td>POR</td>\n",
       "      <td>15.7</td>\n",
       "      <td>17.8</td>\n",
       "      <td>39.2</td>\n",
       "      <td>60.6</td>\n",
       "      <td>35.4</td>\n",
       "      <td>56.7</td>\n",
       "    </tr>\n",
       "    <tr>\n",
       "      <th>4</th>\n",
       "      <td>58.5</td>\n",
       "      <td>55.2</td>\n",
       "      <td>2.67</td>\n",
       "      <td>0.94</td>\n",
       "      <td>18.0</td>\n",
       "      <td>13.2</td>\n",
       "      <td>84.8</td>\n",
       "      <td>80.4</td>\n",
       "      <td>90.9</td>\n",
       "      <td>103.0</td>\n",
       "      <td>...</td>\n",
       "      <td>90</td>\n",
       "      <td>49.0</td>\n",
       "      <td>51.0</td>\n",
       "      <td>CHA</td>\n",
       "      <td>9.1</td>\n",
       "      <td>17.2</td>\n",
       "      <td>50.4</td>\n",
       "      <td>52.5</td>\n",
       "      <td>47.4</td>\n",
       "      <td>45.9</td>\n",
       "    </tr>\n",
       "  </tbody>\n",
       "</table>\n",
       "<p>5 rows × 37 columns</p>\n",
       "</div>"
      ],
      "text/plain": [
       "   AST%_h  AST%_r  AST/TO_h  AST/TO_r  ASTRatio_h  ASTRatio_r  DREB%_h  \\\n",
       "0    79.1    59.6      2.00      2.15        23.9        18.9     66.7   \n",
       "1    50.0    66.7      1.12      2.00        14.8        17.9     76.8   \n",
       "2    54.7    48.9      2.07      1.10        17.6        14.4     68.6   \n",
       "3    35.7    50.0      0.63      1.22         7.9        15.3     53.2   \n",
       "4    58.5    55.2      2.67      0.94        18.0        13.2     84.8   \n",
       "\n",
       "   DREB%_r  DefRtg_h  DefRtg_r   ...    PTS_r  REB%_h  REB%_r  RoadTeam  \\\n",
       "0     84.6     119.6     118.6   ...      122    45.2    54.8       HOU   \n",
       "1     77.1     100.0     104.1   ...       99    51.9    48.1       BOS   \n",
       "2     63.0     113.9     119.7   ...      131    52.4    47.6       BKN   \n",
       "3     74.2     122.8      74.5   ...      124    37.6    62.4       POR   \n",
       "4     80.4      90.9     103.0   ...       90    49.0    51.0       CHA   \n",
       "\n",
       "  TOV%_h TOV%_r  TS%_h  TS%_r  eFG%_h  eFG%_r  \n",
       "0   16.7   12.7   67.8   57.9    63.8    56.2  \n",
       "1   17.3   12.1   54.3   50.0    48.8    45.5  \n",
       "2   12.0   17.4   60.3   60.6    56.4    54.3  \n",
       "3   15.7   17.8   39.2   60.6    35.4    56.7  \n",
       "4    9.1   17.2   50.4   52.5    47.4    45.9  \n",
       "\n",
       "[5 rows x 37 columns]"
      ]
     },
     "execution_count": 552,
     "metadata": {},
     "output_type": "execute_result"
    }
   ],
   "source": [
    "df_train.head()"
   ]
  },
  {
   "cell_type": "code",
   "execution_count": 770,
   "metadata": {},
   "outputs": [],
   "source": [
    "#X_train = game_df.loc[:,['OffRtg_h', 'DefRtg_h', 'REB%_h', 'TOV%_h', 'TS%_h', 'PACE_h', 'ELO_h',\n",
    "#                         'OffRtg_r', 'DefRtg_r', 'REB%_r', 'TOV%_r', 'TS%_r', 'PACE_r', 'ELO_r']]\n",
    "X_train = df_train.loc[:,['DefRtg_h', 'PIE_h', 'FTARate_h', 'REB%_h', 'TOV%_h', 'TS%_h', 'PACE_h', 'ELO_h',\n",
    "                          'DefRtg_r', 'PIE_r', 'FTARate_r', 'REB%_r', 'TOV%_r', 'TS%_r', 'PACE_r', 'ELO_r']]\n",
    "y_h = df_train['PTS_h']\n",
    "y_r = df_train['PTS_r']\n",
    "y_train = df_train[['PTS_h', 'PTS_r']]"
   ]
  },
  {
   "cell_type": "code",
   "execution_count": 698,
   "metadata": {},
   "outputs": [
    {
     "data": {
      "text/plain": [
       "(1230, 16)"
      ]
     },
     "execution_count": 698,
     "metadata": {},
     "output_type": "execute_result"
    }
   ],
   "source": [
    "X_train.shape"
   ]
  },
  {
   "cell_type": "code",
   "execution_count": 699,
   "metadata": {},
   "outputs": [],
   "source": [
    "X_scaler = StandardScaler().fit(X_train)\n",
    "X_train_scaled = X_scaler.transform(X_train)"
   ]
  },
  {
   "cell_type": "code",
   "execution_count": 701,
   "metadata": {},
   "outputs": [],
   "source": [
    "homeLinearModel = LinearRegression()\n",
    "roadLinearModel = LinearRegression()"
   ]
  },
  {
   "cell_type": "code",
   "execution_count": 671,
   "metadata": {},
   "outputs": [],
   "source": [
    "#linearModel = LinearRegression()"
   ]
  },
  {
   "cell_type": "code",
   "execution_count": 672,
   "metadata": {},
   "outputs": [
    {
     "data": {
      "text/plain": [
       "LinearRegression(copy_X=True, fit_intercept=True, n_jobs=1, normalize=False)"
      ]
     },
     "execution_count": 672,
     "metadata": {},
     "output_type": "execute_result"
    }
   ],
   "source": [
    "#linearModel.fit(X_train_scaled, y)"
   ]
  },
  {
   "cell_type": "code",
   "execution_count": 673,
   "metadata": {},
   "outputs": [
    {
     "data": {
      "text/plain": [
       "0.9421288632690912"
      ]
     },
     "execution_count": 673,
     "metadata": {},
     "output_type": "execute_result"
    }
   ],
   "source": [
    "#linearModel.score(X_train_scaled, y)"
   ]
  },
  {
   "cell_type": "code",
   "execution_count": 702,
   "metadata": {},
   "outputs": [
    {
     "data": {
      "text/plain": [
       "LinearRegression(copy_X=True, fit_intercept=True, n_jobs=1, normalize=False)"
      ]
     },
     "execution_count": 702,
     "metadata": {},
     "output_type": "execute_result"
    }
   ],
   "source": [
    "homeLinearModel.fit(X_train_scaled, y_h)\n",
    "roadLinearModel.fit(X_train_scaled, y_r)"
   ]
  },
  {
   "cell_type": "code",
   "execution_count": 703,
   "metadata": {},
   "outputs": [
    {
     "data": {
      "text/plain": [
       "0.9397954244572464"
      ]
     },
     "execution_count": 703,
     "metadata": {},
     "output_type": "execute_result"
    }
   ],
   "source": [
    "homeLinearModel.score(X_train_scaled, y_h)"
   ]
  },
  {
   "cell_type": "code",
   "execution_count": 704,
   "metadata": {},
   "outputs": [
    {
     "data": {
      "text/plain": [
       "0.9442859315186201"
      ]
     },
     "execution_count": 704,
     "metadata": {},
     "output_type": "execute_result"
    }
   ],
   "source": [
    "roadLinearModel.score(X_train_scaled, y_r)"
   ]
  },
  {
   "cell_type": "code",
   "execution_count": 705,
   "metadata": {},
   "outputs": [
    {
     "data": {
      "text/plain": [
       "array([  1.13179316,   3.7218134 ,  -0.0675043 , -17.346949  ,\n",
       "        -0.72022729,   1.08607602,   2.51939399,   0.12453364,\n",
       "         9.27389857,   4.02541127,   0.09482707, -18.04671709,\n",
       "         0.60067408,  -1.04075873,   2.51939399,  -0.0449362 ])"
      ]
     },
     "execution_count": 705,
     "metadata": {},
     "output_type": "execute_result"
    }
   ],
   "source": [
    "homeLinearModel.coef_"
   ]
  },
  {
   "cell_type": "code",
   "execution_count": 706,
   "metadata": {},
   "outputs": [
    {
     "data": {
      "text/plain": [
       "array([ 1.01926916e+01, -6.00555603e+01,  2.86892045e-02, -3.85333663e+01,\n",
       "        2.90727045e-01, -5.30290354e-01,  2.50098758e+00,  1.82418571e-02,\n",
       "        7.96343309e-01, -5.98717577e+01, -1.04515988e-02, -3.79356090e+01,\n",
       "       -3.68491660e-01,  4.62271315e-01,  2.50098758e+00,  2.15941605e-02])"
      ]
     },
     "execution_count": 706,
     "metadata": {},
     "output_type": "execute_result"
    }
   ],
   "source": [
    "roadLinearModel.coef_"
   ]
  },
  {
   "cell_type": "code",
   "execution_count": 655,
   "metadata": {},
   "outputs": [],
   "source": [
    "from sklearn.linear_model import BayesianRidge"
   ]
  },
  {
   "cell_type": "code",
   "execution_count": 771,
   "metadata": {},
   "outputs": [],
   "source": [
    "homeBay = BayesianRidge(verbose=1)\n",
    "roadBay = BayesianRidge(verbose=1)"
   ]
  },
  {
   "cell_type": "code",
   "execution_count": 772,
   "metadata": {},
   "outputs": [
    {
     "data": {
      "text/plain": [
       "(1230, 16)"
      ]
     },
     "execution_count": 772,
     "metadata": {},
     "output_type": "execute_result"
    }
   ],
   "source": [
    "X_train_scaled.shape"
   ]
  },
  {
   "cell_type": "code",
   "execution_count": 773,
   "metadata": {},
   "outputs": [
    {
     "name": "stdout",
     "output_type": "stream",
     "text": [
      "Convergence after  4  iterations\n",
      "Convergence after  4  iterations\n"
     ]
    },
    {
     "data": {
      "text/plain": [
       "BayesianRidge(alpha_1=1e-06, alpha_2=1e-06, compute_score=False, copy_X=True,\n",
       "       fit_intercept=True, lambda_1=1e-06, lambda_2=1e-06, n_iter=300,\n",
       "       normalize=False, tol=0.001, verbose=1)"
      ]
     },
     "execution_count": 773,
     "metadata": {},
     "output_type": "execute_result"
    }
   ],
   "source": [
    "homeBay.fit(X_train_scaled, y_h)\n",
    "roadBay.fit(X_train_scaled, y_r)"
   ]
  },
  {
   "cell_type": "code",
   "execution_count": 774,
   "metadata": {},
   "outputs": [
    {
     "data": {
      "text/plain": [
       "0.9397818510165548"
      ]
     },
     "execution_count": 774,
     "metadata": {},
     "output_type": "execute_result"
    }
   ],
   "source": [
    "homeBay.score(X_train_scaled, y_h)"
   ]
  },
  {
   "cell_type": "code",
   "execution_count": 775,
   "metadata": {},
   "outputs": [
    {
     "data": {
      "text/plain": [
       "0.9442227910412742"
      ]
     },
     "execution_count": 775,
     "metadata": {},
     "output_type": "execute_result"
    }
   ],
   "source": [
    "roadBay.score(X_train_scaled, y_r)"
   ]
  },
  {
   "cell_type": "code",
   "execution_count": 666,
   "metadata": {},
   "outputs": [],
   "source": [
    "from sklearn.linear_model import HuberRegressor"
   ]
  },
  {
   "cell_type": "code",
   "execution_count": 716,
   "metadata": {},
   "outputs": [],
   "source": [
    "huberModelHome = HuberRegressor()\n",
    "huberModelRoad = HuberRegressor()"
   ]
  },
  {
   "cell_type": "code",
   "execution_count": 717,
   "metadata": {},
   "outputs": [
    {
     "data": {
      "text/plain": [
       "HuberRegressor(alpha=0.0001, epsilon=1.35, fit_intercept=True, max_iter=100,\n",
       "        tol=1e-05, warm_start=False)"
      ]
     },
     "execution_count": 717,
     "metadata": {},
     "output_type": "execute_result"
    }
   ],
   "source": [
    "huberModelHome.fit(X_train_scaled, y_h)\n",
    "huberModelRoad.fit(X_train_scaled, y_r)"
   ]
  },
  {
   "cell_type": "code",
   "execution_count": 718,
   "metadata": {},
   "outputs": [
    {
     "data": {
      "text/plain": [
       "0.9372990759987583"
      ]
     },
     "execution_count": 718,
     "metadata": {},
     "output_type": "execute_result"
    }
   ],
   "source": [
    "huberModelHome.score(X_train_scaled, y_h)"
   ]
  },
  {
   "cell_type": "code",
   "execution_count": 719,
   "metadata": {},
   "outputs": [
    {
     "data": {
      "text/plain": [
       "0.9419763447686365"
      ]
     },
     "execution_count": 719,
     "metadata": {},
     "output_type": "execute_result"
    }
   ],
   "source": [
    "huberModelRoad.score(X_train_scaled, y_r)"
   ]
  },
  {
   "cell_type": "code",
   "execution_count": 721,
   "metadata": {},
   "outputs": [],
   "source": [
    "from sklearn import linear_model"
   ]
  },
  {
   "cell_type": "code",
   "execution_count": 723,
   "metadata": {},
   "outputs": [],
   "source": [
    "ardModelHome = linear_model.ARDRegression(verbose=1)\n",
    "ardModelRoad = linear_model.ARDRegression(verbose=1)"
   ]
  },
  {
   "cell_type": "code",
   "execution_count": 724,
   "metadata": {},
   "outputs": [
    {
     "name": "stdout",
     "output_type": "stream",
     "text": [
      "Converged after 134 iterations\n",
      "Converged after 88 iterations\n"
     ]
    },
    {
     "data": {
      "text/plain": [
       "ARDRegression(alpha_1=1e-06, alpha_2=1e-06, compute_score=False, copy_X=True,\n",
       "       fit_intercept=True, lambda_1=1e-06, lambda_2=1e-06, n_iter=300,\n",
       "       normalize=False, threshold_lambda=10000.0, tol=0.001, verbose=1)"
      ]
     },
     "execution_count": 724,
     "metadata": {},
     "output_type": "execute_result"
    }
   ],
   "source": [
    "ardModelHome.fit(X_train_scaled, y_h)\n",
    "ardModelRoad.fit(X_train_scaled, y_r)"
   ]
  },
  {
   "cell_type": "code",
   "execution_count": 725,
   "metadata": {},
   "outputs": [
    {
     "data": {
      "text/plain": [
       "0.9393773505357557"
      ]
     },
     "execution_count": 725,
     "metadata": {},
     "output_type": "execute_result"
    }
   ],
   "source": [
    "ardModelHome.score(X_train_scaled, y_h)"
   ]
  },
  {
   "cell_type": "code",
   "execution_count": 727,
   "metadata": {},
   "outputs": [
    {
     "data": {
      "text/plain": [
       "0.9437573431084013"
      ]
     },
     "execution_count": 727,
     "metadata": {},
     "output_type": "execute_result"
    }
   ],
   "source": [
    "ardModelRoad.score(X_train_scaled, y_r)"
   ]
  },
  {
   "cell_type": "code",
   "execution_count": 741,
   "metadata": {},
   "outputs": [],
   "source": [
    "sgdModelHome = linear_model.SGDRegressor(loss='huber', penalty='l2', learning_rate='optimal', max_iter=1000, tol=1e-3, verbose=1)\n",
    "sgdModelRoad = linear_model.SGDRegressor(loss='huber', penalty='l2', learning_rate='optimal', max_iter=1000, tol=1e-3, verbose=1)"
   ]
  },
  {
   "cell_type": "code",
   "execution_count": 742,
   "metadata": {},
   "outputs": [
    {
     "name": "stdout",
     "output_type": "stream",
     "text": [
      "-- Epoch 1\n",
      "Norm: 10.24, NNZs: 16, Bias: 107.223674, T: 1230, Avg. loss: 1.090794\n",
      "Total training time: 0.00 seconds.\n",
      "-- Epoch 2\n",
      "Norm: 10.92, NNZs: 16, Bias: 106.967056, T: 2460, Avg. loss: 0.365368\n",
      "Total training time: 0.00 seconds.\n",
      "-- Epoch 3\n",
      "Norm: 10.33, NNZs: 16, Bias: 107.180230, T: 3690, Avg. loss: 0.270865\n",
      "Total training time: 0.00 seconds.\n",
      "-- Epoch 4\n",
      "Norm: 10.40, NNZs: 16, Bias: 106.307606, T: 4920, Avg. loss: 0.225812\n",
      "Total training time: 0.00 seconds.\n",
      "-- Epoch 5\n",
      "Norm: 10.48, NNZs: 16, Bias: 107.383441, T: 6150, Avg. loss: 0.196967\n",
      "Total training time: 0.00 seconds.\n",
      "-- Epoch 6\n",
      "Norm: 10.73, NNZs: 16, Bias: 106.941008, T: 7380, Avg. loss: 0.182177\n",
      "Total training time: 0.00 seconds.\n",
      "-- Epoch 7\n",
      "Norm: 10.05, NNZs: 16, Bias: 106.746959, T: 8610, Avg. loss: 0.169150\n",
      "Total training time: 0.00 seconds.\n",
      "-- Epoch 8\n",
      "Norm: 10.16, NNZs: 16, Bias: 106.642009, T: 9840, Avg. loss: 0.155999\n",
      "Total training time: 0.00 seconds.\n",
      "-- Epoch 9\n",
      "Norm: 10.13, NNZs: 16, Bias: 107.235812, T: 11070, Avg. loss: 0.153610\n",
      "Total training time: 0.00 seconds.\n",
      "-- Epoch 10\n",
      "Norm: 10.13, NNZs: 16, Bias: 107.208090, T: 12300, Avg. loss: 0.145024\n",
      "Total training time: 0.00 seconds.\n",
      "-- Epoch 11\n",
      "Norm: 10.20, NNZs: 16, Bias: 106.765872, T: 13530, Avg. loss: 0.141725\n",
      "Total training time: 0.00 seconds.\n",
      "-- Epoch 12\n",
      "Norm: 10.38, NNZs: 16, Bias: 106.917101, T: 14760, Avg. loss: 0.135824\n",
      "Total training time: 0.00 seconds.\n",
      "-- Epoch 13\n",
      "Norm: 10.16, NNZs: 16, Bias: 106.862905, T: 15990, Avg. loss: 0.135160\n",
      "Total training time: 0.00 seconds.\n",
      "Convergence after 13 epochs took 0.00 seconds\n",
      "-- Epoch 1\n",
      "Norm: 11.54, NNZs: 16, Bias: 107.545599, T: 1230, Avg. loss: 1.065643\n",
      "Total training time: 0.00 seconds.\n",
      "-- Epoch 2\n",
      "Norm: 9.25, NNZs: 16, Bias: 105.884245, T: 2460, Avg. loss: 0.366556\n",
      "Total training time: 0.00 seconds.\n",
      "-- Epoch 3\n",
      "Norm: 10.68, NNZs: 16, Bias: 104.858917, T: 3690, Avg. loss: 0.271452\n",
      "Total training time: 0.00 seconds.\n",
      "-- Epoch 4\n",
      "Norm: 9.98, NNZs: 16, Bias: 104.439487, T: 4920, Avg. loss: 0.225509\n",
      "Total training time: 0.00 seconds.\n",
      "-- Epoch 5\n",
      "Norm: 11.89, NNZs: 16, Bias: 105.050253, T: 6150, Avg. loss: 0.200688\n",
      "Total training time: 0.00 seconds.\n",
      "-- Epoch 6\n",
      "Norm: 10.60, NNZs: 16, Bias: 104.778259, T: 7380, Avg. loss: 0.183300\n",
      "Total training time: 0.00 seconds.\n",
      "-- Epoch 7\n",
      "Norm: 11.34, NNZs: 16, Bias: 104.639420, T: 8610, Avg. loss: 0.167367\n",
      "Total training time: 0.00 seconds.\n",
      "-- Epoch 8\n",
      "Norm: 10.53, NNZs: 16, Bias: 104.641454, T: 9840, Avg. loss: 0.160135\n",
      "Total training time: 0.00 seconds.\n",
      "-- Epoch 9\n",
      "Norm: 10.92, NNZs: 16, Bias: 104.780179, T: 11070, Avg. loss: 0.150077\n",
      "Total training time: 0.00 seconds.\n",
      "-- Epoch 10\n",
      "Norm: 10.52, NNZs: 16, Bias: 104.402380, T: 12300, Avg. loss: 0.144810\n",
      "Total training time: 0.00 seconds.\n",
      "-- Epoch 11\n",
      "Norm: 10.80, NNZs: 16, Bias: 104.903646, T: 13530, Avg. loss: 0.137721\n",
      "Total training time: 0.00 seconds.\n",
      "-- Epoch 12\n",
      "Norm: 10.79, NNZs: 16, Bias: 104.534085, T: 14760, Avg. loss: 0.138807\n",
      "Total training time: 0.00 seconds.\n",
      "Convergence after 12 epochs took 0.00 seconds\n"
     ]
    },
    {
     "data": {
      "text/plain": [
       "SGDRegressor(alpha=0.0001, average=False, epsilon=0.1, eta0=0.01,\n",
       "       fit_intercept=True, l1_ratio=0.15, learning_rate='optimal',\n",
       "       loss='huber', max_iter=1000, n_iter=None, penalty='l2',\n",
       "       power_t=0.25, random_state=None, shuffle=True, tol=0.001, verbose=1,\n",
       "       warm_start=False)"
      ]
     },
     "execution_count": 742,
     "metadata": {},
     "output_type": "execute_result"
    }
   ],
   "source": [
    "sgdModelHome.fit(X_train_scaled, y_h)\n",
    "sgdModelRoad.fit(X_train_scaled, y_r)"
   ]
  },
  {
   "cell_type": "code",
   "execution_count": 743,
   "metadata": {},
   "outputs": [
    {
     "data": {
      "text/plain": [
       "0.932652728593592"
      ]
     },
     "execution_count": 743,
     "metadata": {},
     "output_type": "execute_result"
    }
   ],
   "source": [
    "sgdModelHome.score(X_train_scaled, y_h)"
   ]
  },
  {
   "cell_type": "code",
   "execution_count": 744,
   "metadata": {},
   "outputs": [
    {
     "data": {
      "text/plain": [
       "array([ 1.17295361e+00,  1.64260881e-02,  1.17996462e-01,  4.40635868e-01,\n",
       "       -4.53947460e-01,  1.02136905e+00,  2.81161861e+00, -1.86745246e-03,\n",
       "        9.15880052e+00, -1.74148400e-02,  3.54961448e-02, -4.17117410e-01,\n",
       "        5.21660109e-01, -4.93741248e-01,  2.81161861e+00, -7.30534031e-02])"
      ]
     },
     "execution_count": 744,
     "metadata": {},
     "output_type": "execute_result"
    }
   ],
   "source": [
    "sgdModelHome.coef_"
   ]
  },
  {
   "cell_type": "code",
   "execution_count": 745,
   "metadata": {},
   "outputs": [
    {
     "data": {
      "text/plain": [
       "0.9357847706960304"
      ]
     },
     "execution_count": 745,
     "metadata": {},
     "output_type": "execute_result"
    }
   ],
   "source": [
    "sgdModelRoad.score(X_train_scaled, y_r)"
   ]
  },
  {
   "cell_type": "code",
   "execution_count": 746,
   "metadata": {},
   "outputs": [
    {
     "data": {
      "text/plain": [
       "array([ 9.88959082, -0.02127256,  0.1346479 , -0.44495899,  0.45436438,\n",
       "       -0.49888495,  2.77767409,  0.0617991 ,  0.99408952,  0.02728823,\n",
       "       -0.49575934,  0.41908346, -0.33108971,  1.00820198,  2.77767409,\n",
       "       -0.07153348])"
      ]
     },
     "execution_count": 746,
     "metadata": {},
     "output_type": "execute_result"
    }
   ],
   "source": [
    "sgdModelRoad.coef_"
   ]
  },
  {
   "cell_type": "markdown",
   "metadata": {},
   "source": [
    "# Create Testing Data"
   ]
  },
  {
   "cell_type": "code",
   "execution_count": 574,
   "metadata": {},
   "outputs": [],
   "source": [
    "# Url to get all boxscores for 2017-2018 regular season games\n",
    "nba_18_19_trad_boxscores_url = \"https://stats.nba.com/teams/boxscores-traditional/\"\n",
    "nba_18_19_boxscores_url = \"https://stats.nba.com/teams/boxscores-advanced/\"\n",
    "nba_18_19_fourfactor_url = \"https://stats.nba.com/teams/boxscores-four-factors/\""
   ]
  },
  {
   "cell_type": "code",
   "execution_count": 575,
   "metadata": {},
   "outputs": [],
   "source": [
    "# visit website\n",
    "browser.visit(nba_18_19_boxscores_url)\n",
    "time.sleep(10)\n",
    "# get click path by xpath from browser inspector\n",
    "sel_all_path = browser.find_by_xpath(\"/html/body/main/div[2]/div/div[2]/div/div/nba-stat-table/div[1]/div/div/select/option[1]\")\n",
    "# select to display all games\n",
    "sel_all_path.click()\n",
    "time.sleep(5)\n",
    "# parse html in soup\n",
    "html = browser.html\n",
    "# Parse with soup\n",
    "soup = bs(html, 'html.parser')\n",
    "# Find all tables\n",
    "table = soup.find_all('table')[0] \n",
    "df = pd.read_html(str(table))\n",
    "# drop season column since unneeded\n",
    "df_adv = df[0].drop(columns=['Season'])\n",
    "# Rename column names\n",
    "df_adv.rename(columns={\"Game\\xa0Date\": \"GameDate\", \"Match\\xa0Up\": \"MatchUp\"}, inplace=True)\n",
    "# change gamedate to datetime\n",
    "df_adv['GameDate'] = df_adv['GameDate'].apply(lambda x: dt.datetime.strptime(x, \"%m/%d/%Y\"))\n",
    "df_adv = df_adv.drop(['MIN'], axis=1)"
   ]
  },
  {
   "cell_type": "code",
   "execution_count": 576,
   "metadata": {},
   "outputs": [],
   "source": [
    "# visit website\n",
    "browser.visit(nba_18_19_fourfactor_url)\n",
    "time.sleep(10)\n",
    "# get click path by xpath from browser inspector\n",
    "sel_all_path = browser.find_by_xpath(\"/html/body/main/div[2]/div/div[2]/div/div/nba-stat-table/div[1]/div/div/select/option[1]\")\n",
    "# select to display all games\n",
    "sel_all_path.click()\n",
    "time.sleep(5)\n",
    "# parse html in soup\n",
    "html = browser.html\n",
    "# Parse with soup\n",
    "soup = bs(html, 'html.parser')\n",
    "# Find all tables\n",
    "table = soup.find_all('table')[0] \n",
    "df = pd.read_html(str(table))\n",
    "# drop season column since unneeded\n",
    "df = df[0].drop(columns=['Season'])\n",
    "# Rename columns\n",
    "df.rename(columns={\"Game\\xa0Date\": \"GameDate\", \"Match\\xa0Up\": \"MatchUp\", \"OppFTA\\xa0Rate\": \"OppFTARate\"}, inplace=True)\n",
    "# Convert to float percent values\n",
    "df['OREB%'] = df['OREB%'].str.rstrip('%').astype('float')\n",
    "df['OppOREB%'] = df['OppOREB%'].str.rstrip('%').astype('float')\n",
    "df['OppeFG%'] = df['OppeFG%'].str.rstrip('%').astype('float')\n",
    "df['eFG%'] = df['eFG%'].str.rstrip('%').astype('float')\n",
    "# change gamedate to datetime\n",
    "df['GameDate'] = df['GameDate'].apply(lambda x: dt.datetime.strptime(x, \"%m/%d/%Y\"))\n",
    "df_ff = df.drop(['MIN', 'MatchUp', 'W/L', 'eFG%', 'OREB%', 'TOV%', 'OppeFG%', 'OppFTARate', 'OppTOV%', 'OppOREB%'], axis=1)"
   ]
  },
  {
   "cell_type": "code",
   "execution_count": 577,
   "metadata": {},
   "outputs": [],
   "source": [
    "# visit website\n",
    "browser.visit(nba_18_19_trad_boxscores_url)\n",
    "time.sleep(10)\n",
    "# get click path by xpath from browser inspector\n",
    "sel_all_path = browser.find_by_xpath(\"/html/body/main/div[2]/div/div[2]/div/div/nba-stat-table/div[1]/div/div/select/option[1]\")\n",
    "# select to display all games\n",
    "sel_all_path.click()\n",
    "time.sleep(5)\n",
    "# parse html in soup\n",
    "html = browser.html\n",
    "# Parse with soup\n",
    "soup = bs(html, 'html.parser')\n",
    "# Find all tables\n",
    "table = soup.find_all('table')[0] \n",
    "df = pd.read_html(str(table))\n",
    "# drop season column since unneeded\n",
    "df = df[0].drop(columns=['Season'])\n",
    "# Rename columns\n",
    "df.rename(columns={\"Game\\xa0Date\": \"GameDate\", \"Match\\xa0Up\": \"MatchUp\"}, inplace=True)\n",
    "# change gamedate to datetime\n",
    "df['GameDate'] = df['GameDate'].apply(lambda x: dt.datetime.strptime(x, \"%m/%d/%Y\"))\n",
    "df_trad = df.drop(['MIN', 'MatchUp', 'W/L', 'FGM', 'FGA', 'FG%', '3PM', '3PA', '3P%',\n",
    "       'FTM', 'FTA', 'FT%', 'OREB', 'DREB', 'REB', 'AST', 'TOV', 'STL', 'BLK',\n",
    "       'PF', '+/-'], axis=1)"
   ]
  },
  {
   "cell_type": "code",
   "execution_count": 578,
   "metadata": {},
   "outputs": [],
   "source": [
    "result_test = pd.merge(df_adv, df_ff, on=['Team', 'GameDate'])\n",
    "result_test_final = pd.merge(result_test, df_trad, on=['Team', 'GameDate'])"
   ]
  },
  {
   "cell_type": "code",
   "execution_count": 579,
   "metadata": {},
   "outputs": [],
   "source": [
    "result_test_sorted = result_test_final.sort_values(['GameDate'], ascending = 1).reset_index(drop=True)"
   ]
  },
  {
   "cell_type": "code",
   "execution_count": 580,
   "metadata": {},
   "outputs": [],
   "source": [
    "game_dates = result_test_sorted['GameDate'].unique()\n",
    "game_dates = [game_day for game_day in game_dates]"
   ]
  },
  {
   "cell_type": "code",
   "execution_count": 581,
   "metadata": {},
   "outputs": [],
   "source": [
    "temp_df = result_test_sorted.copy()"
   ]
  },
  {
   "cell_type": "code",
   "execution_count": 582,
   "metadata": {},
   "outputs": [],
   "source": [
    "temp = db.nba_team_elo_testing.find()\n",
    "temp = list(temp)\n",
    "for i in temp:\n",
    "    i.pop('_id', None)\n",
    "elo_testing = temp[0]"
   ]
  },
  {
   "cell_type": "code",
   "execution_count": 583,
   "metadata": {},
   "outputs": [],
   "source": [
    "date_index=0\n",
    "newElo = {}\n",
    "eloScores = []\n",
    "homeTeam = []\n",
    "roadTeam = []\n",
    "for row in temp_df.itertuples():\n",
    "    if(game_dates[date_index] != np.datetime64(row.GameDate)):\n",
    "        #print(\"Update ELO\")\n",
    "        for key in newElo:\n",
    "            elo_testing[key] = newElo[key]\n",
    "        newElo = {}\n",
    "        date_index += 1\n",
    "    temp = row.MatchUp.split(' ')\n",
    "    team1 = temp[0]\n",
    "    team2 = temp[2]\n",
    "    if temp[1] == 'vs.':\n",
    "        if row._4 == 'W':\n",
    "            outcome = True\n",
    "        else:\n",
    "            outcome = False\n",
    "        eloUpdate, dummy = EloRating(elo_testing[team1], elo_testing[team2], 20, outcome)\n",
    "        homeTeam.append(team1)\n",
    "        roadTeam.append(team2)\n",
    "    else:\n",
    "        # Opposite since road team\n",
    "        if row._4 == 'W':\n",
    "            outcome = False\n",
    "        else:\n",
    "            outcome = True\n",
    "        dummy, eloUpdate = EloRating(elo_testing[team2], elo_testing[team1], 20, outcome)\n",
    "        roadTeam.append(team1)\n",
    "        homeTeam.append(team2)\n",
    "        \n",
    "    newElo[row.Team] = eloUpdate\n",
    "    eloScores.append(eloUpdate)\n",
    "# Update for last date\n",
    "for key in newElo:\n",
    "    elo_testing[key] = newElo[key]\n",
    "# Should update ELO Testing DB"
   ]
  },
  {
   "cell_type": "code",
   "execution_count": 584,
   "metadata": {},
   "outputs": [
    {
     "data": {
      "text/plain": [
       "<pymongo.results.InsertOneResult at 0x29e18a6ecc8>"
      ]
     },
     "execution_count": 584,
     "metadata": {},
     "output_type": "execute_result"
    }
   ],
   "source": [
    "db.nba_team_current_elo.drop()\n",
    "db.nba_team_current_elo.insert_one(elo_testing)"
   ]
  },
  {
   "cell_type": "code",
   "execution_count": 585,
   "metadata": {},
   "outputs": [],
   "source": [
    "temp_df['ELO'] = eloScores\n",
    "temp_df['HomeTeam'] = homeTeam\n",
    "temp_df['RoadTeam'] = roadTeam"
   ]
  },
  {
   "cell_type": "code",
   "execution_count": 586,
   "metadata": {},
   "outputs": [],
   "source": [
    "home_df = temp_df[temp_df['Team'] == temp_df['HomeTeam']]\n",
    "road_df = temp_df[temp_df['Team'] == temp_df['RoadTeam']]"
   ]
  },
  {
   "cell_type": "code",
   "execution_count": 587,
   "metadata": {},
   "outputs": [],
   "source": [
    "game_df = pd.merge(home_df, road_df, how='inner', on=['HomeTeam', 'RoadTeam', 'GameDate'], suffixes=('_h', '_r'), validate=\"one_to_one\")"
   ]
  },
  {
   "cell_type": "code",
   "execution_count": 588,
   "metadata": {},
   "outputs": [
    {
     "data": {
      "text/plain": [
       "Index(['Team_h', 'MatchUp_h', 'GameDate', 'W/L_h', 'OffRtg_h', 'DefRtg_h',\n",
       "       'NetRtg_h', 'AST%_h', 'AST/TO_h', 'ASTRatio_h', 'OREB%_h', 'DREB%_h',\n",
       "       'REB%_h', 'TOV%_h', 'eFG%_h', 'TS%_h', 'PACE_h', 'PIE_h', 'FTARate_h',\n",
       "       'PTS_h', 'ELO_h', 'HomeTeam', 'RoadTeam', 'Team_r', 'MatchUp_r',\n",
       "       'W/L_r', 'OffRtg_r', 'DefRtg_r', 'NetRtg_r', 'AST%_r', 'AST/TO_r',\n",
       "       'ASTRatio_r', 'OREB%_r', 'DREB%_r', 'REB%_r', 'TOV%_r', 'eFG%_r',\n",
       "       'TS%_r', 'PACE_r', 'PIE_r', 'FTARate_r', 'PTS_r', 'ELO_r'],\n",
       "      dtype='object')"
      ]
     },
     "execution_count": 588,
     "metadata": {},
     "output_type": "execute_result"
    }
   ],
   "source": [
    "game_df.columns"
   ]
  },
  {
   "cell_type": "code",
   "execution_count": 589,
   "metadata": {},
   "outputs": [],
   "source": [
    "game_df = game_df.drop(['Team_h', 'Team_r', 'MatchUp_h', 'MatchUp_r', 'W/L_h', 'W/L_r'], axis=1)"
   ]
  },
  {
   "cell_type": "code",
   "execution_count": 590,
   "metadata": {},
   "outputs": [],
   "source": [
    "db.score_pred_testing_data.drop()"
   ]
  },
  {
   "cell_type": "code",
   "execution_count": 591,
   "metadata": {},
   "outputs": [],
   "source": [
    "# export to json\n",
    "items = game_df.to_json(orient='records', date_format='iso')\n",
    "# load json string to json\n",
    "items_db = json.loads(items)"
   ]
  },
  {
   "cell_type": "code",
   "execution_count": 592,
   "metadata": {},
   "outputs": [
    {
     "data": {
      "text/plain": [
       "<pymongo.results.InsertManyResult at 0x29e254395c8>"
      ]
     },
     "execution_count": 592,
     "metadata": {},
     "output_type": "execute_result"
    }
   ],
   "source": [
    "db.score_pred_testing_data.insert_many(items_db)"
   ]
  },
  {
   "cell_type": "code",
   "execution_count": 747,
   "metadata": {},
   "outputs": [],
   "source": [
    "X_test = game_df.loc[:,['DefRtg_h', 'PIE_h', 'FTARate_h', 'REB%_h', 'TOV%_h', 'TS%_h', 'PACE_h', 'ELO_h',\n",
    "                        'DefRtg_r', 'PIE_r', 'FTARate_r', 'REB%_r', 'TOV%_r', 'TS%_r', 'PACE_r', 'ELO_r']]\n",
    "y_h = game_df['PTS_h']\n",
    "y_r = game_df['PTS_r']\n",
    "y_test = game_df[['PTS_h', 'PTS_r']]"
   ]
  },
  {
   "cell_type": "code",
   "execution_count": 748,
   "metadata": {},
   "outputs": [
    {
     "data": {
      "text/plain": [
       "(822, 16)"
      ]
     },
     "execution_count": 748,
     "metadata": {},
     "output_type": "execute_result"
    }
   ],
   "source": [
    "X_test.shape"
   ]
  },
  {
   "cell_type": "code",
   "execution_count": 749,
   "metadata": {},
   "outputs": [],
   "source": [
    "X_test_scaled = X_scaler.transform(X_test)"
   ]
  },
  {
   "cell_type": "code",
   "execution_count": 750,
   "metadata": {},
   "outputs": [
    {
     "data": {
      "text/plain": [
       "0.93190068280913"
      ]
     },
     "execution_count": 750,
     "metadata": {},
     "output_type": "execute_result"
    }
   ],
   "source": [
    "homeLinearModel.score(X_test_scaled, y_h)"
   ]
  },
  {
   "cell_type": "code",
   "execution_count": 752,
   "metadata": {},
   "outputs": [
    {
     "data": {
      "text/plain": [
       "0.9285662208206512"
      ]
     },
     "execution_count": 752,
     "metadata": {},
     "output_type": "execute_result"
    }
   ],
   "source": [
    "roadLinearModel.score(X_test_scaled, y_r)"
   ]
  },
  {
   "cell_type": "code",
   "execution_count": 756,
   "metadata": {},
   "outputs": [
    {
     "data": {
      "text/plain": [
       "0.9283792013835059"
      ]
     },
     "execution_count": 756,
     "metadata": {},
     "output_type": "execute_result"
    }
   ],
   "source": [
    "huberModelHome.score(X_test_scaled, y_h)"
   ]
  },
  {
   "cell_type": "code",
   "execution_count": 757,
   "metadata": {},
   "outputs": [
    {
     "data": {
      "text/plain": [
       "0.9259077650087483"
      ]
     },
     "execution_count": 757,
     "metadata": {},
     "output_type": "execute_result"
    }
   ],
   "source": [
    "huberModelRoad.score(X_test_scaled, y_r)"
   ]
  },
  {
   "cell_type": "code",
   "execution_count": 758,
   "metadata": {},
   "outputs": [
    {
     "data": {
      "text/plain": [
       "0.9317701564183263"
      ]
     },
     "execution_count": 758,
     "metadata": {},
     "output_type": "execute_result"
    }
   ],
   "source": [
    "ardModelHome.score(X_test_scaled, y_h)"
   ]
  },
  {
   "cell_type": "code",
   "execution_count": 760,
   "metadata": {},
   "outputs": [
    {
     "data": {
      "text/plain": [
       "0.9275723253169956"
      ]
     },
     "execution_count": 760,
     "metadata": {},
     "output_type": "execute_result"
    }
   ],
   "source": [
    "ardModelRoad.score(X_test_scaled, y_r)"
   ]
  },
  {
   "cell_type": "code",
   "execution_count": 761,
   "metadata": {},
   "outputs": [
    {
     "data": {
      "text/plain": [
       "0.9275544090945826"
      ]
     },
     "execution_count": 761,
     "metadata": {},
     "output_type": "execute_result"
    }
   ],
   "source": [
    "sgdModelHome.score(X_test_scaled, y_h)"
   ]
  },
  {
   "cell_type": "code",
   "execution_count": 762,
   "metadata": {},
   "outputs": [
    {
     "data": {
      "text/plain": [
       "0.9202836850863351"
      ]
     },
     "execution_count": 762,
     "metadata": {},
     "output_type": "execute_result"
    }
   ],
   "source": [
    "sgdModelRoad.score(X_test_scaled, y_r)"
   ]
  },
  {
   "cell_type": "code",
   "execution_count": null,
   "metadata": {},
   "outputs": [],
   "source": []
  },
  {
   "cell_type": "code",
   "execution_count": 676,
   "metadata": {},
   "outputs": [],
   "source": [
    "pred_hr = linearModel.predict(X_test_scaled)"
   ]
  },
  {
   "cell_type": "code",
   "execution_count": 677,
   "metadata": {},
   "outputs": [
    {
     "data": {
      "text/plain": [
       "array([108.98532523, 100.67058843])"
      ]
     },
     "execution_count": 677,
     "metadata": {},
     "output_type": "execute_result"
    }
   ],
   "source": [
    "pred_hr[0]"
   ]
  },
  {
   "cell_type": "code",
   "execution_count": 598,
   "metadata": {},
   "outputs": [],
   "source": [
    "predictions_h = homeScorePredictor.predict(X_test_scaled)"
   ]
  },
  {
   "cell_type": "code",
   "execution_count": 599,
   "metadata": {},
   "outputs": [
    {
     "data": {
      "text/plain": [
       "102.24064642117432"
      ]
     },
     "execution_count": 599,
     "metadata": {},
     "output_type": "execute_result"
    }
   ],
   "source": [
    "predictions[0]"
   ]
  },
  {
   "cell_type": "code",
   "execution_count": 600,
   "metadata": {},
   "outputs": [
    {
     "data": {
      "text/plain": [
       "92"
      ]
     },
     "execution_count": 600,
     "metadata": {},
     "output_type": "execute_result"
    }
   ],
   "source": [
    "y_h[797]"
   ]
  },
  {
   "cell_type": "code",
   "execution_count": 601,
   "metadata": {},
   "outputs": [],
   "source": [
    "predictions_r = roadScorePredictor.predict(X_test_scaled)"
   ]
  },
  {
   "cell_type": "code",
   "execution_count": 602,
   "metadata": {},
   "outputs": [
    {
     "data": {
      "text/plain": [
       "92.22668598606127"
      ]
     },
     "execution_count": 602,
     "metadata": {},
     "output_type": "execute_result"
    }
   ],
   "source": [
    "predictions_h[797]"
   ]
  },
  {
   "cell_type": "code",
   "execution_count": 603,
   "metadata": {},
   "outputs": [
    {
     "data": {
      "text/plain": [
       "105.79102719566401"
      ]
     },
     "execution_count": 603,
     "metadata": {},
     "output_type": "execute_result"
    }
   ],
   "source": [
    "predictions_r[797]"
   ]
  },
  {
   "cell_type": "code",
   "execution_count": 604,
   "metadata": {},
   "outputs": [
    {
     "data": {
      "text/plain": [
       "105"
      ]
     },
     "execution_count": 604,
     "metadata": {},
     "output_type": "execute_result"
    }
   ],
   "source": [
    "y_r[797]"
   ]
  },
  {
   "cell_type": "code",
   "execution_count": 344,
   "metadata": {},
   "outputs": [],
   "source": [
    "#lakers_df = game_df[np.logical_or(game_df['HomeTeam'] == 'LAL', game_df['RoadTeam'] == 'LAL')]"
   ]
  },
  {
   "cell_type": "code",
   "execution_count": 605,
   "metadata": {},
   "outputs": [],
   "source": [
    "lakers_df = game_df[game_df['RoadTeam'] == 'LAL']"
   ]
  },
  {
   "cell_type": "code",
   "execution_count": 606,
   "metadata": {},
   "outputs": [],
   "source": [
    "indiana_df = game_df[game_df['HomeTeam'] == 'IND']"
   ]
  },
  {
   "cell_type": "code",
   "execution_count": 607,
   "metadata": {},
   "outputs": [],
   "source": [
    "#result_test_sorted = result_test_final.sort_values(['GameDate'], ascending = 1).reset_index(drop=True)\n",
    "lakers_df = lakers_df.sort_values(['GameDate'], ascending=0).reset_index(drop=True)\n",
    "indiana_df = indiana_df.sort_values(['GameDate'], ascending=0).reset_index(drop=True)"
   ]
  },
  {
   "cell_type": "code",
   "execution_count": 611,
   "metadata": {},
   "outputs": [],
   "source": [
    "laker_mean = lakers_df[2:7].mean()"
   ]
  },
  {
   "cell_type": "code",
   "execution_count": 612,
   "metadata": {},
   "outputs": [
    {
     "data": {
      "text/plain": [
       "4.6000000000000005"
      ]
     },
     "execution_count": 612,
     "metadata": {},
     "output_type": "execute_result"
    }
   ],
   "source": [
    "laker_mean.iloc[2]"
   ]
  },
  {
   "cell_type": "code",
   "execution_count": 613,
   "metadata": {},
   "outputs": [],
   "source": [
    "indiana_mean = indiana_df[2:7].mean()"
   ]
  },
  {
   "cell_type": "code",
   "execution_count": 614,
   "metadata": {},
   "outputs": [
    {
     "data": {
      "text/plain": [
       "111.88000000000002"
      ]
     },
     "execution_count": 614,
     "metadata": {},
     "output_type": "execute_result"
    }
   ],
   "source": [
    "laker_mean['OffRtg_h']"
   ]
  },
  {
   "cell_type": "code",
   "execution_count": 615,
   "metadata": {},
   "outputs": [
    {
     "data": {
      "text/plain": [
       "0      109.360000\n",
       "1       48.700000\n",
       "2        0.180800\n",
       "3       48.380000\n",
       "4       10.920000\n",
       "5       53.240000\n",
       "6       98.500000\n",
       "7     1603.494912\n",
       "8      107.300000\n",
       "9       48.980000\n",
       "10       0.263000\n",
       "11      53.460000\n",
       "12      15.240000\n",
       "13      54.600000\n",
       "14     103.394000\n",
       "15    1483.664565\n",
       "dtype: float64"
      ]
     },
     "execution_count": 615,
     "metadata": {},
     "output_type": "execute_result"
    }
   ],
   "source": [
    "my_test = pd.Series(data = [indiana_mean['OffRtg_h'], indiana_mean['PIE_h'], indiana_mean['FTARate_h'], indiana_mean['REB%_h'], indiana_mean['TOV%_h'], indiana_mean['TS%_h'], indiana_mean['PACE_h'], indiana_mean['ELO_h'],\n",
    "                            laker_mean['OffRtg_r'], laker_mean['PIE_r'], laker_mean['FTARate_r'], laker_mean['REB%_r'], laker_mean['TOV%_r'], laker_mean['TS%_r'], laker_mean['PACE_r'], laker_mean['ELO_r']\n",
    "                           ])\n",
    "my_test"
   ]
  },
  {
   "cell_type": "code",
   "execution_count": 417,
   "metadata": {},
   "outputs": [
    {
     "data": {
      "text/plain": [
       "0       48.700000\n",
       "1        0.180800\n",
       "2       48.380000\n",
       "3       10.920000\n",
       "4       53.240000\n",
       "5       98.500000\n",
       "6     1603.494912\n",
       "7       48.980000\n",
       "8        0.263000\n",
       "9       53.460000\n",
       "10      15.240000\n",
       "11      54.600000\n",
       "12     103.394000\n",
       "13    1483.664565\n",
       "dtype: float64"
      ]
     },
     "execution_count": 417,
     "metadata": {},
     "output_type": "execute_result"
    }
   ],
   "source": [
    "my_test = pd.Series(data = [indiana_mean['PIE_h'], indiana_mean['FTARate_h'], indiana_mean['REB%_h'], indiana_mean['TOV%_h'], indiana_mean['TS%_h'], indiana_mean['PACE_h'], indiana_mean['ELO_h'],\n",
    "                            laker_mean['PIE_r'], laker_mean['FTARate_r'], laker_mean['REB%_r'], laker_mean['TOV%_r'], laker_mean['TS%_r'], laker_mean['PACE_r'], laker_mean['ELO_r']\n",
    "                           ])\n",
    "my_test"
   ]
  },
  {
   "cell_type": "code",
   "execution_count": 617,
   "metadata": {},
   "outputs": [],
   "source": [
    "my_test = my_test.values.reshape(1,16)"
   ]
  },
  {
   "cell_type": "code",
   "execution_count": 618,
   "metadata": {},
   "outputs": [],
   "source": [
    "X_my_scaled = X_scaler.transform(my_test)"
   ]
  },
  {
   "cell_type": "code",
   "execution_count": 619,
   "metadata": {},
   "outputs": [],
   "source": [
    "homeScore = homeScorePredictor.predict(X_my_scaled)"
   ]
  },
  {
   "cell_type": "code",
   "execution_count": 620,
   "metadata": {},
   "outputs": [
    {
     "data": {
      "text/plain": [
       "103.20900750854561"
      ]
     },
     "execution_count": 620,
     "metadata": {},
     "output_type": "execute_result"
    }
   ],
   "source": [
    "homeScore[0]"
   ]
  },
  {
   "cell_type": "code",
   "execution_count": 621,
   "metadata": {},
   "outputs": [
    {
     "data": {
      "text/plain": [
       "110.33537179227459"
      ]
     },
     "execution_count": 621,
     "metadata": {},
     "output_type": "execute_result"
    }
   ],
   "source": [
    "roadScorePredictor.predict(X_my_scaled)[0]"
   ]
  },
  {
   "cell_type": "code",
   "execution_count": 622,
   "metadata": {},
   "outputs": [
    {
     "data": {
      "text/plain": [
       "0    53.4\n",
       "Name: PIE_h, dtype: float64"
      ]
     },
     "execution_count": 622,
     "metadata": {},
     "output_type": "execute_result"
    }
   ],
   "source": [
    "lakers_df[0:1]['PIE_h']"
   ]
  },
  {
   "cell_type": "code",
   "execution_count": 623,
   "metadata": {},
   "outputs": [
    {
     "data": {
      "text/plain": [
       "111.09768358255634"
      ]
     },
     "execution_count": 623,
     "metadata": {},
     "output_type": "execute_result"
    }
   ],
   "source": [
    "homeBay.predict(X_my_scaled)[0]"
   ]
  },
  {
   "cell_type": "code",
   "execution_count": 624,
   "metadata": {},
   "outputs": [
    {
     "data": {
      "text/plain": [
       "array([109.07844323])"
      ]
     },
     "execution_count": 624,
     "metadata": {},
     "output_type": "execute_result"
    }
   ],
   "source": [
    "roadBay.predict(X_my_scaled)"
   ]
  },
  {
   "cell_type": "code",
   "execution_count": 784,
   "metadata": {},
   "outputs": [],
   "source": [
    "def getHomeRoadMeans(teamRoad, teamHome):\n",
    "    temp = db.score_pred_testing_data.find({'$or' : [{'HomeTeam': teamHome}, {'RoadTeam': teamRoad}]})\n",
    "    temp = list(temp)\n",
    "    for i in temp:\n",
    "        i.pop('_id', None)\n",
    "    df_test = pd.DataFrame(temp)\n",
    "    df_test = df_test.sort_values(['GameDate'], ascending=0).reset_index(drop=True)\n",
    "    home_df = df_test[df_test['HomeTeam'] == teamHome].reset_index(drop=True)\n",
    "    road_df = df_test[df_test['RoadTeam'] == teamRoad].reset_index(drop=True)\n",
    "    homeMean = home_df[0:5].mean()\n",
    "    roadMean = road_df[0:5].mean()\n",
    "    test_series = pd.Series(data = [homeMean['DefRtg_h'], homeMean['PIE_h'], homeMean['FTARate_h'], homeMean['REB%_h'], homeMean['TOV%_h'], homeMean['TS%_h'], homeMean['PACE_h'], homeMean['ELO_h'],\n",
    "                                    roadMean['DefRtg_r'], roadMean['PIE_r'], roadMean['FTARate_r'], roadMean['REB%_r'], roadMean['TOV%_r'], roadMean['TS%_r'], roadMean['PACE_r'], roadMean['ELO_r']\n",
    "                           ])\n",
    "    test_data = test_series.values.reshape(1,16)\n",
    "    return X_scaler.transform(test_data)"
   ]
  },
  {
   "cell_type": "code",
   "execution_count": 785,
   "metadata": {},
   "outputs": [],
   "source": [
    "X_test = getHomeRoadMeans('NYK', 'DET')"
   ]
  },
  {
   "cell_type": "code",
   "execution_count": 807,
   "metadata": {},
   "outputs": [],
   "source": [
    "def predictAllModels(testData):\n",
    "    predVals = {}\n",
    "    #temp = [roadLinearModel.predict(testData), homeLinearModel.predict(testData)]\n",
    "    #predVals['Linear'] = temp\n",
    "    temp = [roadBay.predict(testData)[0], homeBay.predict(testData)[0]]\n",
    "    mean = [temp[0], temp[1]]\n",
    "    predVals['BayRidge'] = temp\n",
    "    temp = [huberModelRoad.predict(testData)[0], huberModelHome.predict(testData)[0]]\n",
    "    mean[0] += temp[0]\n",
    "    mean[1] += temp[1]\n",
    "    predVals['HuberRegress'] = temp\n",
    "    temp = [ardModelRoad.predict(testData)[0], ardModelHome.predict(testData)[0]]\n",
    "    mean[0] += temp[0]\n",
    "    mean[1] += temp[1]\n",
    "    predVals['ArdRegress'] = temp\n",
    "    temp = [sgdModelRoad.predict(testData)[0], sgdModelHome.predict(testData)[0]]\n",
    "    mean[0] += temp[0]\n",
    "    mean[1] += temp[1]\n",
    "    predVals['sgdRegress'] = temp\n",
    "\n",
    "    predVals['modelMean'] = [mean[0]/4, mean[1]/4]\n",
    "    return predVals"
   ]
  },
  {
   "cell_type": "code",
   "execution_count": 810,
   "metadata": {},
   "outputs": [],
   "source": [
    "# Get test data and predict\n",
    "X_test = getHomeRoadMeans('DEN', 'PHI')\n",
    "testPred = predictAllModels(X_test)"
   ]
  },
  {
   "cell_type": "code",
   "execution_count": 811,
   "metadata": {},
   "outputs": [
    {
     "data": {
      "text/plain": [
       "{'BayRidge': [112.5343384306604, 117.2223506971034],\n",
       " 'HuberRegress': [112.07015833425159, 117.58041332885983],\n",
       " 'ArdRegress': [112.413239698532, 117.32698717221304],\n",
       " 'sgdRegress': [112.52723027959867, 117.3208155080797],\n",
       " 'modelMean': [112.38624168576065, 117.362641676564]}"
      ]
     },
     "execution_count": 811,
     "metadata": {},
     "output_type": "execute_result"
    }
   ],
   "source": [
    "testPred"
   ]
  },
  {
   "cell_type": "code",
   "execution_count": null,
   "metadata": {},
   "outputs": [],
   "source": [
    "X_my_scaled = X_scaler.transform(X_test)"
   ]
  },
  {
   "cell_type": "code",
   "execution_count": 764,
   "metadata": {},
   "outputs": [
    {
     "data": {
      "text/plain": [
       "(1230, 16)"
      ]
     },
     "execution_count": 764,
     "metadata": {},
     "output_type": "execute_result"
    }
   ],
   "source": [
    "X_train.shape"
   ]
  },
  {
   "cell_type": "code",
   "execution_count": 644,
   "metadata": {},
   "outputs": [
    {
     "data": {
      "text/plain": [
       "110.54229701277073"
      ]
     },
     "execution_count": 644,
     "metadata": {},
     "output_type": "execute_result"
    }
   ],
   "source": [
    "homeBay.predict(X_my_scaled)[0]"
   ]
  },
  {
   "cell_type": "code",
   "execution_count": 645,
   "metadata": {},
   "outputs": [
    {
     "data": {
      "text/plain": [
       "97.63341059274505"
      ]
     },
     "execution_count": 645,
     "metadata": {},
     "output_type": "execute_result"
    }
   ],
   "source": [
    "roadBay.predict(X_my_scaled)[0]"
   ]
  },
  {
   "cell_type": "code",
   "execution_count": 503,
   "metadata": {},
   "outputs": [],
   "source": [
    "import pickle\n",
    "from sklearn.externals import joblib"
   ]
  },
  {
   "cell_type": "code",
   "execution_count": 504,
   "metadata": {},
   "outputs": [],
   "source": [
    "scaler_filename = \"bay_rig_scaler.save\"\n",
    "joblib.dump(X_scaler, scaler_filename)\n",
    "bay_rig_home_filename = 'bay_rig_home_model.pkl'\n",
    "pickle.dump(homeBay, open(bay_rig_home_filename, 'wb'))\n",
    "bay_rig_road_filename = 'bay_rig_road_model.pkl'\n",
    "pickle.dump(roadBay, open(bay_rig_road_filename, 'wb'))\n"
   ]
  },
  {
   "cell_type": "code",
   "execution_count": 537,
   "metadata": {},
   "outputs": [],
   "source": [
    "teamHome = 'LAL'\n",
    "teamRoad = 'LAC'\n",
    "temp = db.score_pred_testing_data.find({'$or' : [{'HomeTeam': teamHome}, {'RoadTeam': teamRoad}]})\n",
    "temp = list(temp)\n",
    "for i in temp:\n",
    "    i.pop('_id', None)\n",
    "df_test = pd.DataFrame(temp)\n",
    "df_test = df_test.sort_values(['GameDate'], ascending=0).reset_index(drop=True)\n",
    "home_df = df_test[df_test['HomeTeam'] == teamHome].reset_index(drop=True)\n",
    "road_df = df_test[df_test['RoadTeam'] == teamRoad].reset_index(drop=True)"
   ]
  },
  {
   "cell_type": "code",
   "execution_count": 532,
   "metadata": {},
   "outputs": [],
   "source": [
    "temp = home_df.head()['ELO_h']"
   ]
  },
  {
   "cell_type": "code",
   "execution_count": 538,
   "metadata": {},
   "outputs": [
    {
     "data": {
      "text/plain": [
       "1468.8400819865"
      ]
     },
     "execution_count": 538,
     "metadata": {},
     "output_type": "execute_result"
    }
   ],
   "source": [
    "home_df.iloc[0]['ELO_h']"
   ]
  },
  {
   "cell_type": "code",
   "execution_count": 529,
   "metadata": {},
   "outputs": [
    {
     "data": {
      "text/plain": [
       "level_0       0.000000\n",
       "index         3.000000\n",
       "ELO_h      1468.840082\n",
       "Name: 0, dtype: float64"
      ]
     },
     "execution_count": 529,
     "metadata": {},
     "output_type": "execute_result"
    }
   ],
   "source": [
    "temp"
   ]
  },
  {
   "cell_type": "code",
   "execution_count": 540,
   "metadata": {},
   "outputs": [],
   "source": [
    "bayScalar_filename = \"bay_rig_scaler.save\"\n",
    "bay_rig_scaler = joblib.load(bayScalar_filename)"
   ]
  },
  {
   "cell_type": "code",
   "execution_count": null,
   "metadata": {},
   "outputs": [],
   "source": [
    "bay_rig_scaler.scale_"
   ]
  }
 ],
 "metadata": {
  "kernelspec": {
   "display_name": "Python [conda env:PythonData]",
   "language": "python",
   "name": "conda-env-PythonData-py"
  },
  "language_info": {
   "codemirror_mode": {
    "name": "ipython",
    "version": 3
   },
   "file_extension": ".py",
   "mimetype": "text/x-python",
   "name": "python",
   "nbconvert_exporter": "python",
   "pygments_lexer": "ipython3",
   "version": "3.6.5"
  }
 },
 "nbformat": 4,
 "nbformat_minor": 2
}

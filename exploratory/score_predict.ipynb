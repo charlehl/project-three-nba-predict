{
 "cells": [
  {
   "cell_type": "code",
   "execution_count": 38,
   "metadata": {},
   "outputs": [],
   "source": [
    "import numpy as np\n",
    "import pandas as pd\n",
    "#import datetime as dt\n",
    "import pymongo\n",
    "import json\n",
    "import datetime as dt\n",
    "import pickle\n",
    "import math\n",
    "import statistics"
   ]
  },
  {
   "cell_type": "code",
   "execution_count": 39,
   "metadata": {},
   "outputs": [],
   "source": [
    "#import os\n",
    "from bs4 import BeautifulSoup as bs\n",
    "#import requests\n",
    "from splinter import Browser\n",
    "import time"
   ]
  },
  {
   "cell_type": "code",
   "execution_count": 40,
   "metadata": {},
   "outputs": [],
   "source": [
    "# create mongo db connection\n",
    "conn = 'mongodb://localhost:27017'\n",
    "client = pymongo.MongoClient(conn)\n",
    "# connect to my nba data db\n",
    "db = client.nba_data_db"
   ]
  },
  {
   "cell_type": "code",
   "execution_count": 41,
   "metadata": {},
   "outputs": [],
   "source": [
    "# create splinter browser\n",
    "def init_browser(noShowBrowser):\n",
    "    executable_path = {'executable_path': 'chromedriver.exe'}\n",
    "    browser = Browser('chrome', **executable_path, headless=noShowBrowser)\n",
    "    return browser"
   ]
  },
  {
   "cell_type": "code",
   "execution_count": 163,
   "metadata": {},
   "outputs": [],
   "source": [
    "# Get season stats for 16-17 season to get starting elo for training data\n",
    "nba_16_17_fourfactor_url = \"https://stats.nba.com/teams/boxscores-four-factors/?Season=2016-17&SeasonType=Regular%20Season\""
   ]
  },
  {
   "cell_type": "code",
   "execution_count": 164,
   "metadata": {},
   "outputs": [],
   "source": [
    "# visit website\n",
    "browser.visit(nba_16_17_fourfactor_url)\n",
    "time.sleep(10)\n",
    "# get click path by xpath from browser inspector\n",
    "sel_all_path = browser.find_by_xpath(\"/html/body/main/div[2]/div/div[2]/div/div/nba-stat-table/div[1]/div/div/select/option[1]\")\n",
    "# select to display all games\n",
    "sel_all_path.click()\n",
    "time.sleep(5)\n",
    "# parse html in soup\n",
    "html = browser.html\n",
    "# Parse with soup\n",
    "soup = bs(html, 'html.parser')\n",
    "# Find all tables\n",
    "table = soup.find_all('table')[0] \n",
    "df = pd.read_html(str(table))\n",
    "# drop season column since unneeded\n",
    "df = df[0].drop(columns=['Season'])\n",
    "# Rename columns\n",
    "df.rename(columns={\"Game\\xa0Date\": \"GameDate\", \"Match\\xa0Up\": \"MatchUp\", \"OppFTA\\xa0Rate\": \"OppFTARate\"}, inplace=True)\n",
    "# change gamedate to datetime\n",
    "df['GameDate'] = df['GameDate'].apply(lambda x: dt.datetime.strptime(x, \"%m/%d/%Y\"))"
   ]
  },
  {
   "cell_type": "code",
   "execution_count": 165,
   "metadata": {},
   "outputs": [],
   "source": [
    "# Init ELO for training season\n",
    "elo_list = {}\n",
    "for team in myteam:\n",
    "    elo_list[team] = 1500.0"
   ]
  },
  {
   "cell_type": "code",
   "execution_count": 166,
   "metadata": {},
   "outputs": [],
   "source": [
    "df_init = df.sort_values(['GameDate'], ascending = 1).reset_index(drop=True)\n",
    "game_dates = df_init['GameDate'].unique()\n",
    "game_dates = [game_day for game_day in game_dates]"
   ]
  },
  {
   "cell_type": "code",
   "execution_count": 167,
   "metadata": {},
   "outputs": [],
   "source": [
    "date_index=0\n",
    "newElo = {}\n",
    "eloScores = []\n",
    "for row in df_init.itertuples():\n",
    "    if(game_dates[date_index] != np.datetime64(row.GameDate)):\n",
    "        #print(\"Update ELO\")\n",
    "        for key in newElo:\n",
    "            elo_list[key] = newElo[key]\n",
    "        newElo = {}\n",
    "        date_index += 1\n",
    "    temp = row.MatchUp.split(' ')\n",
    "    team1 = temp[0]\n",
    "    team2 = temp[2]\n",
    "    if temp[1] == 'vs.':\n",
    "        if row._4 == 'W':\n",
    "            outcome = True\n",
    "        else:\n",
    "            outcome = False\n",
    "        eloUpdate, dummy = EloRating(elo_list[team1], elo_list[team2], 20, outcome)\n",
    "    else:\n",
    "        # Opposite since road team\n",
    "        if row._4 == 'W':\n",
    "            outcome = False\n",
    "        else:\n",
    "            outcome = True\n",
    "        dummy, eloUpdate = EloRating(elo_list[team2], elo_list[team1], 20, outcome)\n",
    "    newElo[row.Team] = eloUpdate\n",
    "# Update for last date\n",
    "for key in newElo:\n",
    "    elo_list[key] = newElo[key]"
   ]
  },
  {
   "cell_type": "code",
   "execution_count": 169,
   "metadata": {},
   "outputs": [
    {
     "data": {
      "text/plain": [
       "<pymongo.results.InsertOneResult at 0x29e3a890888>"
      ]
     },
     "execution_count": 169,
     "metadata": {},
     "output_type": "execute_result"
    }
   ],
   "source": [
    "db.nba_team_elo_training.insert_one(elo_list)"
   ]
  },
  {
   "cell_type": "code",
   "execution_count": 4,
   "metadata": {},
   "outputs": [],
   "source": [
    "# Url to get all boxscores for 2017-2018 regular season games\n",
    "nba_17_18_trad_boxscores_url = \"https://stats.nba.com/teams/boxscores-traditional/?Season=2017-18&SeasonType=Regular%20Season\"\n",
    "nba_17_18_boxscores_url = \"https://stats.nba.com/teams/boxscores-advanced/?Season=2017-18&SeasonType=Regular%20Season\"\n",
    "nba_17_18_fourfactor_url = \"https://stats.nba.com/teams/boxscores-four-factors/?Season=2017-18&SeasonType=Regular%20Season\""
   ]
  },
  {
   "cell_type": "code",
   "execution_count": 5,
   "metadata": {},
   "outputs": [],
   "source": [
    "browser = init_browser(False)"
   ]
  },
  {
   "cell_type": "code",
   "execution_count": 225,
   "metadata": {},
   "outputs": [],
   "source": [
    "# visit website\n",
    "browser.visit(nba_17_18_boxscores_url)\n",
    "time.sleep(10)\n",
    "# get click path by xpath from browser inspector\n",
    "sel_all_path = browser.find_by_xpath(\"/html/body/main/div[2]/div/div[2]/div/div/nba-stat-table/div[1]/div/div/select/option[1]\")\n",
    "# select to display all games\n",
    "sel_all_path.click()\n",
    "time.sleep(5)\n",
    "# parse html in soup\n",
    "html = browser.html\n",
    "# Parse with soup\n",
    "soup = bs(html, 'html.parser')\n",
    "# Find all tables\n",
    "table = soup.find_all('table')[0] \n",
    "df = pd.read_html(str(table))\n",
    "# drop season column since unneeded\n",
    "df_adv = df[0].drop(columns=['Season'])\n",
    "# Rename column names\n",
    "df_adv.rename(columns={\"Game\\xa0Date\": \"GameDate\", \"Match\\xa0Up\": \"MatchUp\"}, inplace=True)\n",
    "# change gamedate to datetime\n",
    "df_adv['GameDate'] = df_adv['GameDate'].apply(lambda x: dt.datetime.strptime(x, \"%m/%d/%Y\"))"
   ]
  },
  {
   "cell_type": "code",
   "execution_count": 226,
   "metadata": {},
   "outputs": [
    {
     "data": {
      "text/plain": [
       "Index(['Team', 'MatchUp', 'GameDate', 'W/L', 'MIN', 'OffRtg', 'DefRtg',\n",
       "       'NetRtg', 'AST%', 'AST/TO', 'ASTRatio', 'OREB%', 'DREB%', 'REB%',\n",
       "       'TOV%', 'eFG%', 'TS%', 'PACE', 'PIE'],\n",
       "      dtype='object')"
      ]
     },
     "execution_count": 226,
     "metadata": {},
     "output_type": "execute_result"
    }
   ],
   "source": [
    "df_adv.columns"
   ]
  },
  {
   "cell_type": "code",
   "execution_count": 229,
   "metadata": {},
   "outputs": [],
   "source": [
    "# visit website\n",
    "browser.visit(nba_17_18_fourfactor_url)\n",
    "time.sleep(10)\n",
    "# get click path by xpath from browser inspector\n",
    "sel_all_path = browser.find_by_xpath(\"/html/body/main/div[2]/div/div[2]/div/div/nba-stat-table/div[1]/div/div/select/option[1]\")\n",
    "# select to display all games\n",
    "sel_all_path.click()\n",
    "time.sleep(5)\n",
    "# parse html in soup\n",
    "html = browser.html\n",
    "# Parse with soup\n",
    "soup = bs(html, 'html.parser')\n",
    "# Find all tables\n",
    "table = soup.find_all('table')[0] \n",
    "df = pd.read_html(str(table))\n",
    "# drop season column since unneeded\n",
    "df = df[0].drop(columns=['Season'])\n",
    "# Rename columns\n",
    "df.rename(columns={\"Game\\xa0Date\": \"GameDate\", \"Match\\xa0Up\": \"MatchUp\", \"OppFTA\\xa0Rate\": \"OppFTARate\"}, inplace=True)\n",
    "# Convert to float percent values\n",
    "df['OREB%'] = df['OREB%'].str.rstrip('%').astype('float')\n",
    "df['OppOREB%'] = df['OppOREB%'].str.rstrip('%').astype('float')\n",
    "df['OppeFG%'] = df['OppeFG%'].str.rstrip('%').astype('float')\n",
    "df['eFG%'] = df['eFG%'].str.rstrip('%').astype('float')\n",
    "# change gamedate to datetime\n",
    "df['GameDate'] = df['GameDate'].apply(lambda x: dt.datetime.strptime(x, \"%m/%d/%Y\"))\n",
    "df_ff = df.drop(['MIN', 'MatchUp', 'W/L', 'eFG%', 'OREB%', 'TOV%', 'OppeFG%', 'OppFTARate', 'OppTOV%', 'OppOREB%'], axis=1)"
   ]
  },
  {
   "cell_type": "code",
   "execution_count": 230,
   "metadata": {},
   "outputs": [
    {
     "data": {
      "text/plain": [
       "Index(['Team', 'GameDate', 'FTARate'], dtype='object')"
      ]
     },
     "execution_count": 230,
     "metadata": {},
     "output_type": "execute_result"
    }
   ],
   "source": [
    "df_ff.columns"
   ]
  },
  {
   "cell_type": "code",
   "execution_count": 232,
   "metadata": {},
   "outputs": [],
   "source": [
    "# visit website\n",
    "browser.visit(nba_17_18_trad_boxscores_url)\n",
    "time.sleep(10)\n",
    "# get click path by xpath from browser inspector\n",
    "sel_all_path = browser.find_by_xpath(\"/html/body/main/div[2]/div/div[2]/div/div/nba-stat-table/div[1]/div/div/select/option[1]\")\n",
    "# select to display all games\n",
    "sel_all_path.click()\n",
    "time.sleep(5)\n",
    "# parse html in soup\n",
    "html = browser.html\n",
    "# Parse with soup\n",
    "soup = bs(html, 'html.parser')\n",
    "# Find all tables\n",
    "table = soup.find_all('table')[0] \n",
    "df = pd.read_html(str(table))\n",
    "# drop season column since unneeded\n",
    "df = df[0].drop(columns=['Season'])\n",
    "# Rename columns\n",
    "df.rename(columns={\"Game\\xa0Date\": \"GameDate\", \"Match\\xa0Up\": \"MatchUp\"}, inplace=True)\n",
    "# change gamedate to datetime\n",
    "df['GameDate'] = df['GameDate'].apply(lambda x: dt.datetime.strptime(x, \"%m/%d/%Y\"))\n",
    "df_trad = df.drop(['MIN', 'MatchUp', 'W/L', 'FGM', 'FGA', 'FG%', '3PM', '3PA', '3P%',\n",
    "       'FTM', 'FTA', 'FT%', 'OREB', 'DREB', 'REB', 'AST', 'TOV', 'STL', 'BLK',\n",
    "       'PF', '+/-'], axis=1)"
   ]
  },
  {
   "cell_type": "code",
   "execution_count": 233,
   "metadata": {},
   "outputs": [
    {
     "data": {
      "text/plain": [
       "Index(['Team', 'GameDate', 'PTS'], dtype='object')"
      ]
     },
     "execution_count": 233,
     "metadata": {},
     "output_type": "execute_result"
    }
   ],
   "source": [
    "df_trad.columns"
   ]
  },
  {
   "cell_type": "code",
   "execution_count": 234,
   "metadata": {},
   "outputs": [
    {
     "data": {
      "text/plain": [
       "Index(['Team', 'MatchUp', 'GameDate', 'W/L', 'MIN', 'OffRtg', 'DefRtg',\n",
       "       'NetRtg', 'AST%', 'AST/TO', 'ASTRatio', 'OREB%', 'DREB%', 'REB%',\n",
       "       'TOV%', 'eFG%', 'TS%', 'PACE', 'PIE', 'FTARate'],\n",
       "      dtype='object')"
      ]
     },
     "execution_count": 234,
     "metadata": {},
     "output_type": "execute_result"
    }
   ],
   "source": [
    "result = pd.merge(df_adv, df_ff, on=['Team', 'GameDate'])\n",
    "result.columns"
   ]
  },
  {
   "cell_type": "code",
   "execution_count": 235,
   "metadata": {},
   "outputs": [
    {
     "data": {
      "text/plain": [
       "Index(['Team', 'MatchUp', 'GameDate', 'W/L', 'MIN', 'OffRtg', 'DefRtg',\n",
       "       'NetRtg', 'AST%', 'AST/TO', 'ASTRatio', 'OREB%', 'DREB%', 'REB%',\n",
       "       'TOV%', 'eFG%', 'TS%', 'PACE', 'PIE', 'FTARate', 'PTS'],\n",
       "      dtype='object')"
      ]
     },
     "execution_count": 235,
     "metadata": {},
     "output_type": "execute_result"
    }
   ],
   "source": [
    "result_final = pd.merge(result, df_trad, on=['Team', 'GameDate'])\n",
    "result_final.columns"
   ]
  },
  {
   "cell_type": "code",
   "execution_count": 28,
   "metadata": {},
   "outputs": [],
   "source": [
    "teams = result_final['Team'].unique()"
   ]
  },
  {
   "cell_type": "code",
   "execution_count": 29,
   "metadata": {},
   "outputs": [],
   "source": [
    "myteam = [team for team in teams]"
   ]
  },
  {
   "cell_type": "code",
   "execution_count": 30,
   "metadata": {},
   "outputs": [],
   "source": [
    "myteam.sort()"
   ]
  },
  {
   "cell_type": "code",
   "execution_count": 236,
   "metadata": {},
   "outputs": [],
   "source": [
    "# Init ELO for training season\n",
    "elo_list = {}\n",
    "for team in myteam:\n",
    "    elo_list[team] = 1500.0"
   ]
  },
  {
   "cell_type": "code",
   "execution_count": 37,
   "metadata": {},
   "outputs": [
    {
     "data": {
      "text/plain": [
       "<pymongo.results.InsertOneResult at 0x29e298e7748>"
      ]
     },
     "execution_count": 37,
     "metadata": {},
     "output_type": "execute_result"
    }
   ],
   "source": [
    "db.nba_team_elo_training.insert_one(elo_list)"
   ]
  },
  {
   "cell_type": "code",
   "execution_count": 261,
   "metadata": {},
   "outputs": [],
   "source": [
    "result_sorted = result_final.sort_values(['GameDate'], ascending = 1).reset_index(drop=True)\n",
    "#result_sorted['HomeGame'] = result_sorted['MatchUp'].apply(lambda x: 1 if x.split(' ')[1] == 'vs.' else 0)"
   ]
  },
  {
   "cell_type": "code",
   "execution_count": 42,
   "metadata": {},
   "outputs": [],
   "source": [
    "def eloProbability(rating1, rating2):\n",
    "    return 1.0 * 1.0 / (1 + 1.0 * math.pow(10, 1.0 * (rating1 - rating2) / 400))\n",
    "def EloRating(homeTeam, roadTeam, K, homeTeamWins):\n",
    "    # To calculate the Winning \n",
    "    # Probability of Player B \n",
    "    Pb = eloProbability(homeTeam, roadTeam) \n",
    "\n",
    "    # To calculate the Winning \n",
    "    # Probability of Player A \n",
    "    Pa = eloProbability(roadTeam, homeTeam) \n",
    "\n",
    "    # Case -1 When Player A wins \n",
    "    # Updating the Elo Ratings \n",
    "    if (homeTeamWins == True) : \n",
    "        homeTeam = homeTeam + K * (1 - Pa) \n",
    "        roadTeam = roadTeam + K * (0 - Pb) \n",
    "\n",
    "\n",
    "    # Case -2 When Player B wins \n",
    "    # Updating the Elo Ratings \n",
    "    else : \n",
    "        homeTeam = homeTeam + K * (0 - Pa)\n",
    "        roadTeam = roadTeam + K * (1 - Pb)\n",
    "    return homeTeam, roadTeam"
   ]
  },
  {
   "cell_type": "code",
   "execution_count": 66,
   "metadata": {},
   "outputs": [],
   "source": [
    "team1 = 1000\n",
    "team2 = 1000"
   ]
  },
  {
   "cell_type": "code",
   "execution_count": 67,
   "metadata": {},
   "outputs": [],
   "source": [
    "team1, team2 = EloRating(team1, team2, 20, False)"
   ]
  },
  {
   "cell_type": "code",
   "execution_count": 69,
   "metadata": {},
   "outputs": [
    {
     "data": {
      "text/plain": [
       "1010.0"
      ]
     },
     "execution_count": 69,
     "metadata": {},
     "output_type": "execute_result"
    }
   ],
   "source": [
    "team2"
   ]
  },
  {
   "cell_type": "code",
   "execution_count": 262,
   "metadata": {},
   "outputs": [
    {
     "data": {
      "text/plain": [
       "numpy.datetime64('2017-10-17T00:00:00.000000000')"
      ]
     },
     "execution_count": 262,
     "metadata": {},
     "output_type": "execute_result"
    }
   ],
   "source": [
    "game_dates = result_sorted['GameDate'].unique()\n",
    "game_dates = [game_day for game_day in game_dates]\n",
    "game_dates[0]"
   ]
  },
  {
   "cell_type": "code",
   "execution_count": 81,
   "metadata": {},
   "outputs": [
    {
     "data": {
      "text/plain": [
       "False"
      ]
     },
     "execution_count": 81,
     "metadata": {},
     "output_type": "execute_result"
    }
   ],
   "source": [
    "game_dates[1] == np.datetime64(result_sorted.iloc[0]['GameDate'])"
   ]
  },
  {
   "cell_type": "code",
   "execution_count": 76,
   "metadata": {},
   "outputs": [
    {
     "data": {
      "text/plain": [
       "Timestamp('2017-10-17 00:00:00')"
      ]
     },
     "execution_count": 76,
     "metadata": {},
     "output_type": "execute_result"
    }
   ],
   "source": [
    "result_sorted.iloc[0]['GameDate']"
   ]
  },
  {
   "cell_type": "code",
   "execution_count": 264,
   "metadata": {},
   "outputs": [],
   "source": [
    "temp_df = result_sorted.copy()"
   ]
  },
  {
   "cell_type": "code",
   "execution_count": 265,
   "metadata": {},
   "outputs": [
    {
     "data": {
      "text/plain": [
       "Team                object\n",
       "MatchUp             object\n",
       "GameDate    datetime64[ns]\n",
       "W/L                 object\n",
       "MIN                  int64\n",
       "OffRtg             float64\n",
       "DefRtg             float64\n",
       "NetRtg             float64\n",
       "AST%               float64\n",
       "AST/TO             float64\n",
       "ASTRatio           float64\n",
       "OREB%              float64\n",
       "DREB%              float64\n",
       "REB%               float64\n",
       "TOV%               float64\n",
       "eFG%               float64\n",
       "TS%                float64\n",
       "PACE               float64\n",
       "PIE                float64\n",
       "FTARate            float64\n",
       "PTS                  int64\n",
       "dtype: object"
      ]
     },
     "execution_count": 265,
     "metadata": {},
     "output_type": "execute_result"
    }
   ],
   "source": [
    "temp_df.dtypes"
   ]
  },
  {
   "cell_type": "code",
   "execution_count": 266,
   "metadata": {},
   "outputs": [],
   "source": [
    "# Init ELO for training season\n",
    "elo_list = {}\n",
    "for team in myteam:\n",
    "    elo_list[team] = 1500.0"
   ]
  },
  {
   "cell_type": "code",
   "execution_count": 267,
   "metadata": {},
   "outputs": [],
   "source": [
    "date_index=0\n",
    "newElo = {}\n",
    "eloScores = []\n",
    "homeTeam = []\n",
    "roadTeam = []\n",
    "for row in temp_df.itertuples():\n",
    "    if(game_dates[date_index] != np.datetime64(row.GameDate)):\n",
    "        #print(\"Update ELO\")\n",
    "        for key in newElo:\n",
    "            elo_list[key] = newElo[key]\n",
    "        newElo = {}\n",
    "        date_index += 1\n",
    "    temp = row.MatchUp.split(' ')\n",
    "    team1 = temp[0]\n",
    "    team2 = temp[2]\n",
    "    if temp[1] == 'vs.':\n",
    "        if row._4 == 'W':\n",
    "            outcome = True\n",
    "        else:\n",
    "            outcome = False\n",
    "        eloUpdate, dummy = EloRating(elo_list[team1], elo_list[team2], 20, outcome)\n",
    "        homeTeam.append(team1)\n",
    "        roadTeam.append(team2)\n",
    "    else:\n",
    "        # Opposite since road team\n",
    "        if row._4 == 'W':\n",
    "            outcome = False\n",
    "        else:\n",
    "            outcome = True\n",
    "        dummy, eloUpdate = EloRating(elo_list[team2], elo_list[team1], 20, outcome)\n",
    "        roadTeam.append(team1)\n",
    "        homeTeam.append(team2)\n",
    "        \n",
    "    newElo[row.Team] = eloUpdate\n",
    "    eloScores.append(eloUpdate)\n",
    "# Update for last date\n",
    "for key in newElo:\n",
    "    elo_list[key] = newElo[key]"
   ]
  },
  {
   "cell_type": "code",
   "execution_count": 544,
   "metadata": {},
   "outputs": [
    {
     "data": {
      "text/plain": [
       "{'ATL': 1379.585954026032,\n",
       " 'BKN': 1404.8281020435775,\n",
       " 'BOS': 1581.6442164590449,\n",
       " 'CHA': 1455.7326971389414,\n",
       " 'CHI': 1369.5264989320076,\n",
       " 'CLE': 1569.2570084824733,\n",
       " 'DAL': 1349.9955539253224,\n",
       " 'DEN': 1567.3908510170115,\n",
       " 'DET': 1469.2436740169394,\n",
       " 'GSW': 1585.218097082357,\n",
       " 'HOU': 1712.3692616813594,\n",
       " 'IND': 1579.9535417247766,\n",
       " 'LAC': 1514.4717110441677,\n",
       " 'LAL': 1463.3333766030464,\n",
       " 'MEM': 1315.91711181331,\n",
       " 'MIA': 1515.8396295778298,\n",
       " 'MIL': 1518.023873793636,\n",
       " 'MIN': 1538.5720049287456,\n",
       " 'NOP': 1588.4605069805805,\n",
       " 'NYK': 1369.6778447449904,\n",
       " 'OKC': 1579.0910067247698,\n",
       " 'ORL': 1352.7914611902586,\n",
       " 'PHI': 1638.0820435490868,\n",
       " 'PHX': 1305.2825248358438,\n",
       " 'POR': 1592.5772517125845,\n",
       " 'SAC': 1399.0131403590187,\n",
       " 'SAS': 1541.9868737873699,\n",
       " 'TOR': 1642.7968580395868,\n",
       " 'UTA': 1613.6622117595898,\n",
       " 'WAS': 1485.675112025742}"
      ]
     },
     "execution_count": 544,
     "metadata": {},
     "output_type": "execute_result"
    }
   ],
   "source": [
    "elo_list"
   ]
  },
  {
   "cell_type": "code",
   "execution_count": 245,
   "metadata": {},
   "outputs": [
    {
     "data": {
      "text/plain": [
       "2460"
      ]
     },
     "execution_count": 245,
     "metadata": {},
     "output_type": "execute_result"
    }
   ],
   "source": [
    "len(eloScores)"
   ]
  },
  {
   "cell_type": "code",
   "execution_count": 246,
   "metadata": {},
   "outputs": [
    {
     "data": {
      "text/plain": [
       "2460"
      ]
     },
     "execution_count": 246,
     "metadata": {},
     "output_type": "execute_result"
    }
   ],
   "source": [
    "len(temp_df)"
   ]
  },
  {
   "cell_type": "code",
   "execution_count": 269,
   "metadata": {},
   "outputs": [],
   "source": [
    "temp_df['ELO'] = eloScores\n",
    "temp_df['HomeTeam'] = homeTeam\n",
    "temp_df['RoadTeam'] = roadTeam"
   ]
  },
  {
   "cell_type": "code",
   "execution_count": 270,
   "metadata": {},
   "outputs": [
    {
     "data": {
      "text/plain": [
       "Index(['Team', 'MatchUp', 'GameDate', 'W/L', 'MIN', 'OffRtg', 'DefRtg',\n",
       "       'NetRtg', 'AST%', 'AST/TO', 'ASTRatio', 'OREB%', 'DREB%', 'REB%',\n",
       "       'TOV%', 'eFG%', 'TS%', 'PACE', 'PIE', 'FTARate', 'PTS', 'ELO',\n",
       "       'HomeTeam', 'RoadTeam'],\n",
       "      dtype='object')"
      ]
     },
     "execution_count": 270,
     "metadata": {},
     "output_type": "execute_result"
    }
   ],
   "source": [
    "temp_df.columns"
   ]
  },
  {
   "cell_type": "code",
   "execution_count": 271,
   "metadata": {},
   "outputs": [],
   "source": [
    "home_df = temp_df[temp_df['Team'] == temp_df['HomeTeam']]\n",
    "road_df = temp_df[temp_df['Team'] == temp_df['RoadTeam']]"
   ]
  },
  {
   "cell_type": "code",
   "execution_count": 278,
   "metadata": {},
   "outputs": [],
   "source": [
    "game_df = pd.merge(home_df, road_df, how='inner', on=['HomeTeam', 'RoadTeam', 'GameDate'], suffixes=('_h', '_r'), validate=\"one_to_one\")"
   ]
  },
  {
   "cell_type": "code",
   "execution_count": 279,
   "metadata": {},
   "outputs": [
    {
     "data": {
      "text/plain": [
       "Index(['Team_h', 'MatchUp_h', 'GameDate', 'W/L_h', 'MIN_h', 'OffRtg_h',\n",
       "       'DefRtg_h', 'NetRtg_h', 'AST%_h', 'AST/TO_h', 'ASTRatio_h', 'OREB%_h',\n",
       "       'DREB%_h', 'REB%_h', 'TOV%_h', 'eFG%_h', 'TS%_h', 'PACE_h', 'PIE_h',\n",
       "       'FTARate_h', 'PTS_h', 'ELO_h', 'HomeTeam', 'RoadTeam', 'Team_r',\n",
       "       'MatchUp_r', 'W/L_r', 'MIN_r', 'OffRtg_r', 'DefRtg_r', 'NetRtg_r',\n",
       "       'AST%_r', 'AST/TO_r', 'ASTRatio_r', 'OREB%_r', 'DREB%_r', 'REB%_r',\n",
       "       'TOV%_r', 'eFG%_r', 'TS%_r', 'PACE_r', 'PIE_r', 'FTARate_r', 'PTS_r',\n",
       "       'ELO_r'],\n",
       "      dtype='object')"
      ]
     },
     "execution_count": 279,
     "metadata": {},
     "output_type": "execute_result"
    }
   ],
   "source": [
    "game_df.columns"
   ]
  },
  {
   "cell_type": "code",
   "execution_count": 280,
   "metadata": {},
   "outputs": [],
   "source": [
    "game_df = game_df.drop(['Team_h', 'Team_r', 'MatchUp_h', 'MatchUp_r', 'W/L_h', 'W/L_r', 'MIN_h', 'MIN_r'], axis=1)"
   ]
  },
  {
   "cell_type": "code",
   "execution_count": 282,
   "metadata": {},
   "outputs": [
    {
     "data": {
      "text/plain": [
       "Index(['GameDate', 'OffRtg_h', 'DefRtg_h', 'NetRtg_h', 'AST%_h', 'AST/TO_h',\n",
       "       'ASTRatio_h', 'OREB%_h', 'DREB%_h', 'REB%_h', 'TOV%_h', 'eFG%_h',\n",
       "       'TS%_h', 'PACE_h', 'PIE_h', 'FTARate_h', 'PTS_h', 'ELO_h', 'HomeTeam',\n",
       "       'RoadTeam', 'OffRtg_r', 'DefRtg_r', 'NetRtg_r', 'AST%_r', 'AST/TO_r',\n",
       "       'ASTRatio_r', 'OREB%_r', 'DREB%_r', 'REB%_r', 'TOV%_r', 'eFG%_r',\n",
       "       'TS%_r', 'PACE_r', 'PIE_r', 'FTARate_r', 'PTS_r', 'ELO_r'],\n",
       "      dtype='object')"
      ]
     },
     "execution_count": 282,
     "metadata": {},
     "output_type": "execute_result"
    }
   ],
   "source": [
    "game_df.columns"
   ]
  },
  {
   "cell_type": "code",
   "execution_count": 283,
   "metadata": {},
   "outputs": [],
   "source": [
    "db.score_pred_training_data.drop()"
   ]
  },
  {
   "cell_type": "code",
   "execution_count": 284,
   "metadata": {},
   "outputs": [],
   "source": [
    "# export to json\n",
    "items = game_df.to_json(orient='records', date_format='iso')\n",
    "# load json string to json\n",
    "items_db = json.loads(items)"
   ]
  },
  {
   "cell_type": "code",
   "execution_count": 285,
   "metadata": {},
   "outputs": [
    {
     "data": {
      "text/plain": [
       "<pymongo.results.InsertManyResult at 0x29e1bbb6148>"
      ]
     },
     "execution_count": 285,
     "metadata": {},
     "output_type": "execute_result"
    }
   ],
   "source": [
    "db.score_pred_training_data.insert_many(items_db)"
   ]
  },
  {
   "cell_type": "code",
   "execution_count": 185,
   "metadata": {},
   "outputs": [
    {
     "data": {
      "text/plain": [
       "<pymongo.results.InsertOneResult at 0x29e1bbd4c08>"
      ]
     },
     "execution_count": 185,
     "metadata": {},
     "output_type": "execute_result"
    }
   ],
   "source": [
    "db.nba_team_elo_testing.insert_one(elo_list)"
   ]
  },
  {
   "cell_type": "code",
   "execution_count": 9,
   "metadata": {},
   "outputs": [],
   "source": [
    "temp = db.nba_team_elo_testing.find()"
   ]
  },
  {
   "cell_type": "code",
   "execution_count": 10,
   "metadata": {},
   "outputs": [],
   "source": [
    "temp = list(temp)"
   ]
  },
  {
   "cell_type": "code",
   "execution_count": 11,
   "metadata": {},
   "outputs": [],
   "source": [
    "for i in temp:\n",
    "    i.pop('_id', None)"
   ]
  },
  {
   "cell_type": "code",
   "execution_count": 12,
   "metadata": {},
   "outputs": [],
   "source": [
    "elo_testing = temp[0]"
   ]
  },
  {
   "cell_type": "code",
   "execution_count": 13,
   "metadata": {},
   "outputs": [
    {
     "data": {
      "text/plain": [
       "{'ATL': 1375.7075741834688,\n",
       " 'BKN': 1385.7473632514852,\n",
       " 'BOS': 1593.1622149515758,\n",
       " 'CHA': 1447.7280767309485,\n",
       " 'CHI': 1367.1005274309066,\n",
       " 'CLE': 1570.4270859757785,\n",
       " 'DAL': 1343.0240681009527,\n",
       " 'DEN': 1571.0319534263213,\n",
       " 'DET': 1461.7873401532459,\n",
       " 'GSW': 1619.4570676450153,\n",
       " 'HOU': 1727.4508941343163,\n",
       " 'IND': 1581.231834171123,\n",
       " 'LAC': 1524.2948631384638,\n",
       " 'LAL': 1451.6639776614604,\n",
       " 'MEM': 1312.794183162584,\n",
       " 'MIA': 1518.578999882534,\n",
       " 'MIL': 1518.6617359287,\n",
       " 'MIN': 1533.1207602745035,\n",
       " 'NOP': 1588.8232069597443,\n",
       " 'NYK': 1356.0233382357949,\n",
       " 'OKC': 1586.408713208459,\n",
       " 'ORL': 1336.8270182401138,\n",
       " 'PHI': 1624.0357372854346,\n",
       " 'PHX': 1286.05099854899,\n",
       " 'POR': 1598.9654622637888,\n",
       " 'SAC': 1390.6202815200002,\n",
       " 'SAS': 1558.4988631578274,\n",
       " 'TOR': 1652.5998449378783,\n",
       " 'UTA': 1626.4434841314753,\n",
       " 'WAS': 1491.7325313071099}"
      ]
     },
     "execution_count": 13,
     "metadata": {},
     "output_type": "execute_result"
    }
   ],
   "source": [
    "elo_testing"
   ]
  },
  {
   "cell_type": "code",
   "execution_count": 46,
   "metadata": {},
   "outputs": [],
   "source": [
    "from sklearn.linear_model import LinearRegression\n",
    "from sklearn.preprocessing import StandardScaler"
   ]
  },
  {
   "cell_type": "code",
   "execution_count": 43,
   "metadata": {},
   "outputs": [],
   "source": [
    "temp = db.score_pred_training_data.find()\n",
    "temp = list(temp)\n",
    "for i in temp:\n",
    "    i.pop('_id', None)\n",
    "df_train = pd.DataFrame(temp)"
   ]
  },
  {
   "cell_type": "code",
   "execution_count": 8,
   "metadata": {},
   "outputs": [
    {
     "ename": "NameError",
     "evalue": "name 'game_df' is not defined",
     "output_type": "error",
     "traceback": [
      "\u001b[1;31m---------------------------------------------------------------------------\u001b[0m",
      "\u001b[1;31mNameError\u001b[0m                                 Traceback (most recent call last)",
      "\u001b[1;32m<ipython-input-8-135a0fab3115>\u001b[0m in \u001b[0;36m<module>\u001b[1;34m()\u001b[0m\n\u001b[1;32m----> 1\u001b[1;33m \u001b[0mgame_df\u001b[0m\u001b[1;33m.\u001b[0m\u001b[0mcolumns\u001b[0m\u001b[1;33m\u001b[0m\u001b[0m\n\u001b[0m",
      "\u001b[1;31mNameError\u001b[0m: name 'game_df' is not defined"
     ]
    }
   ],
   "source": [
    "game_df.columns"
   ]
  },
  {
   "cell_type": "code",
   "execution_count": 38,
   "metadata": {},
   "outputs": [
    {
     "data": {
      "text/html": [
       "<div>\n",
       "<style scoped>\n",
       "    .dataframe tbody tr th:only-of-type {\n",
       "        vertical-align: middle;\n",
       "    }\n",
       "\n",
       "    .dataframe tbody tr th {\n",
       "        vertical-align: top;\n",
       "    }\n",
       "\n",
       "    .dataframe thead th {\n",
       "        text-align: right;\n",
       "    }\n",
       "</style>\n",
       "<table border=\"1\" class=\"dataframe\">\n",
       "  <thead>\n",
       "    <tr style=\"text-align: right;\">\n",
       "      <th></th>\n",
       "      <th>AST%_h</th>\n",
       "      <th>AST%_r</th>\n",
       "      <th>AST/TO_h</th>\n",
       "      <th>AST/TO_r</th>\n",
       "      <th>ASTRatio_h</th>\n",
       "      <th>ASTRatio_r</th>\n",
       "      <th>DREB%_h</th>\n",
       "      <th>DREB%_r</th>\n",
       "      <th>DefRtg_h</th>\n",
       "      <th>DefRtg_r</th>\n",
       "      <th>...</th>\n",
       "      <th>PTS_r</th>\n",
       "      <th>REB%_h</th>\n",
       "      <th>REB%_r</th>\n",
       "      <th>RoadTeam</th>\n",
       "      <th>TOV%_h</th>\n",
       "      <th>TOV%_r</th>\n",
       "      <th>TS%_h</th>\n",
       "      <th>TS%_r</th>\n",
       "      <th>eFG%_h</th>\n",
       "      <th>eFG%_r</th>\n",
       "    </tr>\n",
       "  </thead>\n",
       "  <tbody>\n",
       "    <tr>\n",
       "      <th>0</th>\n",
       "      <td>79.1</td>\n",
       "      <td>59.6</td>\n",
       "      <td>2.00</td>\n",
       "      <td>2.15</td>\n",
       "      <td>23.9</td>\n",
       "      <td>18.9</td>\n",
       "      <td>66.7</td>\n",
       "      <td>84.6</td>\n",
       "      <td>119.6</td>\n",
       "      <td>118.6</td>\n",
       "      <td>...</td>\n",
       "      <td>122</td>\n",
       "      <td>45.2</td>\n",
       "      <td>54.8</td>\n",
       "      <td>HOU</td>\n",
       "      <td>16.7</td>\n",
       "      <td>12.7</td>\n",
       "      <td>67.8</td>\n",
       "      <td>57.9</td>\n",
       "      <td>63.8</td>\n",
       "      <td>56.2</td>\n",
       "    </tr>\n",
       "    <tr>\n",
       "      <th>1</th>\n",
       "      <td>50.0</td>\n",
       "      <td>66.7</td>\n",
       "      <td>1.12</td>\n",
       "      <td>2.00</td>\n",
       "      <td>14.8</td>\n",
       "      <td>17.9</td>\n",
       "      <td>76.8</td>\n",
       "      <td>77.1</td>\n",
       "      <td>100.0</td>\n",
       "      <td>104.1</td>\n",
       "      <td>...</td>\n",
       "      <td>99</td>\n",
       "      <td>51.9</td>\n",
       "      <td>48.1</td>\n",
       "      <td>BOS</td>\n",
       "      <td>17.3</td>\n",
       "      <td>12.1</td>\n",
       "      <td>54.3</td>\n",
       "      <td>50.0</td>\n",
       "      <td>48.8</td>\n",
       "      <td>45.5</td>\n",
       "    </tr>\n",
       "    <tr>\n",
       "      <th>2</th>\n",
       "      <td>54.7</td>\n",
       "      <td>48.9</td>\n",
       "      <td>2.07</td>\n",
       "      <td>1.10</td>\n",
       "      <td>17.6</td>\n",
       "      <td>14.4</td>\n",
       "      <td>68.6</td>\n",
       "      <td>63.0</td>\n",
       "      <td>113.9</td>\n",
       "      <td>119.7</td>\n",
       "      <td>...</td>\n",
       "      <td>131</td>\n",
       "      <td>52.4</td>\n",
       "      <td>47.6</td>\n",
       "      <td>BKN</td>\n",
       "      <td>12.0</td>\n",
       "      <td>17.4</td>\n",
       "      <td>60.3</td>\n",
       "      <td>60.6</td>\n",
       "      <td>56.4</td>\n",
       "      <td>54.3</td>\n",
       "    </tr>\n",
       "    <tr>\n",
       "      <th>3</th>\n",
       "      <td>35.7</td>\n",
       "      <td>50.0</td>\n",
       "      <td>0.63</td>\n",
       "      <td>1.22</td>\n",
       "      <td>7.9</td>\n",
       "      <td>15.3</td>\n",
       "      <td>53.2</td>\n",
       "      <td>74.2</td>\n",
       "      <td>122.8</td>\n",
       "      <td>74.5</td>\n",
       "      <td>...</td>\n",
       "      <td>124</td>\n",
       "      <td>37.6</td>\n",
       "      <td>62.4</td>\n",
       "      <td>POR</td>\n",
       "      <td>15.7</td>\n",
       "      <td>17.8</td>\n",
       "      <td>39.2</td>\n",
       "      <td>60.6</td>\n",
       "      <td>35.4</td>\n",
       "      <td>56.7</td>\n",
       "    </tr>\n",
       "    <tr>\n",
       "      <th>4</th>\n",
       "      <td>58.5</td>\n",
       "      <td>55.2</td>\n",
       "      <td>2.67</td>\n",
       "      <td>0.94</td>\n",
       "      <td>18.0</td>\n",
       "      <td>13.2</td>\n",
       "      <td>84.8</td>\n",
       "      <td>80.4</td>\n",
       "      <td>90.9</td>\n",
       "      <td>103.0</td>\n",
       "      <td>...</td>\n",
       "      <td>90</td>\n",
       "      <td>49.0</td>\n",
       "      <td>51.0</td>\n",
       "      <td>CHA</td>\n",
       "      <td>9.1</td>\n",
       "      <td>17.2</td>\n",
       "      <td>50.4</td>\n",
       "      <td>52.5</td>\n",
       "      <td>47.4</td>\n",
       "      <td>45.9</td>\n",
       "    </tr>\n",
       "  </tbody>\n",
       "</table>\n",
       "<p>5 rows × 37 columns</p>\n",
       "</div>"
      ],
      "text/plain": [
       "   AST%_h  AST%_r  AST/TO_h  AST/TO_r  ASTRatio_h  ASTRatio_r  DREB%_h  \\\n",
       "0    79.1    59.6      2.00      2.15        23.9        18.9     66.7   \n",
       "1    50.0    66.7      1.12      2.00        14.8        17.9     76.8   \n",
       "2    54.7    48.9      2.07      1.10        17.6        14.4     68.6   \n",
       "3    35.7    50.0      0.63      1.22         7.9        15.3     53.2   \n",
       "4    58.5    55.2      2.67      0.94        18.0        13.2     84.8   \n",
       "\n",
       "   DREB%_r  DefRtg_h  DefRtg_r   ...    PTS_r  REB%_h  REB%_r  RoadTeam  \\\n",
       "0     84.6     119.6     118.6   ...      122    45.2    54.8       HOU   \n",
       "1     77.1     100.0     104.1   ...       99    51.9    48.1       BOS   \n",
       "2     63.0     113.9     119.7   ...      131    52.4    47.6       BKN   \n",
       "3     74.2     122.8      74.5   ...      124    37.6    62.4       POR   \n",
       "4     80.4      90.9     103.0   ...       90    49.0    51.0       CHA   \n",
       "\n",
       "  TOV%_h TOV%_r  TS%_h  TS%_r  eFG%_h  eFG%_r  \n",
       "0   16.7   12.7   67.8   57.9    63.8    56.2  \n",
       "1   17.3   12.1   54.3   50.0    48.8    45.5  \n",
       "2   12.0   17.4   60.3   60.6    56.4    54.3  \n",
       "3   15.7   17.8   39.2   60.6    35.4    56.7  \n",
       "4    9.1   17.2   50.4   52.5    47.4    45.9  \n",
       "\n",
       "[5 rows x 37 columns]"
      ]
     },
     "execution_count": 38,
     "metadata": {},
     "output_type": "execute_result"
    }
   ],
   "source": [
    "df_train.head()"
   ]
  },
  {
   "cell_type": "code",
   "execution_count": 44,
   "metadata": {},
   "outputs": [],
   "source": [
    "#X_train = game_df.loc[:,['OffRtg_h', 'DefRtg_h', 'REB%_h', 'TOV%_h', 'TS%_h', 'PACE_h', 'ELO_h',\n",
    "#                         'OffRtg_r', 'DefRtg_r', 'REB%_r', 'TOV%_r', 'TS%_r', 'PACE_r', 'ELO_r']]\n",
    "X_train = df_train.loc[:,['DefRtg_h', 'PIE_h', 'FTARate_h', 'REB%_h', 'TOV%_h', 'TS%_h', 'PACE_h', 'ELO_h',\n",
    "                          'DefRtg_r', 'PIE_r', 'FTARate_r', 'REB%_r', 'TOV%_r', 'TS%_r', 'PACE_r', 'ELO_r']]\n",
    "y_train_h = df_train['PTS_h']\n",
    "y_train_r = df_train['PTS_r']"
   ]
  },
  {
   "cell_type": "code",
   "execution_count": 45,
   "metadata": {},
   "outputs": [
    {
     "data": {
      "text/plain": [
       "(1230, 16)"
      ]
     },
     "execution_count": 45,
     "metadata": {},
     "output_type": "execute_result"
    }
   ],
   "source": [
    "X_train.shape"
   ]
  },
  {
   "cell_type": "code",
   "execution_count": 47,
   "metadata": {},
   "outputs": [],
   "source": [
    "X_scaler = StandardScaler().fit(X_train)\n",
    "X_train_scaled = X_scaler.transform(X_train)"
   ]
  },
  {
   "cell_type": "code",
   "execution_count": 701,
   "metadata": {},
   "outputs": [],
   "source": [
    "homeLinearModel = LinearRegression()\n",
    "roadLinearModel = LinearRegression()"
   ]
  },
  {
   "cell_type": "code",
   "execution_count": 671,
   "metadata": {},
   "outputs": [],
   "source": [
    "#linearModel = LinearRegression()"
   ]
  },
  {
   "cell_type": "code",
   "execution_count": 672,
   "metadata": {},
   "outputs": [
    {
     "data": {
      "text/plain": [
       "LinearRegression(copy_X=True, fit_intercept=True, n_jobs=1, normalize=False)"
      ]
     },
     "execution_count": 672,
     "metadata": {},
     "output_type": "execute_result"
    }
   ],
   "source": [
    "#linearModel.fit(X_train_scaled, y)"
   ]
  },
  {
   "cell_type": "code",
   "execution_count": 673,
   "metadata": {},
   "outputs": [
    {
     "data": {
      "text/plain": [
       "0.9421288632690912"
      ]
     },
     "execution_count": 673,
     "metadata": {},
     "output_type": "execute_result"
    }
   ],
   "source": [
    "#linearModel.score(X_train_scaled, y)"
   ]
  },
  {
   "cell_type": "code",
   "execution_count": 702,
   "metadata": {},
   "outputs": [
    {
     "data": {
      "text/plain": [
       "LinearRegression(copy_X=True, fit_intercept=True, n_jobs=1, normalize=False)"
      ]
     },
     "execution_count": 702,
     "metadata": {},
     "output_type": "execute_result"
    }
   ],
   "source": [
    "homeLinearModel.fit(X_train_scaled, y_h)\n",
    "roadLinearModel.fit(X_train_scaled, y_r)"
   ]
  },
  {
   "cell_type": "code",
   "execution_count": 703,
   "metadata": {},
   "outputs": [
    {
     "data": {
      "text/plain": [
       "0.9397954244572464"
      ]
     },
     "execution_count": 703,
     "metadata": {},
     "output_type": "execute_result"
    }
   ],
   "source": [
    "homeLinearModel.score(X_train_scaled, y_h)"
   ]
  },
  {
   "cell_type": "code",
   "execution_count": 704,
   "metadata": {},
   "outputs": [
    {
     "data": {
      "text/plain": [
       "0.9442859315186201"
      ]
     },
     "execution_count": 704,
     "metadata": {},
     "output_type": "execute_result"
    }
   ],
   "source": [
    "roadLinearModel.score(X_train_scaled, y_r)"
   ]
  },
  {
   "cell_type": "code",
   "execution_count": 705,
   "metadata": {},
   "outputs": [
    {
     "data": {
      "text/plain": [
       "array([  1.13179316,   3.7218134 ,  -0.0675043 , -17.346949  ,\n",
       "        -0.72022729,   1.08607602,   2.51939399,   0.12453364,\n",
       "         9.27389857,   4.02541127,   0.09482707, -18.04671709,\n",
       "         0.60067408,  -1.04075873,   2.51939399,  -0.0449362 ])"
      ]
     },
     "execution_count": 705,
     "metadata": {},
     "output_type": "execute_result"
    }
   ],
   "source": [
    "homeLinearModel.coef_"
   ]
  },
  {
   "cell_type": "code",
   "execution_count": 706,
   "metadata": {},
   "outputs": [
    {
     "data": {
      "text/plain": [
       "array([ 1.01926916e+01, -6.00555603e+01,  2.86892045e-02, -3.85333663e+01,\n",
       "        2.90727045e-01, -5.30290354e-01,  2.50098758e+00,  1.82418571e-02,\n",
       "        7.96343309e-01, -5.98717577e+01, -1.04515988e-02, -3.79356090e+01,\n",
       "       -3.68491660e-01,  4.62271315e-01,  2.50098758e+00,  2.15941605e-02])"
      ]
     },
     "execution_count": 706,
     "metadata": {},
     "output_type": "execute_result"
    }
   ],
   "source": [
    "roadLinearModel.coef_"
   ]
  },
  {
   "cell_type": "code",
   "execution_count": 48,
   "metadata": {},
   "outputs": [],
   "source": [
    "from sklearn.linear_model import BayesianRidge"
   ]
  },
  {
   "cell_type": "code",
   "execution_count": 49,
   "metadata": {},
   "outputs": [],
   "source": [
    "homeBay = BayesianRidge(verbose=1)\n",
    "roadBay = BayesianRidge(verbose=1)"
   ]
  },
  {
   "cell_type": "code",
   "execution_count": 50,
   "metadata": {},
   "outputs": [
    {
     "data": {
      "text/plain": [
       "(1230, 16)"
      ]
     },
     "execution_count": 50,
     "metadata": {},
     "output_type": "execute_result"
    }
   ],
   "source": [
    "X_train_scaled.shape"
   ]
  },
  {
   "cell_type": "code",
   "execution_count": 52,
   "metadata": {},
   "outputs": [
    {
     "name": "stdout",
     "output_type": "stream",
     "text": [
      "Convergence after  4  iterations\n",
      "Convergence after  4  iterations\n"
     ]
    },
    {
     "data": {
      "text/plain": [
       "BayesianRidge(alpha_1=1e-06, alpha_2=1e-06, compute_score=False, copy_X=True,\n",
       "       fit_intercept=True, lambda_1=1e-06, lambda_2=1e-06, n_iter=300,\n",
       "       normalize=False, tol=0.001, verbose=1)"
      ]
     },
     "execution_count": 52,
     "metadata": {},
     "output_type": "execute_result"
    }
   ],
   "source": [
    "homeBay.fit(X_train_scaled, y_train_h)\n",
    "roadBay.fit(X_train_scaled, y_train_r)"
   ]
  },
  {
   "cell_type": "code",
   "execution_count": 54,
   "metadata": {},
   "outputs": [
    {
     "data": {
      "text/plain": [
       "0.9397818510165548"
      ]
     },
     "execution_count": 54,
     "metadata": {},
     "output_type": "execute_result"
    }
   ],
   "source": [
    "homeBay.score(X_train_scaled, y_train_h)"
   ]
  },
  {
   "cell_type": "code",
   "execution_count": 55,
   "metadata": {},
   "outputs": [
    {
     "data": {
      "text/plain": [
       "0.9442227910412742"
      ]
     },
     "execution_count": 55,
     "metadata": {},
     "output_type": "execute_result"
    }
   ],
   "source": [
    "roadBay.score(X_train_scaled, y_train_r)"
   ]
  },
  {
   "cell_type": "code",
   "execution_count": 56,
   "metadata": {},
   "outputs": [],
   "source": [
    "# Bayesian Ridge\n",
    "bay_rig_home_filename = 'bay_rig_home_model.pkl'\n",
    "pickle.dump(homeBay, open(bay_rig_home_filename, 'wb'))\n",
    "bay_rig_road_filename = 'bay_rig_road_model.pkl'\n",
    "pickle.dump(roadBay, open(bay_rig_road_filename, 'wb'))"
   ]
  },
  {
   "cell_type": "code",
   "execution_count": 31,
   "metadata": {},
   "outputs": [],
   "source": [
    "from sklearn.linear_model import HuberRegressor"
   ]
  },
  {
   "cell_type": "code",
   "execution_count": 716,
   "metadata": {},
   "outputs": [],
   "source": [
    "huberModelHome = HuberRegressor()\n",
    "huberModelRoad = HuberRegressor()"
   ]
  },
  {
   "cell_type": "code",
   "execution_count": 717,
   "metadata": {},
   "outputs": [
    {
     "data": {
      "text/plain": [
       "HuberRegressor(alpha=0.0001, epsilon=1.35, fit_intercept=True, max_iter=100,\n",
       "        tol=1e-05, warm_start=False)"
      ]
     },
     "execution_count": 717,
     "metadata": {},
     "output_type": "execute_result"
    }
   ],
   "source": [
    "huberModelHome.fit(X_train_scaled, y_h)\n",
    "huberModelRoad.fit(X_train_scaled, y_r)"
   ]
  },
  {
   "cell_type": "code",
   "execution_count": 718,
   "metadata": {},
   "outputs": [
    {
     "data": {
      "text/plain": [
       "0.9372990759987583"
      ]
     },
     "execution_count": 718,
     "metadata": {},
     "output_type": "execute_result"
    }
   ],
   "source": [
    "huberModelHome.score(X_train_scaled, y_h)"
   ]
  },
  {
   "cell_type": "code",
   "execution_count": 719,
   "metadata": {},
   "outputs": [
    {
     "data": {
      "text/plain": [
       "0.9419763447686365"
      ]
     },
     "execution_count": 719,
     "metadata": {},
     "output_type": "execute_result"
    }
   ],
   "source": [
    "huberModelRoad.score(X_train_scaled, y_r)"
   ]
  },
  {
   "cell_type": "code",
   "execution_count": 721,
   "metadata": {},
   "outputs": [],
   "source": [
    "from sklearn import linear_model"
   ]
  },
  {
   "cell_type": "code",
   "execution_count": 723,
   "metadata": {},
   "outputs": [],
   "source": [
    "ardModelHome = linear_model.ARDRegression(verbose=1)\n",
    "ardModelRoad = linear_model.ARDRegression(verbose=1)"
   ]
  },
  {
   "cell_type": "code",
   "execution_count": 724,
   "metadata": {},
   "outputs": [
    {
     "name": "stdout",
     "output_type": "stream",
     "text": [
      "Converged after 134 iterations\n",
      "Converged after 88 iterations\n"
     ]
    },
    {
     "data": {
      "text/plain": [
       "ARDRegression(alpha_1=1e-06, alpha_2=1e-06, compute_score=False, copy_X=True,\n",
       "       fit_intercept=True, lambda_1=1e-06, lambda_2=1e-06, n_iter=300,\n",
       "       normalize=False, threshold_lambda=10000.0, tol=0.001, verbose=1)"
      ]
     },
     "execution_count": 724,
     "metadata": {},
     "output_type": "execute_result"
    }
   ],
   "source": [
    "ardModelHome.fit(X_train_scaled, y_h)\n",
    "ardModelRoad.fit(X_train_scaled, y_r)"
   ]
  },
  {
   "cell_type": "code",
   "execution_count": 884,
   "metadata": {},
   "outputs": [
    {
     "data": {
      "text/plain": [
       "array([ 5.10174592e-01,  7.70582672e-05, -7.04595300e-04,  7.62699686e-02,\n",
       "       -4.18438380e-01,  5.80185099e-01,  2.52011465e+00,  4.02889983e-02,\n",
       "        9.72916447e+00, -6.35693110e-05,  1.76681051e-03, -2.45188769e-01,\n",
       "        2.32871963e-01, -3.60893335e-01,  2.52011465e+00,  0.00000000e+00])"
      ]
     },
     "execution_count": 884,
     "metadata": {},
     "output_type": "execute_result"
    }
   ],
   "source": [
    "ardModelHome.coef_"
   ]
  },
  {
   "cell_type": "code",
   "execution_count": 725,
   "metadata": {},
   "outputs": [
    {
     "data": {
      "text/plain": [
       "0.9393773505357557"
      ]
     },
     "execution_count": 725,
     "metadata": {},
     "output_type": "execute_result"
    }
   ],
   "source": [
    "ardModelHome.score(X_train_scaled, y_h)"
   ]
  },
  {
   "cell_type": "code",
   "execution_count": 727,
   "metadata": {},
   "outputs": [
    {
     "data": {
      "text/plain": [
       "0.9437573431084013"
      ]
     },
     "execution_count": 727,
     "metadata": {},
     "output_type": "execute_result"
    }
   ],
   "source": [
    "ardModelRoad.score(X_train_scaled, y_r)"
   ]
  },
  {
   "cell_type": "code",
   "execution_count": 903,
   "metadata": {},
   "outputs": [],
   "source": [
    "sgdModelHome = linear_model.SGDRegressor(loss='huber', penalty='l2', learning_rate='optimal', max_iter=1000, tol=1e-3, verbose=1)\n",
    "sgdModelRoad = linear_model.SGDRegressor(loss='huber', penalty='l2', learning_rate='optimal', max_iter=1000, tol=1e-3, verbose=1)"
   ]
  },
  {
   "cell_type": "code",
   "execution_count": 904,
   "metadata": {},
   "outputs": [
    {
     "name": "stdout",
     "output_type": "stream",
     "text": [
      "-- Epoch 1\n",
      "Norm: 10.52, NNZs: 16, Bias: 107.804994, T: 1230, Avg. loss: 1.085507\n",
      "Total training time: 0.00 seconds.\n",
      "-- Epoch 2\n",
      "Norm: 9.87, NNZs: 16, Bias: 107.324913, T: 2460, Avg. loss: 0.361952\n",
      "Total training time: 0.00 seconds.\n",
      "-- Epoch 3\n",
      "Norm: 10.04, NNZs: 16, Bias: 107.174008, T: 3690, Avg. loss: 0.271734\n",
      "Total training time: 0.00 seconds.\n",
      "-- Epoch 4\n",
      "Norm: 10.10, NNZs: 16, Bias: 107.242798, T: 4920, Avg. loss: 0.225487\n",
      "Total training time: 0.00 seconds.\n",
      "-- Epoch 5\n",
      "Norm: 9.96, NNZs: 16, Bias: 106.818391, T: 6150, Avg. loss: 0.202803\n",
      "Total training time: 0.00 seconds.\n",
      "-- Epoch 6\n",
      "Norm: 10.29, NNZs: 16, Bias: 106.696176, T: 7380, Avg. loss: 0.180629\n",
      "Total training time: 0.00 seconds.\n",
      "-- Epoch 7\n",
      "Norm: 10.22, NNZs: 16, Bias: 106.576206, T: 8610, Avg. loss: 0.166145\n",
      "Total training time: 0.00 seconds.\n",
      "-- Epoch 8\n",
      "Norm: 10.06, NNZs: 16, Bias: 107.155606, T: 9840, Avg. loss: 0.157345\n",
      "Total training time: 0.00 seconds.\n",
      "-- Epoch 9\n",
      "Norm: 10.26, NNZs: 16, Bias: 106.451167, T: 11070, Avg. loss: 0.152991\n",
      "Total training time: 0.00 seconds.\n",
      "-- Epoch 10\n",
      "Norm: 10.26, NNZs: 16, Bias: 106.864736, T: 12300, Avg. loss: 0.143122\n",
      "Total training time: 0.00 seconds.\n",
      "-- Epoch 11\n",
      "Norm: 10.42, NNZs: 16, Bias: 107.196979, T: 13530, Avg. loss: 0.140751\n",
      "Total training time: 0.00 seconds.\n",
      "-- Epoch 12\n",
      "Norm: 10.08, NNZs: 16, Bias: 106.761846, T: 14760, Avg. loss: 0.136089\n",
      "Total training time: 0.00 seconds.\n",
      "-- Epoch 13\n",
      "Norm: 9.98, NNZs: 16, Bias: 106.613488, T: 15990, Avg. loss: 0.134479\n",
      "Total training time: 0.00 seconds.\n",
      "-- Epoch 14\n",
      "Norm: 10.11, NNZs: 16, Bias: 106.789852, T: 17220, Avg. loss: 0.131580\n",
      "Total training time: 0.00 seconds.\n",
      "-- Epoch 15\n",
      "Norm: 10.37, NNZs: 16, Bias: 107.038889, T: 18450, Avg. loss: 0.128630\n",
      "Total training time: 0.00 seconds.\n",
      "-- Epoch 16\n",
      "Norm: 10.15, NNZs: 16, Bias: 106.878715, T: 19680, Avg. loss: 0.127895\n",
      "Total training time: 0.00 seconds.\n",
      "Convergence after 16 epochs took 0.00 seconds\n",
      "-- Epoch 1\n",
      "Norm: 10.65, NNZs: 16, Bias: 104.472174, T: 1230, Avg. loss: 1.069170\n",
      "Total training time: 0.00 seconds.\n",
      "-- Epoch 2\n",
      "Norm: 10.54, NNZs: 16, Bias: 105.198790, T: 2460, Avg. loss: 0.362453\n",
      "Total training time: 0.00 seconds.\n",
      "-- Epoch 3\n",
      "Norm: 10.56, NNZs: 16, Bias: 105.020486, T: 3690, Avg. loss: 0.275347\n",
      "Total training time: 0.00 seconds.\n",
      "-- Epoch 4\n",
      "Norm: 11.04, NNZs: 16, Bias: 104.549555, T: 4920, Avg. loss: 0.224848\n",
      "Total training time: 0.00 seconds.\n",
      "-- Epoch 5\n",
      "Norm: 10.39, NNZs: 16, Bias: 105.102930, T: 6150, Avg. loss: 0.200287\n",
      "Total training time: 0.00 seconds.\n",
      "-- Epoch 6\n",
      "Norm: 10.95, NNZs: 16, Bias: 104.169327, T: 7380, Avg. loss: 0.180599\n",
      "Total training time: 0.00 seconds.\n",
      "-- Epoch 7\n",
      "Norm: 10.50, NNZs: 16, Bias: 104.993238, T: 8610, Avg. loss: 0.168508\n",
      "Total training time: 0.00 seconds.\n",
      "-- Epoch 8\n",
      "Norm: 10.56, NNZs: 16, Bias: 104.767894, T: 9840, Avg. loss: 0.157640\n",
      "Total training time: 0.00 seconds.\n",
      "-- Epoch 9\n",
      "Norm: 10.77, NNZs: 16, Bias: 105.177804, T: 11070, Avg. loss: 0.153179\n",
      "Total training time: 0.00 seconds.\n",
      "-- Epoch 10\n",
      "Norm: 10.71, NNZs: 16, Bias: 104.704502, T: 12300, Avg. loss: 0.145760\n",
      "Total training time: 0.00 seconds.\n",
      "-- Epoch 11\n",
      "Norm: 10.55, NNZs: 16, Bias: 104.800878, T: 13530, Avg. loss: 0.138544\n",
      "Total training time: 0.00 seconds.\n",
      "-- Epoch 12\n",
      "Norm: 10.61, NNZs: 16, Bias: 104.451388, T: 14760, Avg. loss: 0.136800\n",
      "Total training time: 0.00 seconds.\n",
      "-- Epoch 13\n",
      "Norm: 10.47, NNZs: 16, Bias: 104.839141, T: 15990, Avg. loss: 0.133489\n",
      "Total training time: 0.00 seconds.\n",
      "-- Epoch 14\n",
      "Norm: 10.66, NNZs: 16, Bias: 104.950470, T: 17220, Avg. loss: 0.131468\n",
      "Total training time: 0.00 seconds.\n",
      "-- Epoch 15\n",
      "Norm: 10.20, NNZs: 16, Bias: 104.783332, T: 18450, Avg. loss: 0.127657\n",
      "Total training time: 0.00 seconds.\n",
      "-- Epoch 16\n",
      "Norm: 11.02, NNZs: 16, Bias: 104.894297, T: 19680, Avg. loss: 0.127815\n",
      "Total training time: 0.00 seconds.\n",
      "Convergence after 16 epochs took 0.00 seconds\n"
     ]
    },
    {
     "data": {
      "text/plain": [
       "SGDRegressor(alpha=0.0001, average=False, epsilon=0.1, eta0=0.01,\n",
       "       fit_intercept=True, l1_ratio=0.15, learning_rate='optimal',\n",
       "       loss='huber', max_iter=1000, n_iter=None, penalty='l2',\n",
       "       power_t=0.25, random_state=None, shuffle=True, tol=0.001, verbose=1,\n",
       "       warm_start=False)"
      ]
     },
     "execution_count": 904,
     "metadata": {},
     "output_type": "execute_result"
    }
   ],
   "source": [
    "sgdModelHome.fit(X_train_scaled, y_h)\n",
    "sgdModelRoad.fit(X_train_scaled, y_r)"
   ]
  },
  {
   "cell_type": "code",
   "execution_count": 905,
   "metadata": {},
   "outputs": [
    {
     "data": {
      "text/plain": [
       "0.9345778117012056"
      ]
     },
     "execution_count": 905,
     "metadata": {},
     "output_type": "execute_result"
    }
   ],
   "source": [
    "sgdModelHome.score(X_train_scaled, y_h)"
   ]
  },
  {
   "cell_type": "code",
   "execution_count": 906,
   "metadata": {},
   "outputs": [
    {
     "data": {
      "text/plain": [
       "array([ 0.96939497, -0.11147219, -0.28903196,  0.37073736, -0.33157463,\n",
       "        0.72690852,  2.51868785, -0.14629418,  9.31936069,  0.12295225,\n",
       "        0.05172473, -0.38680976,  0.68820919, -0.9810774 ,  2.51868785,\n",
       "       -0.10385031])"
      ]
     },
     "execution_count": 906,
     "metadata": {},
     "output_type": "execute_result"
    }
   ],
   "source": [
    "sgdModelHome.coef_"
   ]
  },
  {
   "cell_type": "code",
   "execution_count": 907,
   "metadata": {},
   "outputs": [
    {
     "data": {
      "text/plain": [
       "0.9409222722151015"
      ]
     },
     "execution_count": 907,
     "metadata": {},
     "output_type": "execute_result"
    }
   ],
   "source": [
    "sgdModelRoad.score(X_train_scaled, y_r)"
   ]
  },
  {
   "cell_type": "code",
   "execution_count": 908,
   "metadata": {},
   "outputs": [
    {
     "data": {
      "text/plain": [
       "array([10.1905646 ,  0.06764397,  0.39153305, -0.48158824,  0.67051475,\n",
       "       -0.96027333,  2.60233465,  0.03848799,  0.9331764 , -0.07220682,\n",
       "       -0.04709335,  0.45482637, -0.67713567,  0.90889159,  2.60233465,\n",
       "       -0.09839931])"
      ]
     },
     "execution_count": 908,
     "metadata": {},
     "output_type": "execute_result"
    }
   ],
   "source": [
    "sgdModelRoad.coef_"
   ]
  },
  {
   "cell_type": "code",
   "execution_count": 30,
   "metadata": {},
   "outputs": [],
   "source": [
    "from sklearn.linear_model import TheilSenRegressor"
   ]
  },
  {
   "cell_type": "code",
   "execution_count": 813,
   "metadata": {},
   "outputs": [],
   "source": [
    "theilModelHome = TheilSenRegressor(verbose=1)\n",
    "theilModelRoad = TheilSenRegressor(verbose=1)"
   ]
  },
  {
   "cell_type": "code",
   "execution_count": 816,
   "metadata": {},
   "outputs": [
    {
     "name": "stdout",
     "output_type": "stream",
     "text": [
      "Breakdown point: 0.039433595250634945\n",
      "Number of samples: 1230\n",
      "Tolerable outliers: 48\n",
      "Number of subpopulations: 10000\n"
     ]
    },
    {
     "name": "stderr",
     "output_type": "stream",
     "text": [
      "[Parallel(n_jobs=1)]: Done   1 out of   1 | elapsed:    0.3s finished\n"
     ]
    },
    {
     "name": "stdout",
     "output_type": "stream",
     "text": [
      "Breakdown point: 0.039433595250634945\n",
      "Number of samples: 1230\n",
      "Tolerable outliers: 48\n",
      "Number of subpopulations: 10000\n"
     ]
    },
    {
     "name": "stderr",
     "output_type": "stream",
     "text": [
      "[Parallel(n_jobs=1)]: Done   1 out of   1 | elapsed:    0.3s finished\n"
     ]
    },
    {
     "data": {
      "text/plain": [
       "TheilSenRegressor(copy_X=True, fit_intercept=True, max_iter=300,\n",
       "         max_subpopulation=10000, n_jobs=1, n_subsamples=None,\n",
       "         random_state=None, tol=0.001, verbose=1)"
      ]
     },
     "execution_count": 816,
     "metadata": {},
     "output_type": "execute_result"
    }
   ],
   "source": [
    "theilModelHome.fit(X_train_scaled, y_h)\n",
    "theilModelRoad.fit(X_train_scaled, y_r)"
   ]
  },
  {
   "cell_type": "code",
   "execution_count": 817,
   "metadata": {},
   "outputs": [
    {
     "data": {
      "text/plain": [
       "0.9384839744194453"
      ]
     },
     "execution_count": 817,
     "metadata": {},
     "output_type": "execute_result"
    }
   ],
   "source": [
    "theilModelHome.score(X_train_scaled, y_h)"
   ]
  },
  {
   "cell_type": "code",
   "execution_count": 818,
   "metadata": {},
   "outputs": [
    {
     "data": {
      "text/plain": [
       "0.9430472054282915"
      ]
     },
     "execution_count": 818,
     "metadata": {},
     "output_type": "execute_result"
    }
   ],
   "source": [
    "theilModelRoad.score(X_train_scaled, y_r)"
   ]
  },
  {
   "cell_type": "code",
   "execution_count": 29,
   "metadata": {},
   "outputs": [],
   "source": [
    "from sklearn.linear_model import RANSACRegressor"
   ]
  },
  {
   "cell_type": "code",
   "execution_count": 821,
   "metadata": {},
   "outputs": [],
   "source": [
    "ransacModelHome = RANSACRegressor()\n",
    "ransacModelRoad = RANSACRegressor()"
   ]
  },
  {
   "cell_type": "code",
   "execution_count": 822,
   "metadata": {},
   "outputs": [
    {
     "data": {
      "text/plain": [
       "RANSACRegressor(base_estimator=None, is_data_valid=None, is_model_valid=None,\n",
       "        loss='absolute_loss', max_skips=inf, max_trials=100,\n",
       "        min_samples=None, random_state=None, residual_metric=None,\n",
       "        residual_threshold=None, stop_n_inliers=inf, stop_probability=0.99,\n",
       "        stop_score=inf)"
      ]
     },
     "execution_count": 822,
     "metadata": {},
     "output_type": "execute_result"
    }
   ],
   "source": [
    "ransacModelHome.fit(X_train_scaled, y_h)\n",
    "ransacModelRoad.fit(X_train_scaled, y_r)"
   ]
  },
  {
   "cell_type": "code",
   "execution_count": 823,
   "metadata": {},
   "outputs": [
    {
     "data": {
      "text/plain": [
       "0.937165217060601"
      ]
     },
     "execution_count": 823,
     "metadata": {},
     "output_type": "execute_result"
    }
   ],
   "source": [
    "ransacModelHome.score(X_train_scaled, y_h)"
   ]
  },
  {
   "cell_type": "code",
   "execution_count": 824,
   "metadata": {},
   "outputs": [
    {
     "data": {
      "text/plain": [
       "0.9416187434468098"
      ]
     },
     "execution_count": 824,
     "metadata": {},
     "output_type": "execute_result"
    }
   ],
   "source": [
    "ransacModelRoad.score(X_train_scaled, y_r)"
   ]
  },
  {
   "cell_type": "code",
   "execution_count": 957,
   "metadata": {},
   "outputs": [],
   "source": [
    "from sklearn.linear_model import Lasso"
   ]
  },
  {
   "cell_type": "code",
   "execution_count": 962,
   "metadata": {},
   "outputs": [],
   "source": [
    "lassoModelHome = Lasso(alpha=1.0)\n",
    "lassoModelRoad = Lasso(alpha=1.0)"
   ]
  },
  {
   "cell_type": "code",
   "execution_count": 969,
   "metadata": {},
   "outputs": [
    {
     "data": {
      "text/plain": [
       "Lasso(alpha=1.0, copy_X=True, fit_intercept=True, max_iter=1000,\n",
       "   normalize=False, positive=False, precompute=False, random_state=None,\n",
       "   selection='cyclic', tol=0.0001, warm_start=False)"
      ]
     },
     "execution_count": 969,
     "metadata": {},
     "output_type": "execute_result"
    }
   ],
   "source": [
    "lassoModelHome.fit(X_train_scaled, y_h)"
   ]
  },
  {
   "cell_type": "code",
   "execution_count": 970,
   "metadata": {},
   "outputs": [
    {
     "data": {
      "text/plain": [
       "array([ 0.        ,  0.        ,  0.        ,  0.        , -0.        ,\n",
       "        0.        ,  3.55893571,  0.        ,  9.40972313, -0.        ,\n",
       "        0.        , -0.        , -0.        ,  0.        ,  0.4537004 ,\n",
       "       -0.        ])"
      ]
     },
     "execution_count": 970,
     "metadata": {},
     "output_type": "execute_result"
    }
   ],
   "source": [
    "lassoModelHome.coef_"
   ]
  },
  {
   "cell_type": "code",
   "execution_count": 971,
   "metadata": {},
   "outputs": [
    {
     "data": {
      "text/plain": [
       "0.9233149799983127"
      ]
     },
     "execution_count": 971,
     "metadata": {},
     "output_type": "execute_result"
    }
   ],
   "source": [
    "lassoModelHome.score(X_train_scaled, y_h)"
   ]
  },
  {
   "cell_type": "code",
   "execution_count": 972,
   "metadata": {},
   "outputs": [
    {
     "data": {
      "text/plain": [
       "Index(['DefRtg_h', 'PIE_h', 'FTARate_h', 'REB%_h', 'TOV%_h', 'TS%_h', 'PACE_h',\n",
       "       'ELO_h', 'DefRtg_r', 'PIE_r', 'FTARate_r', 'REB%_r', 'TOV%_r', 'TS%_r',\n",
       "       'PACE_r', 'ELO_r'],\n",
       "      dtype='object')"
      ]
     },
     "execution_count": 972,
     "metadata": {},
     "output_type": "execute_result"
    }
   ],
   "source": [
    "X_train.columns"
   ]
  },
  {
   "cell_type": "code",
   "execution_count": 973,
   "metadata": {},
   "outputs": [
    {
     "data": {
      "text/plain": [
       "0.92939081410785"
      ]
     },
     "execution_count": 973,
     "metadata": {},
     "output_type": "execute_result"
    }
   ],
   "source": [
    "lassoModelRoad.fit(X_train_scaled, y_r)\n",
    "lassoModelRoad.score(X_train_scaled, y_r)"
   ]
  },
  {
   "cell_type": "code",
   "execution_count": 974,
   "metadata": {},
   "outputs": [
    {
     "data": {
      "text/plain": [
       "array([ 9.97690556e+00, -0.00000000e+00,  0.00000000e+00, -0.00000000e+00,\n",
       "       -0.00000000e+00,  0.00000000e+00,  3.92977402e+00, -0.00000000e+00,\n",
       "        0.00000000e+00,  0.00000000e+00,  0.00000000e+00,  0.00000000e+00,\n",
       "       -0.00000000e+00,  0.00000000e+00,  7.19526053e-03,  0.00000000e+00])"
      ]
     },
     "execution_count": 974,
     "metadata": {},
     "output_type": "execute_result"
    }
   ],
   "source": [
    "lassoModelRoad.coef_"
   ]
  },
  {
   "cell_type": "markdown",
   "metadata": {},
   "source": [
    "# Create Testing Data"
   ]
  },
  {
   "cell_type": "code",
   "execution_count": 14,
   "metadata": {},
   "outputs": [],
   "source": [
    "# Url to get all boxscores for 2017-2018 regular season games\n",
    "nba_18_19_trad_boxscores_url = \"https://stats.nba.com/teams/boxscores-traditional/\"\n",
    "nba_18_19_boxscores_url = \"https://stats.nba.com/teams/boxscores-advanced/\"\n",
    "nba_18_19_fourfactor_url = \"https://stats.nba.com/teams/boxscores-four-factors/\""
   ]
  },
  {
   "cell_type": "code",
   "execution_count": 15,
   "metadata": {},
   "outputs": [],
   "source": [
    "browser = init_browser(False)"
   ]
  },
  {
   "cell_type": "code",
   "execution_count": 16,
   "metadata": {},
   "outputs": [],
   "source": [
    "# visit website\n",
    "browser.visit(nba_18_19_boxscores_url)\n",
    "time.sleep(10)\n",
    "# get click path by xpath from browser inspector\n",
    "sel_all_path = browser.find_by_xpath(\"/html/body/main/div[2]/div/div[2]/div/div/nba-stat-table/div[1]/div/div/select/option[1]\")\n",
    "# select to display all games\n",
    "sel_all_path.click()\n",
    "time.sleep(5)\n",
    "# parse html in soup\n",
    "html = browser.html\n",
    "# Parse with soup\n",
    "soup = bs(html, 'html.parser')\n",
    "# Find all tables\n",
    "table = soup.find_all('table')[0] \n",
    "df = pd.read_html(str(table))\n",
    "# drop season column since unneeded\n",
    "df_adv = df[0].drop(columns=['Season'])\n",
    "# Rename column names\n",
    "df_adv.rename(columns={\"Game\\xa0Date\": \"GameDate\", \"Match\\xa0Up\": \"MatchUp\"}, inplace=True)\n",
    "# change gamedate to datetime\n",
    "df_adv['GameDate'] = df_adv['GameDate'].apply(lambda x: dt.datetime.strptime(x, \"%m/%d/%Y\"))\n",
    "df_adv = df_adv.drop(['MIN'], axis=1)\n",
    "\n",
    "# visit website\n",
    "browser.visit(nba_18_19_fourfactor_url)\n",
    "time.sleep(10)\n",
    "# get click path by xpath from browser inspector\n",
    "sel_all_path = browser.find_by_xpath(\"/html/body/main/div[2]/div/div[2]/div/div/nba-stat-table/div[1]/div/div/select/option[1]\")\n",
    "# select to display all games\n",
    "sel_all_path.click()\n",
    "time.sleep(5)\n",
    "# parse html in soup\n",
    "html = browser.html\n",
    "# Parse with soup\n",
    "soup = bs(html, 'html.parser')\n",
    "# Find all tables\n",
    "table = soup.find_all('table')[0] \n",
    "df = pd.read_html(str(table))\n",
    "# drop season column since unneeded\n",
    "df = df[0].drop(columns=['Season'])\n",
    "# Rename columns\n",
    "df.rename(columns={\"Game\\xa0Date\": \"GameDate\", \"Match\\xa0Up\": \"MatchUp\", \"OppFTA\\xa0Rate\": \"OppFTARate\"}, inplace=True)\n",
    "# Convert to float percent values\n",
    "df['OREB%'] = df['OREB%'].str.rstrip('%').astype('float')\n",
    "df['OppOREB%'] = df['OppOREB%'].str.rstrip('%').astype('float')\n",
    "df['OppeFG%'] = df['OppeFG%'].str.rstrip('%').astype('float')\n",
    "df['eFG%'] = df['eFG%'].str.rstrip('%').astype('float')\n",
    "# change gamedate to datetime\n",
    "df['GameDate'] = df['GameDate'].apply(lambda x: dt.datetime.strptime(x, \"%m/%d/%Y\"))\n",
    "df_ff = df.drop(['MIN', 'MatchUp', 'W/L', 'eFG%', 'OREB%', 'TOV%', 'OppeFG%', 'OppFTARate', 'OppTOV%', 'OppOREB%'], axis=1)\n",
    "\n",
    "# visit website\n",
    "browser.visit(nba_18_19_trad_boxscores_url)\n",
    "time.sleep(10)\n",
    "# get click path by xpath from browser inspector\n",
    "sel_all_path = browser.find_by_xpath(\"/html/body/main/div[2]/div/div[2]/div/div/nba-stat-table/div[1]/div/div/select/option[1]\")\n",
    "# select to display all games\n",
    "sel_all_path.click()\n",
    "time.sleep(5)\n",
    "# parse html in soup\n",
    "html = browser.html\n",
    "# Parse with soup\n",
    "soup = bs(html, 'html.parser')\n",
    "# Find all tables\n",
    "table = soup.find_all('table')[0] \n",
    "df = pd.read_html(str(table))\n",
    "# drop season column since unneeded\n",
    "df = df[0].drop(columns=['Season'])\n",
    "# Rename columns\n",
    "df.rename(columns={\"Game\\xa0Date\": \"GameDate\", \"Match\\xa0Up\": \"MatchUp\"}, inplace=True)\n",
    "# change gamedate to datetime\n",
    "df['GameDate'] = df['GameDate'].apply(lambda x: dt.datetime.strptime(x, \"%m/%d/%Y\"))\n",
    "df_trad = df.drop(['MIN', 'MatchUp', 'W/L', 'FGM', 'FGA', 'FG%', '3PM', '3PA', '3P%',\n",
    "       'FTM', 'FTA', 'FT%', 'OREB', 'DREB', 'REB', 'AST', 'TOV', 'STL', 'BLK',\n",
    "       'PF', '+/-'], axis=1)"
   ]
  },
  {
   "cell_type": "code",
   "execution_count": 17,
   "metadata": {},
   "outputs": [],
   "source": [
    "browser.quit()"
   ]
  },
  {
   "cell_type": "code",
   "execution_count": 18,
   "metadata": {},
   "outputs": [],
   "source": [
    "result_test = pd.merge(df_adv, df_ff, on=['Team', 'GameDate'])\n",
    "result_test_final = pd.merge(result_test, df_trad, on=['Team', 'GameDate'])"
   ]
  },
  {
   "cell_type": "code",
   "execution_count": 19,
   "metadata": {},
   "outputs": [],
   "source": [
    "result_test_sorted = result_test_final.sort_values(['GameDate'], ascending = 1).reset_index(drop=True)"
   ]
  },
  {
   "cell_type": "code",
   "execution_count": 20,
   "metadata": {},
   "outputs": [],
   "source": [
    "game_dates = result_test_sorted['GameDate'].unique()\n",
    "game_dates = [game_day for game_day in game_dates]"
   ]
  },
  {
   "cell_type": "code",
   "execution_count": 21,
   "metadata": {},
   "outputs": [],
   "source": [
    "temp_df = result_test_sorted.copy()"
   ]
  },
  {
   "cell_type": "code",
   "execution_count": 22,
   "metadata": {},
   "outputs": [],
   "source": [
    "temp = db.nba_team_elo_testing.find()\n",
    "temp = list(temp)\n",
    "for i in temp:\n",
    "    i.pop('_id', None)\n",
    "elo_testing = temp[0]"
   ]
  },
  {
   "cell_type": "code",
   "execution_count": 23,
   "metadata": {},
   "outputs": [],
   "source": [
    "teamEloHist = {}\n",
    "for k, v in elo_testing.items():\n",
    "    teamEloHist[k] = [['Start'], [math.ceil(v)]]"
   ]
  },
  {
   "cell_type": "code",
   "execution_count": 24,
   "metadata": {},
   "outputs": [
    {
     "data": {
      "text/plain": [
       "1"
      ]
     },
     "execution_count": 24,
     "metadata": {},
     "output_type": "execute_result"
    }
   ],
   "source": [
    "#teamEloHist['ATL'][0].append('@LAL')\n",
    "len(teamEloHist['ATL'][1])"
   ]
  },
  {
   "cell_type": "code",
   "execution_count": 25,
   "metadata": {},
   "outputs": [
    {
     "data": {
      "text/plain": [
       "{'ATL': [['Start'], [1376]],\n",
       " 'BKN': [['Start'], [1386]],\n",
       " 'BOS': [['Start'], [1594]],\n",
       " 'CHA': [['Start'], [1448]],\n",
       " 'CHI': [['Start'], [1368]],\n",
       " 'CLE': [['Start'], [1571]],\n",
       " 'DAL': [['Start'], [1344]],\n",
       " 'DEN': [['Start'], [1572]],\n",
       " 'DET': [['Start'], [1462]],\n",
       " 'GSW': [['Start'], [1620]],\n",
       " 'HOU': [['Start'], [1728]],\n",
       " 'IND': [['Start'], [1582]],\n",
       " 'LAC': [['Start'], [1525]],\n",
       " 'LAL': [['Start'], [1452]],\n",
       " 'MEM': [['Start'], [1313]],\n",
       " 'MIA': [['Start'], [1519]],\n",
       " 'MIL': [['Start'], [1519]],\n",
       " 'MIN': [['Start'], [1534]],\n",
       " 'NOP': [['Start'], [1589]],\n",
       " 'NYK': [['Start'], [1357]],\n",
       " 'OKC': [['Start'], [1587]],\n",
       " 'ORL': [['Start'], [1337]],\n",
       " 'PHI': [['Start'], [1625]],\n",
       " 'PHX': [['Start'], [1287]],\n",
       " 'POR': [['Start'], [1599]],\n",
       " 'SAC': [['Start'], [1391]],\n",
       " 'SAS': [['Start'], [1559]],\n",
       " 'TOR': [['Start'], [1653]],\n",
       " 'UTA': [['Start'], [1627]],\n",
       " 'WAS': [['Start'], [1492]]}"
      ]
     },
     "execution_count": 25,
     "metadata": {},
     "output_type": "execute_result"
    }
   ],
   "source": [
    "teamEloHist"
   ]
  },
  {
   "cell_type": "code",
   "execution_count": 26,
   "metadata": {},
   "outputs": [
    {
     "data": {
      "text/html": [
       "<div>\n",
       "<style scoped>\n",
       "    .dataframe tbody tr th:only-of-type {\n",
       "        vertical-align: middle;\n",
       "    }\n",
       "\n",
       "    .dataframe tbody tr th {\n",
       "        vertical-align: top;\n",
       "    }\n",
       "\n",
       "    .dataframe thead th {\n",
       "        text-align: right;\n",
       "    }\n",
       "</style>\n",
       "<table border=\"1\" class=\"dataframe\">\n",
       "  <thead>\n",
       "    <tr style=\"text-align: right;\">\n",
       "      <th></th>\n",
       "      <th>Team</th>\n",
       "      <th>MatchUp</th>\n",
       "      <th>GameDate</th>\n",
       "      <th>W/L</th>\n",
       "      <th>OffRtg</th>\n",
       "      <th>DefRtg</th>\n",
       "      <th>NetRtg</th>\n",
       "      <th>AST%</th>\n",
       "      <th>AST/TO</th>\n",
       "      <th>ASTRatio</th>\n",
       "      <th>OREB%</th>\n",
       "      <th>DREB%</th>\n",
       "      <th>REB%</th>\n",
       "      <th>TOV%</th>\n",
       "      <th>eFG%</th>\n",
       "      <th>TS%</th>\n",
       "      <th>PACE</th>\n",
       "      <th>PIE</th>\n",
       "      <th>FTARate</th>\n",
       "      <th>PTS</th>\n",
       "    </tr>\n",
       "  </thead>\n",
       "  <tbody>\n",
       "    <tr>\n",
       "      <th>0</th>\n",
       "      <td>PHI</td>\n",
       "      <td>PHI @ BOS</td>\n",
       "      <td>2018-10-16</td>\n",
       "      <td>L</td>\n",
       "      <td>82.1</td>\n",
       "      <td>100.0</td>\n",
       "      <td>-17.9</td>\n",
       "      <td>52.9</td>\n",
       "      <td>1.13</td>\n",
       "      <td>13.4</td>\n",
       "      <td>17.5</td>\n",
       "      <td>75.0</td>\n",
       "      <td>46.0</td>\n",
       "      <td>15.1</td>\n",
       "      <td>42.0</td>\n",
       "      <td>44.8</td>\n",
       "      <td>105.5</td>\n",
       "      <td>40.5</td>\n",
       "      <td>0.264</td>\n",
       "      <td>87</td>\n",
       "    </tr>\n",
       "    <tr>\n",
       "      <th>1</th>\n",
       "      <td>GSW</td>\n",
       "      <td>GSW vs. OKC</td>\n",
       "      <td>2018-10-16</td>\n",
       "      <td>W</td>\n",
       "      <td>104.9</td>\n",
       "      <td>96.2</td>\n",
       "      <td>8.7</td>\n",
       "      <td>66.7</td>\n",
       "      <td>1.33</td>\n",
       "      <td>18.3</td>\n",
       "      <td>41.5</td>\n",
       "      <td>65.2</td>\n",
       "      <td>54.6</td>\n",
       "      <td>20.4</td>\n",
       "      <td>47.9</td>\n",
       "      <td>52.5</td>\n",
       "      <td>103.5</td>\n",
       "      <td>58.2</td>\n",
       "      <td>0.189</td>\n",
       "      <td>108</td>\n",
       "    </tr>\n",
       "    <tr>\n",
       "      <th>2</th>\n",
       "      <td>BOS</td>\n",
       "      <td>BOS vs. PHI</td>\n",
       "      <td>2018-10-16</td>\n",
       "      <td>W</td>\n",
       "      <td>100.0</td>\n",
       "      <td>82.1</td>\n",
       "      <td>17.9</td>\n",
       "      <td>50.0</td>\n",
       "      <td>1.40</td>\n",
       "      <td>15.0</td>\n",
       "      <td>25.0</td>\n",
       "      <td>82.5</td>\n",
       "      <td>54.0</td>\n",
       "      <td>14.3</td>\n",
       "      <td>49.0</td>\n",
       "      <td>50.9</td>\n",
       "      <td>105.5</td>\n",
       "      <td>59.5</td>\n",
       "      <td>0.144</td>\n",
       "      <td>105</td>\n",
       "    </tr>\n",
       "    <tr>\n",
       "      <th>3</th>\n",
       "      <td>OKC</td>\n",
       "      <td>OKC @ GSW</td>\n",
       "      <td>2018-10-16</td>\n",
       "      <td>L</td>\n",
       "      <td>96.2</td>\n",
       "      <td>104.9</td>\n",
       "      <td>-8.7</td>\n",
       "      <td>63.6</td>\n",
       "      <td>1.40</td>\n",
       "      <td>14.2</td>\n",
       "      <td>34.8</td>\n",
       "      <td>58.5</td>\n",
       "      <td>45.4</td>\n",
       "      <td>14.4</td>\n",
       "      <td>41.8</td>\n",
       "      <td>46.6</td>\n",
       "      <td>103.5</td>\n",
       "      <td>41.8</td>\n",
       "      <td>0.407</td>\n",
       "      <td>100</td>\n",
       "    </tr>\n",
       "    <tr>\n",
       "      <th>4</th>\n",
       "      <td>BKN</td>\n",
       "      <td>BKN @ DET</td>\n",
       "      <td>2018-10-17</td>\n",
       "      <td>L</td>\n",
       "      <td>99.0</td>\n",
       "      <td>103.0</td>\n",
       "      <td>-4.0</td>\n",
       "      <td>70.0</td>\n",
       "      <td>1.47</td>\n",
       "      <td>20.0</td>\n",
       "      <td>26.1</td>\n",
       "      <td>65.5</td>\n",
       "      <td>47.5</td>\n",
       "      <td>18.8</td>\n",
       "      <td>51.8</td>\n",
       "      <td>54.5</td>\n",
       "      <td>100.5</td>\n",
       "      <td>52.3</td>\n",
       "      <td>0.268</td>\n",
       "      <td>100</td>\n",
       "    </tr>\n",
       "  </tbody>\n",
       "</table>\n",
       "</div>"
      ],
      "text/plain": [
       "  Team      MatchUp   GameDate W/L  OffRtg  DefRtg  NetRtg  AST%  AST/TO  \\\n",
       "0  PHI    PHI @ BOS 2018-10-16   L    82.1   100.0   -17.9  52.9    1.13   \n",
       "1  GSW  GSW vs. OKC 2018-10-16   W   104.9    96.2     8.7  66.7    1.33   \n",
       "2  BOS  BOS vs. PHI 2018-10-16   W   100.0    82.1    17.9  50.0    1.40   \n",
       "3  OKC    OKC @ GSW 2018-10-16   L    96.2   104.9    -8.7  63.6    1.40   \n",
       "4  BKN    BKN @ DET 2018-10-17   L    99.0   103.0    -4.0  70.0    1.47   \n",
       "\n",
       "   ASTRatio  OREB%  DREB%  REB%  TOV%  eFG%   TS%   PACE   PIE  FTARate  PTS  \n",
       "0      13.4   17.5   75.0  46.0  15.1  42.0  44.8  105.5  40.5    0.264   87  \n",
       "1      18.3   41.5   65.2  54.6  20.4  47.9  52.5  103.5  58.2    0.189  108  \n",
       "2      15.0   25.0   82.5  54.0  14.3  49.0  50.9  105.5  59.5    0.144  105  \n",
       "3      14.2   34.8   58.5  45.4  14.4  41.8  46.6  103.5  41.8    0.407  100  \n",
       "4      20.0   26.1   65.5  47.5  18.8  51.8  54.5  100.5  52.3    0.268  100  "
      ]
     },
     "execution_count": 26,
     "metadata": {},
     "output_type": "execute_result"
    }
   ],
   "source": [
    "temp_df.head()"
   ]
  },
  {
   "cell_type": "code",
   "execution_count": 27,
   "metadata": {},
   "outputs": [],
   "source": [
    "date_index=0\n",
    "newElo = {}\n",
    "eloScores = []\n",
    "homeTeam = []\n",
    "roadTeam = []\n",
    "for row in temp_df.itertuples():\n",
    "    if(game_dates[date_index] != np.datetime64(row.GameDate)):\n",
    "        #print(\"Update ELO\")\n",
    "        for key in newElo:\n",
    "            elo_testing[key] = newElo[key]\n",
    "        newElo = {}\n",
    "        date_index += 1\n",
    "    temp = row.MatchUp.split(' ')\n",
    "    team1 = temp[0]\n",
    "    team2 = temp[2]\n",
    "    if temp[1] == 'vs.':\n",
    "        if row._4 == 'W':\n",
    "            outcome = True\n",
    "        else:\n",
    "            outcome = False\n",
    "        eloUpdate, dummy = EloRating(elo_testing[team1], elo_testing[team2], 20, outcome)\n",
    "        gameNum = len(teamEloHist[row.Team][0])\n",
    "        teamEloHist[row.Team][0].append(str(gameNum) + ': vs' + team2)\n",
    "        homeTeam.append(team1)\n",
    "        roadTeam.append(team2)\n",
    "    else:\n",
    "        # Opposite since road team\n",
    "        if row._4 == 'W':\n",
    "            outcome = False\n",
    "        else:\n",
    "            outcome = True\n",
    "        dummy, eloUpdate = EloRating(elo_testing[team2], elo_testing[team1], 20, outcome)\n",
    "        gameNum = len(teamEloHist[row.Team][0])\n",
    "        teamEloHist[row.Team][0].append(str(gameNum) + ': @' + team2)\n",
    "        roadTeam.append(team1)\n",
    "        homeTeam.append(team2)\n",
    "        \n",
    "    teamEloHist[row.Team][1].append(math.ceil(eloUpdate))\n",
    "    newElo[row.Team] = eloUpdate\n",
    "    eloScores.append(eloUpdate)\n",
    "# Update for last date\n",
    "for key in newElo:\n",
    "    elo_testing[key] = newElo[key]\n",
    "# Should update ELO Testing DB"
   ]
  },
  {
   "cell_type": "code",
   "execution_count": 28,
   "metadata": {},
   "outputs": [
    {
     "data": {
      "text/plain": [
       "<pymongo.results.InsertOneResult at 0x1ca68c08d48>"
      ]
     },
     "execution_count": 28,
     "metadata": {},
     "output_type": "execute_result"
    }
   ],
   "source": [
    "db.nba_team_current_elo.drop()\n",
    "db.nba_team_current_elo.insert_one(elo_testing)"
   ]
  },
  {
   "cell_type": "code",
   "execution_count": 29,
   "metadata": {},
   "outputs": [
    {
     "data": {
      "text/plain": [
       "<pymongo.results.InsertOneResult at 0x1ca6c8b2f08>"
      ]
     },
     "execution_count": 29,
     "metadata": {},
     "output_type": "execute_result"
    }
   ],
   "source": [
    "db.nba_teams_elo_season.drop()\n",
    "db.nba_teams_elo_season.insert_one(teamEloHist)"
   ]
  },
  {
   "cell_type": "code",
   "execution_count": 30,
   "metadata": {},
   "outputs": [],
   "source": [
    "temp_df['ELO'] = eloScores\n",
    "temp_df['HomeTeam'] = homeTeam\n",
    "temp_df['RoadTeam'] = roadTeam"
   ]
  },
  {
   "cell_type": "code",
   "execution_count": 31,
   "metadata": {},
   "outputs": [],
   "source": [
    "home_df = temp_df[temp_df['Team'] == temp_df['HomeTeam']]\n",
    "road_df = temp_df[temp_df['Team'] == temp_df['RoadTeam']]"
   ]
  },
  {
   "cell_type": "code",
   "execution_count": 32,
   "metadata": {},
   "outputs": [],
   "source": [
    "game_df = pd.merge(home_df, road_df, how='inner', on=['HomeTeam', 'RoadTeam', 'GameDate'], suffixes=('_h', '_r'), validate=\"one_to_one\")"
   ]
  },
  {
   "cell_type": "code",
   "execution_count": 33,
   "metadata": {},
   "outputs": [
    {
     "data": {
      "text/plain": [
       "Index(['Team_h', 'MatchUp_h', 'GameDate', 'W/L_h', 'OffRtg_h', 'DefRtg_h',\n",
       "       'NetRtg_h', 'AST%_h', 'AST/TO_h', 'ASTRatio_h', 'OREB%_h', 'DREB%_h',\n",
       "       'REB%_h', 'TOV%_h', 'eFG%_h', 'TS%_h', 'PACE_h', 'PIE_h', 'FTARate_h',\n",
       "       'PTS_h', 'ELO_h', 'HomeTeam', 'RoadTeam', 'Team_r', 'MatchUp_r',\n",
       "       'W/L_r', 'OffRtg_r', 'DefRtg_r', 'NetRtg_r', 'AST%_r', 'AST/TO_r',\n",
       "       'ASTRatio_r', 'OREB%_r', 'DREB%_r', 'REB%_r', 'TOV%_r', 'eFG%_r',\n",
       "       'TS%_r', 'PACE_r', 'PIE_r', 'FTARate_r', 'PTS_r', 'ELO_r'],\n",
       "      dtype='object')"
      ]
     },
     "execution_count": 33,
     "metadata": {},
     "output_type": "execute_result"
    }
   ],
   "source": [
    "game_df.columns"
   ]
  },
  {
   "cell_type": "code",
   "execution_count": 34,
   "metadata": {},
   "outputs": [],
   "source": [
    "game_df = game_df.drop(['Team_h', 'Team_r', 'MatchUp_h', 'MatchUp_r', 'W/L_h', 'W/L_r'], axis=1)"
   ]
  },
  {
   "cell_type": "code",
   "execution_count": 35,
   "metadata": {},
   "outputs": [],
   "source": [
    "db.score_pred_testing_data.drop()"
   ]
  },
  {
   "cell_type": "code",
   "execution_count": 36,
   "metadata": {},
   "outputs": [],
   "source": [
    "# export to json\n",
    "items = game_df.to_json(orient='records', date_format='iso')\n",
    "# load json string to json\n",
    "items_db = json.loads(items)"
   ]
  },
  {
   "cell_type": "code",
   "execution_count": 37,
   "metadata": {},
   "outputs": [
    {
     "data": {
      "text/plain": [
       "<pymongo.results.InsertManyResult at 0x1ca71aabf08>"
      ]
     },
     "execution_count": 37,
     "metadata": {},
     "output_type": "execute_result"
    }
   ],
   "source": [
    "db.score_pred_testing_data.insert_many(items_db)"
   ]
  },
  {
   "cell_type": "markdown",
   "metadata": {},
   "source": [
    "# Try testing data"
   ]
  },
  {
   "cell_type": "code",
   "execution_count": null,
   "metadata": {},
   "outputs": [],
   "source": [
    "X_test = game_df.loc[:,['DefRtg_h', 'PIE_h', 'FTARate_h', 'REB%_h', 'TOV%_h', 'TS%_h', 'PACE_h', 'ELO_h',\n",
    "                        'DefRtg_r', 'PIE_r', 'FTARate_r', 'REB%_r', 'TOV%_r', 'TS%_r', 'PACE_r', 'ELO_r']]\n",
    "y_h_test = game_df['PTS_h']\n",
    "y_r_test = game_df['PTS_r']\n",
    "y_test = game_df[['PTS_h', 'PTS_r']]"
   ]
  },
  {
   "cell_type": "code",
   "execution_count": 748,
   "metadata": {},
   "outputs": [
    {
     "data": {
      "text/plain": [
       "(822, 16)"
      ]
     },
     "execution_count": 748,
     "metadata": {},
     "output_type": "execute_result"
    }
   ],
   "source": [
    "X_test.shape"
   ]
  },
  {
   "cell_type": "code",
   "execution_count": 749,
   "metadata": {},
   "outputs": [],
   "source": [
    "X_test_scaled = X_scaler.transform(X_test)"
   ]
  },
  {
   "cell_type": "code",
   "execution_count": 839,
   "metadata": {},
   "outputs": [
    {
     "data": {
      "text/plain": [
       "0.93190068280913"
      ]
     },
     "execution_count": 839,
     "metadata": {},
     "output_type": "execute_result"
    }
   ],
   "source": [
    "homeLinearModel.score(X_test_scaled, y_h_test)"
   ]
  },
  {
   "cell_type": "code",
   "execution_count": 840,
   "metadata": {},
   "outputs": [
    {
     "data": {
      "text/plain": [
       "0.9285662208206512"
      ]
     },
     "execution_count": 840,
     "metadata": {},
     "output_type": "execute_result"
    }
   ],
   "source": [
    "roadLinearModel.score(X_test_scaled, y_r_test)"
   ]
  },
  {
   "cell_type": "code",
   "execution_count": 841,
   "metadata": {},
   "outputs": [
    {
     "data": {
      "text/plain": [
       "0.9283792013835059"
      ]
     },
     "execution_count": 841,
     "metadata": {},
     "output_type": "execute_result"
    }
   ],
   "source": [
    "huberModelHome.score(X_test_scaled, y_h_test)"
   ]
  },
  {
   "cell_type": "code",
   "execution_count": 842,
   "metadata": {},
   "outputs": [
    {
     "data": {
      "text/plain": [
       "0.9259077650087483"
      ]
     },
     "execution_count": 842,
     "metadata": {},
     "output_type": "execute_result"
    }
   ],
   "source": [
    "huberModelRoad.score(X_test_scaled, y_r_test)"
   ]
  },
  {
   "cell_type": "code",
   "execution_count": 843,
   "metadata": {},
   "outputs": [
    {
     "data": {
      "text/plain": [
       "0.9317701564183263"
      ]
     },
     "execution_count": 843,
     "metadata": {},
     "output_type": "execute_result"
    }
   ],
   "source": [
    "ardModelHome.score(X_test_scaled, y_h_test)"
   ]
  },
  {
   "cell_type": "code",
   "execution_count": 844,
   "metadata": {},
   "outputs": [
    {
     "data": {
      "text/plain": [
       "0.9275723253169956"
      ]
     },
     "execution_count": 844,
     "metadata": {},
     "output_type": "execute_result"
    }
   ],
   "source": [
    "ardModelRoad.score(X_test_scaled, y_r_test)"
   ]
  },
  {
   "cell_type": "code",
   "execution_count": 845,
   "metadata": {},
   "outputs": [
    {
     "data": {
      "text/plain": [
       "0.9275544090945826"
      ]
     },
     "execution_count": 845,
     "metadata": {},
     "output_type": "execute_result"
    }
   ],
   "source": [
    "sgdModelHome.score(X_test_scaled, y_h_test)"
   ]
  },
  {
   "cell_type": "code",
   "execution_count": 846,
   "metadata": {},
   "outputs": [
    {
     "data": {
      "text/plain": [
       "0.9202836850863351"
      ]
     },
     "execution_count": 846,
     "metadata": {},
     "output_type": "execute_result"
    }
   ],
   "source": [
    "sgdModelRoad.score(X_test_scaled, y_r_test)"
   ]
  },
  {
   "cell_type": "code",
   "execution_count": 847,
   "metadata": {},
   "outputs": [
    {
     "data": {
      "text/plain": [
       "0.9297255853664783"
      ]
     },
     "execution_count": 847,
     "metadata": {},
     "output_type": "execute_result"
    }
   ],
   "source": [
    "theilModelHome.score(X_test_scaled, y_h_test)"
   ]
  },
  {
   "cell_type": "code",
   "execution_count": 848,
   "metadata": {},
   "outputs": [
    {
     "data": {
      "text/plain": [
       "0.9269114682123968"
      ]
     },
     "execution_count": 848,
     "metadata": {},
     "output_type": "execute_result"
    }
   ],
   "source": [
    "theilModelRoad.score(X_test_scaled, y_r_test)"
   ]
  },
  {
   "cell_type": "code",
   "execution_count": 849,
   "metadata": {},
   "outputs": [
    {
     "data": {
      "text/plain": [
       "0.9276048593528403"
      ]
     },
     "execution_count": 849,
     "metadata": {},
     "output_type": "execute_result"
    }
   ],
   "source": [
    "ransacModelHome.score(X_test_scaled, y_h_test)"
   ]
  },
  {
   "cell_type": "code",
   "execution_count": 850,
   "metadata": {},
   "outputs": [
    {
     "data": {
      "text/plain": [
       "0.9254998516332099"
      ]
     },
     "execution_count": 850,
     "metadata": {},
     "output_type": "execute_result"
    }
   ],
   "source": [
    "ransacModelRoad.score(X_test_scaled, y_r_test)"
   ]
  },
  {
   "cell_type": "code",
   "execution_count": 676,
   "metadata": {},
   "outputs": [],
   "source": [
    "pred_hr = linearModel.predict(X_test_scaled)"
   ]
  },
  {
   "cell_type": "code",
   "execution_count": 677,
   "metadata": {},
   "outputs": [
    {
     "data": {
      "text/plain": [
       "array([108.98532523, 100.67058843])"
      ]
     },
     "execution_count": 677,
     "metadata": {},
     "output_type": "execute_result"
    }
   ],
   "source": [
    "pred_hr[0]"
   ]
  },
  {
   "cell_type": "code",
   "execution_count": 598,
   "metadata": {},
   "outputs": [],
   "source": [
    "predictions_h = homeScorePredictor.predict(X_test_scaled)"
   ]
  },
  {
   "cell_type": "code",
   "execution_count": 599,
   "metadata": {},
   "outputs": [
    {
     "data": {
      "text/plain": [
       "102.24064642117432"
      ]
     },
     "execution_count": 599,
     "metadata": {},
     "output_type": "execute_result"
    }
   ],
   "source": [
    "predictions[0]"
   ]
  },
  {
   "cell_type": "code",
   "execution_count": 600,
   "metadata": {},
   "outputs": [
    {
     "data": {
      "text/plain": [
       "92"
      ]
     },
     "execution_count": 600,
     "metadata": {},
     "output_type": "execute_result"
    }
   ],
   "source": [
    "y_h[797]"
   ]
  },
  {
   "cell_type": "code",
   "execution_count": 601,
   "metadata": {},
   "outputs": [],
   "source": [
    "predictions_r = roadScorePredictor.predict(X_test_scaled)"
   ]
  },
  {
   "cell_type": "code",
   "execution_count": 602,
   "metadata": {},
   "outputs": [
    {
     "data": {
      "text/plain": [
       "92.22668598606127"
      ]
     },
     "execution_count": 602,
     "metadata": {},
     "output_type": "execute_result"
    }
   ],
   "source": [
    "predictions_h[797]"
   ]
  },
  {
   "cell_type": "code",
   "execution_count": 603,
   "metadata": {},
   "outputs": [
    {
     "data": {
      "text/plain": [
       "105.79102719566401"
      ]
     },
     "execution_count": 603,
     "metadata": {},
     "output_type": "execute_result"
    }
   ],
   "source": [
    "predictions_r[797]"
   ]
  },
  {
   "cell_type": "code",
   "execution_count": 604,
   "metadata": {},
   "outputs": [
    {
     "data": {
      "text/plain": [
       "105"
      ]
     },
     "execution_count": 604,
     "metadata": {},
     "output_type": "execute_result"
    }
   ],
   "source": [
    "y_r[797]"
   ]
  },
  {
   "cell_type": "code",
   "execution_count": 344,
   "metadata": {},
   "outputs": [],
   "source": [
    "#lakers_df = game_df[np.logical_or(game_df['HomeTeam'] == 'LAL', game_df['RoadTeam'] == 'LAL')]"
   ]
  },
  {
   "cell_type": "code",
   "execution_count": 605,
   "metadata": {},
   "outputs": [],
   "source": [
    "lakers_df = game_df[game_df['RoadTeam'] == 'LAL']"
   ]
  },
  {
   "cell_type": "code",
   "execution_count": 606,
   "metadata": {},
   "outputs": [],
   "source": [
    "indiana_df = game_df[game_df['HomeTeam'] == 'IND']"
   ]
  },
  {
   "cell_type": "code",
   "execution_count": 607,
   "metadata": {},
   "outputs": [],
   "source": [
    "#result_test_sorted = result_test_final.sort_values(['GameDate'], ascending = 1).reset_index(drop=True)\n",
    "lakers_df = lakers_df.sort_values(['GameDate'], ascending=0).reset_index(drop=True)\n",
    "indiana_df = indiana_df.sort_values(['GameDate'], ascending=0).reset_index(drop=True)"
   ]
  },
  {
   "cell_type": "code",
   "execution_count": 611,
   "metadata": {},
   "outputs": [],
   "source": [
    "laker_mean = lakers_df[2:7].mean()"
   ]
  },
  {
   "cell_type": "code",
   "execution_count": 612,
   "metadata": {},
   "outputs": [
    {
     "data": {
      "text/plain": [
       "4.6000000000000005"
      ]
     },
     "execution_count": 612,
     "metadata": {},
     "output_type": "execute_result"
    }
   ],
   "source": [
    "laker_mean.iloc[2]"
   ]
  },
  {
   "cell_type": "code",
   "execution_count": 613,
   "metadata": {},
   "outputs": [],
   "source": [
    "indiana_mean = indiana_df[2:7].mean()"
   ]
  },
  {
   "cell_type": "code",
   "execution_count": 614,
   "metadata": {},
   "outputs": [
    {
     "data": {
      "text/plain": [
       "111.88000000000002"
      ]
     },
     "execution_count": 614,
     "metadata": {},
     "output_type": "execute_result"
    }
   ],
   "source": [
    "laker_mean['OffRtg_h']"
   ]
  },
  {
   "cell_type": "code",
   "execution_count": 615,
   "metadata": {},
   "outputs": [
    {
     "data": {
      "text/plain": [
       "0      109.360000\n",
       "1       48.700000\n",
       "2        0.180800\n",
       "3       48.380000\n",
       "4       10.920000\n",
       "5       53.240000\n",
       "6       98.500000\n",
       "7     1603.494912\n",
       "8      107.300000\n",
       "9       48.980000\n",
       "10       0.263000\n",
       "11      53.460000\n",
       "12      15.240000\n",
       "13      54.600000\n",
       "14     103.394000\n",
       "15    1483.664565\n",
       "dtype: float64"
      ]
     },
     "execution_count": 615,
     "metadata": {},
     "output_type": "execute_result"
    }
   ],
   "source": [
    "my_test = pd.Series(data = [indiana_mean['OffRtg_h'], indiana_mean['PIE_h'], indiana_mean['FTARate_h'], indiana_mean['REB%_h'], indiana_mean['TOV%_h'], indiana_mean['TS%_h'], indiana_mean['PACE_h'], indiana_mean['ELO_h'],\n",
    "                            laker_mean['OffRtg_r'], laker_mean['PIE_r'], laker_mean['FTARate_r'], laker_mean['REB%_r'], laker_mean['TOV%_r'], laker_mean['TS%_r'], laker_mean['PACE_r'], laker_mean['ELO_r']\n",
    "                           ])\n",
    "my_test"
   ]
  },
  {
   "cell_type": "code",
   "execution_count": 417,
   "metadata": {},
   "outputs": [
    {
     "data": {
      "text/plain": [
       "0       48.700000\n",
       "1        0.180800\n",
       "2       48.380000\n",
       "3       10.920000\n",
       "4       53.240000\n",
       "5       98.500000\n",
       "6     1603.494912\n",
       "7       48.980000\n",
       "8        0.263000\n",
       "9       53.460000\n",
       "10      15.240000\n",
       "11      54.600000\n",
       "12     103.394000\n",
       "13    1483.664565\n",
       "dtype: float64"
      ]
     },
     "execution_count": 417,
     "metadata": {},
     "output_type": "execute_result"
    }
   ],
   "source": [
    "my_test = pd.Series(data = [indiana_mean['PIE_h'], indiana_mean['FTARate_h'], indiana_mean['REB%_h'], indiana_mean['TOV%_h'], indiana_mean['TS%_h'], indiana_mean['PACE_h'], indiana_mean['ELO_h'],\n",
    "                            laker_mean['PIE_r'], laker_mean['FTARate_r'], laker_mean['REB%_r'], laker_mean['TOV%_r'], laker_mean['TS%_r'], laker_mean['PACE_r'], laker_mean['ELO_r']\n",
    "                           ])\n",
    "my_test"
   ]
  },
  {
   "cell_type": "code",
   "execution_count": 617,
   "metadata": {},
   "outputs": [],
   "source": [
    "my_test = my_test.values.reshape(1,16)"
   ]
  },
  {
   "cell_type": "code",
   "execution_count": 618,
   "metadata": {},
   "outputs": [],
   "source": [
    "X_my_scaled = X_scaler.transform(my_test)"
   ]
  },
  {
   "cell_type": "code",
   "execution_count": 619,
   "metadata": {},
   "outputs": [],
   "source": [
    "homeScore = homeScorePredictor.predict(X_my_scaled)"
   ]
  },
  {
   "cell_type": "code",
   "execution_count": 620,
   "metadata": {},
   "outputs": [
    {
     "data": {
      "text/plain": [
       "103.20900750854561"
      ]
     },
     "execution_count": 620,
     "metadata": {},
     "output_type": "execute_result"
    }
   ],
   "source": [
    "homeScore[0]"
   ]
  },
  {
   "cell_type": "code",
   "execution_count": 621,
   "metadata": {},
   "outputs": [
    {
     "data": {
      "text/plain": [
       "110.33537179227459"
      ]
     },
     "execution_count": 621,
     "metadata": {},
     "output_type": "execute_result"
    }
   ],
   "source": [
    "roadScorePredictor.predict(X_my_scaled)[0]"
   ]
  },
  {
   "cell_type": "code",
   "execution_count": 622,
   "metadata": {},
   "outputs": [
    {
     "data": {
      "text/plain": [
       "0    53.4\n",
       "Name: PIE_h, dtype: float64"
      ]
     },
     "execution_count": 622,
     "metadata": {},
     "output_type": "execute_result"
    }
   ],
   "source": [
    "lakers_df[0:1]['PIE_h']"
   ]
  },
  {
   "cell_type": "code",
   "execution_count": 623,
   "metadata": {},
   "outputs": [
    {
     "data": {
      "text/plain": [
       "111.09768358255634"
      ]
     },
     "execution_count": 623,
     "metadata": {},
     "output_type": "execute_result"
    }
   ],
   "source": [
    "homeBay.predict(X_my_scaled)[0]"
   ]
  },
  {
   "cell_type": "code",
   "execution_count": 624,
   "metadata": {},
   "outputs": [
    {
     "data": {
      "text/plain": [
       "array([109.07844323])"
      ]
     },
     "execution_count": 624,
     "metadata": {},
     "output_type": "execute_result"
    }
   ],
   "source": [
    "roadBay.predict(X_my_scaled)"
   ]
  },
  {
   "cell_type": "code",
   "execution_count": 875,
   "metadata": {},
   "outputs": [],
   "source": [
    "def getHomeRoadMeans(teamRoad, teamHome):\n",
    "    temp = db.score_pred_testing_data.find({'$or' : [{'HomeTeam': teamHome}, {'RoadTeam': teamRoad}]})\n",
    "    temp = list(temp)\n",
    "    for i in temp:\n",
    "        i.pop('_id', None)\n",
    "    df_test = pd.DataFrame(temp)\n",
    "    df_test = df_test.sort_values(['GameDate'], ascending=0).reset_index(drop=True)\n",
    "    home_df = df_test[df_test['HomeTeam'] == teamHome].reset_index(drop=True)\n",
    "    road_df = df_test[df_test['RoadTeam'] == teamRoad].reset_index(drop=True)\n",
    "    homeMean = home_df[0:5].mean()\n",
    "    roadMean = road_df[0:5].mean()\n",
    "    test_series = pd.Series(data = [homeMean['DefRtg_h'], homeMean['PIE_h'], homeMean['FTARate_h'], homeMean['REB%_h'], homeMean['TOV%_h'], homeMean['TS%_h'], homeMean['PACE_h'], homeMean['ELO_h'],\n",
    "                                    roadMean['DefRtg_r'], roadMean['PIE_r'], roadMean['FTARate_r'], roadMean['REB%_r'], roadMean['TOV%_r'], roadMean['TS%_r'], roadMean['PACE_r'], roadMean['ELO_r']\n",
    "                           ])\n",
    "    test_data = test_series.values.reshape(1,16)\n",
    "    return X_scaler.transform(test_data)"
   ]
  },
  {
   "cell_type": "code",
   "execution_count": 876,
   "metadata": {},
   "outputs": [],
   "source": [
    "X_test = getHomeRoadMeans('LAL', 'PHI')"
   ]
  },
  {
   "cell_type": "code",
   "execution_count": 980,
   "metadata": {},
   "outputs": [],
   "source": [
    "def predictAllModels(testData):\n",
    "    predVals = {}\n",
    "    \n",
    "    # Baysian Ridge Model\n",
    "    temp = [roadBay.predict(testData)[0], homeBay.predict(testData)[0]]\n",
    "    mean = [temp[0], temp[1]]\n",
    "    predVals['BayRidgeRegress'] = temp\n",
    "    #ARD Regressor\n",
    "    temp = [ardModelRoad.predict(testData)[0], ardModelHome.predict(testData)[0]]\n",
    "    mean[0] += temp[0]\n",
    "    mean[1] += temp[1]\n",
    "    predVals['ArdRegress'] = temp\n",
    "    # Huber Loss\n",
    "    temp = [huberModelRoad.predict(testData)[0], huberModelHome.predict(testData)[0]]\n",
    "    mean[0] += temp[0]\n",
    "    mean[1] += temp[1]\n",
    "    predVals['HuberRegress'] = temp\n",
    "    # SGD with \n",
    "    temp = [sgdModelRoad.predict(testData)[0], sgdModelHome.predict(testData)[0]]\n",
    "    mean[0] += temp[0]\n",
    "    mean[1] += temp[1]\n",
    "    predVals['SgdRegress'] = temp\n",
    "    # Theil-Sen handles more robust than LSE, less sensitive to outliers\n",
    "    temp = [theilModelRoad.predict(testData)[0], theilModelHome.predict(testData)[0]]\n",
    "    mean[0] += temp[0]\n",
    "    mean[1] += temp[1]\n",
    "    predVals['TheilSenRegress'] = temp\n",
    "    \n",
    "    predVals['modelMean'] = [mean[0]/len(predVals), mean[1]/len(predVals)]\n",
    "    # Deals better with large outliers in y\n",
    "    temp = [ransacModelRoad.predict(testData)[0], ransacModelHome.predict(testData)[0]]\n",
    "    mean[0] += temp[0]\n",
    "    mean[1] += temp[1]\n",
    "    predVals['RansacRegress'] = temp    \n",
    "       \n",
    "    #predVals['modelMean'] = [mean[0]/len(predVals), mean[1]/len(predVals)]\n",
    "    return predVals"
   ]
  },
  {
   "cell_type": "code",
   "execution_count": 918,
   "metadata": {},
   "outputs": [],
   "source": [
    "# Get test data and predict\n",
    "X_test = getHomeRoadMeans('LAL', 'PHI')\n",
    "testPred = predictAllModels(X_test)"
   ]
  },
  {
   "cell_type": "code",
   "execution_count": 976,
   "metadata": {},
   "outputs": [
    {
     "data": {
      "text/plain": [
       "{'BayRidgeRegress': [113.10374963937696, 121.78152038788981],\n",
       " 'ArdRegress': [112.63342951320709, 122.05044234581544],\n",
       " 'HuberRegress': [112.78005983701789, 127.46605691827314],\n",
       " 'SgdRegress': [113.739846810767, 120.49971516447219],\n",
       " 'TheilSenRegress': [112.80491290115921, 121.50212868480855],\n",
       " 'RansacRegress': [103.4620335261387, 125.41805483880572],\n",
       " 'modelMean': [111.42067203794448, 123.11965305667746]}"
      ]
     },
     "execution_count": 976,
     "metadata": {},
     "output_type": "execute_result"
    }
   ],
   "source": [
    "testPred"
   ]
  },
  {
   "cell_type": "code",
   "execution_count": 979,
   "metadata": {},
   "outputs": [
    {
     "data": {
      "text/plain": [
       "2.7051117358174275"
      ]
     },
     "execution_count": 979,
     "metadata": {},
     "output_type": "execute_result"
    }
   ],
   "source": [
    "roadScores = []\n",
    "homeScores = []\n",
    "for k, v in testPred.items():\n",
    "    if(k != 'modelMean'):\n",
    "        roadScores.append(v[0])\n",
    "        homeScores.append(v[1])\n",
    "statistics.stdev(roadScores)\n",
    "statistics.stdev(homeScores)"
   ]
  },
  {
   "cell_type": "code",
   "execution_count": null,
   "metadata": {},
   "outputs": [],
   "source": [
    "X_my_scaled = X_scaler.transform(X_test)"
   ]
  },
  {
   "cell_type": "code",
   "execution_count": 764,
   "metadata": {},
   "outputs": [
    {
     "data": {
      "text/plain": [
       "(1230, 16)"
      ]
     },
     "execution_count": 764,
     "metadata": {},
     "output_type": "execute_result"
    }
   ],
   "source": [
    "X_train.shape"
   ]
  },
  {
   "cell_type": "code",
   "execution_count": 644,
   "metadata": {},
   "outputs": [
    {
     "data": {
      "text/plain": [
       "110.54229701277073"
      ]
     },
     "execution_count": 644,
     "metadata": {},
     "output_type": "execute_result"
    }
   ],
   "source": [
    "homeBay.predict(X_my_scaled)[0]"
   ]
  },
  {
   "cell_type": "code",
   "execution_count": 645,
   "metadata": {},
   "outputs": [
    {
     "data": {
      "text/plain": [
       "97.63341059274505"
      ]
     },
     "execution_count": 645,
     "metadata": {},
     "output_type": "execute_result"
    }
   ],
   "source": [
    "roadBay.predict(X_my_scaled)[0]"
   ]
  },
  {
   "cell_type": "code",
   "execution_count": 28,
   "metadata": {},
   "outputs": [],
   "source": [
    "import pickle\n",
    "from sklearn.externals import joblib"
   ]
  },
  {
   "cell_type": "code",
   "execution_count": null,
   "metadata": {},
   "outputs": [],
   "source": [
    "roadBay\n",
    "homeBay\n",
    "#ARD Regressor\n",
    "temp = [ardModelRoad.predict(testData)[0], ardModelHome.predict(testData)[0]]\n",
    "# Huber Loss\n",
    "temp = [huberModelRoad.predict(testData)[0], huberModelHome.predict(testData)[0]]\n",
    "# SGD with \n",
    "temp = [sgdModelRoad.predict(testData)[0], sgdModelHome.predict(testData)[0]]\n",
    "# Theil-Sen handles more robust than LSE, less sensitive to outliers\n",
    "temp = [theilModelRoad.predict(testData)[0], theilModelHome.predict(testData)[0]]\n",
    "# Deals better with large outliers in y\n",
    "temp = [ransacModelRoad.predict(testData)[0], ransacModelHome.predict(testData)[0]]"
   ]
  },
  {
   "cell_type": "code",
   "execution_count": 913,
   "metadata": {},
   "outputs": [],
   "source": [
    "# Save Scalar and models\n",
    "score_scalar_filename = \"score_scalar.save\"\n",
    "joblib.dump(X_scaler, score_scalar_filename)\n",
    "# Bayesian Ridge\n",
    "bay_rig_home_filename = 'bay_rig_home_model.pkl'\n",
    "pickle.dump(homeBay, open(bay_rig_home_filename, 'wb'))\n",
    "bay_rig_road_filename = 'bay_rig_road_model.pkl'\n",
    "pickle.dump(roadBay, open(bay_rig_road_filename, 'wb'))\n",
    "#Automatic Relevance Determination\n",
    "ard_home_filename = 'ard_home_model.pkl'\n",
    "pickle.dump(ardModelHome, open(ard_home_filename, 'wb'))\n",
    "ard_road_filename = 'ard_road_model.pkl'\n",
    "pickle.dump(ardModelRoad, open(ard_road_filename, 'wb'))\n",
    "#Huber\n",
    "huber_home_filename = 'huber_home_model.pkl'\n",
    "pickle.dump(huberModelHome, open(huber_home_filename, 'wb'))\n",
    "huber_road_filename = 'huber_road_model.pkl'\n",
    "pickle.dump(huberModelRoad, open(huber_road_filename, 'wb'))\n",
    "# SGD\n",
    "sgd_home_filename = 'sgd_home_model.pkl'\n",
    "pickle.dump(sgdModelHome, open(sgd_home_filename, 'wb'))\n",
    "sgd_road_filename = 'sgd_road_model.pkl'\n",
    "pickle.dump(sgdModelRoad, open(sgd_road_filename, 'wb'))\n",
    "#TheilSen\n",
    "theil_sen_home_filename = 'theil_sen_home_model.pkl'\n",
    "pickle.dump(theilModelHome, open(theil_sen_home_filename, 'wb'))\n",
    "theil_sen_road_filename = 'theil_sen_road_model.pkl'\n",
    "pickle.dump(theilModelRoad, open(theil_sen_road_filename, 'wb'))\n",
    "#RANSAC\n",
    "ransac_home_filename = 'ransac_home_model.pkl'\n",
    "pickle.dump(ransacModelHome, open(ransac_home_filename, 'wb'))\n",
    "ransac_road_filename = 'ransac_road_model.pkl'\n",
    "pickle.dump(ransacModelRoad, open(ransac_road_filename, 'wb'))\n"
   ]
  },
  {
   "cell_type": "code",
   "execution_count": 537,
   "metadata": {},
   "outputs": [],
   "source": [
    "teamHome = 'LAL'\n",
    "teamRoad = 'LAC'\n",
    "temp = db.score_pred_testing_data.find({'$or' : [{'HomeTeam': teamHome}, {'RoadTeam': teamRoad}]})\n",
    "temp = list(temp)\n",
    "for i in temp:\n",
    "    i.pop('_id', None)\n",
    "df_test = pd.DataFrame(temp)\n",
    "df_test = df_test.sort_values(['GameDate'], ascending=0).reset_index(drop=True)\n",
    "home_df = df_test[df_test['HomeTeam'] == teamHome].reset_index(drop=True)\n",
    "road_df = df_test[df_test['RoadTeam'] == teamRoad].reset_index(drop=True)"
   ]
  },
  {
   "cell_type": "code",
   "execution_count": 532,
   "metadata": {},
   "outputs": [],
   "source": [
    "temp = home_df.head()['ELO_h']"
   ]
  },
  {
   "cell_type": "code",
   "execution_count": 538,
   "metadata": {},
   "outputs": [
    {
     "data": {
      "text/plain": [
       "1468.8400819865"
      ]
     },
     "execution_count": 538,
     "metadata": {},
     "output_type": "execute_result"
    }
   ],
   "source": [
    "home_df.iloc[0]['ELO_h']"
   ]
  },
  {
   "cell_type": "code",
   "execution_count": 529,
   "metadata": {},
   "outputs": [
    {
     "data": {
      "text/plain": [
       "level_0       0.000000\n",
       "index         3.000000\n",
       "ELO_h      1468.840082\n",
       "Name: 0, dtype: float64"
      ]
     },
     "execution_count": 529,
     "metadata": {},
     "output_type": "execute_result"
    }
   ],
   "source": [
    "temp"
   ]
  },
  {
   "cell_type": "code",
   "execution_count": 540,
   "metadata": {},
   "outputs": [],
   "source": [
    "score_scalar_filename = \"score_scalar.save\"\n",
    "bay_rig_scaler = joblib.load(bayScalar_filename)"
   ]
  },
  {
   "cell_type": "code",
   "execution_count": null,
   "metadata": {},
   "outputs": [],
   "source": [
    "bay_rig_scaler.scale_"
   ]
  },
  {
   "cell_type": "code",
   "execution_count": 1069,
   "metadata": {},
   "outputs": [
    {
     "data": {
      "text/plain": [
       "array([ 1.15497999, -0.13232465, -0.06801252,  0.31466423, -0.74425257,\n",
       "        1.12482674,  2.51621859,  0.12410233,  9.19649055,  0.13710094,\n",
       "        0.09869115, -0.39973241,  0.60306155, -1.0331325 ,  2.51621859,\n",
       "       -0.04696108])"
      ]
     },
     "execution_count": 1069,
     "metadata": {},
     "output_type": "execute_result"
    }
   ],
   "source": [
    "homeBay.coef_"
   ]
  },
  {
   "cell_type": "code",
   "execution_count": 1071,
   "metadata": {},
   "outputs": [],
   "source": [
    "predictors = X_train.columns\n",
    "coef = pd.Series(homeBay.coef_,predictors).sort_values()"
   ]
  },
  {
   "cell_type": "code",
   "execution_count": 1075,
   "metadata": {},
   "outputs": [],
   "source": [
    "import seaborn as sns\n",
    "import matplotlib.pyplot as plt\n",
    "%matplotlib inline"
   ]
  },
  {
   "cell_type": "code",
   "execution_count": 1076,
   "metadata": {},
   "outputs": [
    {
     "data": {
      "text/plain": [
       "<matplotlib.axes._subplots.AxesSubplot at 0x29e2171ae80>"
      ]
     },
     "execution_count": 1076,
     "metadata": {},
     "output_type": "execute_result"
    },
    {
     "data": {
      "image/png": "[encoded data removed]",
      "text/plain": [
       "<Figure size 432x288 with 1 Axes>"
      ]
     },
     "metadata": {},
     "output_type": "display_data"
    }
   ],
   "source": [
    "coef.plot(kind='bar', title='Modal Coefficients')"
   ]
  },
  {
   "cell_type": "code",
   "execution_count": 1077,
   "metadata": {},
   "outputs": [
    {
     "data": {
      "text/plain": [
       "<matplotlib.axes._subplots.AxesSubplot at 0x29e218a2550>"
      ]
     },
     "execution_count": 1077,
     "metadata": {},
     "output_type": "execute_result"
    },
    {
     "data": {
      "image/png": "[encoded data removed]",
      "text/plain": [
       "<Figure size 432x288 with 1 Axes>"
      ]
     },
     "metadata": {},
     "output_type": "display_data"
    }
   ],
   "source": [
    "predictors = X_train.columns\n",
    "coef = pd.Series(roadBay.coef_,predictors).sort_values()\n",
    "coef.plot(kind='bar', title='Modal Coefficients')"
   ]
  },
  {
   "cell_type": "code",
   "execution_count": 1079,
   "metadata": {},
   "outputs": [
    {
     "data": {
      "text/html": [
       "<div>\n",
       "<style scoped>\n",
       "    .dataframe tbody tr th:only-of-type {\n",
       "        vertical-align: middle;\n",
       "    }\n",
       "\n",
       "    .dataframe tbody tr th {\n",
       "        vertical-align: top;\n",
       "    }\n",
       "\n",
       "    .dataframe thead th {\n",
       "        text-align: right;\n",
       "    }\n",
       "</style>\n",
       "<table border=\"1\" class=\"dataframe\">\n",
       "  <thead>\n",
       "    <tr style=\"text-align: right;\">\n",
       "      <th></th>\n",
       "      <th>index</th>\n",
       "      <th>0</th>\n",
       "    </tr>\n",
       "  </thead>\n",
       "  <tbody>\n",
       "    <tr>\n",
       "      <th>0</th>\n",
       "      <td>TS%_h</td>\n",
       "      <td>-0.536554</td>\n",
       "    </tr>\n",
       "    <tr>\n",
       "      <th>1</th>\n",
       "      <td>REB%_h</td>\n",
       "      <td>-0.414643</td>\n",
       "    </tr>\n",
       "    <tr>\n",
       "      <th>2</th>\n",
       "      <td>TOV%_r</td>\n",
       "      <td>-0.399837</td>\n",
       "    </tr>\n",
       "    <tr>\n",
       "      <th>3</th>\n",
       "      <td>PIE_h</td>\n",
       "      <td>-0.127817</td>\n",
       "    </tr>\n",
       "    <tr>\n",
       "      <th>4</th>\n",
       "      <td>FTARate_r</td>\n",
       "      <td>-0.011060</td>\n",
       "    </tr>\n",
       "    <tr>\n",
       "      <th>5</th>\n",
       "      <td>ELO_h</td>\n",
       "      <td>0.011450</td>\n",
       "    </tr>\n",
       "    <tr>\n",
       "      <th>6</th>\n",
       "      <td>ELO_r</td>\n",
       "      <td>0.022057</td>\n",
       "    </tr>\n",
       "    <tr>\n",
       "      <th>7</th>\n",
       "      <td>FTARate_h</td>\n",
       "      <td>0.032793</td>\n",
       "    </tr>\n",
       "    <tr>\n",
       "      <th>8</th>\n",
       "      <td>PIE_r</td>\n",
       "      <td>0.071955</td>\n",
       "    </tr>\n",
       "    <tr>\n",
       "      <th>9</th>\n",
       "      <td>REB%_r</td>\n",
       "      <td>0.204341</td>\n",
       "    </tr>\n",
       "    <tr>\n",
       "      <th>10</th>\n",
       "      <td>TOV%_h</td>\n",
       "      <td>0.295466</td>\n",
       "    </tr>\n",
       "    <tr>\n",
       "      <th>11</th>\n",
       "      <td>TS%_r</td>\n",
       "      <td>0.529358</td>\n",
       "    </tr>\n",
       "    <tr>\n",
       "      <th>12</th>\n",
       "      <td>DefRtg_r</td>\n",
       "      <td>0.821220</td>\n",
       "    </tr>\n",
       "    <tr>\n",
       "      <th>13</th>\n",
       "      <td>PACE_h</td>\n",
       "      <td>2.495509</td>\n",
       "    </tr>\n",
       "    <tr>\n",
       "      <th>14</th>\n",
       "      <td>PACE_r</td>\n",
       "      <td>2.495509</td>\n",
       "    </tr>\n",
       "    <tr>\n",
       "      <th>15</th>\n",
       "      <td>DefRtg_h</td>\n",
       "      <td>10.090676</td>\n",
       "    </tr>\n",
       "  </tbody>\n",
       "</table>\n",
       "</div>"
      ],
      "text/plain": [
       "        index          0\n",
       "0       TS%_h  -0.536554\n",
       "1      REB%_h  -0.414643\n",
       "2      TOV%_r  -0.399837\n",
       "3       PIE_h  -0.127817\n",
       "4   FTARate_r  -0.011060\n",
       "5       ELO_h   0.011450\n",
       "6       ELO_r   0.022057\n",
       "7   FTARate_h   0.032793\n",
       "8       PIE_r   0.071955\n",
       "9      REB%_r   0.204341\n",
       "10     TOV%_h   0.295466\n",
       "11      TS%_r   0.529358\n",
       "12   DefRtg_r   0.821220\n",
       "13     PACE_h   2.495509\n",
       "14     PACE_r   2.495509\n",
       "15   DefRtg_h  10.090676"
      ]
     },
     "execution_count": 1079,
     "metadata": {},
     "output_type": "execute_result"
    }
   ],
   "source": [
    "coef.reset_index()"
   ]
  },
  {
   "cell_type": "code",
   "execution_count": 33,
   "metadata": {},
   "outputs": [],
   "source": [
    "bayHome_filename = \"bay_rig_home_model.pkl\"\n",
    "bayRoad_filename = \"bay_rig_road_model.pkl\"\n",
    "ardHome_filename = \"ard_home_model.pkl\"\n",
    "ardRoad_filename = \"ard_road_model.pkl\"\n",
    "huberHome_filename = \"huber_home_model.pkl\"\n",
    "huberRoad_filename = \"huber_road_model.pkl\"\n",
    "sgdHome_filename = \"sgd_home_model.pkl\"\n",
    "sgdRoad_filename = \"sgd_road_model.pkl\"\n",
    "theilHome_filename = \"theil_sen_home_model.pkl\"\n",
    "theilRoad_filename = \"theil_sen_road_model.pkl\"\n",
    "ransacHome_filename = \"ransac_home_model.pkl\"\n",
    "ransacRoad_filename = \"ransac_road_model.pkl\"\n",
    "\n",
    "bayHome_model = pickle.load(open(bayHome_filename, 'rb'))\n",
    "bayRoad_model = pickle.load(open(bayRoad_filename, 'rb'))\n",
    "ardHome_model = pickle.load(open(ardHome_filename, 'rb'))\n",
    "ardRoad_model = pickle.load(open(ardRoad_filename, 'rb'))\n",
    "huberHome_model = pickle.load(open(huberHome_filename, 'rb'))\n",
    "huberRoad_model = pickle.load(open(huberRoad_filename, 'rb'))\n",
    "sgdHome_model = pickle.load(open(sgdHome_filename, 'rb'))\n",
    "sgdRoad_model = pickle.load(open(sgdRoad_filename, 'rb'))\n",
    "theilHome_model = pickle.load(open(theilHome_filename, 'rb'))\n",
    "theilRoad_model = pickle.load(open(theilRoad_filename, 'rb'))\n",
    "ransacHome_model = pickle.load(open(ransacHome_filename, 'rb'))\n",
    "ransacRoad_model = pickle.load(open(ransacRoad_filename, 'rb'))"
   ]
  },
  {
   "cell_type": "code",
   "execution_count": 70,
   "metadata": {},
   "outputs": [],
   "source": [
    "model_dict = {'BayRidgeRegress': [bayRoad_model, bayHome_model],\n",
    "              'ArdRegress': [ardRoad_model, ardHome_model] , \n",
    "              'HuberRegress': [huberRoad_model, huberHome_model] , \n",
    "              'SgdRegress': [sgdRoad_model, sgdHome_model], \n",
    "              'TheilSenRegress': [theilRoad_model, theilHome_model], \n",
    "              }"
   ]
  },
  {
   "cell_type": "code",
   "execution_count": 44,
   "metadata": {},
   "outputs": [],
   "source": [
    "predictors = X_train.columns"
   ]
  },
  {
   "cell_type": "code",
   "execution_count": 69,
   "metadata": {},
   "outputs": [
    {
     "data": {
      "text/plain": [
       "LinearRegression(copy_X=True, fit_intercept=True, n_jobs=1, normalize=False)"
      ]
     },
     "execution_count": 69,
     "metadata": {},
     "output_type": "execute_result"
    }
   ],
   "source": [
    "ransacRoad_model.estimator_"
   ]
  },
  {
   "cell_type": "code",
   "execution_count": 46,
   "metadata": {},
   "outputs": [
    {
     "data": {
      "text/plain": [
       "<matplotlib.axes._subplots.AxesSubplot at 0x1148e784cc0>"
      ]
     },
     "execution_count": 46,
     "metadata": {},
     "output_type": "execute_result"
    }
   ],
   "source": [
    "coef = pd.Series(bayRoad_model.coef_,predictors).sort_values()\n",
    "coef.plot(kind='bar', title='Modal Coefficients')"
   ]
  },
  {
   "cell_type": "code",
   "execution_count": 48,
   "metadata": {},
   "outputs": [],
   "source": [
    "coef = coef.reset_index()"
   ]
  },
  {
   "cell_type": "code",
   "execution_count": 50,
   "metadata": {},
   "outputs": [],
   "source": [
    "coef.columns = ['Features', 'Coef']"
   ]
  },
  {
   "cell_type": "code",
   "execution_count": 51,
   "metadata": {},
   "outputs": [
    {
     "data": {
      "text/html": [
       "<div>\n",
       "<style scoped>\n",
       "    .dataframe tbody tr th:only-of-type {\n",
       "        vertical-align: middle;\n",
       "    }\n",
       "\n",
       "    .dataframe tbody tr th {\n",
       "        vertical-align: top;\n",
       "    }\n",
       "\n",
       "    .dataframe thead th {\n",
       "        text-align: right;\n",
       "    }\n",
       "</style>\n",
       "<table border=\"1\" class=\"dataframe\">\n",
       "  <thead>\n",
       "    <tr style=\"text-align: right;\">\n",
       "      <th></th>\n",
       "      <th>Features</th>\n",
       "      <th>Coef</th>\n",
       "    </tr>\n",
       "  </thead>\n",
       "  <tbody>\n",
       "    <tr>\n",
       "      <th>0</th>\n",
       "      <td>TS%_h</td>\n",
       "      <td>-0.536554</td>\n",
       "    </tr>\n",
       "    <tr>\n",
       "      <th>1</th>\n",
       "      <td>REB%_h</td>\n",
       "      <td>-0.414643</td>\n",
       "    </tr>\n",
       "    <tr>\n",
       "      <th>2</th>\n",
       "      <td>TOV%_r</td>\n",
       "      <td>-0.399837</td>\n",
       "    </tr>\n",
       "    <tr>\n",
       "      <th>3</th>\n",
       "      <td>PIE_h</td>\n",
       "      <td>-0.127817</td>\n",
       "    </tr>\n",
       "    <tr>\n",
       "      <th>4</th>\n",
       "      <td>FTARate_r</td>\n",
       "      <td>-0.011060</td>\n",
       "    </tr>\n",
       "    <tr>\n",
       "      <th>5</th>\n",
       "      <td>ELO_h</td>\n",
       "      <td>0.011450</td>\n",
       "    </tr>\n",
       "    <tr>\n",
       "      <th>6</th>\n",
       "      <td>ELO_r</td>\n",
       "      <td>0.022057</td>\n",
       "    </tr>\n",
       "    <tr>\n",
       "      <th>7</th>\n",
       "      <td>FTARate_h</td>\n",
       "      <td>0.032793</td>\n",
       "    </tr>\n",
       "    <tr>\n",
       "      <th>8</th>\n",
       "      <td>PIE_r</td>\n",
       "      <td>0.071955</td>\n",
       "    </tr>\n",
       "    <tr>\n",
       "      <th>9</th>\n",
       "      <td>REB%_r</td>\n",
       "      <td>0.204341</td>\n",
       "    </tr>\n",
       "    <tr>\n",
       "      <th>10</th>\n",
       "      <td>TOV%_h</td>\n",
       "      <td>0.295466</td>\n",
       "    </tr>\n",
       "    <tr>\n",
       "      <th>11</th>\n",
       "      <td>TS%_r</td>\n",
       "      <td>0.529358</td>\n",
       "    </tr>\n",
       "    <tr>\n",
       "      <th>12</th>\n",
       "      <td>DefRtg_r</td>\n",
       "      <td>0.821220</td>\n",
       "    </tr>\n",
       "    <tr>\n",
       "      <th>13</th>\n",
       "      <td>PACE_h</td>\n",
       "      <td>2.495509</td>\n",
       "    </tr>\n",
       "    <tr>\n",
       "      <th>14</th>\n",
       "      <td>PACE_r</td>\n",
       "      <td>2.495509</td>\n",
       "    </tr>\n",
       "    <tr>\n",
       "      <th>15</th>\n",
       "      <td>DefRtg_h</td>\n",
       "      <td>10.090676</td>\n",
       "    </tr>\n",
       "  </tbody>\n",
       "</table>\n",
       "</div>"
      ],
      "text/plain": [
       "     Features       Coef\n",
       "0       TS%_h  -0.536554\n",
       "1      REB%_h  -0.414643\n",
       "2      TOV%_r  -0.399837\n",
       "3       PIE_h  -0.127817\n",
       "4   FTARate_r  -0.011060\n",
       "5       ELO_h   0.011450\n",
       "6       ELO_r   0.022057\n",
       "7   FTARate_h   0.032793\n",
       "8       PIE_r   0.071955\n",
       "9      REB%_r   0.204341\n",
       "10     TOV%_h   0.295466\n",
       "11      TS%_r   0.529358\n",
       "12   DefRtg_r   0.821220\n",
       "13     PACE_h   2.495509\n",
       "14     PACE_r   2.495509\n",
       "15   DefRtg_h  10.090676"
      ]
     },
     "execution_count": 51,
     "metadata": {},
     "output_type": "execute_result"
    }
   ],
   "source": [
    "coef"
   ]
  },
  {
   "cell_type": "code",
   "execution_count": 56,
   "metadata": {},
   "outputs": [],
   "source": [
    "# export to json\n",
    "items = coef.to_json(orient='columns', date_format='iso')\n",
    "# load json string to json\n",
    "items_db = json.loads(items)"
   ]
  },
  {
   "cell_type": "code",
   "execution_count": 59,
   "metadata": {},
   "outputs": [],
   "source": [
    "items_db['Model'] = 'BayRidgeRegress'"
   ]
  },
  {
   "cell_type": "code",
   "execution_count": 60,
   "metadata": {},
   "outputs": [
    {
     "data": {
      "text/plain": [
       "{'Features': {'0': 'TS%_h',\n",
       "  '1': 'REB%_h',\n",
       "  '2': 'TOV%_r',\n",
       "  '3': 'PIE_h',\n",
       "  '4': 'FTARate_r',\n",
       "  '5': 'ELO_h',\n",
       "  '6': 'ELO_r',\n",
       "  '7': 'FTARate_h',\n",
       "  '8': 'PIE_r',\n",
       "  '9': 'REB%_r',\n",
       "  '10': 'TOV%_h',\n",
       "  '11': 'TS%_r',\n",
       "  '12': 'DefRtg_r',\n",
       "  '13': 'PACE_h',\n",
       "  '14': 'PACE_r',\n",
       "  '15': 'DefRtg_h'},\n",
       " 'Coef': {'0': -0.5365538064,\n",
       "  '1': -0.414642889,\n",
       "  '2': -0.3998369645,\n",
       "  '3': -0.1278167583,\n",
       "  '4': -0.0110601985,\n",
       "  '5': 0.0114503285,\n",
       "  '6': 0.0220568981,\n",
       "  '7': 0.0327931194,\n",
       "  '8': 0.0719552351,\n",
       "  '9': 0.2043411445,\n",
       "  '10': 0.2954661089,\n",
       "  '11': 0.5293584858,\n",
       "  '12': 0.8212196779,\n",
       "  '13': 2.4955092713,\n",
       "  '14': 2.4955092713,\n",
       "  '15': 10.0906755532},\n",
       " 'Model': 'BayRidgeRegress'}"
      ]
     },
     "execution_count": 60,
     "metadata": {},
     "output_type": "execute_result"
    }
   ],
   "source": [
    "items_db"
   ]
  },
  {
   "cell_type": "code",
   "execution_count": 73,
   "metadata": {},
   "outputs": [],
   "source": [
    "def prepModelCoefDb(features, model_dict):\n",
    "    model_list = []\n",
    "    for key in model_dict.keys():\n",
    "        mdl_r_h_dict = {}\n",
    "        mdl_r = pd.Series(model_dict[key][0].coef_,features).sort_values()\n",
    "        mdl_h = pd.Series(model_dict[key][1].coef_,features).sort_values()\n",
    "        mdl_r = mdl_r.reset_index()\n",
    "        mdl_r.columns = ['Features', 'Coef']\n",
    "        mdl_h = mdl_h.reset_index()\n",
    "        mdl_h.columns = ['Features', 'Coef']\n",
    "        # export to json\n",
    "        items = mdl_r.to_json(orient='columns', date_format='iso')\n",
    "        # load json string to json\n",
    "        items_db_r = json.loads(items)\n",
    "        # export to json\n",
    "        items = mdl_h.to_json(orient='columns', date_format='iso')\n",
    "        # load json string to json\n",
    "        items_db_h = json.loads(items)\n",
    "        mdl_r_h_dict['Model'] = key\n",
    "        mdl_r_h_dict['Params'] = {\"Road\": items_db_r, \"Home\" : items_db_h}\n",
    "        model_list.append(mdl_r_h_dict)\n",
    "    return model_list"
   ]
  },
  {
   "cell_type": "code",
   "execution_count": 81,
   "metadata": {},
   "outputs": [],
   "source": [
    "mylist = prepModelCoefDb(predictors, model_dict)"
   ]
  },
  {
   "cell_type": "code",
   "execution_count": 85,
   "metadata": {},
   "outputs": [
    {
     "data": {
      "text/plain": [
       "<pymongo.results.InsertManyResult at 0x1148a74bcc8>"
      ]
     },
     "execution_count": 85,
     "metadata": {},
     "output_type": "execute_result"
    }
   ],
   "source": [
    "db.score_pred_model_data.insert_many(mylist)"
   ]
  },
  {
   "cell_type": "code",
   "execution_count": 82,
   "metadata": {},
   "outputs": [],
   "source": []
  },
  {
   "cell_type": "code",
   "execution_count": 83,
   "metadata": {},
   "outputs": [
    {
     "data": {
      "text/plain": [
       "{'Model': 'Params'}"
      ]
     },
     "execution_count": 83,
     "metadata": {},
     "output_type": "execute_result"
    }
   ],
   "source": []
  },
  {
   "cell_type": "code",
   "execution_count": 84,
   "metadata": {},
   "outputs": [
    {
     "data": {
      "text/plain": [
       "[{'Model': 'BayRidgeRegress',\n",
       "  'Params': {'Road': {'Features': {'0': 'TS%_h',\n",
       "     '1': 'REB%_h',\n",
       "     '2': 'TOV%_r',\n",
       "     '3': 'PIE_h',\n",
       "     '4': 'FTARate_r',\n",
       "     '5': 'ELO_h',\n",
       "     '6': 'ELO_r',\n",
       "     '7': 'FTARate_h',\n",
       "     '8': 'PIE_r',\n",
       "     '9': 'REB%_r',\n",
       "     '10': 'TOV%_h',\n",
       "     '11': 'TS%_r',\n",
       "     '12': 'DefRtg_r',\n",
       "     '13': 'PACE_h',\n",
       "     '14': 'PACE_r',\n",
       "     '15': 'DefRtg_h'},\n",
       "    'Coef': {'0': -0.5365538064,\n",
       "     '1': -0.414642889,\n",
       "     '2': -0.3998369645,\n",
       "     '3': -0.1278167583,\n",
       "     '4': -0.0110601985,\n",
       "     '5': 0.0114503285,\n",
       "     '6': 0.0220568981,\n",
       "     '7': 0.0327931194,\n",
       "     '8': 0.0719552351,\n",
       "     '9': 0.2043411445,\n",
       "     '10': 0.2954661089,\n",
       "     '11': 0.5293584858,\n",
       "     '12': 0.8212196779,\n",
       "     '13': 2.4955092713,\n",
       "     '14': 2.4955092713,\n",
       "     '15': 10.0906755532}},\n",
       "   'Home': {'Features': {'0': 'TS%_r',\n",
       "     '1': 'TOV%_h',\n",
       "     '2': 'REB%_r',\n",
       "     '3': 'PIE_h',\n",
       "     '4': 'FTARate_h',\n",
       "     '5': 'ELO_r',\n",
       "     '6': 'FTARate_r',\n",
       "     '7': 'ELO_h',\n",
       "     '8': 'PIE_r',\n",
       "     '9': 'REB%_h',\n",
       "     '10': 'TOV%_r',\n",
       "     '11': 'TS%_h',\n",
       "     '12': 'DefRtg_h',\n",
       "     '13': 'PACE_h',\n",
       "     '14': 'PACE_r',\n",
       "     '15': 'DefRtg_r'},\n",
       "    'Coef': {'0': -1.0331325032,\n",
       "     '1': -0.7442525676,\n",
       "     '2': -0.3997324067,\n",
       "     '3': -0.1323246545,\n",
       "     '4': -0.0680125241,\n",
       "     '5': -0.0469610755,\n",
       "     '6': 0.0986911535,\n",
       "     '7': 0.1241023312,\n",
       "     '8': 0.1371009415,\n",
       "     '9': 0.3146642277,\n",
       "     '10': 0.6030615492,\n",
       "     '11': 1.1248267391,\n",
       "     '12': 1.1549799907,\n",
       "     '13': 2.5162185862,\n",
       "     '14': 2.5162185862,\n",
       "     '15': 9.1964905522}}}},\n",
       " {'Model': 'ArdRegress',\n",
       "  'Params': {'Road': {'Features': {'0': 'REB%_h',\n",
       "     '1': 'TOV%_r',\n",
       "     '2': 'PIE_h',\n",
       "     '3': 'TS%_h',\n",
       "     '4': 'FTARate_h',\n",
       "     '5': 'TOV%_h',\n",
       "     '6': 'ELO_h',\n",
       "     '7': 'FTARate_r',\n",
       "     '8': 'ELO_r',\n",
       "     '9': 'TS%_r',\n",
       "     '10': 'DefRtg_r',\n",
       "     '11': 'PIE_r',\n",
       "     '12': 'REB%_r',\n",
       "     '13': 'PACE_h',\n",
       "     '14': 'PACE_r',\n",
       "     '15': 'DefRtg_h'},\n",
       "    'Coef': {'0': -0.1810976516,\n",
       "     '1': -0.0192888343,\n",
       "     '2': -0.0016511284,\n",
       "     '3': -0.0007015194,\n",
       "     '4': 0.0,\n",
       "     '5': 0.0,\n",
       "     '6': 0.0,\n",
       "     '7': 0.0,\n",
       "     '8': 0.0,\n",
       "     '9': 0.0002601183,\n",
       "     '10': 0.0004519169,\n",
       "     '11': 0.0016475069,\n",
       "     '12': 0.0578783168,\n",
       "     '13': 2.4909873625,\n",
       "     '14': 2.4909873625,\n",
       "     '15': 10.948946151}},\n",
       "   'Home': {'Features': {'0': 'TOV%_h',\n",
       "     '1': 'TS%_r',\n",
       "     '2': 'REB%_r',\n",
       "     '3': 'FTARate_h',\n",
       "     '4': 'PIE_r',\n",
       "     '5': 'ELO_r',\n",
       "     '6': 'PIE_h',\n",
       "     '7': 'FTARate_r',\n",
       "     '8': 'ELO_h',\n",
       "     '9': 'REB%_h',\n",
       "     '10': 'TOV%_r',\n",
       "     '11': 'DefRtg_h',\n",
       "     '12': 'TS%_h',\n",
       "     '13': 'PACE_h',\n",
       "     '14': 'PACE_r',\n",
       "     '15': 'DefRtg_r'},\n",
       "    'Coef': {'0': -0.4184383802,\n",
       "     '1': -0.3608933348,\n",
       "     '2': -0.2451887692,\n",
       "     '3': -0.0007045953,\n",
       "     '4': -6.35693e-05,\n",
       "     '5': 0.0,\n",
       "     '6': 7.70583e-05,\n",
       "     '7': 0.0017668105,\n",
       "     '8': 0.0402889983,\n",
       "     '9': 0.0762699686,\n",
       "     '10': 0.2328719628,\n",
       "     '11': 0.5101745919,\n",
       "     '12': 0.5801850989,\n",
       "     '13': 2.5201146539,\n",
       "     '14': 2.520114654,\n",
       "     '15': 9.7291644651}}}},\n",
       " {'Model': 'HuberRegress',\n",
       "  'Params': {'Road': {'Features': {'0': 'TS%_h',\n",
       "     '1': 'TOV%_r',\n",
       "     '2': 'REB%_h',\n",
       "     '3': 'PIE_r',\n",
       "     '4': 'FTARate_r',\n",
       "     '5': 'ELO_h',\n",
       "     '6': 'ELO_r',\n",
       "     '7': 'FTARate_h',\n",
       "     '8': 'PIE_h',\n",
       "     '9': 'REB%_r',\n",
       "     '10': 'TOV%_h',\n",
       "     '11': 'TS%_r',\n",
       "     '12': 'DefRtg_r',\n",
       "     '13': 'PACE_h',\n",
       "     '14': 'PACE_r',\n",
       "     '15': 'DefRtg_h'},\n",
       "    'Coef': {'0': -0.8555130199,\n",
       "     '1': -0.5078208245,\n",
       "     '2': -0.3495581898,\n",
       "     '3': -0.078741566,\n",
       "     '4': -0.054308887,\n",
       "     '5': -0.0317502397,\n",
       "     '6': 0.0378401825,\n",
       "     '7': 0.0411675103,\n",
       "     '8': 0.0796196425,\n",
       "     '9': 0.3442632517,\n",
       "     '10': 0.5348721806,\n",
       "     '11': 0.8041088223,\n",
       "     '12': 0.9642878283,\n",
       "     '13': 2.5359712842,\n",
       "     '14': 2.5359712842,\n",
       "     '15': 10.0276318912}},\n",
       "   'Home': {'Features': {'0': 'TS%_r',\n",
       "     '1': 'TOV%_h',\n",
       "     '2': 'FTARate_h',\n",
       "     '3': 'ELO_r',\n",
       "     '4': 'ELO_h',\n",
       "     '5': 'FTARate_r',\n",
       "     '6': 'TOV%_r',\n",
       "     '7': 'TS%_h',\n",
       "     '8': 'DefRtg_h',\n",
       "     '9': 'PACE_h',\n",
       "     '10': 'PACE_r',\n",
       "     '11': 'PIE_h',\n",
       "     '12': 'PIE_r',\n",
       "     '13': 'REB%_r',\n",
       "     '14': 'REB%_h',\n",
       "     '15': 'DefRtg_r'},\n",
       "    'Coef': {'0': -0.7709138866,\n",
       "     '1': -0.5260409487,\n",
       "     '2': -0.062302484,\n",
       "     '3': -0.0251846864,\n",
       "     '4': 0.0455018329,\n",
       "     '5': 0.0611694352,\n",
       "     '6': 0.502504365,\n",
       "     '7': 0.8565862821,\n",
       "     '8': 0.9553351197,\n",
       "     '9': 2.5598745857,\n",
       "     '10': 2.5598745857,\n",
       "     '11': 4.4124191692,\n",
       "     '12': 4.5124511061,\n",
       "     '13': 7.55440732,\n",
       "     '14': 8.205947822,\n",
       "     '15': 9.4209614815}}}},\n",
       " {'Model': 'SgdRegress',\n",
       "  'Params': {'Road': {'Features': {'0': 'TS%_h',\n",
       "     '1': 'TOV%_r',\n",
       "     '2': 'REB%_h',\n",
       "     '3': 'ELO_r',\n",
       "     '4': 'PIE_r',\n",
       "     '5': 'FTARate_r',\n",
       "     '6': 'ELO_h',\n",
       "     '7': 'PIE_h',\n",
       "     '8': 'FTARate_h',\n",
       "     '9': 'REB%_r',\n",
       "     '10': 'TOV%_h',\n",
       "     '11': 'TS%_r',\n",
       "     '12': 'DefRtg_r',\n",
       "     '13': 'PACE_h',\n",
       "     '14': 'PACE_r',\n",
       "     '15': 'DefRtg_h'},\n",
       "    'Coef': {'0': -0.9602733262,\n",
       "     '1': -0.6771356698,\n",
       "     '2': -0.4815882442,\n",
       "     '3': -0.0983993103,\n",
       "     '4': -0.0722068248,\n",
       "     '5': -0.0470933464,\n",
       "     '6': 0.0384879871,\n",
       "     '7': 0.0676439734,\n",
       "     '8': 0.3915330506,\n",
       "     '9': 0.454826369,\n",
       "     '10': 0.6705147535,\n",
       "     '11': 0.9088915917,\n",
       "     '12': 0.9331764019,\n",
       "     '13': 2.602334651,\n",
       "     '14': 2.602334651,\n",
       "     '15': 10.1905646045}},\n",
       "   'Home': {'Features': {'0': 'TS%_r',\n",
       "     '1': 'REB%_r',\n",
       "     '2': 'TOV%_h',\n",
       "     '3': 'FTARate_h',\n",
       "     '4': 'ELO_h',\n",
       "     '5': 'PIE_h',\n",
       "     '6': 'ELO_r',\n",
       "     '7': 'FTARate_r',\n",
       "     '8': 'PIE_r',\n",
       "     '9': 'REB%_h',\n",
       "     '10': 'TOV%_r',\n",
       "     '11': 'TS%_h',\n",
       "     '12': 'DefRtg_h',\n",
       "     '13': 'PACE_h',\n",
       "     '14': 'PACE_r',\n",
       "     '15': 'DefRtg_r'},\n",
       "    'Coef': {'0': -0.9810773956,\n",
       "     '1': -0.3868097572,\n",
       "     '2': -0.3315746347,\n",
       "     '3': -0.2890319648,\n",
       "     '4': -0.1462941777,\n",
       "     '5': -0.1114721884,\n",
       "     '6': -0.1038503079,\n",
       "     '7': 0.0517247277,\n",
       "     '8': 0.1229522457,\n",
       "     '9': 0.3707373584,\n",
       "     '10': 0.6882091896,\n",
       "     '11': 0.7269085206,\n",
       "     '12': 0.9693949711,\n",
       "     '13': 2.5186878503,\n",
       "     '14': 2.5186878503,\n",
       "     '15': 9.3193606886}}}},\n",
       " {'Model': 'TheilSenRegress',\n",
       "  'Params': {'Road': {'Features': {'0': 'TS%_h',\n",
       "     '1': 'TOV%_r',\n",
       "     '2': 'REB%_h',\n",
       "     '3': 'FTARate_r',\n",
       "     '4': 'PIE_r',\n",
       "     '5': 'PIE_h',\n",
       "     '6': 'ELO_h',\n",
       "     '7': 'ELO_r',\n",
       "     '8': 'FTARate_h',\n",
       "     '9': 'REB%_r',\n",
       "     '10': 'TOV%_h',\n",
       "     '11': 'TS%_r',\n",
       "     '12': 'DefRtg_r',\n",
       "     '13': 'PACE_r',\n",
       "     '14': 'PACE_h',\n",
       "     '15': 'DefRtg_h'},\n",
       "    'Coef': {'0': -0.7064378973,\n",
       "     '1': -0.4620543963,\n",
       "     '2': -0.3992483782,\n",
       "     '3': -0.0358537681,\n",
       "     '4': -0.0182917299,\n",
       "     '5': 0.0012607291,\n",
       "     '6': 0.0013620192,\n",
       "     '7': 0.0322875006,\n",
       "     '8': 0.0346936183,\n",
       "     '9': 0.2401711614,\n",
       "     '10': 0.4243762778,\n",
       "     '11': 0.7200899366,\n",
       "     '12': 0.8693345603,\n",
       "     '13': 2.523083288,\n",
       "     '14': 2.523083288,\n",
       "     '15': 10.0531627805}},\n",
       "   'Home': {'Features': {'0': 'TS%_r',\n",
       "     '1': 'TOV%_h',\n",
       "     '2': 'REB%_r',\n",
       "     '3': 'FTARate_h',\n",
       "     '4': 'PIE_h',\n",
       "     '5': 'ELO_r',\n",
       "     '6': 'ELO_h',\n",
       "     '7': 'FTARate_r',\n",
       "     '8': 'PIE_r',\n",
       "     '9': 'REB%_h',\n",
       "     '10': 'TOV%_r',\n",
       "     '11': 'TS%_h',\n",
       "     '12': 'DefRtg_h',\n",
       "     '13': 'PACE_h',\n",
       "     '14': 'PACE_r',\n",
       "     '15': 'DefRtg_r'},\n",
       "    'Coef': {'0': -0.8375546608,\n",
       "     '1': -0.5603076887,\n",
       "     '2': -0.3439064304,\n",
       "     '3': -0.0592189396,\n",
       "     '4': -0.0518489725,\n",
       "     '5': -0.0463625816,\n",
       "     '6': 0.0537048514,\n",
       "     '7': 0.0709259723,\n",
       "     '8': 0.0882301409,\n",
       "     '9': 0.3231754351,\n",
       "     '10': 0.501714685,\n",
       "     '11': 0.9269629863,\n",
       "     '12': 0.9955589565,\n",
       "     '13': 2.5467865967,\n",
       "     '14': 2.5467865967,\n",
       "     '15': 9.3689157256}}}}]"
      ]
     },
     "execution_count": 84,
     "metadata": {},
     "output_type": "execute_result"
    }
   ],
   "source": [
    "mylist"
   ]
  },
  {
   "cell_type": "code",
   "execution_count": null,
   "metadata": {},
   "outputs": [],
   "source": []
  }
 ],
 "metadata": {
  "kernelspec": {
   "display_name": "Python [conda env:PythonData]",
   "language": "python",
   "name": "conda-env-PythonData-py"
  },
  "language_info": {
   "codemirror_mode": {
    "name": "ipython",
    "version": 3
   },
   "file_extension": ".py",
   "mimetype": "text/x-python",
   "name": "python",
   "nbconvert_exporter": "python",
   "pygments_lexer": "ipython3",
   "version": "3.6.5"
  }
 },
 "nbformat": 4,
 "nbformat_minor": 2
}

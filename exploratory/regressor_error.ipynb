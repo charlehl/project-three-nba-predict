{
 "cells": [
  {
   "cell_type": "code",
   "execution_count": 1,
   "metadata": {},
   "outputs": [],
   "source": [
    "import numpy as np\n",
    "import pandas as pd\n",
    "#import datetime as dt\n",
    "import pymongo\n",
    "import json\n",
    "import datetime as dt\n",
    "import pickle\n",
    "import math\n",
    "#import os\n",
    "from bs4 import BeautifulSoup as bs\n",
    "#import requests\n",
    "from splinter import Browser\n",
    "import time\n",
    "import re\n",
    "import datetime \n",
    "import dateutil.parser\n",
    "import string"
   ]
  },
  {
   "cell_type": "code",
   "execution_count": 2,
   "metadata": {},
   "outputs": [],
   "source": [
    "# create mongo db connection\n",
    "conn = 'mongodb://localhost:27017'\n",
    "client = pymongo.MongoClient(conn)\n",
    "# connect to my nba data db\n",
    "db = client.nba_data_db"
   ]
  },
  {
   "cell_type": "code",
   "execution_count": 3,
   "metadata": {},
   "outputs": [],
   "source": [
    "bayHome_filename = \"bay_rig_home_model.pkl\"\n",
    "bayRoad_filename = \"bay_rig_road_model.pkl\"\n",
    "ardHome_filename = \"ard_home_model.pkl\"\n",
    "ardRoad_filename = \"ard_road_model.pkl\"\n",
    "huberHome_filename = \"huber_home_model.pkl\"\n",
    "huberRoad_filename = \"huber_road_model.pkl\"\n",
    "sgdHome_filename = \"sgd_home_model.pkl\"\n",
    "sgdRoad_filename = \"sgd_road_model.pkl\"\n",
    "theilHome_filename = \"theil_sen_home_model.pkl\"\n",
    "theilRoad_filename = \"theil_sen_road_model.pkl\"\n",
    "ransacHome_filename = \"ransac_home_model.pkl\"\n",
    "ransacRoad_filename = \"ransac_road_model.pkl\"\n",
    "\n",
    "bayHome_model = pickle.load(open(bayHome_filename, 'rb'))\n",
    "bayRoad_model = pickle.load(open(bayRoad_filename, 'rb'))\n",
    "ardHome_model = pickle.load(open(ardHome_filename, 'rb'))\n",
    "ardRoad_model = pickle.load(open(ardRoad_filename, 'rb'))\n",
    "huberHome_model = pickle.load(open(huberHome_filename, 'rb'))\n",
    "huberRoad_model = pickle.load(open(huberRoad_filename, 'rb'))\n",
    "sgdHome_model = pickle.load(open(sgdHome_filename, 'rb'))\n",
    "sgdRoad_model = pickle.load(open(sgdRoad_filename, 'rb'))\n",
    "theilHome_model = pickle.load(open(theilHome_filename, 'rb'))\n",
    "theilRoad_model = pickle.load(open(theilRoad_filename, 'rb'))\n",
    "ransacHome_model = pickle.load(open(ransacHome_filename, 'rb'))\n",
    "ransacRoad_model = pickle.load(open(ransacRoad_filename, 'rb'))"
   ]
  },
  {
   "cell_type": "code",
   "execution_count": 4,
   "metadata": {},
   "outputs": [],
   "source": [
    "temp = db.score_pred_testing_data.find().sort('GameDate',pymongo.DESCENDING)\n",
    "temp = list(temp)\n",
    "for i in temp:\n",
    "    i.pop('_id', None)\n",
    "df_test = pd.DataFrame(temp)"
   ]
  },
  {
   "cell_type": "code",
   "execution_count": 5,
   "metadata": {},
   "outputs": [
    {
     "data": {
      "text/plain": [
       "Index(['AST%_h', 'AST%_r', 'AST/TO_h', 'AST/TO_r', 'ASTRatio_h', 'ASTRatio_r',\n",
       "       'DREB%_h', 'DREB%_r', 'DefRtg_h', 'DefRtg_r', 'ELO_h', 'ELO_r',\n",
       "       'FTARate_h', 'FTARate_r', 'GameDate', 'HomeTeam', 'NetRtg_h',\n",
       "       'NetRtg_r', 'OREB%_h', 'OREB%_r', 'OffRtg_h', 'OffRtg_r', 'PACE_h',\n",
       "       'PACE_r', 'PIE_h', 'PIE_r', 'PTS_h', 'PTS_r', 'REB%_h', 'REB%_r',\n",
       "       'RoadTeam', 'TOV%_h', 'TOV%_r', 'TS%_h', 'TS%_r', 'eFG%_h', 'eFG%_r'],\n",
       "      dtype='object')"
      ]
     },
     "execution_count": 5,
     "metadata": {},
     "output_type": "execute_result"
    }
   ],
   "source": [
    "df_test.columns"
   ]
  },
  {
   "cell_type": "code",
   "execution_count": 6,
   "metadata": {},
   "outputs": [],
   "source": [
    "teams = df_test['HomeTeam'].unique()\n",
    "gamedates = df_test['GameDate'].unique()"
   ]
  },
  {
   "cell_type": "code",
   "execution_count": 7,
   "metadata": {},
   "outputs": [],
   "source": [
    "X_test = df_test.loc[:,['DefRtg_h', 'PIE_h', 'FTARate_h', 'REB%_h', 'TOV%_h', 'TS%_h', 'PACE_h', 'ELO_h',\n",
    "                        'DefRtg_r', 'PIE_r', 'FTARate_r', 'REB%_r', 'TOV%_r', 'TS%_r', 'PACE_r', 'ELO_r']]\n",
    "y_h_test = df_test['PTS_h']\n",
    "y_r_test = df_test['PTS_r']"
   ]
  },
  {
   "cell_type": "code",
   "execution_count": 9,
   "metadata": {},
   "outputs": [],
   "source": [
    "from sklearn.externals import joblib\n",
    "scoreScaler_filename = \"score_scaler.save\"\n",
    "X_scaler = joblib.load(scoreScaler_filename)\n",
    "X_test_scaled = X_scaler.transform(X_test)"
   ]
  },
  {
   "cell_type": "code",
   "execution_count": 10,
   "metadata": {},
   "outputs": [],
   "source": [
    "models = {'bay': [bayRoad_model, bayHome_model], 'ard': [ardRoad_model, ardHome_model], 'huber': [huberRoad_model, huberHome_model], 'sgd': [sgdRoad_model, sgdHome_model], 'theil': [theilRoad_model, theilHome_model]}\n",
    "scoreHomePred = {'bay': [], 'ard': [], 'huber': [], 'sgd': [], 'theil': []}\n",
    "scoreRoadPred = {'bay': [], 'ard': [], 'huber': [], 'sgd': [], 'theil': []}\n",
    "scoreHomeActual = []\n",
    "scoreRoadActual = []\n",
    "for index, row in df_test.iterrows():\n",
    "    date = row['GameDate']\n",
    "    homeTeam = row['HomeTeam']\n",
    "    roadTeam = row['RoadTeam']\n",
    "    homeGames = df_test.loc[(df_test['HomeTeam'] == homeTeam) & (df_test['GameDate'] < date)]\n",
    "    roadGames = df_test.loc[(df_test['RoadTeam'] == homeTeam) & (df_test['GameDate'] < date)]\n",
    "    if((len(homeGames) >= 10) & (len(roadGames) >= 10)):\n",
    "        #print(f\"{date}: RoadTeam: {roadTeam} HomeTeam: {homeTeam}\")\n",
    "        #print(homeGames[0:5]['GameDate'])\n",
    "        homeMean = homeGames[0:10][['DefRtg_h', 'PIE_h', 'FTARate_h', 'REB%_h', 'TOV%_h', 'TS%_h', 'PACE_h', 'ELO_h']].mean()\n",
    "        roadMean = roadGames[0:10][['DefRtg_r', 'PIE_r', 'FTARate_r', 'REB%_r', 'TOV%_r', 'TS%_r', 'PACE_r', 'ELO_r']].mean()\n",
    "        test_series = pd.Series(data = [homeMean['DefRtg_h'], homeMean['PIE_h'], homeMean['FTARate_h'], homeMean['REB%_h'], homeMean['TOV%_h'], homeMean['TS%_h'], homeMean['PACE_h'], homeMean['ELO_h'],\n",
    "                                        roadMean['DefRtg_r'], roadMean['PIE_r'], roadMean['FTARate_r'], roadMean['REB%_r'], roadMean['TOV%_r'], roadMean['TS%_r'], roadMean['PACE_r'], roadMean['ELO_r']\n",
    "        ])\n",
    "        test_data = test_series.values.reshape(1,16)\n",
    "        test_data = X_scaler.transform(test_data)\n",
    "        scoreHomeActual.append(row['PTS_h'])\n",
    "        scoreRoadActual.append(row['PTS_r'])\n",
    "        for model in models:\n",
    "            scoreRoadPred[model].append(models[model][0].predict(test_data)[0])\n",
    "            scoreHomePred[model].append(models[model][1].predict(test_data)[0])"
   ]
  },
  {
   "cell_type": "code",
   "execution_count": 11,
   "metadata": {},
   "outputs": [
    {
     "data": {
      "text/plain": [
       "536"
      ]
     },
     "execution_count": 11,
     "metadata": {},
     "output_type": "execute_result"
    }
   ],
   "source": [
    "len(scoreHomeActual)"
   ]
  },
  {
   "cell_type": "code",
   "execution_count": 12,
   "metadata": {},
   "outputs": [
    {
     "data": {
      "text/plain": [
       "536"
      ]
     },
     "execution_count": 12,
     "metadata": {},
     "output_type": "execute_result"
    }
   ],
   "source": [
    "len(scoreHomePred['bay'])"
   ]
  },
  {
   "cell_type": "code",
   "execution_count": 13,
   "metadata": {},
   "outputs": [
    {
     "data": {
      "text/plain": [
       "536"
      ]
     },
     "execution_count": 13,
     "metadata": {},
     "output_type": "execute_result"
    }
   ],
   "source": [
    "len(scoreRoadActual)"
   ]
  },
  {
   "cell_type": "code",
   "execution_count": 14,
   "metadata": {},
   "outputs": [
    {
     "data": {
      "text/plain": [
       "536"
      ]
     },
     "execution_count": 14,
     "metadata": {},
     "output_type": "execute_result"
    }
   ],
   "source": [
    "len(scoreRoadPred['bay'])"
   ]
  },
  {
   "cell_type": "code",
   "execution_count": 15,
   "metadata": {},
   "outputs": [],
   "source": [
    "d = {'HomeTrue':scoreHomeActual, 'RoadTrue':scoreRoadActual, \n",
    "     'HomeBayPred': scoreHomePred['bay'], 'RoadBayPred': scoreRoadPred['bay'], \n",
    "     'HomeArdPred': scoreHomePred['ard'], 'RoadArdPred': scoreRoadPred['ard'], \n",
    "     'HomeHuberPred': scoreHomePred['huber'], 'RoadHuberPred': scoreRoadPred['huber'], \n",
    "     'HomeSgdPred': scoreHomePred['sgd'], 'RoadSgdPred': scoreRoadPred['sgd'], \n",
    "     'HomeTheilPred': scoreHomePred['theil'], 'RoadTheilPred': scoreRoadPred['theil']}\n",
    "test_scores_df = pd.DataFrame(data=d)"
   ]
  },
  {
   "cell_type": "code",
   "execution_count": 16,
   "metadata": {},
   "outputs": [
    {
     "data": {
      "text/plain": [
       "Index(['HomeTrue', 'RoadTrue', 'HomeBayPred', 'RoadBayPred', 'HomeArdPred',\n",
       "       'RoadArdPred', 'HomeHuberPred', 'RoadHuberPred', 'HomeSgdPred',\n",
       "       'RoadSgdPred', 'HomeTheilPred', 'RoadTheilPred'],\n",
       "      dtype='object')"
      ]
     },
     "execution_count": 16,
     "metadata": {},
     "output_type": "execute_result"
    }
   ],
   "source": [
    "test_scores_df.columns"
   ]
  },
  {
   "cell_type": "code",
   "execution_count": 17,
   "metadata": {},
   "outputs": [],
   "source": [
    "test_scores_df['DeltaTrue'] = test_scores_df['HomeTrue']-test_scores_df['RoadTrue']\n",
    "test_scores_df['DeltaBayPred'] = test_scores_df['HomeBayPred']-test_scores_df['RoadBayPred']\n",
    "test_scores_df['DeltaArdPred'] = test_scores_df['HomeArdPred']-test_scores_df['RoadArdPred']\n",
    "test_scores_df['DeltaHuberPred'] = test_scores_df['HomeHuberPred']-test_scores_df['RoadHuberPred']\n",
    "test_scores_df['DeltaSgdPred'] = test_scores_df['HomeSgdPred']-test_scores_df['RoadSgdPred']\n",
    "test_scores_df['DeltaTheilPred'] = test_scores_df['HomeTheilPred']-test_scores_df['RoadTheilPred']"
   ]
  },
  {
   "cell_type": "code",
   "execution_count": 20,
   "metadata": {},
   "outputs": [],
   "source": [
    "from sklearn.metrics import mean_squared_error"
   ]
  },
  {
   "cell_type": "code",
   "execution_count": 24,
   "metadata": {},
   "outputs": [
    {
     "data": {
      "text/plain": [
       "-0.008570206101269573"
      ]
     },
     "execution_count": 24,
     "metadata": {},
     "output_type": "execute_result"
    }
   ],
   "source": [
    "r2_score(test_scores_df['HomeTrue'], test_scores_df['HomeBayPred'])"
   ]
  },
  {
   "cell_type": "code",
   "execution_count": 21,
   "metadata": {},
   "outputs": [],
   "source": [
    "from sklearn.metrics import r2_score"
   ]
  },
  {
   "cell_type": "code",
   "execution_count": 112,
   "metadata": {},
   "outputs": [
    {
     "data": {
      "text/html": [
       "<div>\n",
       "<style scoped>\n",
       "    .dataframe tbody tr th:only-of-type {\n",
       "        vertical-align: middle;\n",
       "    }\n",
       "\n",
       "    .dataframe tbody tr th {\n",
       "        vertical-align: top;\n",
       "    }\n",
       "\n",
       "    .dataframe thead th {\n",
       "        text-align: right;\n",
       "    }\n",
       "</style>\n",
       "<table border=\"1\" class=\"dataframe\">\n",
       "  <thead>\n",
       "    <tr style=\"text-align: right;\">\n",
       "      <th></th>\n",
       "      <th>HomeTrue</th>\n",
       "      <th>RoadTrue</th>\n",
       "      <th>HomeBayPred</th>\n",
       "      <th>RoadBayPred</th>\n",
       "      <th>HomeArdPred</th>\n",
       "      <th>RoadArdPred</th>\n",
       "      <th>HomeHuberPred</th>\n",
       "      <th>RoadHuberPred</th>\n",
       "      <th>HomeSgdPred</th>\n",
       "      <th>RoadSgdPred</th>\n",
       "      <th>HomeTheilPred</th>\n",
       "      <th>RoadTheilPred</th>\n",
       "      <th>DeltaTrue</th>\n",
       "      <th>DeltaBayPred</th>\n",
       "      <th>DeltaArdPred</th>\n",
       "      <th>DeltaHuberPred</th>\n",
       "      <th>DeltaSgdPred</th>\n",
       "      <th>DeltaTheilPred</th>\n",
       "    </tr>\n",
       "  </thead>\n",
       "  <tbody>\n",
       "    <tr>\n",
       "      <th>0</th>\n",
       "      <td>121</td>\n",
       "      <td>111</td>\n",
       "      <td>115.205701</td>\n",
       "      <td>109.599037</td>\n",
       "      <td>115.413537</td>\n",
       "      <td>109.246479</td>\n",
       "      <td>120.891681</td>\n",
       "      <td>109.205619</td>\n",
       "      <td>114.557517</td>\n",
       "      <td>109.574995</td>\n",
       "      <td>114.910199</td>\n",
       "      <td>109.235234</td>\n",
       "      <td>10</td>\n",
       "      <td>5.606664</td>\n",
       "      <td>6.167058</td>\n",
       "      <td>11.686061</td>\n",
       "      <td>4.982521</td>\n",
       "      <td>5.674965</td>\n",
       "    </tr>\n",
       "    <tr>\n",
       "      <th>1</th>\n",
       "      <td>134</td>\n",
       "      <td>107</td>\n",
       "      <td>111.454809</td>\n",
       "      <td>112.554106</td>\n",
       "      <td>111.339088</td>\n",
       "      <td>112.533289</td>\n",
       "      <td>104.423967</td>\n",
       "      <td>111.874268</td>\n",
       "      <td>110.508577</td>\n",
       "      <td>112.416991</td>\n",
       "      <td>110.978009</td>\n",
       "      <td>112.107814</td>\n",
       "      <td>27</td>\n",
       "      <td>-1.099297</td>\n",
       "      <td>-1.194201</td>\n",
       "      <td>-7.450301</td>\n",
       "      <td>-1.908414</td>\n",
       "      <td>-1.129805</td>\n",
       "    </tr>\n",
       "    <tr>\n",
       "      <th>2</th>\n",
       "      <td>120</td>\n",
       "      <td>118</td>\n",
       "      <td>113.318449</td>\n",
       "      <td>109.096017</td>\n",
       "      <td>112.337554</td>\n",
       "      <td>110.084261</td>\n",
       "      <td>121.438268</td>\n",
       "      <td>108.208256</td>\n",
       "      <td>111.635351</td>\n",
       "      <td>107.866980</td>\n",
       "      <td>112.509482</td>\n",
       "      <td>108.507322</td>\n",
       "      <td>2</td>\n",
       "      <td>4.222431</td>\n",
       "      <td>2.253293</td>\n",
       "      <td>13.230012</td>\n",
       "      <td>3.768371</td>\n",
       "      <td>4.002160</td>\n",
       "    </tr>\n",
       "    <tr>\n",
       "      <th>3</th>\n",
       "      <td>101</td>\n",
       "      <td>112</td>\n",
       "      <td>104.401385</td>\n",
       "      <td>107.951967</td>\n",
       "      <td>104.391181</td>\n",
       "      <td>108.123483</td>\n",
       "      <td>105.686122</td>\n",
       "      <td>107.468946</td>\n",
       "      <td>104.060001</td>\n",
       "      <td>108.065829</td>\n",
       "      <td>104.051463</td>\n",
       "      <td>107.557211</td>\n",
       "      <td>-11</td>\n",
       "      <td>-3.550582</td>\n",
       "      <td>-3.732302</td>\n",
       "      <td>-1.782824</td>\n",
       "      <td>-4.005828</td>\n",
       "      <td>-3.505748</td>\n",
       "    </tr>\n",
       "    <tr>\n",
       "      <th>4</th>\n",
       "      <td>122</td>\n",
       "      <td>110</td>\n",
       "      <td>114.464933</td>\n",
       "      <td>117.115551</td>\n",
       "      <td>114.574398</td>\n",
       "      <td>116.957803</td>\n",
       "      <td>105.844943</td>\n",
       "      <td>116.583552</td>\n",
       "      <td>114.772258</td>\n",
       "      <td>116.973410</td>\n",
       "      <td>114.210530</td>\n",
       "      <td>116.675360</td>\n",
       "      <td>12</td>\n",
       "      <td>-2.650618</td>\n",
       "      <td>-2.383405</td>\n",
       "      <td>-10.738609</td>\n",
       "      <td>-2.201152</td>\n",
       "      <td>-2.464830</td>\n",
       "    </tr>\n",
       "  </tbody>\n",
       "</table>\n",
       "</div>"
      ],
      "text/plain": [
       "   HomeTrue  RoadTrue  HomeBayPred  RoadBayPred  HomeArdPred  RoadArdPred  \\\n",
       "0       121       111   115.205701   109.599037   115.413537   109.246479   \n",
       "1       134       107   111.454809   112.554106   111.339088   112.533289   \n",
       "2       120       118   113.318449   109.096017   112.337554   110.084261   \n",
       "3       101       112   104.401385   107.951967   104.391181   108.123483   \n",
       "4       122       110   114.464933   117.115551   114.574398   116.957803   \n",
       "\n",
       "   HomeHuberPred  RoadHuberPred  HomeSgdPred  RoadSgdPred  HomeTheilPred  \\\n",
       "0     120.891681     109.205619   114.557517   109.574995     114.910199   \n",
       "1     104.423967     111.874268   110.508577   112.416991     110.978009   \n",
       "2     121.438268     108.208256   111.635351   107.866980     112.509482   \n",
       "3     105.686122     107.468946   104.060001   108.065829     104.051463   \n",
       "4     105.844943     116.583552   114.772258   116.973410     114.210530   \n",
       "\n",
       "   RoadTheilPred  DeltaTrue  DeltaBayPred  DeltaArdPred  DeltaHuberPred  \\\n",
       "0     109.235234         10      5.606664      6.167058       11.686061   \n",
       "1     112.107814         27     -1.099297     -1.194201       -7.450301   \n",
       "2     108.507322          2      4.222431      2.253293       13.230012   \n",
       "3     107.557211        -11     -3.550582     -3.732302       -1.782824   \n",
       "4     116.675360         12     -2.650618     -2.383405      -10.738609   \n",
       "\n",
       "   DeltaSgdPred  DeltaTheilPred  \n",
       "0      4.982521        5.674965  \n",
       "1     -1.908414       -1.129805  \n",
       "2      3.768371        4.002160  \n",
       "3     -4.005828       -3.505748  \n",
       "4     -2.201152       -2.464830  "
      ]
     },
     "execution_count": 112,
     "metadata": {},
     "output_type": "execute_result"
    }
   ],
   "source": [
    "test_scores_df.head()"
   ]
  },
  {
   "cell_type": "code",
   "execution_count": 22,
   "metadata": {},
   "outputs": [],
   "source": [
    "from sklearn.metrics import mean_absolute_error"
   ]
  },
  {
   "cell_type": "code",
   "execution_count": 114,
   "metadata": {},
   "outputs": [
    {
     "data": {
      "text/plain": [
       "11.5575714691747"
      ]
     },
     "execution_count": 114,
     "metadata": {},
     "output_type": "execute_result"
    }
   ],
   "source": [
    "mean_absolute_error(test_scores_df['DeltaTrue'], test_scores_df['DeltaSgdPred'])"
   ]
  },
  {
   "cell_type": "code",
   "execution_count": 123,
   "metadata": {},
   "outputs": [],
   "source": [
    "mae_models = {}\n",
    "mae_models['BayRidgeRegress'] = mean_absolute_error(test_scores_df['DeltaTrue'], test_scores_df['DeltaBayPred'])\n",
    "mae_models['ArdRegress'] = mean_absolute_error(test_scores_df['DeltaTrue'], test_scores_df['DeltaArdPred'])\n",
    "mae_models['HuberRegress'] = mean_absolute_error(test_scores_df['DeltaTrue'], test_scores_df['DeltaHuberPred'])\n",
    "mae_models['SgdRegress'] = mean_absolute_error(test_scores_df['DeltaTrue'], test_scores_df['DeltaSgdPred'])\n",
    "mae_models['TheilSenRegress'] = mean_absolute_error(test_scores_df['DeltaTrue'], test_scores_df['DeltaTheilPred'])"
   ]
  },
  {
   "cell_type": "code",
   "execution_count": 116,
   "metadata": {},
   "outputs": [
    {
     "data": {
      "text/plain": [
       "{'bay': 11.412105899737698,\n",
       " 'ard': 11.53162103547274,\n",
       " 'huber': 11.980774434477507,\n",
       " 'sgd': 11.5575714691747,\n",
       " 'theil': 11.447859944462495}"
      ]
     },
     "execution_count": 116,
     "metadata": {},
     "output_type": "execute_result"
    }
   ],
   "source": [
    "mae_models"
   ]
  },
  {
   "cell_type": "code",
   "execution_count": 124,
   "metadata": {},
   "outputs": [
    {
     "data": {
      "text/plain": [
       "{'BayRidgeRegress': 0.012020628262219835,\n",
       " 'ArdRegress': -0.008011341398253435,\n",
       " 'HuberRegress': -0.06740326238674599,\n",
       " 'SgdRegress': -0.009359596502744205,\n",
       " 'TheilSenRegress': 0.006534025499589813}"
      ]
     },
     "execution_count": 124,
     "metadata": {},
     "output_type": "execute_result"
    }
   ],
   "source": [
    "r2_models = {}\n",
    "r2_models['BayRidgeRegress'] = r2_score(test_scores_df['DeltaTrue'], test_scores_df['DeltaBayPred'])\n",
    "r2_models['ArdRegress'] = r2_score(test_scores_df['DeltaTrue'], test_scores_df['DeltaArdPred'])\n",
    "r2_models['HuberRegress'] = r2_score(test_scores_df['DeltaTrue'], test_scores_df['DeltaHuberPred'])\n",
    "r2_models['SgdRegress'] = r2_score(test_scores_df['DeltaTrue'], test_scores_df['DeltaSgdPred'])\n",
    "r2_models['TheilSenRegress'] = r2_score(test_scores_df['DeltaTrue'], test_scores_df['DeltaTheilPred'])\n",
    "r2_models"
   ]
  },
  {
   "cell_type": "code",
   "execution_count": 125,
   "metadata": {},
   "outputs": [
    {
     "data": {
      "text/plain": [
       "{'BayRidgeRegress': 209.76755076461762,\n",
       " 'ArdRegress': 214.02073391081785,\n",
       " 'HuberRegress': 226.6308127822504,\n",
       " 'SgdRegress': 214.30699512149218,\n",
       " 'TheilSenRegress': 210.9324649890016}"
      ]
     },
     "execution_count": 125,
     "metadata": {},
     "output_type": "execute_result"
    }
   ],
   "source": [
    "mse_models = {}\n",
    "mse_models['BayRidgeRegress'] = mean_squared_error(test_scores_df['DeltaTrue'], test_scores_df['DeltaBayPred'])\n",
    "mse_models['ArdRegress'] = mean_squared_error(test_scores_df['DeltaTrue'], test_scores_df['DeltaArdPred'])\n",
    "mse_models['HuberRegress'] = mean_squared_error(test_scores_df['DeltaTrue'], test_scores_df['DeltaHuberPred'])\n",
    "mse_models['SgdRegress'] = mean_squared_error(test_scores_df['DeltaTrue'], test_scores_df['DeltaSgdPred'])\n",
    "mse_models['TheilSenRegress'] = mean_squared_error(test_scores_df['DeltaTrue'], test_scores_df['DeltaTheilPred'])\n",
    "mse_models"
   ]
  },
  {
   "cell_type": "code",
   "execution_count": 23,
   "metadata": {},
   "outputs": [],
   "source": [
    "from sklearn.metrics import median_absolute_error"
   ]
  },
  {
   "cell_type": "code",
   "execution_count": 126,
   "metadata": {},
   "outputs": [
    {
     "data": {
      "text/plain": [
       "{'BayRidgeRegress': 9.140330776526199,\n",
       " 'ArdRegress': 9.256028585710403,\n",
       " 'HuberRegress': 10.005108106275635,\n",
       " 'SgdRegress': 9.413887799478275,\n",
       " 'TheilSenRegress': 9.196041293502674}"
      ]
     },
     "execution_count": 126,
     "metadata": {},
     "output_type": "execute_result"
    }
   ],
   "source": [
    "medae_model = {}\n",
    "medae_model['BayRidgeRegress'] = median_absolute_error(test_scores_df['DeltaTrue'], test_scores_df['DeltaBayPred'])\n",
    "medae_model['ArdRegress'] = median_absolute_error(test_scores_df['DeltaTrue'], test_scores_df['DeltaArdPred'])\n",
    "medae_model['HuberRegress'] = median_absolute_error(test_scores_df['DeltaTrue'], test_scores_df['DeltaHuberPred'])\n",
    "medae_model['SgdRegress'] = median_absolute_error(test_scores_df['DeltaTrue'], test_scores_df['DeltaSgdPred'])\n",
    "medae_model['TheilSenRegress'] = median_absolute_error(test_scores_df['DeltaTrue'], test_scores_df['DeltaTheilPred'])\n",
    "medae_model"
   ]
  },
  {
   "cell_type": "code",
   "execution_count": 127,
   "metadata": {},
   "outputs": [],
   "source": [
    "regress_metrics = {}\n",
    "regress_metrics[\"MAE\"] = mae_models\n",
    "regress_metrics[\"R2\"] = r2_models\n",
    "regress_metrics[\"MSE\"] = mse_models\n",
    "regress_metrics[\"MedAE\"] = medae_model"
   ]
  },
  {
   "cell_type": "code",
   "execution_count": 128,
   "metadata": {},
   "outputs": [
    {
     "data": {
      "text/plain": [
       "<pymongo.results.InsertOneResult at 0x2cb824e1ec8>"
      ]
     },
     "execution_count": 128,
     "metadata": {},
     "output_type": "execute_result"
    }
   ],
   "source": [
    "db.model_regress_data.insert_one(regress_metrics)"
   ]
  },
  {
   "cell_type": "code",
   "execution_count": null,
   "metadata": {},
   "outputs": [],
   "source": []
  }
 ],
 "metadata": {
  "kernelspec": {
   "display_name": "Python [conda env:PythonData]",
   "language": "python",
   "name": "conda-env-PythonData-py"
  },
  "language_info": {
   "codemirror_mode": {
    "name": "ipython",
    "version": 3
   },
   "file_extension": ".py",
   "mimetype": "text/x-python",
   "name": "python",
   "nbconvert_exporter": "python",
   "pygments_lexer": "ipython3",
   "version": "3.6.5"
  }
 },
 "nbformat": 4,
 "nbformat_minor": 2
}

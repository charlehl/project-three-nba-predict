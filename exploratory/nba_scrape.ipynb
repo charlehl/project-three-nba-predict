{
 "cells": [
  {
   "cell_type": "code",
   "execution_count": 1,
   "metadata": {},
   "outputs": [],
   "source": [
    "import numpy as np\n",
    "import pandas as pd\n",
    "#import datetime as dt\n",
    "import pymongo\n",
    "import json\n",
    "import datetime as dt\n",
    "import pickle"
   ]
  },
  {
   "cell_type": "code",
   "execution_count": 2,
   "metadata": {},
   "outputs": [],
   "source": [
    "#import os\n",
    "from bs4 import BeautifulSoup as bs\n",
    "#import requests\n",
    "from splinter import Browser\n",
    "import time"
   ]
  },
  {
   "cell_type": "markdown",
   "metadata": {},
   "source": [
    "# Scrape Data and Organize"
   ]
  },
  {
   "cell_type": "code",
   "execution_count": 3,
   "metadata": {},
   "outputs": [],
   "source": [
    "# create mongo db connection\n",
    "conn = 'mongodb://localhost:27017'\n",
    "client = pymongo.MongoClient(conn)\n",
    "# connect to my nba data db\n",
    "db = client.nba_data_db"
   ]
  },
  {
   "cell_type": "code",
   "execution_count": 5,
   "metadata": {},
   "outputs": [],
   "source": [
    "# drop any items in training data collection\n",
    "db.training_data.drop()"
   ]
  },
  {
   "cell_type": "code",
   "execution_count": 6,
   "metadata": {},
   "outputs": [],
   "source": [
    "# Url to get all boxscores for 2017-2018 regular season games\n",
    "nba_17_18_boxscores_url = \"https://stats.nba.com/teams/boxscores-advanced/?Season=2017-18&SeasonType=Regular%20Season\"\n",
    "nba_17_18_fourfactor_url = \"https://stats.nba.com/teams/boxscores-four-factors/?Season=2017-18&SeasonType=Regular%20Season\""
   ]
  },
  {
   "cell_type": "code",
   "execution_count": 7,
   "metadata": {},
   "outputs": [],
   "source": [
    "# create splinter browser\n",
    "def init_browser():\n",
    "    executable_path = {'executable_path': 'chromedriver.exe'}\n",
    "    browser = Browser('chrome', **executable_path, headless=False)\n",
    "    return browser\n",
    "\n",
    "browser = init_browser()"
   ]
  },
  {
   "cell_type": "code",
   "execution_count": 8,
   "metadata": {},
   "outputs": [],
   "source": [
    "# visit website\n",
    "browser.visit(nba_17_18_boxscores_url)\n",
    "time.sleep(3)"
   ]
  },
  {
   "cell_type": "code",
   "execution_count": 9,
   "metadata": {},
   "outputs": [],
   "source": [
    "# get click path by xpath from browser inspector\n",
    "sel_all_path = browser.find_by_xpath(\"/html/body/main/div[2]/div/div[2]/div/div/nba-stat-table/div[1]/div/div/select/option[1]\")\n",
    "# select to display all games\n",
    "sel_all_path.click()\n",
    "time.sleep(5)\n",
    "# parse html in soup\n",
    "html = browser.html\n",
    "# Parse with soup\n",
    "soup = bs(html, 'html.parser')\n",
    "# Find all tables\n",
    "table = soup.find_all('table')[0] \n",
    "df = pd.read_html(str(table))\n",
    "# drop season column since unneeded\n",
    "new_df = df[0].drop(columns=['Season'])\n",
    "# Rename column names\n",
    "new_df.rename(columns={\"Game\\xa0Date\": \"GameDate\", \"Match\\xa0Up\": \"MatchUp\"}, inplace=True)\n",
    "# change gamedate to datetime\n",
    "new_df['GameDate'] = new_df['GameDate'].apply(lambda x: dt.datetime.strptime(x, \"%m/%d/%Y\"))\n",
    "# export to json\n",
    "#items = new_df.to_json(orient='records', date_format='iso')\n",
    "# load json string to json\n",
    "#items_db = json.loads(items)"
   ]
  },
  {
   "cell_type": "code",
   "execution_count": 10,
   "metadata": {},
   "outputs": [],
   "source": [
    "# visit website\n",
    "browser.visit(nba_17_18_fourfactor_url)\n",
    "time.sleep(3)"
   ]
  },
  {
   "cell_type": "code",
   "execution_count": 11,
   "metadata": {},
   "outputs": [],
   "source": [
    "# get click path by xpath from browser inspector\n",
    "sel_all_path = browser.find_by_xpath(\"/html/body/main/div[2]/div/div[2]/div/div/nba-stat-table/div[1]/div/div/select/option[1]\")\n",
    "# select to display all games\n",
    "sel_all_path.click()\n",
    "time.sleep(5)\n",
    "# parse html in soup\n",
    "html = browser.html\n",
    "# Parse with soup\n",
    "soup = bs(html, 'html.parser')\n",
    "# Find all tables\n",
    "table = soup.find_all('table')[0] \n",
    "df = pd.read_html(str(table))\n",
    "# drop season column since unneeded\n",
    "df = df[0].drop(columns=['Season'])\n",
    "# Rename columns\n",
    "df.rename(columns={\"Game\\xa0Date\": \"GameDate\", \"Match\\xa0Up\": \"MatchUp\", \"OppFTA\\xa0Rate\": \"OppFTARate\"}, inplace=True)\n",
    "# Convert to float percent values\n",
    "df['OREB%'] = df['OREB%'].str.rstrip('%').astype('float')\n",
    "df['OppOREB%'] = df['OppOREB%'].str.rstrip('%').astype('float')\n",
    "df['OppeFG%'] = df['OppeFG%'].str.rstrip('%').astype('float')\n",
    "df['eFG%'] = df['eFG%'].str.rstrip('%').astype('float')\n",
    "# change gamedate to datetime\n",
    "df['GameDate'] = df['GameDate'].apply(lambda x: dt.datetime.strptime(x, \"%m/%d/%Y\"))\n",
    "# export to json\n",
    "#items = new_df.to_json(orient='records', date_format='iso')\n",
    "# load json string to json\n",
    "#items_db = json.loads(items)"
   ]
  },
  {
   "cell_type": "code",
   "execution_count": 12,
   "metadata": {},
   "outputs": [],
   "source": [
    "df = df.drop(['MIN', 'MatchUp', 'W/L', 'eFG%', 'OREB%', 'TOV%'], axis=1)"
   ]
  },
  {
   "cell_type": "code",
   "execution_count": 13,
   "metadata": {},
   "outputs": [
    {
     "data": {
      "text/plain": [
       "2460"
      ]
     },
     "execution_count": 13,
     "metadata": {},
     "output_type": "execute_result"
    }
   ],
   "source": [
    "len(df)"
   ]
  },
  {
   "cell_type": "code",
   "execution_count": 14,
   "metadata": {},
   "outputs": [],
   "source": [
    "result = pd.merge(new_df, df, on=['Team', 'GameDate'])"
   ]
  },
  {
   "cell_type": "code",
   "execution_count": 15,
   "metadata": {},
   "outputs": [
    {
     "data": {
      "text/plain": [
       "Index(['Team', 'MatchUp', 'GameDate', 'W/L', 'MIN', 'OffRtg', 'DefRtg',\n",
       "       'NetRtg', 'AST%', 'AST/TO', 'ASTRatio', 'OREB%', 'DREB%', 'REB%',\n",
       "       'TOV%', 'eFG%', 'TS%', 'PACE', 'PIE', 'FTARate', 'OppeFG%',\n",
       "       'OppFTARate', 'OppTOV%', 'OppOREB%'],\n",
       "      dtype='object')"
      ]
     },
     "execution_count": 15,
     "metadata": {},
     "output_type": "execute_result"
    }
   ],
   "source": [
    "result.columns"
   ]
  },
  {
   "cell_type": "code",
   "execution_count": 16,
   "metadata": {},
   "outputs": [],
   "source": [
    "result_training_df = result.copy()"
   ]
  },
  {
   "cell_type": "code",
   "execution_count": 17,
   "metadata": {},
   "outputs": [],
   "source": [
    "nba_18_19_boxscores_url = \"https://stats.nba.com/teams/boxscores-advanced/\"\n",
    "nba_18_19_fourfactor_url = \"https://stats.nba.com/teams/boxscores-four-factors/\""
   ]
  },
  {
   "cell_type": "code",
   "execution_count": 18,
   "metadata": {},
   "outputs": [],
   "source": [
    "# drop any items in training data collection\n",
    "db.testing_data.drop()"
   ]
  },
  {
   "cell_type": "code",
   "execution_count": 19,
   "metadata": {},
   "outputs": [],
   "source": [
    "# visit website\n",
    "browser.visit(nba_18_19_boxscores_url)\n",
    "time.sleep(3)"
   ]
  },
  {
   "cell_type": "code",
   "execution_count": 20,
   "metadata": {},
   "outputs": [],
   "source": [
    "# get click path by xpath from browser inspector\n",
    "sel_all_path = browser.find_by_xpath(\"/html/body/main/div[2]/div/div[2]/div/div/nba-stat-table/div[1]/div/div/select/option[1]\")\n",
    "# select to display all games\n",
    "sel_all_path.click()\n",
    "time.sleep(5)\n",
    "# parse html in soup\n",
    "html = browser.html\n",
    "# Parse with soup\n",
    "soup = bs(html, 'html.parser')\n",
    "# Find all tables\n",
    "table = soup.find_all('table')[0] \n",
    "df = pd.read_html(str(table))\n",
    "# drop season column since unneeded\n",
    "new_df = df[0].drop(columns=['Season'])\n",
    "# Rename column names\n",
    "new_df.rename(columns={\"Game\\xa0Date\": \"GameDate\", \"Match\\xa0Up\": \"MatchUp\"}, inplace=True)\n",
    "# change gamedate to datetime\n",
    "new_df['GameDate'] = new_df['GameDate'].apply(lambda x: dt.datetime.strptime(x, \"%m/%d/%Y\"))\n",
    "# export to json\n",
    "#items = new_df.to_json(orient='records', date_format='iso')\n",
    "# load json string to json\n",
    "#items_db = json.loads(items)"
   ]
  },
  {
   "cell_type": "code",
   "execution_count": 21,
   "metadata": {},
   "outputs": [],
   "source": [
    "# visit website\n",
    "browser.visit(nba_18_19_fourfactor_url)\n",
    "time.sleep(3)"
   ]
  },
  {
   "cell_type": "code",
   "execution_count": 22,
   "metadata": {},
   "outputs": [],
   "source": [
    "# get click path by xpath from browser inspector\n",
    "sel_all_path = browser.find_by_xpath(\"/html/body/main/div[2]/div/div[2]/div/div/nba-stat-table/div[1]/div/div/select/option[1]\")\n",
    "# select to display all games\n",
    "sel_all_path.click()\n",
    "time.sleep(5)\n",
    "# parse html in soup\n",
    "html = browser.html\n",
    "# Parse with soup\n",
    "soup = bs(html, 'html.parser')\n",
    "# Find all tables\n",
    "table = soup.find_all('table')[0] \n",
    "df = pd.read_html(str(table))\n",
    "# drop season column since unneeded\n",
    "df = df[0].drop(columns=['Season'])\n",
    "# Rename columns\n",
    "df.rename(columns={\"Game\\xa0Date\": \"GameDate\", \"Match\\xa0Up\": \"MatchUp\", \"OppFTA\\xa0Rate\": \"OppFTARate\"}, inplace=True)\n",
    "# Convert to float percent values\n",
    "df['OREB%'] = df['OREB%'].str.rstrip('%').astype('float')\n",
    "df['OppOREB%'] = df['OppOREB%'].str.rstrip('%').astype('float')\n",
    "df['OppeFG%'] = df['OppeFG%'].str.rstrip('%').astype('float')\n",
    "df['eFG%'] = df['eFG%'].str.rstrip('%').astype('float')\n",
    "# change gamedate to datetime\n",
    "df['GameDate'] = df['GameDate'].apply(lambda x: dt.datetime.strptime(x, \"%m/%d/%Y\"))\n",
    "# export to json\n",
    "#items = new_df.to_json(orient='records', date_format='iso')\n",
    "# load json string to json\n",
    "#items_db = json.loads(items)"
   ]
  },
  {
   "cell_type": "code",
   "execution_count": 23,
   "metadata": {},
   "outputs": [],
   "source": [
    "df = df.drop(['MIN', 'MatchUp', 'W/L', 'eFG%', 'OREB%', 'TOV%'], axis=1)"
   ]
  },
  {
   "cell_type": "code",
   "execution_count": 24,
   "metadata": {},
   "outputs": [],
   "source": [
    "result_new = pd.merge(new_df, df, on=['Team', 'GameDate'])"
   ]
  },
  {
   "cell_type": "code",
   "execution_count": 25,
   "metadata": {},
   "outputs": [
    {
     "data": {
      "text/plain": [
       "1438"
      ]
     },
     "execution_count": 25,
     "metadata": {},
     "output_type": "execute_result"
    }
   ],
   "source": [
    "len(result_new)"
   ]
  },
  {
   "cell_type": "code",
   "execution_count": 26,
   "metadata": {},
   "outputs": [],
   "source": [
    "df_winloss = pd.concat([result, result_new])"
   ]
  },
  {
   "cell_type": "code",
   "execution_count": 27,
   "metadata": {},
   "outputs": [],
   "source": [
    "df_winloss = df_winloss.groupby(['W/L'])['AST%', 'AST/TO', 'ASTRatio', 'DREB%', \n",
    "                                     'DefRtg','OREB%', 'OffRtg', 'PACE', \n",
    "                                     'PIE', 'REB%', 'TOV%','TS%',\n",
    "                                     'eFG%', 'FTARate', 'OppFTARate', 'OppOREB%',\n",
    "                                     'OppTOV%', 'OppeFG%'].mean()"
   ]
  },
  {
   "cell_type": "code",
   "execution_count": 28,
   "metadata": {},
   "outputs": [],
   "source": [
    "df_winloss = df_winloss.reset_index()"
   ]
  },
  {
   "cell_type": "code",
   "execution_count": 30,
   "metadata": {},
   "outputs": [],
   "source": [
    "db.nba_stats_data.drop()"
   ]
  },
  {
   "cell_type": "code",
   "execution_count": 31,
   "metadata": {},
   "outputs": [],
   "source": [
    "# export to json\n",
    "items = df_winloss.to_json(orient='records')\n",
    "# load json string to json\n",
    "items_db = json.loads(items)"
   ]
  },
  {
   "cell_type": "code",
   "execution_count": 32,
   "metadata": {},
   "outputs": [
    {
     "data": {
      "text/plain": [
       "<pymongo.results.InsertManyResult at 0x17b727d9088>"
      ]
     },
     "execution_count": 32,
     "metadata": {},
     "output_type": "execute_result"
    }
   ],
   "source": [
    "# insert data to collection\n",
    "db.nba_stats_data.insert_many(items_db)"
   ]
  },
  {
   "cell_type": "code",
   "execution_count": 33,
   "metadata": {},
   "outputs": [
    {
     "data": {
      "text/html": [
       "<div>\n",
       "<style scoped>\n",
       "    .dataframe tbody tr th:only-of-type {\n",
       "        vertical-align: middle;\n",
       "    }\n",
       "\n",
       "    .dataframe tbody tr th {\n",
       "        vertical-align: top;\n",
       "    }\n",
       "\n",
       "    .dataframe thead th {\n",
       "        text-align: right;\n",
       "    }\n",
       "</style>\n",
       "<table border=\"1\" class=\"dataframe\">\n",
       "  <thead>\n",
       "    <tr style=\"text-align: right;\">\n",
       "      <th></th>\n",
       "      <th>W/L</th>\n",
       "      <th>AST%</th>\n",
       "      <th>AST/TO</th>\n",
       "      <th>ASTRatio</th>\n",
       "      <th>DREB%</th>\n",
       "      <th>DefRtg</th>\n",
       "      <th>OREB%</th>\n",
       "      <th>OffRtg</th>\n",
       "      <th>PACE</th>\n",
       "      <th>PIE</th>\n",
       "      <th>REB%</th>\n",
       "      <th>TOV%</th>\n",
       "      <th>TS%</th>\n",
       "      <th>eFG%</th>\n",
       "      <th>FTARate</th>\n",
       "      <th>OppFTARate</th>\n",
       "      <th>OppOREB%</th>\n",
       "      <th>OppTOV%</th>\n",
       "      <th>OppeFG%</th>\n",
       "    </tr>\n",
       "  </thead>\n",
       "  <tbody>\n",
       "    <tr>\n",
       "      <th>0</th>\n",
       "      <td>L</td>\n",
       "      <td>57.715854</td>\n",
       "      <td>1.618132</td>\n",
       "      <td>16.250795</td>\n",
       "      <td>72.448743</td>\n",
       "      <td>113.929400</td>\n",
       "      <td>25.942227</td>\n",
       "      <td>102.535403</td>\n",
       "      <td>99.069733</td>\n",
       "      <td>43.054643</td>\n",
       "      <td>48.119035</td>\n",
       "      <td>14.767111</td>\n",
       "      <td>52.923037</td>\n",
       "      <td>49.366290</td>\n",
       "      <td>0.247958</td>\n",
       "      <td>0.269453</td>\n",
       "      <td>27.552232</td>\n",
       "      <td>14.003592</td>\n",
       "      <td>55.202514</td>\n",
       "    </tr>\n",
       "    <tr>\n",
       "      <th>1</th>\n",
       "      <td>W</td>\n",
       "      <td>59.911339</td>\n",
       "      <td>1.959913</td>\n",
       "      <td>18.224885</td>\n",
       "      <td>74.059312</td>\n",
       "      <td>102.535403</td>\n",
       "      <td>27.552232</td>\n",
       "      <td>113.929400</td>\n",
       "      <td>99.069733</td>\n",
       "      <td>56.945818</td>\n",
       "      <td>51.881734</td>\n",
       "      <td>14.003592</td>\n",
       "      <td>58.682914</td>\n",
       "      <td>55.202514</td>\n",
       "      <td>0.269453</td>\n",
       "      <td>0.247958</td>\n",
       "      <td>25.942227</td>\n",
       "      <td>14.767111</td>\n",
       "      <td>49.366290</td>\n",
       "    </tr>\n",
       "  </tbody>\n",
       "</table>\n",
       "</div>"
      ],
      "text/plain": [
       "  W/L       AST%    AST/TO   ASTRatio      DREB%      DefRtg      OREB%  \\\n",
       "0   L  57.715854  1.618132  16.250795  72.448743  113.929400  25.942227   \n",
       "1   W  59.911339  1.959913  18.224885  74.059312  102.535403  27.552232   \n",
       "\n",
       "       OffRtg       PACE        PIE       REB%       TOV%        TS%  \\\n",
       "0  102.535403  99.069733  43.054643  48.119035  14.767111  52.923037   \n",
       "1  113.929400  99.069733  56.945818  51.881734  14.003592  58.682914   \n",
       "\n",
       "        eFG%   FTARate  OppFTARate   OppOREB%    OppTOV%    OppeFG%  \n",
       "0  49.366290  0.247958    0.269453  27.552232  14.003592  55.202514  \n",
       "1  55.202514  0.269453    0.247958  25.942227  14.767111  49.366290  "
      ]
     },
     "execution_count": 33,
     "metadata": {},
     "output_type": "execute_result"
    }
   ],
   "source": [
    "df_winloss.head()"
   ]
  },
  {
   "cell_type": "code",
   "execution_count": 34,
   "metadata": {},
   "outputs": [],
   "source": [
    "result['OffEff'] = np.where(result['OffRtg']>=df_winloss.loc[1,'OffRtg'], 1, 0)\n",
    "result['DefEff'] = np.where(result['DefRtg']<=df_winloss.loc[1,'DefRtg'], 1, 0)"
   ]
  },
  {
   "cell_type": "code",
   "execution_count": 35,
   "metadata": {},
   "outputs": [],
   "source": [
    "result_new['OffEff'] = np.where(result_new['OffRtg']>=df_winloss.loc[1,'OffRtg'], 1, 0)\n",
    "result_new['DefEff'] = np.where(result_new['DefRtg']<=df_winloss.loc[1,'DefRtg'], 1, 0)"
   ]
  },
  {
   "cell_type": "code",
   "execution_count": 36,
   "metadata": {},
   "outputs": [],
   "source": [
    "# export to json\n",
    "items = result.to_json(orient='records', date_format='iso')\n",
    "# load json string to json\n",
    "items_db = json.loads(items)"
   ]
  },
  {
   "cell_type": "code",
   "execution_count": 37,
   "metadata": {},
   "outputs": [
    {
     "data": {
      "text/plain": [
       "<pymongo.results.InsertManyResult at 0x17b75599388>"
      ]
     },
     "execution_count": 37,
     "metadata": {},
     "output_type": "execute_result"
    }
   ],
   "source": [
    "# insert data to collection\n",
    "db.training_data.insert_many(items_db)"
   ]
  },
  {
   "cell_type": "code",
   "execution_count": 38,
   "metadata": {},
   "outputs": [],
   "source": [
    "# export to json\n",
    "items = result_new.to_json(orient='records', date_format='iso')\n",
    "# load json string to json\n",
    "items_db = json.loads(items)"
   ]
  },
  {
   "cell_type": "code",
   "execution_count": 39,
   "metadata": {},
   "outputs": [
    {
     "data": {
      "text/plain": [
       "<pymongo.results.InsertManyResult at 0x17b753a7048>"
      ]
     },
     "execution_count": 39,
     "metadata": {},
     "output_type": "execute_result"
    }
   ],
   "source": [
    "# insert data to collection\n",
    "db.testing_data.insert_many(items_db)"
   ]
  },
  {
   "cell_type": "markdown",
   "metadata": {},
   "source": [
    "# Create Four Factor Model"
   ]
  },
  {
   "cell_type": "code",
   "execution_count": 395,
   "metadata": {},
   "outputs": [],
   "source": [
    "temp = db.training_data.find()\n",
    "temp = list(temp)\n",
    "for i in temp:\n",
    "    i.pop('_id', None)"
   ]
  },
  {
   "cell_type": "code",
   "execution_count": 396,
   "metadata": {},
   "outputs": [
    {
     "data": {
      "text/html": [
       "<div>\n",
       "<style scoped>\n",
       "    .dataframe tbody tr th:only-of-type {\n",
       "        vertical-align: middle;\n",
       "    }\n",
       "\n",
       "    .dataframe tbody tr th {\n",
       "        vertical-align: top;\n",
       "    }\n",
       "\n",
       "    .dataframe thead th {\n",
       "        text-align: right;\n",
       "    }\n",
       "</style>\n",
       "<table border=\"1\" class=\"dataframe\">\n",
       "  <thead>\n",
       "    <tr style=\"text-align: right;\">\n",
       "      <th></th>\n",
       "      <th>AST%</th>\n",
       "      <th>AST/TO</th>\n",
       "      <th>ASTRatio</th>\n",
       "      <th>DREB%</th>\n",
       "      <th>DefEff</th>\n",
       "      <th>DefRtg</th>\n",
       "      <th>FTARate</th>\n",
       "      <th>GameDate</th>\n",
       "      <th>MIN</th>\n",
       "      <th>MatchUp</th>\n",
       "      <th>...</th>\n",
       "      <th>OppTOV%</th>\n",
       "      <th>OppeFG%</th>\n",
       "      <th>PACE</th>\n",
       "      <th>PIE</th>\n",
       "      <th>REB%</th>\n",
       "      <th>TOV%</th>\n",
       "      <th>TS%</th>\n",
       "      <th>Team</th>\n",
       "      <th>W/L</th>\n",
       "      <th>eFG%</th>\n",
       "    </tr>\n",
       "  </thead>\n",
       "  <tbody>\n",
       "    <tr>\n",
       "      <th>0</th>\n",
       "      <td>35.5</td>\n",
       "      <td>0.79</td>\n",
       "      <td>9.6</td>\n",
       "      <td>77.3</td>\n",
       "      <td>0</td>\n",
       "      <td>104.3</td>\n",
       "      <td>0.146</td>\n",
       "      <td>2018-04-11T00:00:00.000Z</td>\n",
       "      <td>48</td>\n",
       "      <td>HOU @ SAC</td>\n",
       "      <td>...</td>\n",
       "      <td>12.0</td>\n",
       "      <td>51.9</td>\n",
       "      <td>92.0</td>\n",
       "      <td>30.3</td>\n",
       "      <td>46.4</td>\n",
       "      <td>15.2</td>\n",
       "      <td>47.5</td>\n",
       "      <td>HOU</td>\n",
       "      <td>L</td>\n",
       "      <td>45.7</td>\n",
       "    </tr>\n",
       "    <tr>\n",
       "      <th>1</th>\n",
       "      <td>50.0</td>\n",
       "      <td>1.69</td>\n",
       "      <td>16.1</td>\n",
       "      <td>78.0</td>\n",
       "      <td>0</td>\n",
       "      <td>131.7</td>\n",
       "      <td>0.264</td>\n",
       "      <td>2018-04-11T00:00:00.000Z</td>\n",
       "      <td>48</td>\n",
       "      <td>MEM @ OKC</td>\n",
       "      <td>...</td>\n",
       "      <td>13.5</td>\n",
       "      <td>67.1</td>\n",
       "      <td>104.0</td>\n",
       "      <td>44.2</td>\n",
       "      <td>48.3</td>\n",
       "      <td>12.5</td>\n",
       "      <td>60.6</td>\n",
       "      <td>MEM</td>\n",
       "      <td>L</td>\n",
       "      <td>55.5</td>\n",
       "    </tr>\n",
       "    <tr>\n",
       "      <th>2</th>\n",
       "      <td>67.3</td>\n",
       "      <td>2.92</td>\n",
       "      <td>21.7</td>\n",
       "      <td>77.4</td>\n",
       "      <td>1</td>\n",
       "      <td>88.8</td>\n",
       "      <td>0.143</td>\n",
       "      <td>2018-04-11T00:00:00.000Z</td>\n",
       "      <td>48</td>\n",
       "      <td>PHI vs. MIL</td>\n",
       "      <td>...</td>\n",
       "      <td>18.7</td>\n",
       "      <td>45.0</td>\n",
       "      <td>107.0</td>\n",
       "      <td>67.1</td>\n",
       "      <td>55.0</td>\n",
       "      <td>11.2</td>\n",
       "      <td>58.2</td>\n",
       "      <td>PHI</td>\n",
       "      <td>W</td>\n",
       "      <td>56.7</td>\n",
       "    </tr>\n",
       "    <tr>\n",
       "      <th>3</th>\n",
       "      <td>59.5</td>\n",
       "      <td>1.29</td>\n",
       "      <td>15.6</td>\n",
       "      <td>71.8</td>\n",
       "      <td>0</td>\n",
       "      <td>116.2</td>\n",
       "      <td>0.207</td>\n",
       "      <td>2018-04-11T00:00:00.000Z</td>\n",
       "      <td>48</td>\n",
       "      <td>SAS @ NOP</td>\n",
       "      <td>...</td>\n",
       "      <td>18.1</td>\n",
       "      <td>61.9</td>\n",
       "      <td>105.5</td>\n",
       "      <td>34.8</td>\n",
       "      <td>43.8</td>\n",
       "      <td>16.0</td>\n",
       "      <td>48.8</td>\n",
       "      <td>SAS</td>\n",
       "      <td>L</td>\n",
       "      <td>44.6</td>\n",
       "    </tr>\n",
       "    <tr>\n",
       "      <th>4</th>\n",
       "      <td>69.8</td>\n",
       "      <td>2.00</td>\n",
       "      <td>21.7</td>\n",
       "      <td>58.1</td>\n",
       "      <td>1</td>\n",
       "      <td>102.1</td>\n",
       "      <td>0.153</td>\n",
       "      <td>2018-04-11T00:00:00.000Z</td>\n",
       "      <td>48</td>\n",
       "      <td>NYK @ CLE</td>\n",
       "      <td>...</td>\n",
       "      <td>16.7</td>\n",
       "      <td>42.6</td>\n",
       "      <td>97.0</td>\n",
       "      <td>62.1</td>\n",
       "      <td>45.2</td>\n",
       "      <td>15.3</td>\n",
       "      <td>60.6</td>\n",
       "      <td>NYK</td>\n",
       "      <td>W</td>\n",
       "      <td>57.6</td>\n",
       "    </tr>\n",
       "  </tbody>\n",
       "</table>\n",
       "<p>5 rows × 26 columns</p>\n",
       "</div>"
      ],
      "text/plain": [
       "   AST%  AST/TO  ASTRatio  DREB%  DefEff  DefRtg  FTARate  \\\n",
       "0  35.5    0.79       9.6   77.3       0   104.3    0.146   \n",
       "1  50.0    1.69      16.1   78.0       0   131.7    0.264   \n",
       "2  67.3    2.92      21.7   77.4       1    88.8    0.143   \n",
       "3  59.5    1.29      15.6   71.8       0   116.2    0.207   \n",
       "4  69.8    2.00      21.7   58.1       1   102.1    0.153   \n",
       "\n",
       "                   GameDate  MIN      MatchUp  ...   OppTOV%  OppeFG%   PACE  \\\n",
       "0  2018-04-11T00:00:00.000Z   48    HOU @ SAC  ...      12.0     51.9   92.0   \n",
       "1  2018-04-11T00:00:00.000Z   48    MEM @ OKC  ...      13.5     67.1  104.0   \n",
       "2  2018-04-11T00:00:00.000Z   48  PHI vs. MIL  ...      18.7     45.0  107.0   \n",
       "3  2018-04-11T00:00:00.000Z   48    SAS @ NOP  ...      18.1     61.9  105.5   \n",
       "4  2018-04-11T00:00:00.000Z   48    NYK @ CLE  ...      16.7     42.6   97.0   \n",
       "\n",
       "    PIE  REB%  TOV%   TS%  Team  W/L  eFG%  \n",
       "0  30.3  46.4  15.2  47.5   HOU    L  45.7  \n",
       "1  44.2  48.3  12.5  60.6   MEM    L  55.5  \n",
       "2  67.1  55.0  11.2  58.2   PHI    W  56.7  \n",
       "3  34.8  43.8  16.0  48.8   SAS    L  44.6  \n",
       "4  62.1  45.2  15.3  60.6   NYK    W  57.6  \n",
       "\n",
       "[5 rows x 26 columns]"
      ]
     },
     "execution_count": 396,
     "metadata": {},
     "output_type": "execute_result"
    }
   ],
   "source": [
    "df = pd.DataFrame(temp)\n",
    "df.head()"
   ]
  },
  {
   "cell_type": "code",
   "execution_count": 411,
   "metadata": {},
   "outputs": [],
   "source": [
    "X = df.loc[:,['eFG%', 'FTARate', 'TOV%', 'OREB%', 'OppFTARate', 'OppOREB%', 'OppTOV%', 'OppeFG%']]\n",
    "y = df['W/L']"
   ]
  },
  {
   "cell_type": "code",
   "execution_count": 398,
   "metadata": {},
   "outputs": [],
   "source": [
    "# Split the data using train_test_split\n",
    "# YOUR CODE HERE\n",
    "from sklearn.model_selection import train_test_split\n",
    "from sklearn.preprocessing import StandardScaler"
   ]
  },
  {
   "cell_type": "code",
   "execution_count": 399,
   "metadata": {},
   "outputs": [],
   "source": [
    "X_scaler = StandardScaler().fit(X)\n",
    "X_train_scaled = X_scaler.transform(X)"
   ]
  },
  {
   "cell_type": "code",
   "execution_count": 400,
   "metadata": {},
   "outputs": [],
   "source": [
    "from sklearn.externals import joblib"
   ]
  },
  {
   "cell_type": "code",
   "execution_count": 101,
   "metadata": {},
   "outputs": [
    {
     "data": {
      "text/plain": [
       "['fourfactor_scaler.save']"
      ]
     },
     "execution_count": 101,
     "metadata": {},
     "output_type": "execute_result"
    }
   ],
   "source": [
    "scaler_filename = \"fourfactor_scaler.save\"\n",
    "joblib.dump(X_scaler, scaler_filename)"
   ]
  },
  {
   "cell_type": "code",
   "execution_count": 413,
   "metadata": {},
   "outputs": [],
   "source": [
    "# Create a logistic regression model\n",
    "# YOUR CODE HERE\n",
    "from sklearn.linear_model import LogisticRegression\n",
    "fourfactor_model = LogisticRegression(verbose=1)\n"
   ]
  },
  {
   "cell_type": "code",
   "execution_count": 414,
   "metadata": {},
   "outputs": [
    {
     "name": "stdout",
     "output_type": "stream",
     "text": [
      "[LibLinear]"
     ]
    },
    {
     "data": {
      "text/plain": [
       "LogisticRegression(C=1.0, class_weight=None, dual=False, fit_intercept=True,\n",
       "          intercept_scaling=1, max_iter=100, multi_class='ovr', n_jobs=1,\n",
       "          penalty='l2', random_state=None, solver='liblinear', tol=0.0001,\n",
       "          verbose=1, warm_start=False)"
      ]
     },
     "execution_count": 414,
     "metadata": {},
     "output_type": "execute_result"
    }
   ],
   "source": [
    "# Fit the model to the data\n",
    "# YOUR CODE HERE\n",
    "fourfactor_model.fit(X_train_scaled, y)"
   ]
  },
  {
   "cell_type": "code",
   "execution_count": 415,
   "metadata": {},
   "outputs": [
    {
     "data": {
      "text/plain": [
       "array([[ 4.91329346,  0.99873369, -2.22702119,  2.01833405, -0.99873369,\n",
       "        -2.01833405,  2.22702119, -4.91329346]])"
      ]
     },
     "execution_count": 415,
     "metadata": {},
     "output_type": "execute_result"
    }
   ],
   "source": [
    "fourfactor_model.coef_"
   ]
  },
  {
   "cell_type": "code",
   "execution_count": 404,
   "metadata": {},
   "outputs": [],
   "source": [
    "temp = db.testing_data.find()\n",
    "#temp = db.testing_data.find({'Team': 'LAL'})\n",
    "temp = list(temp)\n",
    "for i in temp:\n",
    "    i.pop('_id', None)"
   ]
  },
  {
   "cell_type": "code",
   "execution_count": 405,
   "metadata": {},
   "outputs": [
    {
     "data": {
      "text/html": [
       "<div>\n",
       "<style scoped>\n",
       "    .dataframe tbody tr th:only-of-type {\n",
       "        vertical-align: middle;\n",
       "    }\n",
       "\n",
       "    .dataframe tbody tr th {\n",
       "        vertical-align: top;\n",
       "    }\n",
       "\n",
       "    .dataframe thead th {\n",
       "        text-align: right;\n",
       "    }\n",
       "</style>\n",
       "<table border=\"1\" class=\"dataframe\">\n",
       "  <thead>\n",
       "    <tr style=\"text-align: right;\">\n",
       "      <th></th>\n",
       "      <th>AST%</th>\n",
       "      <th>AST/TO</th>\n",
       "      <th>ASTRatio</th>\n",
       "      <th>DREB%</th>\n",
       "      <th>DefEff</th>\n",
       "      <th>DefRtg</th>\n",
       "      <th>FTARate</th>\n",
       "      <th>GameDate</th>\n",
       "      <th>MIN</th>\n",
       "      <th>MatchUp</th>\n",
       "      <th>...</th>\n",
       "      <th>OppTOV%</th>\n",
       "      <th>OppeFG%</th>\n",
       "      <th>PACE</th>\n",
       "      <th>PIE</th>\n",
       "      <th>REB%</th>\n",
       "      <th>TOV%</th>\n",
       "      <th>TS%</th>\n",
       "      <th>Team</th>\n",
       "      <th>W/L</th>\n",
       "      <th>eFG%</th>\n",
       "    </tr>\n",
       "  </thead>\n",
       "  <tbody>\n",
       "    <tr>\n",
       "      <th>0</th>\n",
       "      <td>66.0</td>\n",
       "      <td>2.36</td>\n",
       "      <td>20.9</td>\n",
       "      <td>80.0</td>\n",
       "      <td>0</td>\n",
       "      <td>106.4</td>\n",
       "      <td>0.149</td>\n",
       "      <td>2019-01-24T00:00:00.000Z</td>\n",
       "      <td>48</td>\n",
       "      <td>OKC vs. NOP</td>\n",
       "      <td>...</td>\n",
       "      <td>11.0</td>\n",
       "      <td>53.5</td>\n",
       "      <td>109.5</td>\n",
       "      <td>52.8</td>\n",
       "      <td>55.0</td>\n",
       "      <td>12.7</td>\n",
       "      <td>56.7</td>\n",
       "      <td>OKC</td>\n",
       "      <td>W</td>\n",
       "      <td>56.4</td>\n",
       "    </tr>\n",
       "    <tr>\n",
       "      <th>1</th>\n",
       "      <td>65.9</td>\n",
       "      <td>2.90</td>\n",
       "      <td>19.9</td>\n",
       "      <td>79.5</td>\n",
       "      <td>0</td>\n",
       "      <td>121.2</td>\n",
       "      <td>0.221</td>\n",
       "      <td>2019-01-24T00:00:00.000Z</td>\n",
       "      <td>48</td>\n",
       "      <td>WAS vs. GSW</td>\n",
       "      <td>...</td>\n",
       "      <td>14.4</td>\n",
       "      <td>60.8</td>\n",
       "      <td>104.5</td>\n",
       "      <td>41.4</td>\n",
       "      <td>46.2</td>\n",
       "      <td>9.5</td>\n",
       "      <td>56.6</td>\n",
       "      <td>WAS</td>\n",
       "      <td>L</td>\n",
       "      <td>54.2</td>\n",
       "    </tr>\n",
       "    <tr>\n",
       "      <th>2</th>\n",
       "      <td>56.8</td>\n",
       "      <td>1.47</td>\n",
       "      <td>17.2</td>\n",
       "      <td>73.2</td>\n",
       "      <td>0</td>\n",
       "      <td>102.9</td>\n",
       "      <td>0.213</td>\n",
       "      <td>2019-01-24T00:00:00.000Z</td>\n",
       "      <td>48</td>\n",
       "      <td>POR @ PHX</td>\n",
       "      <td>...</td>\n",
       "      <td>15.5</td>\n",
       "      <td>48.3</td>\n",
       "      <td>103.0</td>\n",
       "      <td>60.1</td>\n",
       "      <td>55.7</td>\n",
       "      <td>16.5</td>\n",
       "      <td>58.4</td>\n",
       "      <td>POR</td>\n",
       "      <td>W</td>\n",
       "      <td>53.2</td>\n",
       "    </tr>\n",
       "    <tr>\n",
       "      <th>3</th>\n",
       "      <td>52.8</td>\n",
       "      <td>1.19</td>\n",
       "      <td>13.9</td>\n",
       "      <td>64.0</td>\n",
       "      <td>0</td>\n",
       "      <td>116.5</td>\n",
       "      <td>0.307</td>\n",
       "      <td>2019-01-24T00:00:00.000Z</td>\n",
       "      <td>48</td>\n",
       "      <td>PHX vs. POR</td>\n",
       "      <td>...</td>\n",
       "      <td>16.5</td>\n",
       "      <td>53.2</td>\n",
       "      <td>103.0</td>\n",
       "      <td>39.9</td>\n",
       "      <td>44.3</td>\n",
       "      <td>15.5</td>\n",
       "      <td>53.1</td>\n",
       "      <td>PHX</td>\n",
       "      <td>L</td>\n",
       "      <td>48.3</td>\n",
       "    </tr>\n",
       "    <tr>\n",
       "      <th>4</th>\n",
       "      <td>68.0</td>\n",
       "      <td>2.27</td>\n",
       "      <td>23.3</td>\n",
       "      <td>77.8</td>\n",
       "      <td>0</td>\n",
       "      <td>112.4</td>\n",
       "      <td>0.239</td>\n",
       "      <td>2019-01-24T00:00:00.000Z</td>\n",
       "      <td>48</td>\n",
       "      <td>GSW @ WAS</td>\n",
       "      <td>...</td>\n",
       "      <td>9.5</td>\n",
       "      <td>54.2</td>\n",
       "      <td>104.5</td>\n",
       "      <td>58.6</td>\n",
       "      <td>53.8</td>\n",
       "      <td>14.4</td>\n",
       "      <td>64.8</td>\n",
       "      <td>GSW</td>\n",
       "      <td>W</td>\n",
       "      <td>60.8</td>\n",
       "    </tr>\n",
       "  </tbody>\n",
       "</table>\n",
       "<p>5 rows × 26 columns</p>\n",
       "</div>"
      ],
      "text/plain": [
       "   AST%  AST/TO  ASTRatio  DREB%  DefEff  DefRtg  FTARate  \\\n",
       "0  66.0    2.36      20.9   80.0       0   106.4    0.149   \n",
       "1  65.9    2.90      19.9   79.5       0   121.2    0.221   \n",
       "2  56.8    1.47      17.2   73.2       0   102.9    0.213   \n",
       "3  52.8    1.19      13.9   64.0       0   116.5    0.307   \n",
       "4  68.0    2.27      23.3   77.8       0   112.4    0.239   \n",
       "\n",
       "                   GameDate  MIN      MatchUp  ...   OppTOV%  OppeFG%   PACE  \\\n",
       "0  2019-01-24T00:00:00.000Z   48  OKC vs. NOP  ...      11.0     53.5  109.5   \n",
       "1  2019-01-24T00:00:00.000Z   48  WAS vs. GSW  ...      14.4     60.8  104.5   \n",
       "2  2019-01-24T00:00:00.000Z   48    POR @ PHX  ...      15.5     48.3  103.0   \n",
       "3  2019-01-24T00:00:00.000Z   48  PHX vs. POR  ...      16.5     53.2  103.0   \n",
       "4  2019-01-24T00:00:00.000Z   48    GSW @ WAS  ...       9.5     54.2  104.5   \n",
       "\n",
       "    PIE  REB%  TOV%   TS%  Team  W/L  eFG%  \n",
       "0  52.8  55.0  12.7  56.7   OKC    W  56.4  \n",
       "1  41.4  46.2   9.5  56.6   WAS    L  54.2  \n",
       "2  60.1  55.7  16.5  58.4   POR    W  53.2  \n",
       "3  39.9  44.3  15.5  53.1   PHX    L  48.3  \n",
       "4  58.6  53.8  14.4  64.8   GSW    W  60.8  \n",
       "\n",
       "[5 rows x 26 columns]"
      ]
     },
     "execution_count": 405,
     "metadata": {},
     "output_type": "execute_result"
    }
   ],
   "source": [
    "df_test = pd.DataFrame(temp)\n",
    "df_test.head()"
   ]
  },
  {
   "cell_type": "code",
   "execution_count": 419,
   "metadata": {},
   "outputs": [],
   "source": [
    "X_test = df_test.loc[:,['eFG%', 'FTARate', 'TOV%', 'OREB%', 'OppFTARate', 'OppOREB%', 'OppTOV%', 'OppeFG%']]\n",
    "y_test = df_test['W/L']"
   ]
  },
  {
   "cell_type": "code",
   "execution_count": 420,
   "metadata": {},
   "outputs": [],
   "source": [
    "X_test_scaled = X_scaler.transform(X_test)"
   ]
  },
  {
   "cell_type": "code",
   "execution_count": 421,
   "metadata": {},
   "outputs": [],
   "source": [
    "# Make predictions using the X_test and y_test data\n",
    "# Print at least 10 predictions vs their actual labels\n",
    "# YOUR CODE HERE\n",
    "predictions = fourfactor_model.predict(X_test_scaled)"
   ]
  },
  {
   "cell_type": "code",
   "execution_count": 422,
   "metadata": {},
   "outputs": [
    {
     "data": {
      "text/plain": [
       "1438"
      ]
     },
     "execution_count": 422,
     "metadata": {},
     "output_type": "execute_result"
    }
   ],
   "source": [
    "len(predictions)"
   ]
  },
  {
   "cell_type": "code",
   "execution_count": 424,
   "metadata": {},
   "outputs": [
    {
     "data": {
      "text/plain": [
       "0.9346314325452016"
      ]
     },
     "execution_count": 424,
     "metadata": {},
     "output_type": "execute_result"
    }
   ],
   "source": [
    "# Print the r2 score for the test data\n",
    "# YOUR CODE HERE\n",
    "fourfactor_model.score(X_test_scaled, y_test)"
   ]
  },
  {
   "cell_type": "code",
   "execution_count": 417,
   "metadata": {},
   "outputs": [
    {
     "data": {
      "text/plain": [
       "0.9398373983739837"
      ]
     },
     "execution_count": 417,
     "metadata": {},
     "output_type": "execute_result"
    }
   ],
   "source": [
    "fourfactor_model.score(X_train_scaled, y)"
   ]
  },
  {
   "cell_type": "code",
   "execution_count": 425,
   "metadata": {},
   "outputs": [
    {
     "name": "stdout",
     "output_type": "stream",
     "text": [
      "Predicted W is 719, actual is 721\n"
     ]
    }
   ],
   "source": [
    "predictwincount = 0\n",
    "actualwincount = 0\n",
    "for x in range (len(predictions)):\n",
    "    if(predictions[x] == 'W'):\n",
    "        predictwincount += 1\n",
    "    if(y[x] == 'W'):\n",
    "        actualwincount += 1\n",
    "print(f\"Predicted W is {predictwincount}, actual is {actualwincount}\")"
   ]
  },
  {
   "cell_type": "markdown",
   "metadata": {},
   "source": [
    "# Create next predictor"
   ]
  },
  {
   "cell_type": "markdown",
   "metadata": {},
   "source": [
    "## Try using PACE"
   ]
  },
  {
   "cell_type": "code",
   "execution_count": 102,
   "metadata": {},
   "outputs": [],
   "source": [
    "#X = result_new.loc[:,['TS%', 'FTARate', 'TOV%', 'OREB%', 'AST%', 'DREB%', 'PIE','OffEff', 'DefEff']]\n",
    "#X = result_new.loc[:,['TS%', 'FTARate', 'TOV%', 'OREB%', 'AST%', 'DREB%', 'OffEff', 'DefEff', 'OppFTARate', 'OppOREB%',\n",
    "#       'OppTOV%', 'OppeFG%']]\n",
    "X = df.loc[:,['TS%', 'TOV%', 'OREB%', 'OffEff', 'DefEff', 'OppFTARate', 'OppOREB%', 'OppTOV%', 'OppeFG%', 'PACE']]\n",
    "y = df['W/L']"
   ]
  },
  {
   "cell_type": "code",
   "execution_count": 103,
   "metadata": {},
   "outputs": [],
   "source": [
    "X_scaler = StandardScaler().fit(X)\n",
    "X_train_scaled = X_scaler.transform(X)"
   ]
  },
  {
   "cell_type": "code",
   "execution_count": 58,
   "metadata": {},
   "outputs": [],
   "source": [
    "newModel = LogisticRegression()"
   ]
  },
  {
   "cell_type": "code",
   "execution_count": 59,
   "metadata": {},
   "outputs": [
    {
     "data": {
      "text/plain": [
       "LogisticRegression(C=1.0, class_weight=None, dual=False, fit_intercept=True,\n",
       "          intercept_scaling=1, max_iter=100, multi_class='ovr', n_jobs=1,\n",
       "          penalty='l2', random_state=None, solver='liblinear', tol=0.0001,\n",
       "          verbose=0, warm_start=False)"
      ]
     },
     "execution_count": 59,
     "metadata": {},
     "output_type": "execute_result"
    }
   ],
   "source": [
    "newModel.fit(X_train_scaled, y)"
   ]
  },
  {
   "cell_type": "code",
   "execution_count": 60,
   "metadata": {},
   "outputs": [],
   "source": [
    "X_test = df_test.loc[:,['TS%', 'TOV%', 'OREB%', 'OffEff', 'DefEff', 'OppFTARate', 'OppOREB%', 'OppTOV%', 'OppeFG%', 'PACE']]\n",
    "y_test = df_test['W/L']"
   ]
  },
  {
   "cell_type": "code",
   "execution_count": 64,
   "metadata": {},
   "outputs": [],
   "source": [
    "X_test_scaled = X_scaler.transform(X_test)"
   ]
  },
  {
   "cell_type": "code",
   "execution_count": 90,
   "metadata": {},
   "outputs": [
    {
     "data": {
      "text/plain": [
       "0.9536585365853658"
      ]
     },
     "execution_count": 90,
     "metadata": {},
     "output_type": "execute_result"
    }
   ],
   "source": [
    "# Print the r2 score for the test data\n",
    "# YOUR CODE HERE\n",
    "newModel.score(X_train_scaled, y)"
   ]
  },
  {
   "cell_type": "code",
   "execution_count": null,
   "metadata": {},
   "outputs": [],
   "source": [
    "newModel.score(X_test_scaled, y_test)"
   ]
  },
  {
   "cell_type": "code",
   "execution_count": 66,
   "metadata": {},
   "outputs": [
    {
     "data": {
      "text/plain": [
       "array([[ 5.708445  , -2.57058962,  2.40071017,  0.32193758,  0.85914937,\n",
       "        -1.08230245, -2.11199394,  2.2960698 , -5.17168816,  0.08214409]])"
      ]
     },
     "execution_count": 66,
     "metadata": {},
     "output_type": "execute_result"
    }
   ],
   "source": [
    "newModel.coef_"
   ]
  },
  {
   "cell_type": "code",
   "execution_count": 67,
   "metadata": {},
   "outputs": [],
   "source": [
    "# Make predictions using the X_test and y_test data\n",
    "# Print at least 10 predictions vs their actual labels\n",
    "# YOUR CODE HERE\n",
    "predictions = newModel.predict(X_test_scaled)"
   ]
  },
  {
   "cell_type": "code",
   "execution_count": 69,
   "metadata": {},
   "outputs": [
    {
     "name": "stdout",
     "output_type": "stream",
     "text": [
      "Predicted W is 715, actual is 719\n"
     ]
    }
   ],
   "source": [
    "predictwincount = 0\n",
    "actualwincount = 0\n",
    "for x in range (len(predictions)):\n",
    "    if(predictions[x] == 'W'):\n",
    "        predictwincount += 1\n",
    "    if(y_test[x] == 'W'):\n",
    "        actualwincount += 1\n",
    "print(f\"Predicted W is {predictwincount}, actual is {actualwincount}\")"
   ]
  },
  {
   "cell_type": "code",
   "execution_count": 340,
   "metadata": {},
   "outputs": [],
   "source": [
    "X = df.loc[:,['TS%', 'TOV%', 'OREB%', 'OffEff', 'DefEff', 'OppFTARate', 'OppOREB%', 'OppTOV%', 'OppeFG%']]\n",
    "y = df['W/L']"
   ]
  },
  {
   "cell_type": "code",
   "execution_count": 105,
   "metadata": {},
   "outputs": [],
   "source": [
    "X_scaler = StandardScaler().fit(X)\n",
    "X_train_scaled = X_scaler.transform(X)"
   ]
  },
  {
   "cell_type": "code",
   "execution_count": 106,
   "metadata": {},
   "outputs": [
    {
     "data": {
      "text/plain": [
       "['my_scaler.save']"
      ]
     },
     "execution_count": 106,
     "metadata": {},
     "output_type": "execute_result"
    }
   ],
   "source": [
    "myscaler_filename = \"my_scaler.save\"\n",
    "joblib.dump(X_scaler, myscaler_filename)"
   ]
  },
  {
   "cell_type": "code",
   "execution_count": 81,
   "metadata": {},
   "outputs": [],
   "source": [
    "newModel = LogisticRegression()"
   ]
  },
  {
   "cell_type": "code",
   "execution_count": 82,
   "metadata": {},
   "outputs": [
    {
     "data": {
      "text/plain": [
       "LogisticRegression(C=1.0, class_weight=None, dual=False, fit_intercept=True,\n",
       "          intercept_scaling=1, max_iter=100, multi_class='ovr', n_jobs=1,\n",
       "          penalty='l2', random_state=None, solver='liblinear', tol=0.0001,\n",
       "          verbose=0, warm_start=False)"
      ]
     },
     "execution_count": 82,
     "metadata": {},
     "output_type": "execute_result"
    }
   ],
   "source": [
    "newModel.fit(X_train_scaled, y)"
   ]
  },
  {
   "cell_type": "code",
   "execution_count": 83,
   "metadata": {},
   "outputs": [],
   "source": [
    "X_test = df_test.loc[:,['TS%', 'TOV%', 'OREB%', 'OffEff', 'DefEff', 'OppFTARate', 'OppOREB%', 'OppTOV%', 'OppeFG%']]\n",
    "y_test = df_test['W/L']"
   ]
  },
  {
   "cell_type": "code",
   "execution_count": 84,
   "metadata": {},
   "outputs": [],
   "source": [
    "X_test_scaled = X_scaler.transform(X_test)"
   ]
  },
  {
   "cell_type": "code",
   "execution_count": 85,
   "metadata": {},
   "outputs": [
    {
     "data": {
      "text/plain": [
       "array([[ 5.71346941, -2.56418493,  2.38773285,  0.31699128,  0.85398057,\n",
       "        -1.06870842, -2.1274397 ,  2.30208167, -5.16829403]])"
      ]
     },
     "execution_count": 85,
     "metadata": {},
     "output_type": "execute_result"
    }
   ],
   "source": [
    "newModel.coef_"
   ]
  },
  {
   "cell_type": "code",
   "execution_count": 86,
   "metadata": {},
   "outputs": [],
   "source": [
    "# Make predictions using the X_test and y_test data\n",
    "# Print at least 10 predictions vs their actual labels\n",
    "# YOUR CODE HERE\n",
    "predictions = newModel.predict(X_test_scaled)"
   ]
  },
  {
   "cell_type": "code",
   "execution_count": 87,
   "metadata": {},
   "outputs": [
    {
     "name": "stdout",
     "output_type": "stream",
     "text": [
      "Predicted W is 708, actual is 719\n"
     ]
    }
   ],
   "source": [
    "predictwincount = 0\n",
    "actualwincount = 0\n",
    "for x in range (len(predictions)):\n",
    "    if(predictions[x] == 'W'):\n",
    "        predictwincount += 1\n",
    "    if(y_test[x] == 'W'):\n",
    "        actualwincount += 1\n",
    "print(f\"Predicted W is {predictwincount}, actual is {actualwincount}\")"
   ]
  },
  {
   "cell_type": "code",
   "execution_count": 89,
   "metadata": {},
   "outputs": [
    {
     "data": {
      "text/plain": [
       "0.9536585365853658"
      ]
     },
     "execution_count": 89,
     "metadata": {},
     "output_type": "execute_result"
    }
   ],
   "source": [
    "newModel.score(X_train_scaled, y)"
   ]
  },
  {
   "cell_type": "code",
   "execution_count": 96,
   "metadata": {},
   "outputs": [],
   "source": [
    "mymodel_filename = 'mymodel.pkl'\n",
    "pickle.dump(newModel, open(mymodel_filename, 'wb'))"
   ]
  },
  {
   "cell_type": "code",
   "execution_count": null,
   "metadata": {},
   "outputs": [],
   "source": [
    "fourfactor_filename = 'fourfactor.pkl'\n",
    "pickle.dump(newModel, open(mymodel_filename, 'wb'))"
   ]
  },
  {
   "cell_type": "markdown",
   "metadata": {},
   "source": [
    "# Create team name abreviation list"
   ]
  },
  {
   "cell_type": "code",
   "execution_count": 107,
   "metadata": {},
   "outputs": [],
   "source": [
    "temp = db.testing_data.find()\n",
    "temp = list(temp)\n",
    "for i in temp:\n",
    "    i.pop('_id', None)\n",
    "df = pd.DataFrame(temp)"
   ]
  },
  {
   "cell_type": "code",
   "execution_count": 108,
   "metadata": {},
   "outputs": [],
   "source": [
    "teams = df['Team'].unique()"
   ]
  },
  {
   "cell_type": "code",
   "execution_count": 109,
   "metadata": {},
   "outputs": [],
   "source": [
    "myteam = [team for team in teams]"
   ]
  },
  {
   "cell_type": "code",
   "execution_count": 110,
   "metadata": {},
   "outputs": [],
   "source": [
    "myteam.sort()"
   ]
  },
  {
   "cell_type": "code",
   "execution_count": 111,
   "metadata": {},
   "outputs": [],
   "source": [
    "item = {'Teams': myteam}"
   ]
  },
  {
   "cell_type": "code",
   "execution_count": 112,
   "metadata": {},
   "outputs": [
    {
     "data": {
      "text/plain": [
       "['ATL',\n",
       " 'BKN',\n",
       " 'BOS',\n",
       " 'CHA',\n",
       " 'CHI',\n",
       " 'CLE',\n",
       " 'DAL',\n",
       " 'DEN',\n",
       " 'DET',\n",
       " 'GSW',\n",
       " 'HOU',\n",
       " 'IND',\n",
       " 'LAC',\n",
       " 'LAL',\n",
       " 'MEM',\n",
       " 'MIA',\n",
       " 'MIL',\n",
       " 'MIN',\n",
       " 'NOP',\n",
       " 'NYK',\n",
       " 'OKC',\n",
       " 'ORL',\n",
       " 'PHI',\n",
       " 'PHX',\n",
       " 'POR',\n",
       " 'SAC',\n",
       " 'SAS',\n",
       " 'TOR',\n",
       " 'UTA',\n",
       " 'WAS']"
      ]
     },
     "execution_count": 112,
     "metadata": {},
     "output_type": "execute_result"
    }
   ],
   "source": [
    "item['Teams']"
   ]
  },
  {
   "cell_type": "code",
   "execution_count": 113,
   "metadata": {},
   "outputs": [],
   "source": [
    "db.nba_teams_data.drop()"
   ]
  },
  {
   "cell_type": "code",
   "execution_count": 114,
   "metadata": {},
   "outputs": [
    {
     "data": {
      "text/plain": [
       "<pymongo.results.InsertOneResult at 0x17b77ba7748>"
      ]
     },
     "execution_count": 114,
     "metadata": {},
     "output_type": "execute_result"
    }
   ],
   "source": [
    "db.nba_teams_data.insert_one(item)"
   ]
  },
  {
   "cell_type": "markdown",
   "metadata": {},
   "source": [
    "# Try using SGD Classifier"
   ]
  },
  {
   "cell_type": "code",
   "execution_count": 10,
   "metadata": {},
   "outputs": [],
   "source": [
    "from sklearn.linear_model import SGDClassifier\n",
    "from sklearn.preprocessing import StandardScaler"
   ]
  },
  {
   "cell_type": "code",
   "execution_count": 67,
   "metadata": {},
   "outputs": [],
   "source": [
    "temp = db.training_data.find()\n",
    "temp = list(temp)\n",
    "for i in temp:\n",
    "    i.pop('_id', None)\n",
    "df_train = pd.DataFrame(temp)"
   ]
  },
  {
   "cell_type": "code",
   "execution_count": 319,
   "metadata": {},
   "outputs": [],
   "source": [
    "X = df_train.loc[:,['TS%', 'TOV%', 'OREB%', 'DefRtg', 'OppFTARate', 'OppOREB%', 'OppTOV%', 'OppeFG%']]\n",
    "y = df_train['W/L']"
   ]
  },
  {
   "cell_type": "code",
   "execution_count": 320,
   "metadata": {},
   "outputs": [],
   "source": [
    "X_scaler = StandardScaler().fit(X)\n",
    "X_train_scaled = X_scaler.transform(X)"
   ]
  },
  {
   "cell_type": "code",
   "execution_count": 321,
   "metadata": {},
   "outputs": [],
   "source": [
    "mySGD_model = SGDClassifier(class_weight='balanced', loss=\"log\", max_iter=1000, tol=1e-3, penalty=\"elasticnet\")"
   ]
  },
  {
   "cell_type": "code",
   "execution_count": 322,
   "metadata": {},
   "outputs": [
    {
     "data": {
      "text/plain": [
       "SGDClassifier(alpha=0.0001, average=False, class_weight='balanced',\n",
       "       epsilon=0.1, eta0=0.0, fit_intercept=True, l1_ratio=0.15,\n",
       "       learning_rate='optimal', loss='log', max_iter=1000, n_iter=None,\n",
       "       n_jobs=1, penalty='elasticnet', power_t=0.5, random_state=None,\n",
       "       shuffle=True, tol=0.001, verbose=0, warm_start=False)"
      ]
     },
     "execution_count": 322,
     "metadata": {},
     "output_type": "execute_result"
    }
   ],
   "source": [
    "#mySGD_model.fit(X_train_scaled, y)\n",
    "mySGD_model.fit(X, y)"
   ]
  },
  {
   "cell_type": "code",
   "execution_count": 323,
   "metadata": {},
   "outputs": [
    {
     "data": {
      "text/plain": [
       "0.967479674796748"
      ]
     },
     "execution_count": 323,
     "metadata": {},
     "output_type": "execute_result"
    }
   ],
   "source": [
    "#mySGD_model.score(X_train_scaled, y)\n",
    "mySGD_model.score(X, y)"
   ]
  },
  {
   "cell_type": "code",
   "execution_count": 324,
   "metadata": {},
   "outputs": [
    {
     "data": {
      "text/plain": [
       "array([[1388.84546039, -878.31615929,  457.14469911, -641.01932362,\n",
       "         -21.96489429,  -57.08961328,  186.79282751, -151.91013057]])"
      ]
     },
     "execution_count": 324,
     "metadata": {},
     "output_type": "execute_result"
    }
   ],
   "source": [
    "mySGD_model.coef_"
   ]
  },
  {
   "cell_type": "code",
   "execution_count": 325,
   "metadata": {},
   "outputs": [
    {
     "data": {
      "text/plain": [
       "array([106.58519224])"
      ]
     },
     "execution_count": 325,
     "metadata": {},
     "output_type": "execute_result"
    }
   ],
   "source": [
    "mySGD_model.intercept_"
   ]
  },
  {
   "cell_type": "code",
   "execution_count": 63,
   "metadata": {},
   "outputs": [],
   "source": [
    "temp = db.testing_data.find()\n",
    "#temp = db.testing_data.find({'Team': 'LAL'})\n",
    "temp = list(temp)\n",
    "for i in temp:\n",
    "    i.pop('_id', None)\n",
    "df_test = pd.DataFrame(temp)"
   ]
  },
  {
   "cell_type": "code",
   "execution_count": 327,
   "metadata": {},
   "outputs": [],
   "source": [
    "X = df_test.loc[:,['TS%', 'TOV%', 'OREB%', 'DefRtg', 'OppFTARate', 'OppOREB%', 'OppTOV%', 'OppeFG%']]\n",
    "y = df_test['W/L']"
   ]
  },
  {
   "cell_type": "code",
   "execution_count": 328,
   "metadata": {},
   "outputs": [],
   "source": [
    "X_test_scaled = X_scaler.transform(X)"
   ]
  },
  {
   "cell_type": "code",
   "execution_count": 329,
   "metadata": {},
   "outputs": [
    {
     "data": {
      "text/plain": [
       "0.8810848400556328"
      ]
     },
     "execution_count": 329,
     "metadata": {},
     "output_type": "execute_result"
    }
   ],
   "source": [
    "mySGD_model.score(X_test_scaled, y)"
   ]
  },
  {
   "cell_type": "markdown",
   "metadata": {},
   "source": [
    "# Use Logistic Regression with Different Solvers and Params"
   ]
  },
  {
   "cell_type": "code",
   "execution_count": 185,
   "metadata": {},
   "outputs": [],
   "source": [
    "from sklearn.linear_model import LogisticRegressionCV\n",
    "from sklearn.preprocessing import StandardScaler"
   ]
  },
  {
   "cell_type": "code",
   "execution_count": 78,
   "metadata": {},
   "outputs": [],
   "source": [
    "temp = db.training_data.find()\n",
    "temp = list(temp)\n",
    "for i in temp:\n",
    "    i.pop('_id', None)\n",
    "df_train = pd.DataFrame(temp)"
   ]
  },
  {
   "cell_type": "code",
   "execution_count": 330,
   "metadata": {},
   "outputs": [],
   "source": [
    "X = df_train.loc[:,['TS%', 'TOV%', 'OREB%', 'DefRtg', 'OppFTARate', 'OppOREB%', 'OppTOV%', 'OppeFG%']]\n",
    "#X = df_train.loc[:,['TS%', 'TOV%', 'OREB%', 'PIE', 'OppFTARate', 'OppOREB%', 'OppTOV%', 'OppeFG%']]\n",
    "y = df_train['W/L']"
   ]
  },
  {
   "cell_type": "code",
   "execution_count": 331,
   "metadata": {},
   "outputs": [],
   "source": [
    "X_scaler = StandardScaler().fit(X)\n",
    "X_train_scaled = X_scaler.transform(X)"
   ]
  },
  {
   "cell_type": "code",
   "execution_count": 332,
   "metadata": {},
   "outputs": [],
   "source": [
    "#myimprov_model = LogisticRegression(C = .5, solver='saga', max_iter=1000, multi_class='ovr', penalty='l1', verbose=1)\n",
    "myimprov_model = LogisticRegression(C = .75, solver='liblinear', multi_class='ovr', penalty='l2', verbose=1)"
   ]
  },
  {
   "cell_type": "code",
   "execution_count": 333,
   "metadata": {},
   "outputs": [
    {
     "name": "stdout",
     "output_type": "stream",
     "text": [
      "[LibLinear]"
     ]
    },
    {
     "data": {
      "text/plain": [
       "LogisticRegression(C=0.75, class_weight=None, dual=False, fit_intercept=True,\n",
       "          intercept_scaling=1, max_iter=100, multi_class='ovr', n_jobs=1,\n",
       "          penalty='l2', random_state=None, solver='liblinear', tol=0.0001,\n",
       "          verbose=1, warm_start=False)"
      ]
     },
     "execution_count": 333,
     "metadata": {},
     "output_type": "execute_result"
    }
   ],
   "source": [
    "myimprov_model.fit(X_train_scaled, y)"
   ]
  },
  {
   "cell_type": "code",
   "execution_count": 334,
   "metadata": {},
   "outputs": [
    {
     "data": {
      "text/plain": [
       "0.9589430894308943"
      ]
     },
     "execution_count": 334,
     "metadata": {},
     "output_type": "execute_result"
    }
   ],
   "source": [
    "myimprov_model.score(X_train_scaled, y)"
   ]
  },
  {
   "cell_type": "code",
   "execution_count": 335,
   "metadata": {},
   "outputs": [
    {
     "data": {
      "text/plain": [
       "array([[ 3.67536209, -1.81108284,  1.68552637,  3.83347145, -0.7598472 ,\n",
       "        -1.6865153 ,  1.8023864 , -3.62916502]])"
      ]
     },
     "execution_count": 335,
     "metadata": {},
     "output_type": "execute_result"
    }
   ],
   "source": [
    "myimprov_model.coef_"
   ]
  },
  {
   "cell_type": "code",
   "execution_count": 336,
   "metadata": {},
   "outputs": [
    {
     "data": {
      "text/plain": [
       "array([0.04685163])"
      ]
     },
     "execution_count": 336,
     "metadata": {},
     "output_type": "execute_result"
    }
   ],
   "source": [
    "myimprov_model.intercept_"
   ]
  },
  {
   "cell_type": "code",
   "execution_count": 307,
   "metadata": {},
   "outputs": [],
   "source": [
    "temp = db.testing_data.find()\n",
    "#temp = db.testing_data.find({'Team': 'LAL'})\n",
    "temp = list(temp)\n",
    "for i in temp:\n",
    "    i.pop('_id', None)\n",
    "df_test = pd.DataFrame(temp)"
   ]
  },
  {
   "cell_type": "code",
   "execution_count": 337,
   "metadata": {},
   "outputs": [],
   "source": [
    "X_test = df_test.loc[:,['TS%', 'TOV%', 'OREB%', 'PIE', 'OppFTARate', 'OppOREB%', 'OppTOV%', 'OppeFG%']]\n",
    "#X_test = df_test.loc[:,['TS%', 'TOV%', 'OREB%', 'DefRtg', 'OppFTARate', 'OppOREB%', 'OppTOV%', 'OppeFG%']]\n",
    "y_test = df_test['W/L']"
   ]
  },
  {
   "cell_type": "code",
   "execution_count": 338,
   "metadata": {},
   "outputs": [],
   "source": [
    "X_test_scaled = X_scaler.transform(X_test)"
   ]
  },
  {
   "cell_type": "code",
   "execution_count": 339,
   "metadata": {},
   "outputs": [
    {
     "data": {
      "text/plain": [
       "0.958970792767733"
      ]
     },
     "execution_count": 339,
     "metadata": {},
     "output_type": "execute_result"
    }
   ],
   "source": [
    "myimprov_model.score(X_test_scaled, y_test)"
   ]
  },
  {
   "cell_type": "code",
   "execution_count": 184,
   "metadata": {},
   "outputs": [],
   "source": [
    "mymodel_mod_filename = 'mymodel_mod.pkl'\n",
    "pickle.dump(myimprov_model, open(mymodel_mod_filename, 'wb'))"
   ]
  },
  {
   "cell_type": "markdown",
   "metadata": {},
   "source": [
    "# Final My Model"
   ]
  },
  {
   "cell_type": "code",
   "execution_count": 341,
   "metadata": {},
   "outputs": [],
   "source": [
    "from sklearn.linear_model import LogisticRegressionCV\n",
    "from sklearn.preprocessing import StandardScaler"
   ]
  },
  {
   "cell_type": "code",
   "execution_count": 342,
   "metadata": {},
   "outputs": [],
   "source": [
    "temp = db.training_data.find()\n",
    "temp = list(temp)\n",
    "for i in temp:\n",
    "    i.pop('_id', None)\n",
    "df_train = pd.DataFrame(temp)"
   ]
  },
  {
   "cell_type": "code",
   "execution_count": 343,
   "metadata": {},
   "outputs": [],
   "source": [
    "X_train = df.loc[:,['TS%', 'TOV%', 'OREB%', 'FTARate', 'DefRtg', 'OppFTARate', 'OppOREB%', 'OppTOV%', 'OppeFG%']]\n",
    "y_train = df['W/L']"
   ]
  },
  {
   "cell_type": "code",
   "execution_count": 344,
   "metadata": {},
   "outputs": [],
   "source": [
    "X_test = df_test.loc[:,['TS%', 'TOV%', 'OREB%', 'FTARate', 'DefRtg', 'OppFTARate', 'OppOREB%', 'OppTOV%', 'OppeFG%']]\n",
    "y_test = df_test['W/L']"
   ]
  },
  {
   "cell_type": "code",
   "execution_count": 345,
   "metadata": {},
   "outputs": [],
   "source": [
    "X_scaler = StandardScaler().fit(X_train)\n",
    "X_train_scaled = X_scaler.transform(X_train)"
   ]
  },
  {
   "cell_type": "code",
   "execution_count": 346,
   "metadata": {},
   "outputs": [],
   "source": [
    "my_model = LogisticRegression(C = .75, solver='liblinear', multi_class='ovr', penalty='l1', verbose=1)\n",
    "my_model2 = LogisticRegression(C = .75, solver='liblinear', multi_class='ovr', penalty='l2', verbose=1)"
   ]
  },
  {
   "cell_type": "code",
   "execution_count": 347,
   "metadata": {},
   "outputs": [
    {
     "name": "stdout",
     "output_type": "stream",
     "text": [
      "[LibLinear][LibLinear]"
     ]
    },
    {
     "data": {
      "text/plain": [
       "LogisticRegression(C=0.75, class_weight=None, dual=False, fit_intercept=True,\n",
       "          intercept_scaling=1, max_iter=100, multi_class='ovr', n_jobs=1,\n",
       "          penalty='l2', random_state=None, solver='liblinear', tol=0.0001,\n",
       "          verbose=1, warm_start=False)"
      ]
     },
     "execution_count": 347,
     "metadata": {},
     "output_type": "execute_result"
    }
   ],
   "source": [
    "my_model.fit(X_train_scaled, y_train)\n",
    "my_model2.fit(X_train_scaled, y_train)"
   ]
  },
  {
   "cell_type": "code",
   "execution_count": 348,
   "metadata": {},
   "outputs": [
    {
     "data": {
      "text/plain": [
       "0.9857723577235772"
      ]
     },
     "execution_count": 348,
     "metadata": {},
     "output_type": "execute_result"
    }
   ],
   "source": [
    "my_model.score(X_train_scaled, y_train)"
   ]
  },
  {
   "cell_type": "code",
   "execution_count": 394,
   "metadata": {},
   "outputs": [
    {
     "data": {
      "text/plain": [
       "array([[ 11.40427755,  -5.08396126,   4.70684683,  -0.03101464,\n",
       "        -11.49806998,  -0.18802941,  -0.16798583,   0.        ,\n",
       "         -0.49324332]])"
      ]
     },
     "execution_count": 394,
     "metadata": {},
     "output_type": "execute_result"
    }
   ],
   "source": [
    "my_model.coef_"
   ]
  },
  {
   "cell_type": "code",
   "execution_count": 349,
   "metadata": {},
   "outputs": [
    {
     "data": {
      "text/plain": [
       "0.984959349593496"
      ]
     },
     "execution_count": 349,
     "metadata": {},
     "output_type": "execute_result"
    }
   ],
   "source": [
    "my_model2.score(X_train_scaled, y_train)"
   ]
  },
  {
   "cell_type": "code",
   "execution_count": 350,
   "metadata": {},
   "outputs": [],
   "source": [
    "X_test_scaled = X_scaler.transform(X_test)"
   ]
  },
  {
   "cell_type": "code",
   "execution_count": 351,
   "metadata": {},
   "outputs": [
    {
     "data": {
      "text/plain": [
       "0.9777468706536857"
      ]
     },
     "execution_count": 351,
     "metadata": {},
     "output_type": "execute_result"
    }
   ],
   "source": [
    "my_model.score(X_test_scaled, y_test)"
   ]
  },
  {
   "cell_type": "code",
   "execution_count": 352,
   "metadata": {},
   "outputs": [
    {
     "data": {
      "text/plain": [
       "0.9749652294853964"
      ]
     },
     "execution_count": 352,
     "metadata": {},
     "output_type": "execute_result"
    }
   ],
   "source": [
    "my_model2.score(X_test_scaled, y_test)"
   ]
  },
  {
   "cell_type": "code",
   "execution_count": 353,
   "metadata": {},
   "outputs": [],
   "source": [
    "mymodel_filename = 'mymodel.pkl'\n",
    "pickle.dump(my_model, open(mymodel_filename, 'wb'))"
   ]
  },
  {
   "cell_type": "code",
   "execution_count": 354,
   "metadata": {},
   "outputs": [],
   "source": [
    "from sklearn.externals import joblib"
   ]
  },
  {
   "cell_type": "code",
   "execution_count": 355,
   "metadata": {},
   "outputs": [
    {
     "data": {
      "text/plain": [
       "['my_scaler.save']"
      ]
     },
     "execution_count": 355,
     "metadata": {},
     "output_type": "execute_result"
    }
   ],
   "source": [
    "myscaler_filename = \"my_scaler.save\"\n",
    "joblib.dump(X_scaler, myscaler_filename)"
   ]
  },
  {
   "cell_type": "markdown",
   "metadata": {},
   "source": [
    "# Save Model Params to DB"
   ]
  },
  {
   "cell_type": "code",
   "execution_count": 356,
   "metadata": {},
   "outputs": [],
   "source": [
    "temp = {'Model': 'FourFactor', 'Params': {'eFG%': 1.32, 'TOV%': -2.3}}"
   ]
  },
  {
   "cell_type": "code",
   "execution_count": 357,
   "metadata": {},
   "outputs": [
    {
     "data": {
      "text/plain": [
       "{'Model': 'FourFactor', 'Params': {'eFG%': 1.32, 'TOV%': -2.3}}"
      ]
     },
     "execution_count": 357,
     "metadata": {},
     "output_type": "execute_result"
    }
   ],
   "source": [
    "temp"
   ]
  },
  {
   "cell_type": "code",
   "execution_count": 360,
   "metadata": {},
   "outputs": [
    {
     "data": {
      "text/plain": [
       "dict_keys(['eFG%', 'TOV%'])"
      ]
     },
     "execution_count": 360,
     "metadata": {},
     "output_type": "execute_result"
    }
   ],
   "source": [
    "temp['Params'].keys()"
   ]
  },
  {
   "cell_type": "code",
   "execution_count": 362,
   "metadata": {},
   "outputs": [],
   "source": [
    "ffscaler_filename = \"fourfactor_scaler.save\"\n",
    "myscaler_filename = \"my_scaler.save\"\n",
    "ffmodel_filename = \"fourfactor.pkl\"\n",
    "mymodel_filename = \"mymodel.pkl\"\n",
    "ff_scaler = joblib.load(ffscaler_filename)\n",
    "my_scaler = joblib.load(myscaler_filename)\n",
    "ff_model = pickle.load(open(ffmodel_filename, 'rb'))\n",
    "my_model = pickle.load(open(mymodel_filename, 'rb'))"
   ]
  },
  {
   "cell_type": "code",
   "execution_count": 363,
   "metadata": {},
   "outputs": [],
   "source": [
    "ff_params = ['eFG%', 'FTARate', 'TOV%', 'OREB%', 'OppFTARate', 'OppOREB%', 'OppTOV%', 'OppeFG%']"
   ]
  },
  {
   "cell_type": "code",
   "execution_count": 376,
   "metadata": {},
   "outputs": [
    {
     "data": {
      "text/plain": [
       "8"
      ]
     },
     "execution_count": 376,
     "metadata": {},
     "output_type": "execute_result"
    }
   ],
   "source": [
    "len(ff_params)"
   ]
  },
  {
   "cell_type": "code",
   "execution_count": 369,
   "metadata": {},
   "outputs": [],
   "source": [
    "ff_coeff = ff_model.coef_"
   ]
  },
  {
   "cell_type": "code",
   "execution_count": 373,
   "metadata": {},
   "outputs": [
    {
     "data": {
      "text/plain": [
       "4.683034703835938"
      ]
     },
     "execution_count": 373,
     "metadata": {},
     "output_type": "execute_result"
    }
   ],
   "source": [
    "ff_coeff[0][0]"
   ]
  },
  {
   "cell_type": "code",
   "execution_count": 374,
   "metadata": {},
   "outputs": [],
   "source": [
    "ff_param_dict = {\"Model\": 'FourFactor'}"
   ]
  },
  {
   "cell_type": "code",
   "execution_count": 382,
   "metadata": {},
   "outputs": [],
   "source": [
    "params = {}\n",
    "for x in range(len(ff_params)):\n",
    "    params[ff_params[x]] = ff_coeff[0][x]"
   ]
  },
  {
   "cell_type": "code",
   "execution_count": 383,
   "metadata": {},
   "outputs": [
    {
     "data": {
      "text/plain": [
       "{'eFG%': 4.683034703835938,\n",
       " 'FTARate': 1.005048419979348,\n",
       " 'TOV%': -2.0501431297617843,\n",
       " 'OREB%': 1.8125909686145414,\n",
       " 'OppFTARate': -0.8953167277553704,\n",
       " 'OppOREB%': -1.9474752006571598,\n",
       " 'OppTOV%': 2.070218253710733,\n",
       " 'OppeFG%': -4.606842798474364}"
      ]
     },
     "execution_count": 383,
     "metadata": {},
     "output_type": "execute_result"
    }
   ],
   "source": [
    "params"
   ]
  },
  {
   "cell_type": "code",
   "execution_count": 384,
   "metadata": {},
   "outputs": [],
   "source": [
    "ff_param_dict['Params'] = params"
   ]
  },
  {
   "cell_type": "code",
   "execution_count": 385,
   "metadata": {},
   "outputs": [
    {
     "data": {
      "text/plain": [
       "{'Model': 'FourFactor',\n",
       " 'Params': {'eFG%': 4.683034703835938,\n",
       "  'FTARate': 1.005048419979348,\n",
       "  'TOV%': -2.0501431297617843,\n",
       "  'OREB%': 1.8125909686145414,\n",
       "  'OppFTARate': -0.8953167277553704,\n",
       "  'OppOREB%': -1.9474752006571598,\n",
       "  'OppTOV%': 2.070218253710733,\n",
       "  'OppeFG%': -4.606842798474364}}"
      ]
     },
     "execution_count": 385,
     "metadata": {},
     "output_type": "execute_result"
    }
   ],
   "source": [
    "ff_param_dict"
   ]
  },
  {
   "cell_type": "code",
   "execution_count": 386,
   "metadata": {},
   "outputs": [
    {
     "data": {
      "text/plain": [
       "<pymongo.results.InsertOneResult at 0x2062fd66ac8>"
      ]
     },
     "execution_count": 386,
     "metadata": {},
     "output_type": "execute_result"
    }
   ],
   "source": [
    "# insert data to collection\n",
    "db.model_data.insert_one(ff_param_dict)"
   ]
  },
  {
   "cell_type": "code",
   "execution_count": 387,
   "metadata": {},
   "outputs": [],
   "source": [
    "my_params = ['TS%', 'TOV%', 'OREB%', 'FTARate', 'DefRtg', 'OppFTARate', 'OppOREB%', 'OppTOV%', 'OppeFG%']\n",
    "my_coeff = my_model.coef_\n",
    "my_param_dict = {\"Model\": 'MyModel'}"
   ]
  },
  {
   "cell_type": "code",
   "execution_count": 388,
   "metadata": {},
   "outputs": [],
   "source": [
    "params = {}\n",
    "for x in range(len(my_params)):\n",
    "    params[my_params[x]] = my_coeff[0][x]"
   ]
  },
  {
   "cell_type": "code",
   "execution_count": 389,
   "metadata": {},
   "outputs": [],
   "source": [
    "my_param_dict['Params'] = params"
   ]
  },
  {
   "cell_type": "code",
   "execution_count": 390,
   "metadata": {},
   "outputs": [
    {
     "data": {
      "text/plain": [
       "<pymongo.results.InsertOneResult at 0x2062fd63d88>"
      ]
     },
     "execution_count": 390,
     "metadata": {},
     "output_type": "execute_result"
    }
   ],
   "source": [
    "db.model_data.insert_one(my_param_dict)"
   ]
  },
  {
   "cell_type": "code",
   "execution_count": 391,
   "metadata": {},
   "outputs": [],
   "source": [
    "temp = db.model_data.find()\n",
    "temp = list(temp)\n",
    "for i in temp:\n",
    "    i.pop('_id', None)\n",
    "df_model = pd.DataFrame(temp)"
   ]
  },
  {
   "cell_type": "code",
   "execution_count": 392,
   "metadata": {},
   "outputs": [
    {
     "data": {
      "text/html": [
       "<div>\n",
       "<style scoped>\n",
       "    .dataframe tbody tr th:only-of-type {\n",
       "        vertical-align: middle;\n",
       "    }\n",
       "\n",
       "    .dataframe tbody tr th {\n",
       "        vertical-align: top;\n",
       "    }\n",
       "\n",
       "    .dataframe thead th {\n",
       "        text-align: right;\n",
       "    }\n",
       "</style>\n",
       "<table border=\"1\" class=\"dataframe\">\n",
       "  <thead>\n",
       "    <tr style=\"text-align: right;\">\n",
       "      <th></th>\n",
       "      <th>Model</th>\n",
       "      <th>Params</th>\n",
       "    </tr>\n",
       "  </thead>\n",
       "  <tbody>\n",
       "    <tr>\n",
       "      <th>0</th>\n",
       "      <td>FourFactor</td>\n",
       "      <td>{'eFG%': 4.683034703835938, 'FTARate': 1.00504...</td>\n",
       "    </tr>\n",
       "    <tr>\n",
       "      <th>1</th>\n",
       "      <td>MyModel</td>\n",
       "      <td>{'TS%': 11.404277545301252, 'TOV%': -5.0839612...</td>\n",
       "    </tr>\n",
       "  </tbody>\n",
       "</table>\n",
       "</div>"
      ],
      "text/plain": [
       "        Model                                             Params\n",
       "0  FourFactor  {'eFG%': 4.683034703835938, 'FTARate': 1.00504...\n",
       "1     MyModel  {'TS%': 11.404277545301252, 'TOV%': -5.0839612..."
      ]
     },
     "execution_count": 392,
     "metadata": {},
     "output_type": "execute_result"
    }
   ],
   "source": [
    "df_model"
   ]
  },
  {
   "cell_type": "code",
   "execution_count": 393,
   "metadata": {},
   "outputs": [
    {
     "data": {
      "text/plain": [
       "[{'Model': 'FourFactor',\n",
       "  'Params': {'eFG%': 4.683034703835938,\n",
       "   'FTARate': 1.005048419979348,\n",
       "   'TOV%': -2.0501431297617843,\n",
       "   'OREB%': 1.8125909686145414,\n",
       "   'OppFTARate': -0.8953167277553704,\n",
       "   'OppOREB%': -1.9474752006571598,\n",
       "   'OppTOV%': 2.070218253710733,\n",
       "   'OppeFG%': -4.606842798474364}},\n",
       " {'Model': 'MyModel',\n",
       "  'Params': {'TS%': 11.404277545301252,\n",
       "   'TOV%': -5.083961259394972,\n",
       "   'OREB%': 4.70684682797853,\n",
       "   'FTARate': -0.031014639569532973,\n",
       "   'DefRtg': -11.498069978539354,\n",
       "   'OppFTARate': -0.18802940796162598,\n",
       "   'OppOREB%': -0.16798583232429629,\n",
       "   'OppTOV%': 0.0,\n",
       "   'OppeFG%': -0.49324331746862743}}]"
      ]
     },
     "execution_count": 393,
     "metadata": {},
     "output_type": "execute_result"
    }
   ],
   "source": [
    "temp"
   ]
  },
  {
   "cell_type": "code",
   "execution_count": null,
   "metadata": {},
   "outputs": [],
   "source": []
  }
 ],
 "metadata": {
  "kernelspec": {
   "display_name": "Python [conda env:PythonData]",
   "language": "python",
   "name": "conda-env-PythonData-py"
  },
  "language_info": {
   "codemirror_mode": {
    "name": "ipython",
    "version": 3
   },
   "file_extension": ".py",
   "mimetype": "text/x-python",
   "name": "python",
   "nbconvert_exporter": "python",
   "pygments_lexer": "ipython3",
   "version": "3.6.5"
  }
 },
 "nbformat": 4,
 "nbformat_minor": 2
}

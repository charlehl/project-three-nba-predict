{
 "cells": [
  {
   "cell_type": "code",
   "execution_count": 1,
   "metadata": {},
   "outputs": [],
   "source": [
    "import numpy as np\n",
    "import pandas as pd\n",
    "#import datetime as dt\n",
    "import pymongo\n",
    "import json\n",
    "import datetime as dt\n",
    "import pickle"
   ]
  },
  {
   "cell_type": "code",
   "execution_count": 2,
   "metadata": {},
   "outputs": [],
   "source": [
    "#import os\n",
    "from bs4 import BeautifulSoup as bs\n",
    "#import requests\n",
    "from splinter import Browser\n",
    "import time"
   ]
  },
  {
   "cell_type": "markdown",
   "metadata": {},
   "source": [
    "# Scrape Data and Organize"
   ]
  },
  {
   "cell_type": "code",
   "execution_count": 3,
   "metadata": {},
   "outputs": [],
   "source": [
    "# create mongo db connection\n",
    "conn = 'mongodb://localhost:27017'\n",
    "client = pymongo.MongoClient(conn)\n",
    "# connect to my nba data db\n",
    "db = client.nba_data_db"
   ]
  },
  {
   "cell_type": "code",
   "execution_count": 447,
   "metadata": {},
   "outputs": [],
   "source": [
    "# drop any items in training data collection\n",
    "db.training_data.drop()"
   ]
  },
  {
   "cell_type": "code",
   "execution_count": 439,
   "metadata": {},
   "outputs": [],
   "source": [
    "# Url to get all boxscores for 2017-2018 regular season games\n",
    "nba_17_18_boxscores_url = \"https://stats.nba.com/teams/boxscores-advanced/?Season=2017-18&SeasonType=Regular%20Season\"\n",
    "nba_17_18_fourfactor_url = \"https://stats.nba.com/teams/boxscores-four-factors/?Season=2017-18&SeasonType=Regular%20Season\""
   ]
  },
  {
   "cell_type": "code",
   "execution_count": 129,
   "metadata": {},
   "outputs": [],
   "source": [
    "# create splinter browser\n",
    "def init_browser():\n",
    "    executable_path = {'executable_path': 'chromedriver.exe'}\n",
    "    browser = Browser('chrome', **executable_path, headless=False)\n",
    "    return browser\n",
    "\n",
    "browser = init_browser()"
   ]
  },
  {
   "cell_type": "code",
   "execution_count": 440,
   "metadata": {},
   "outputs": [],
   "source": [
    "# visit website\n",
    "browser.visit(nba_17_18_boxscores_url)\n",
    "time.sleep(3)"
   ]
  },
  {
   "cell_type": "code",
   "execution_count": 441,
   "metadata": {},
   "outputs": [],
   "source": [
    "# get click path by xpath from browser inspector\n",
    "sel_all_path = browser.find_by_xpath(\"/html/body/main/div[2]/div/div[2]/div/div/nba-stat-table/div[1]/div/div/select/option[1]\")\n",
    "# select to display all games\n",
    "sel_all_path.click()\n",
    "time.sleep(5)\n",
    "# parse html in soup\n",
    "html = browser.html\n",
    "# Parse with soup\n",
    "soup = bs(html, 'html.parser')\n",
    "# Find all tables\n",
    "table = soup.find_all('table')[0] \n",
    "df = pd.read_html(str(table))\n",
    "# drop season column since unneeded\n",
    "new_df = df[0].drop(columns=['Season'])\n",
    "# Rename column names\n",
    "new_df.rename(columns={\"Game\\xa0Date\": \"GameDate\", \"Match\\xa0Up\": \"MatchUp\"}, inplace=True)\n",
    "# change gamedate to datetime\n",
    "new_df['GameDate'] = new_df['GameDate'].apply(lambda x: dt.datetime.strptime(x, \"%m/%d/%Y\"))\n",
    "# export to json\n",
    "#items = new_df.to_json(orient='records', date_format='iso')\n",
    "# load json string to json\n",
    "#items_db = json.loads(items)"
   ]
  },
  {
   "cell_type": "code",
   "execution_count": 442,
   "metadata": {},
   "outputs": [],
   "source": [
    "# visit website\n",
    "browser.visit(nba_17_18_fourfactor_url)\n",
    "time.sleep(3)"
   ]
  },
  {
   "cell_type": "code",
   "execution_count": 443,
   "metadata": {},
   "outputs": [],
   "source": [
    "# get click path by xpath from browser inspector\n",
    "sel_all_path = browser.find_by_xpath(\"/html/body/main/div[2]/div/div[2]/div/div/nba-stat-table/div[1]/div/div/select/option[1]\")\n",
    "# select to display all games\n",
    "sel_all_path.click()\n",
    "time.sleep(5)\n",
    "# parse html in soup\n",
    "html = browser.html\n",
    "# Parse with soup\n",
    "soup = bs(html, 'html.parser')\n",
    "# Find all tables\n",
    "table = soup.find_all('table')[0] \n",
    "df = pd.read_html(str(table))\n",
    "# drop season column since unneeded\n",
    "df = df[0].drop(columns=['Season'])\n",
    "# Rename columns\n",
    "df.rename(columns={\"Game\\xa0Date\": \"GameDate\", \"Match\\xa0Up\": \"MatchUp\", \"OppFTA\\xa0Rate\": \"OppFTARate\"}, inplace=True)\n",
    "# Convert to float percent values\n",
    "df['OREB%'] = df['OREB%'].str.rstrip('%').astype('float')\n",
    "df['OppOREB%'] = df['OppOREB%'].str.rstrip('%').astype('float')\n",
    "df['OppeFG%'] = df['OppeFG%'].str.rstrip('%').astype('float')\n",
    "df['eFG%'] = df['eFG%'].str.rstrip('%').astype('float')\n",
    "# change gamedate to datetime\n",
    "df['GameDate'] = df['GameDate'].apply(lambda x: dt.datetime.strptime(x, \"%m/%d/%Y\"))\n",
    "# export to json\n",
    "#items = new_df.to_json(orient='records', date_format='iso')\n",
    "# load json string to json\n",
    "#items_db = json.loads(items)"
   ]
  },
  {
   "cell_type": "code",
   "execution_count": 444,
   "metadata": {},
   "outputs": [],
   "source": [
    "df = df.drop(['MIN', 'MatchUp', 'W/L', 'eFG%', 'OREB%', 'TOV%'], axis=1)"
   ]
  },
  {
   "cell_type": "code",
   "execution_count": 445,
   "metadata": {},
   "outputs": [
    {
     "data": {
      "text/plain": [
       "2460"
      ]
     },
     "execution_count": 445,
     "metadata": {},
     "output_type": "execute_result"
    }
   ],
   "source": [
    "len(df)"
   ]
  },
  {
   "cell_type": "code",
   "execution_count": 446,
   "metadata": {},
   "outputs": [],
   "source": [
    "result = pd.merge(new_df, df, on=['Team', 'GameDate'])"
   ]
  },
  {
   "cell_type": "code",
   "execution_count": 15,
   "metadata": {},
   "outputs": [
    {
     "data": {
      "text/plain": [
       "Index(['Team', 'MatchUp', 'GameDate', 'W/L', 'MIN', 'OffRtg', 'DefRtg',\n",
       "       'NetRtg', 'AST%', 'AST/TO', 'ASTRatio', 'OREB%', 'DREB%', 'REB%',\n",
       "       'TOV%', 'eFG%', 'TS%', 'PACE', 'PIE', 'FTARate', 'OppeFG%',\n",
       "       'OppFTARate', 'OppTOV%', 'OppOREB%'],\n",
       "      dtype='object')"
      ]
     },
     "execution_count": 15,
     "metadata": {},
     "output_type": "execute_result"
    }
   ],
   "source": [
    "result.columns"
   ]
  },
  {
   "cell_type": "code",
   "execution_count": 16,
   "metadata": {},
   "outputs": [],
   "source": [
    "result_training_df = result.copy()"
   ]
  },
  {
   "cell_type": "code",
   "execution_count": 131,
   "metadata": {},
   "outputs": [],
   "source": [
    "nba_18_19_boxscores_url = \"https://stats.nba.com/teams/boxscores-advanced/\"\n",
    "nba_18_19_fourfactor_url = \"https://stats.nba.com/teams/boxscores-four-factors/\""
   ]
  },
  {
   "cell_type": "code",
   "execution_count": 430,
   "metadata": {},
   "outputs": [],
   "source": [
    "# drop any items in training data collection\n",
    "db.testing_data.drop()"
   ]
  },
  {
   "cell_type": "code",
   "execution_count": 132,
   "metadata": {},
   "outputs": [],
   "source": [
    "# visit website\n",
    "browser.visit(nba_18_19_boxscores_url)\n",
    "time.sleep(3)"
   ]
  },
  {
   "cell_type": "code",
   "execution_count": 133,
   "metadata": {},
   "outputs": [],
   "source": [
    "# get click path by xpath from browser inspector\n",
    "sel_all_path = browser.find_by_xpath(\"/html/body/main/div[2]/div/div[2]/div/div/nba-stat-table/div[1]/div/div/select/option[1]\")\n",
    "# select to display all games\n",
    "sel_all_path.click()\n",
    "time.sleep(5)\n",
    "# parse html in soup\n",
    "html = browser.html\n",
    "# Parse with soup\n",
    "soup = bs(html, 'html.parser')\n",
    "# Find all tables\n",
    "table = soup.find_all('table')[0] \n",
    "df = pd.read_html(str(table))\n",
    "# drop season column since unneeded\n",
    "new_df = df[0].drop(columns=['Season'])\n",
    "# Rename column names\n",
    "new_df.rename(columns={\"Game\\xa0Date\": \"GameDate\", \"Match\\xa0Up\": \"MatchUp\"}, inplace=True)\n",
    "# change gamedate to datetime\n",
    "new_df['GameDate'] = new_df['GameDate'].apply(lambda x: dt.datetime.strptime(x, \"%m/%d/%Y\"))\n",
    "# export to json\n",
    "#items = new_df.to_json(orient='records', date_format='iso')\n",
    "# load json string to json\n",
    "#items_db = json.loads(items)"
   ]
  },
  {
   "cell_type": "code",
   "execution_count": 134,
   "metadata": {},
   "outputs": [],
   "source": [
    "# visit website\n",
    "browser.visit(nba_18_19_fourfactor_url)\n",
    "time.sleep(3)"
   ]
  },
  {
   "cell_type": "code",
   "execution_count": 135,
   "metadata": {},
   "outputs": [],
   "source": [
    "# get click path by xpath from browser inspector\n",
    "sel_all_path = browser.find_by_xpath(\"/html/body/main/div[2]/div/div[2]/div/div/nba-stat-table/div[1]/div/div/select/option[1]\")\n",
    "# select to display all games\n",
    "sel_all_path.click()\n",
    "time.sleep(5)\n",
    "# parse html in soup\n",
    "html = browser.html\n",
    "# Parse with soup\n",
    "soup = bs(html, 'html.parser')\n",
    "# Find all tables\n",
    "table = soup.find_all('table')[0] \n",
    "df = pd.read_html(str(table))\n",
    "# drop season column since unneeded\n",
    "df = df[0].drop(columns=['Season'])\n",
    "# Rename columns\n",
    "df.rename(columns={\"Game\\xa0Date\": \"GameDate\", \"Match\\xa0Up\": \"MatchUp\", \"OppFTA\\xa0Rate\": \"OppFTARate\"}, inplace=True)\n",
    "# Convert to float percent values\n",
    "df['OREB%'] = df['OREB%'].str.rstrip('%').astype('float')\n",
    "df['OppOREB%'] = df['OppOREB%'].str.rstrip('%').astype('float')\n",
    "df['OppeFG%'] = df['OppeFG%'].str.rstrip('%').astype('float')\n",
    "df['eFG%'] = df['eFG%'].str.rstrip('%').astype('float')\n",
    "# change gamedate to datetime\n",
    "df['GameDate'] = df['GameDate'].apply(lambda x: dt.datetime.strptime(x, \"%m/%d/%Y\"))\n",
    "# export to json\n",
    "#items = new_df.to_json(orient='records', date_format='iso')\n",
    "# load json string to json\n",
    "#items_db = json.loads(items)"
   ]
  },
  {
   "cell_type": "code",
   "execution_count": 136,
   "metadata": {},
   "outputs": [],
   "source": [
    "df = df.drop(['MIN', 'MatchUp', 'W/L', 'eFG%', 'OREB%', 'TOV%'], axis=1)"
   ]
  },
  {
   "cell_type": "code",
   "execution_count": 137,
   "metadata": {},
   "outputs": [],
   "source": [
    "result_new = pd.merge(new_df, df, on=['Team', 'GameDate'])"
   ]
  },
  {
   "cell_type": "code",
   "execution_count": 138,
   "metadata": {},
   "outputs": [
    {
     "data": {
      "text/plain": [
       "1516"
      ]
     },
     "execution_count": 138,
     "metadata": {},
     "output_type": "execute_result"
    }
   ],
   "source": [
    "len(result_new)"
   ]
  },
  {
   "cell_type": "code",
   "execution_count": 448,
   "metadata": {},
   "outputs": [],
   "source": [
    "df_winloss = pd.concat([result, result_new])"
   ]
  },
  {
   "cell_type": "code",
   "execution_count": 449,
   "metadata": {},
   "outputs": [],
   "source": [
    "df_winloss = df_winloss.groupby(['W/L'])['AST%', 'AST/TO', 'ASTRatio', 'DREB%', \n",
    "                                     'DefRtg','OREB%', 'OffRtg', 'PACE', \n",
    "                                     'PIE', 'REB%', 'TOV%','TS%',\n",
    "                                     'eFG%', 'FTARate', 'OppFTARate', 'OppOREB%',\n",
    "                                     'OppTOV%', 'OppeFG%'].mean()"
   ]
  },
  {
   "cell_type": "code",
   "execution_count": 450,
   "metadata": {},
   "outputs": [],
   "source": [
    "df_winloss = df_winloss.reset_index()"
   ]
  },
  {
   "cell_type": "code",
   "execution_count": 451,
   "metadata": {},
   "outputs": [],
   "source": [
    "db.nba_stats_data.drop()"
   ]
  },
  {
   "cell_type": "code",
   "execution_count": 452,
   "metadata": {},
   "outputs": [],
   "source": [
    "# export to json\n",
    "items = df_winloss.to_json(orient='records')\n",
    "# load json string to json\n",
    "items_db = json.loads(items)"
   ]
  },
  {
   "cell_type": "code",
   "execution_count": 453,
   "metadata": {},
   "outputs": [
    {
     "data": {
      "text/plain": [
       "<pymongo.results.InsertManyResult at 0x2063311c108>"
      ]
     },
     "execution_count": 453,
     "metadata": {},
     "output_type": "execute_result"
    }
   ],
   "source": [
    "# insert data to collection\n",
    "db.nba_stats_data.insert_many(items_db)"
   ]
  },
  {
   "cell_type": "code",
   "execution_count": 33,
   "metadata": {},
   "outputs": [
    {
     "data": {
      "text/html": [
       "<div>\n",
       "<style scoped>\n",
       "    .dataframe tbody tr th:only-of-type {\n",
       "        vertical-align: middle;\n",
       "    }\n",
       "\n",
       "    .dataframe tbody tr th {\n",
       "        vertical-align: top;\n",
       "    }\n",
       "\n",
       "    .dataframe thead th {\n",
       "        text-align: right;\n",
       "    }\n",
       "</style>\n",
       "<table border=\"1\" class=\"dataframe\">\n",
       "  <thead>\n",
       "    <tr style=\"text-align: right;\">\n",
       "      <th></th>\n",
       "      <th>W/L</th>\n",
       "      <th>AST%</th>\n",
       "      <th>AST/TO</th>\n",
       "      <th>ASTRatio</th>\n",
       "      <th>DREB%</th>\n",
       "      <th>DefRtg</th>\n",
       "      <th>OREB%</th>\n",
       "      <th>OffRtg</th>\n",
       "      <th>PACE</th>\n",
       "      <th>PIE</th>\n",
       "      <th>REB%</th>\n",
       "      <th>TOV%</th>\n",
       "      <th>TS%</th>\n",
       "      <th>eFG%</th>\n",
       "      <th>FTARate</th>\n",
       "      <th>OppFTARate</th>\n",
       "      <th>OppOREB%</th>\n",
       "      <th>OppTOV%</th>\n",
       "      <th>OppeFG%</th>\n",
       "    </tr>\n",
       "  </thead>\n",
       "  <tbody>\n",
       "    <tr>\n",
       "      <th>0</th>\n",
       "      <td>L</td>\n",
       "      <td>57.715854</td>\n",
       "      <td>1.618132</td>\n",
       "      <td>16.250795</td>\n",
       "      <td>72.448743</td>\n",
       "      <td>113.929400</td>\n",
       "      <td>25.942227</td>\n",
       "      <td>102.535403</td>\n",
       "      <td>99.069733</td>\n",
       "      <td>43.054643</td>\n",
       "      <td>48.119035</td>\n",
       "      <td>14.767111</td>\n",
       "      <td>52.923037</td>\n",
       "      <td>49.366290</td>\n",
       "      <td>0.247958</td>\n",
       "      <td>0.269453</td>\n",
       "      <td>27.552232</td>\n",
       "      <td>14.003592</td>\n",
       "      <td>55.202514</td>\n",
       "    </tr>\n",
       "    <tr>\n",
       "      <th>1</th>\n",
       "      <td>W</td>\n",
       "      <td>59.911339</td>\n",
       "      <td>1.959913</td>\n",
       "      <td>18.224885</td>\n",
       "      <td>74.059312</td>\n",
       "      <td>102.535403</td>\n",
       "      <td>27.552232</td>\n",
       "      <td>113.929400</td>\n",
       "      <td>99.069733</td>\n",
       "      <td>56.945818</td>\n",
       "      <td>51.881734</td>\n",
       "      <td>14.003592</td>\n",
       "      <td>58.682914</td>\n",
       "      <td>55.202514</td>\n",
       "      <td>0.269453</td>\n",
       "      <td>0.247958</td>\n",
       "      <td>25.942227</td>\n",
       "      <td>14.767111</td>\n",
       "      <td>49.366290</td>\n",
       "    </tr>\n",
       "  </tbody>\n",
       "</table>\n",
       "</div>"
      ],
      "text/plain": [
       "  W/L       AST%    AST/TO   ASTRatio      DREB%      DefRtg      OREB%  \\\n",
       "0   L  57.715854  1.618132  16.250795  72.448743  113.929400  25.942227   \n",
       "1   W  59.911339  1.959913  18.224885  74.059312  102.535403  27.552232   \n",
       "\n",
       "       OffRtg       PACE        PIE       REB%       TOV%        TS%  \\\n",
       "0  102.535403  99.069733  43.054643  48.119035  14.767111  52.923037   \n",
       "1  113.929400  99.069733  56.945818  51.881734  14.003592  58.682914   \n",
       "\n",
       "        eFG%   FTARate  OppFTARate   OppOREB%    OppTOV%    OppeFG%  \n",
       "0  49.366290  0.247958    0.269453  27.552232  14.003592  55.202514  \n",
       "1  55.202514  0.269453    0.247958  25.942227  14.767111  49.366290  "
      ]
     },
     "execution_count": 33,
     "metadata": {},
     "output_type": "execute_result"
    }
   ],
   "source": [
    "df_winloss.head()"
   ]
  },
  {
   "cell_type": "code",
   "execution_count": 34,
   "metadata": {},
   "outputs": [],
   "source": [
    "#result['OffEff'] = np.where(result['OffRtg']>=df_winloss.loc[1,'OffRtg'], 1, 0)\n",
    "#result['DefEff'] = np.where(result['DefRtg']<=df_winloss.loc[1,'DefRtg'], 1, 0)"
   ]
  },
  {
   "cell_type": "code",
   "execution_count": 35,
   "metadata": {},
   "outputs": [],
   "source": [
    "#result_new['OffEff'] = np.where(result_new['OffRtg']>=df_winloss.loc[1,'OffRtg'], 1, 0)\n",
    "#result_new['DefEff'] = np.where(result_new['DefRtg']<=df_winloss.loc[1,'DefRtg'], 1, 0)"
   ]
  },
  {
   "cell_type": "code",
   "execution_count": 454,
   "metadata": {},
   "outputs": [],
   "source": [
    "# export to json\n",
    "items = result.to_json(orient='records', date_format='iso')\n",
    "# load json string to json\n",
    "items_db = json.loads(items)"
   ]
  },
  {
   "cell_type": "code",
   "execution_count": 455,
   "metadata": {},
   "outputs": [
    {
     "data": {
      "text/plain": [
       "<pymongo.results.InsertManyResult at 0x2063b4172c8>"
      ]
     },
     "execution_count": 455,
     "metadata": {},
     "output_type": "execute_result"
    }
   ],
   "source": [
    "# insert data to collection\n",
    "db.training_data.insert_many(items_db)"
   ]
  },
  {
   "cell_type": "code",
   "execution_count": 437,
   "metadata": {},
   "outputs": [],
   "source": [
    "# export to json\n",
    "items = result_new.to_json(orient='records', date_format='iso')\n",
    "# load json string to json\n",
    "items_db = json.loads(items)"
   ]
  },
  {
   "cell_type": "code",
   "execution_count": 438,
   "metadata": {},
   "outputs": [
    {
     "data": {
      "text/plain": [
       "<pymongo.results.InsertManyResult at 0x206331a8b88>"
      ]
     },
     "execution_count": 438,
     "metadata": {},
     "output_type": "execute_result"
    }
   ],
   "source": [
    "# insert data to collection\n",
    "db.testing_data.insert_many(items_db)"
   ]
  },
  {
   "cell_type": "markdown",
   "metadata": {},
   "source": [
    "# Create Four Factor Model"
   ]
  },
  {
   "cell_type": "code",
   "execution_count": 17,
   "metadata": {},
   "outputs": [],
   "source": [
    "temp = db.training_data.find()\n",
    "temp = list(temp)\n",
    "for i in temp:\n",
    "    i.pop('_id', None)"
   ]
  },
  {
   "cell_type": "code",
   "execution_count": 18,
   "metadata": {},
   "outputs": [
    {
     "data": {
      "text/html": [
       "<div>\n",
       "<style scoped>\n",
       "    .dataframe tbody tr th:only-of-type {\n",
       "        vertical-align: middle;\n",
       "    }\n",
       "\n",
       "    .dataframe tbody tr th {\n",
       "        vertical-align: top;\n",
       "    }\n",
       "\n",
       "    .dataframe thead th {\n",
       "        text-align: right;\n",
       "    }\n",
       "</style>\n",
       "<table border=\"1\" class=\"dataframe\">\n",
       "  <thead>\n",
       "    <tr style=\"text-align: right;\">\n",
       "      <th></th>\n",
       "      <th>+/-</th>\n",
       "      <th>3P%</th>\n",
       "      <th>3PA</th>\n",
       "      <th>3PM</th>\n",
       "      <th>AST</th>\n",
       "      <th>AST%</th>\n",
       "      <th>AST/TO</th>\n",
       "      <th>ASTRatio</th>\n",
       "      <th>BLK</th>\n",
       "      <th>DREB</th>\n",
       "      <th>...</th>\n",
       "      <th>PTS</th>\n",
       "      <th>REB</th>\n",
       "      <th>REB%</th>\n",
       "      <th>STL</th>\n",
       "      <th>TOV</th>\n",
       "      <th>TOV%</th>\n",
       "      <th>TS%</th>\n",
       "      <th>Team</th>\n",
       "      <th>W/L</th>\n",
       "      <th>eFG%</th>\n",
       "    </tr>\n",
       "  </thead>\n",
       "  <tbody>\n",
       "    <tr>\n",
       "      <th>0</th>\n",
       "      <td>-1</td>\n",
       "      <td>53.3</td>\n",
       "      <td>30</td>\n",
       "      <td>16</td>\n",
       "      <td>34</td>\n",
       "      <td>79.1</td>\n",
       "      <td>2.00</td>\n",
       "      <td>23.9</td>\n",
       "      <td>9</td>\n",
       "      <td>35</td>\n",
       "      <td>...</td>\n",
       "      <td>121</td>\n",
       "      <td>41</td>\n",
       "      <td>45.2</td>\n",
       "      <td>5</td>\n",
       "      <td>17</td>\n",
       "      <td>16.7</td>\n",
       "      <td>67.8</td>\n",
       "      <td>GSW</td>\n",
       "      <td>L</td>\n",
       "      <td>63.8</td>\n",
       "    </tr>\n",
       "    <tr>\n",
       "      <th>1</th>\n",
       "      <td>3</td>\n",
       "      <td>22.7</td>\n",
       "      <td>22</td>\n",
       "      <td>5</td>\n",
       "      <td>19</td>\n",
       "      <td>50.0</td>\n",
       "      <td>1.12</td>\n",
       "      <td>14.8</td>\n",
       "      <td>4</td>\n",
       "      <td>41</td>\n",
       "      <td>...</td>\n",
       "      <td>102</td>\n",
       "      <td>50</td>\n",
       "      <td>51.9</td>\n",
       "      <td>3</td>\n",
       "      <td>17</td>\n",
       "      <td>17.3</td>\n",
       "      <td>54.3</td>\n",
       "      <td>CLE</td>\n",
       "      <td>W</td>\n",
       "      <td>48.8</td>\n",
       "    </tr>\n",
       "    <tr>\n",
       "      <th>2</th>\n",
       "      <td>1</td>\n",
       "      <td>36.6</td>\n",
       "      <td>41</td>\n",
       "      <td>15</td>\n",
       "      <td>28</td>\n",
       "      <td>59.6</td>\n",
       "      <td>2.15</td>\n",
       "      <td>18.9</td>\n",
       "      <td>5</td>\n",
       "      <td>33</td>\n",
       "      <td>...</td>\n",
       "      <td>122</td>\n",
       "      <td>43</td>\n",
       "      <td>54.8</td>\n",
       "      <td>9</td>\n",
       "      <td>13</td>\n",
       "      <td>12.7</td>\n",
       "      <td>57.9</td>\n",
       "      <td>HOU</td>\n",
       "      <td>W</td>\n",
       "      <td>56.2</td>\n",
       "    </tr>\n",
       "    <tr>\n",
       "      <th>3</th>\n",
       "      <td>-3</td>\n",
       "      <td>25.0</td>\n",
       "      <td>32</td>\n",
       "      <td>8</td>\n",
       "      <td>24</td>\n",
       "      <td>66.7</td>\n",
       "      <td>2.00</td>\n",
       "      <td>17.9</td>\n",
       "      <td>4</td>\n",
       "      <td>37</td>\n",
       "      <td>...</td>\n",
       "      <td>99</td>\n",
       "      <td>46</td>\n",
       "      <td>48.1</td>\n",
       "      <td>11</td>\n",
       "      <td>12</td>\n",
       "      <td>12.1</td>\n",
       "      <td>50.0</td>\n",
       "      <td>BOS</td>\n",
       "      <td>L</td>\n",
       "      <td>45.5</td>\n",
       "    </tr>\n",
       "    <tr>\n",
       "      <th>4</th>\n",
       "      <td>9</td>\n",
       "      <td>26.5</td>\n",
       "      <td>34</td>\n",
       "      <td>9</td>\n",
       "      <td>29</td>\n",
       "      <td>54.7</td>\n",
       "      <td>2.07</td>\n",
       "      <td>17.6</td>\n",
       "      <td>9</td>\n",
       "      <td>33</td>\n",
       "      <td>...</td>\n",
       "      <td>140</td>\n",
       "      <td>47</td>\n",
       "      <td>52.4</td>\n",
       "      <td>12</td>\n",
       "      <td>14</td>\n",
       "      <td>12.0</td>\n",
       "      <td>60.3</td>\n",
       "      <td>IND</td>\n",
       "      <td>W</td>\n",
       "      <td>56.4</td>\n",
       "    </tr>\n",
       "  </tbody>\n",
       "</table>\n",
       "<p>5 rows × 45 columns</p>\n",
       "</div>"
      ],
      "text/plain": [
       "   +/-   3P%  3PA  3PM  AST  AST%  AST/TO  ASTRatio  BLK  DREB  ...   PTS  \\\n",
       "0   -1  53.3   30   16   34  79.1    2.00      23.9    9    35  ...   121   \n",
       "1    3  22.7   22    5   19  50.0    1.12      14.8    4    41  ...   102   \n",
       "2    1  36.6   41   15   28  59.6    2.15      18.9    5    33  ...   122   \n",
       "3   -3  25.0   32    8   24  66.7    2.00      17.9    4    37  ...    99   \n",
       "4    9  26.5   34    9   29  54.7    2.07      17.6    9    33  ...   140   \n",
       "\n",
       "   REB  REB%  STL  TOV  TOV%   TS%  Team  W/L  eFG%  \n",
       "0   41  45.2    5   17  16.7  67.8   GSW    L  63.8  \n",
       "1   50  51.9    3   17  17.3  54.3   CLE    W  48.8  \n",
       "2   43  54.8    9   13  12.7  57.9   HOU    W  56.2  \n",
       "3   46  48.1   11   12  12.1  50.0   BOS    L  45.5  \n",
       "4   47  52.4   12   14  12.0  60.3   IND    W  56.4  \n",
       "\n",
       "[5 rows x 45 columns]"
      ]
     },
     "execution_count": 18,
     "metadata": {},
     "output_type": "execute_result"
    }
   ],
   "source": [
    "df = pd.DataFrame(temp)\n",
    "df.head()"
   ]
  },
  {
   "cell_type": "code",
   "execution_count": 19,
   "metadata": {},
   "outputs": [],
   "source": [
    "X = df.loc[:,['eFG%', 'FTARate', 'TOV%', 'OREB%', 'OppFTARate', 'OppOREB%', 'OppTOV%', 'OppeFG%']]\n",
    "y = df['W/L']"
   ]
  },
  {
   "cell_type": "code",
   "execution_count": 398,
   "metadata": {},
   "outputs": [],
   "source": [
    "# Split the data using train_test_split\n",
    "# YOUR CODE HERE\n",
    "from sklearn.model_selection import train_test_split\n",
    "from sklearn.preprocessing import StandardScaler"
   ]
  },
  {
   "cell_type": "code",
   "execution_count": 399,
   "metadata": {},
   "outputs": [],
   "source": [
    "X_scaler = StandardScaler().fit(X)\n",
    "X_train_scaled = X_scaler.transform(X)"
   ]
  },
  {
   "cell_type": "code",
   "execution_count": 400,
   "metadata": {},
   "outputs": [],
   "source": [
    "from sklearn.externals import joblib"
   ]
  },
  {
   "cell_type": "code",
   "execution_count": 101,
   "metadata": {},
   "outputs": [
    {
     "data": {
      "text/plain": [
       "['fourfactor_scaler.save']"
      ]
     },
     "execution_count": 101,
     "metadata": {},
     "output_type": "execute_result"
    }
   ],
   "source": [
    "scaler_filename = \"fourfactor_scaler.save\"\n",
    "joblib.dump(X_scaler, scaler_filename)"
   ]
  },
  {
   "cell_type": "code",
   "execution_count": 413,
   "metadata": {},
   "outputs": [],
   "source": [
    "# Create a logistic regression model\n",
    "# YOUR CODE HERE\n",
    "from sklearn.linear_model import LogisticRegression\n",
    "fourfactor_model = LogisticRegression(verbose=1)\n"
   ]
  },
  {
   "cell_type": "code",
   "execution_count": 414,
   "metadata": {},
   "outputs": [
    {
     "name": "stdout",
     "output_type": "stream",
     "text": [
      "[LibLinear]"
     ]
    },
    {
     "data": {
      "text/plain": [
       "LogisticRegression(C=1.0, class_weight=None, dual=False, fit_intercept=True,\n",
       "          intercept_scaling=1, max_iter=100, multi_class='ovr', n_jobs=1,\n",
       "          penalty='l2', random_state=None, solver='liblinear', tol=0.0001,\n",
       "          verbose=1, warm_start=False)"
      ]
     },
     "execution_count": 414,
     "metadata": {},
     "output_type": "execute_result"
    }
   ],
   "source": [
    "# Fit the model to the data\n",
    "# YOUR CODE HERE\n",
    "fourfactor_model.fit(X_train_scaled, y)"
   ]
  },
  {
   "cell_type": "code",
   "execution_count": 415,
   "metadata": {},
   "outputs": [
    {
     "data": {
      "text/plain": [
       "array([[ 4.91329346,  0.99873369, -2.22702119,  2.01833405, -0.99873369,\n",
       "        -2.01833405,  2.22702119, -4.91329346]])"
      ]
     },
     "execution_count": 415,
     "metadata": {},
     "output_type": "execute_result"
    }
   ],
   "source": [
    "fourfactor_model.coef_"
   ]
  },
  {
   "cell_type": "code",
   "execution_count": 404,
   "metadata": {},
   "outputs": [],
   "source": [
    "temp = db.testing_data.find()\n",
    "#temp = db.testing_data.find({'Team': 'LAL'})\n",
    "temp = list(temp)\n",
    "for i in temp:\n",
    "    i.pop('_id', None)"
   ]
  },
  {
   "cell_type": "code",
   "execution_count": 405,
   "metadata": {},
   "outputs": [
    {
     "data": {
      "text/html": [
       "<div>\n",
       "<style scoped>\n",
       "    .dataframe tbody tr th:only-of-type {\n",
       "        vertical-align: middle;\n",
       "    }\n",
       "\n",
       "    .dataframe tbody tr th {\n",
       "        vertical-align: top;\n",
       "    }\n",
       "\n",
       "    .dataframe thead th {\n",
       "        text-align: right;\n",
       "    }\n",
       "</style>\n",
       "<table border=\"1\" class=\"dataframe\">\n",
       "  <thead>\n",
       "    <tr style=\"text-align: right;\">\n",
       "      <th></th>\n",
       "      <th>AST%</th>\n",
       "      <th>AST/TO</th>\n",
       "      <th>ASTRatio</th>\n",
       "      <th>DREB%</th>\n",
       "      <th>DefEff</th>\n",
       "      <th>DefRtg</th>\n",
       "      <th>FTARate</th>\n",
       "      <th>GameDate</th>\n",
       "      <th>MIN</th>\n",
       "      <th>MatchUp</th>\n",
       "      <th>...</th>\n",
       "      <th>OppTOV%</th>\n",
       "      <th>OppeFG%</th>\n",
       "      <th>PACE</th>\n",
       "      <th>PIE</th>\n",
       "      <th>REB%</th>\n",
       "      <th>TOV%</th>\n",
       "      <th>TS%</th>\n",
       "      <th>Team</th>\n",
       "      <th>W/L</th>\n",
       "      <th>eFG%</th>\n",
       "    </tr>\n",
       "  </thead>\n",
       "  <tbody>\n",
       "    <tr>\n",
       "      <th>0</th>\n",
       "      <td>66.0</td>\n",
       "      <td>2.36</td>\n",
       "      <td>20.9</td>\n",
       "      <td>80.0</td>\n",
       "      <td>0</td>\n",
       "      <td>106.4</td>\n",
       "      <td>0.149</td>\n",
       "      <td>2019-01-24T00:00:00.000Z</td>\n",
       "      <td>48</td>\n",
       "      <td>OKC vs. NOP</td>\n",
       "      <td>...</td>\n",
       "      <td>11.0</td>\n",
       "      <td>53.5</td>\n",
       "      <td>109.5</td>\n",
       "      <td>52.8</td>\n",
       "      <td>55.0</td>\n",
       "      <td>12.7</td>\n",
       "      <td>56.7</td>\n",
       "      <td>OKC</td>\n",
       "      <td>W</td>\n",
       "      <td>56.4</td>\n",
       "    </tr>\n",
       "    <tr>\n",
       "      <th>1</th>\n",
       "      <td>65.9</td>\n",
       "      <td>2.90</td>\n",
       "      <td>19.9</td>\n",
       "      <td>79.5</td>\n",
       "      <td>0</td>\n",
       "      <td>121.2</td>\n",
       "      <td>0.221</td>\n",
       "      <td>2019-01-24T00:00:00.000Z</td>\n",
       "      <td>48</td>\n",
       "      <td>WAS vs. GSW</td>\n",
       "      <td>...</td>\n",
       "      <td>14.4</td>\n",
       "      <td>60.8</td>\n",
       "      <td>104.5</td>\n",
       "      <td>41.4</td>\n",
       "      <td>46.2</td>\n",
       "      <td>9.5</td>\n",
       "      <td>56.6</td>\n",
       "      <td>WAS</td>\n",
       "      <td>L</td>\n",
       "      <td>54.2</td>\n",
       "    </tr>\n",
       "    <tr>\n",
       "      <th>2</th>\n",
       "      <td>56.8</td>\n",
       "      <td>1.47</td>\n",
       "      <td>17.2</td>\n",
       "      <td>73.2</td>\n",
       "      <td>0</td>\n",
       "      <td>102.9</td>\n",
       "      <td>0.213</td>\n",
       "      <td>2019-01-24T00:00:00.000Z</td>\n",
       "      <td>48</td>\n",
       "      <td>POR @ PHX</td>\n",
       "      <td>...</td>\n",
       "      <td>15.5</td>\n",
       "      <td>48.3</td>\n",
       "      <td>103.0</td>\n",
       "      <td>60.1</td>\n",
       "      <td>55.7</td>\n",
       "      <td>16.5</td>\n",
       "      <td>58.4</td>\n",
       "      <td>POR</td>\n",
       "      <td>W</td>\n",
       "      <td>53.2</td>\n",
       "    </tr>\n",
       "    <tr>\n",
       "      <th>3</th>\n",
       "      <td>52.8</td>\n",
       "      <td>1.19</td>\n",
       "      <td>13.9</td>\n",
       "      <td>64.0</td>\n",
       "      <td>0</td>\n",
       "      <td>116.5</td>\n",
       "      <td>0.307</td>\n",
       "      <td>2019-01-24T00:00:00.000Z</td>\n",
       "      <td>48</td>\n",
       "      <td>PHX vs. POR</td>\n",
       "      <td>...</td>\n",
       "      <td>16.5</td>\n",
       "      <td>53.2</td>\n",
       "      <td>103.0</td>\n",
       "      <td>39.9</td>\n",
       "      <td>44.3</td>\n",
       "      <td>15.5</td>\n",
       "      <td>53.1</td>\n",
       "      <td>PHX</td>\n",
       "      <td>L</td>\n",
       "      <td>48.3</td>\n",
       "    </tr>\n",
       "    <tr>\n",
       "      <th>4</th>\n",
       "      <td>68.0</td>\n",
       "      <td>2.27</td>\n",
       "      <td>23.3</td>\n",
       "      <td>77.8</td>\n",
       "      <td>0</td>\n",
       "      <td>112.4</td>\n",
       "      <td>0.239</td>\n",
       "      <td>2019-01-24T00:00:00.000Z</td>\n",
       "      <td>48</td>\n",
       "      <td>GSW @ WAS</td>\n",
       "      <td>...</td>\n",
       "      <td>9.5</td>\n",
       "      <td>54.2</td>\n",
       "      <td>104.5</td>\n",
       "      <td>58.6</td>\n",
       "      <td>53.8</td>\n",
       "      <td>14.4</td>\n",
       "      <td>64.8</td>\n",
       "      <td>GSW</td>\n",
       "      <td>W</td>\n",
       "      <td>60.8</td>\n",
       "    </tr>\n",
       "  </tbody>\n",
       "</table>\n",
       "<p>5 rows × 26 columns</p>\n",
       "</div>"
      ],
      "text/plain": [
       "   AST%  AST/TO  ASTRatio  DREB%  DefEff  DefRtg  FTARate  \\\n",
       "0  66.0    2.36      20.9   80.0       0   106.4    0.149   \n",
       "1  65.9    2.90      19.9   79.5       0   121.2    0.221   \n",
       "2  56.8    1.47      17.2   73.2       0   102.9    0.213   \n",
       "3  52.8    1.19      13.9   64.0       0   116.5    0.307   \n",
       "4  68.0    2.27      23.3   77.8       0   112.4    0.239   \n",
       "\n",
       "                   GameDate  MIN      MatchUp  ...   OppTOV%  OppeFG%   PACE  \\\n",
       "0  2019-01-24T00:00:00.000Z   48  OKC vs. NOP  ...      11.0     53.5  109.5   \n",
       "1  2019-01-24T00:00:00.000Z   48  WAS vs. GSW  ...      14.4     60.8  104.5   \n",
       "2  2019-01-24T00:00:00.000Z   48    POR @ PHX  ...      15.5     48.3  103.0   \n",
       "3  2019-01-24T00:00:00.000Z   48  PHX vs. POR  ...      16.5     53.2  103.0   \n",
       "4  2019-01-24T00:00:00.000Z   48    GSW @ WAS  ...       9.5     54.2  104.5   \n",
       "\n",
       "    PIE  REB%  TOV%   TS%  Team  W/L  eFG%  \n",
       "0  52.8  55.0  12.7  56.7   OKC    W  56.4  \n",
       "1  41.4  46.2   9.5  56.6   WAS    L  54.2  \n",
       "2  60.1  55.7  16.5  58.4   POR    W  53.2  \n",
       "3  39.9  44.3  15.5  53.1   PHX    L  48.3  \n",
       "4  58.6  53.8  14.4  64.8   GSW    W  60.8  \n",
       "\n",
       "[5 rows x 26 columns]"
      ]
     },
     "execution_count": 405,
     "metadata": {},
     "output_type": "execute_result"
    }
   ],
   "source": [
    "df_test = pd.DataFrame(temp)\n",
    "df_test.head()"
   ]
  },
  {
   "cell_type": "code",
   "execution_count": 419,
   "metadata": {},
   "outputs": [],
   "source": [
    "X_test = df_test.loc[:,['eFG%', 'FTARate', 'TOV%', 'OREB%', 'OppFTARate', 'OppOREB%', 'OppTOV%', 'OppeFG%']]\n",
    "y_test = df_test['W/L']"
   ]
  },
  {
   "cell_type": "code",
   "execution_count": 420,
   "metadata": {},
   "outputs": [],
   "source": [
    "X_test_scaled = X_scaler.transform(X_test)"
   ]
  },
  {
   "cell_type": "code",
   "execution_count": 421,
   "metadata": {},
   "outputs": [],
   "source": [
    "# Make predictions using the X_test and y_test data\n",
    "# Print at least 10 predictions vs their actual labels\n",
    "# YOUR CODE HERE\n",
    "predictions = fourfactor_model.predict(X_test_scaled)"
   ]
  },
  {
   "cell_type": "code",
   "execution_count": 422,
   "metadata": {},
   "outputs": [
    {
     "data": {
      "text/plain": [
       "1438"
      ]
     },
     "execution_count": 422,
     "metadata": {},
     "output_type": "execute_result"
    }
   ],
   "source": [
    "len(predictions)"
   ]
  },
  {
   "cell_type": "code",
   "execution_count": 424,
   "metadata": {},
   "outputs": [
    {
     "data": {
      "text/plain": [
       "0.9346314325452016"
      ]
     },
     "execution_count": 424,
     "metadata": {},
     "output_type": "execute_result"
    }
   ],
   "source": [
    "# Print the r2 score for the test data\n",
    "# YOUR CODE HERE\n",
    "fourfactor_model.score(X_test_scaled, y_test)"
   ]
  },
  {
   "cell_type": "code",
   "execution_count": 417,
   "metadata": {},
   "outputs": [
    {
     "data": {
      "text/plain": [
       "0.9398373983739837"
      ]
     },
     "execution_count": 417,
     "metadata": {},
     "output_type": "execute_result"
    }
   ],
   "source": [
    "fourfactor_model.score(X_train_scaled, y)"
   ]
  },
  {
   "cell_type": "code",
   "execution_count": 425,
   "metadata": {},
   "outputs": [
    {
     "name": "stdout",
     "output_type": "stream",
     "text": [
      "Predicted W is 719, actual is 721\n"
     ]
    }
   ],
   "source": [
    "predictwincount = 0\n",
    "actualwincount = 0\n",
    "for x in range (len(predictions)):\n",
    "    if(predictions[x] == 'W'):\n",
    "        predictwincount += 1\n",
    "    if(y[x] == 'W'):\n",
    "        actualwincount += 1\n",
    "print(f\"Predicted W is {predictwincount}, actual is {actualwincount}\")"
   ]
  },
  {
   "cell_type": "markdown",
   "metadata": {},
   "source": [
    "# Create next predictor"
   ]
  },
  {
   "cell_type": "markdown",
   "metadata": {},
   "source": [
    "## Try using PACE"
   ]
  },
  {
   "cell_type": "code",
   "execution_count": 102,
   "metadata": {},
   "outputs": [],
   "source": [
    "#X = result_new.loc[:,['TS%', 'FTARate', 'TOV%', 'OREB%', 'AST%', 'DREB%', 'PIE','OffEff', 'DefEff']]\n",
    "#X = result_new.loc[:,['TS%', 'FTARate', 'TOV%', 'OREB%', 'AST%', 'DREB%', 'OffEff', 'DefEff', 'OppFTARate', 'OppOREB%',\n",
    "#       'OppTOV%', 'OppeFG%']]\n",
    "X = df.loc[:,['TS%', 'TOV%', 'OREB%', 'OffEff', 'DefEff', 'OppFTARate', 'OppOREB%', 'OppTOV%', 'OppeFG%', 'PACE']]\n",
    "y = df['W/L']"
   ]
  },
  {
   "cell_type": "code",
   "execution_count": 103,
   "metadata": {},
   "outputs": [],
   "source": [
    "X_scaler = StandardScaler().fit(X)\n",
    "X_train_scaled = X_scaler.transform(X)"
   ]
  },
  {
   "cell_type": "code",
   "execution_count": 58,
   "metadata": {},
   "outputs": [],
   "source": [
    "newModel = LogisticRegression()"
   ]
  },
  {
   "cell_type": "code",
   "execution_count": 59,
   "metadata": {},
   "outputs": [
    {
     "data": {
      "text/plain": [
       "LogisticRegression(C=1.0, class_weight=None, dual=False, fit_intercept=True,\n",
       "          intercept_scaling=1, max_iter=100, multi_class='ovr', n_jobs=1,\n",
       "          penalty='l2', random_state=None, solver='liblinear', tol=0.0001,\n",
       "          verbose=0, warm_start=False)"
      ]
     },
     "execution_count": 59,
     "metadata": {},
     "output_type": "execute_result"
    }
   ],
   "source": [
    "newModel.fit(X_train_scaled, y)"
   ]
  },
  {
   "cell_type": "code",
   "execution_count": 60,
   "metadata": {},
   "outputs": [],
   "source": [
    "X_test = df_test.loc[:,['TS%', 'TOV%', 'OREB%', 'OffEff', 'DefEff', 'OppFTARate', 'OppOREB%', 'OppTOV%', 'OppeFG%', 'PACE']]\n",
    "y_test = df_test['W/L']"
   ]
  },
  {
   "cell_type": "code",
   "execution_count": 64,
   "metadata": {},
   "outputs": [],
   "source": [
    "X_test_scaled = X_scaler.transform(X_test)"
   ]
  },
  {
   "cell_type": "code",
   "execution_count": 90,
   "metadata": {},
   "outputs": [
    {
     "data": {
      "text/plain": [
       "0.9536585365853658"
      ]
     },
     "execution_count": 90,
     "metadata": {},
     "output_type": "execute_result"
    }
   ],
   "source": [
    "# Print the r2 score for the test data\n",
    "# YOUR CODE HERE\n",
    "newModel.score(X_train_scaled, y)"
   ]
  },
  {
   "cell_type": "code",
   "execution_count": null,
   "metadata": {},
   "outputs": [],
   "source": [
    "newModel.score(X_test_scaled, y_test)"
   ]
  },
  {
   "cell_type": "code",
   "execution_count": 66,
   "metadata": {},
   "outputs": [
    {
     "data": {
      "text/plain": [
       "array([[ 5.708445  , -2.57058962,  2.40071017,  0.32193758,  0.85914937,\n",
       "        -1.08230245, -2.11199394,  2.2960698 , -5.17168816,  0.08214409]])"
      ]
     },
     "execution_count": 66,
     "metadata": {},
     "output_type": "execute_result"
    }
   ],
   "source": [
    "newModel.coef_"
   ]
  },
  {
   "cell_type": "code",
   "execution_count": 67,
   "metadata": {},
   "outputs": [],
   "source": [
    "# Make predictions using the X_test and y_test data\n",
    "# Print at least 10 predictions vs their actual labels\n",
    "# YOUR CODE HERE\n",
    "predictions = newModel.predict(X_test_scaled)"
   ]
  },
  {
   "cell_type": "code",
   "execution_count": 69,
   "metadata": {},
   "outputs": [
    {
     "name": "stdout",
     "output_type": "stream",
     "text": [
      "Predicted W is 715, actual is 719\n"
     ]
    }
   ],
   "source": [
    "predictwincount = 0\n",
    "actualwincount = 0\n",
    "for x in range (len(predictions)):\n",
    "    if(predictions[x] == 'W'):\n",
    "        predictwincount += 1\n",
    "    if(y_test[x] == 'W'):\n",
    "        actualwincount += 1\n",
    "print(f\"Predicted W is {predictwincount}, actual is {actualwincount}\")"
   ]
  },
  {
   "cell_type": "code",
   "execution_count": 340,
   "metadata": {},
   "outputs": [],
   "source": [
    "X = df.loc[:,['TS%', 'TOV%', 'OREB%', 'OffEff', 'DefEff', 'OppFTARate', 'OppOREB%', 'OppTOV%', 'OppeFG%']]\n",
    "y = df['W/L']"
   ]
  },
  {
   "cell_type": "code",
   "execution_count": 105,
   "metadata": {},
   "outputs": [],
   "source": [
    "X_scaler = StandardScaler().fit(X)\n",
    "X_train_scaled = X_scaler.transform(X)"
   ]
  },
  {
   "cell_type": "code",
   "execution_count": 106,
   "metadata": {},
   "outputs": [
    {
     "data": {
      "text/plain": [
       "['my_scaler.save']"
      ]
     },
     "execution_count": 106,
     "metadata": {},
     "output_type": "execute_result"
    }
   ],
   "source": [
    "myscaler_filename = \"my_scaler.save\"\n",
    "joblib.dump(X_scaler, myscaler_filename)"
   ]
  },
  {
   "cell_type": "code",
   "execution_count": 81,
   "metadata": {},
   "outputs": [],
   "source": [
    "newModel = LogisticRegression()"
   ]
  },
  {
   "cell_type": "code",
   "execution_count": 82,
   "metadata": {},
   "outputs": [
    {
     "data": {
      "text/plain": [
       "LogisticRegression(C=1.0, class_weight=None, dual=False, fit_intercept=True,\n",
       "          intercept_scaling=1, max_iter=100, multi_class='ovr', n_jobs=1,\n",
       "          penalty='l2', random_state=None, solver='liblinear', tol=0.0001,\n",
       "          verbose=0, warm_start=False)"
      ]
     },
     "execution_count": 82,
     "metadata": {},
     "output_type": "execute_result"
    }
   ],
   "source": [
    "newModel.fit(X_train_scaled, y)"
   ]
  },
  {
   "cell_type": "code",
   "execution_count": 83,
   "metadata": {},
   "outputs": [],
   "source": [
    "X_test = df_test.loc[:,['TS%', 'TOV%', 'OREB%', 'OffEff', 'DefEff', 'OppFTARate', 'OppOREB%', 'OppTOV%', 'OppeFG%']]\n",
    "y_test = df_test['W/L']"
   ]
  },
  {
   "cell_type": "code",
   "execution_count": 84,
   "metadata": {},
   "outputs": [],
   "source": [
    "X_test_scaled = X_scaler.transform(X_test)"
   ]
  },
  {
   "cell_type": "code",
   "execution_count": 85,
   "metadata": {},
   "outputs": [
    {
     "data": {
      "text/plain": [
       "array([[ 5.71346941, -2.56418493,  2.38773285,  0.31699128,  0.85398057,\n",
       "        -1.06870842, -2.1274397 ,  2.30208167, -5.16829403]])"
      ]
     },
     "execution_count": 85,
     "metadata": {},
     "output_type": "execute_result"
    }
   ],
   "source": [
    "newModel.coef_"
   ]
  },
  {
   "cell_type": "code",
   "execution_count": 86,
   "metadata": {},
   "outputs": [],
   "source": [
    "# Make predictions using the X_test and y_test data\n",
    "# Print at least 10 predictions vs their actual labels\n",
    "# YOUR CODE HERE\n",
    "predictions = newModel.predict(X_test_scaled)"
   ]
  },
  {
   "cell_type": "code",
   "execution_count": 87,
   "metadata": {},
   "outputs": [
    {
     "name": "stdout",
     "output_type": "stream",
     "text": [
      "Predicted W is 708, actual is 719\n"
     ]
    }
   ],
   "source": [
    "predictwincount = 0\n",
    "actualwincount = 0\n",
    "for x in range (len(predictions)):\n",
    "    if(predictions[x] == 'W'):\n",
    "        predictwincount += 1\n",
    "    if(y_test[x] == 'W'):\n",
    "        actualwincount += 1\n",
    "print(f\"Predicted W is {predictwincount}, actual is {actualwincount}\")"
   ]
  },
  {
   "cell_type": "code",
   "execution_count": 89,
   "metadata": {},
   "outputs": [
    {
     "data": {
      "text/plain": [
       "0.9536585365853658"
      ]
     },
     "execution_count": 89,
     "metadata": {},
     "output_type": "execute_result"
    }
   ],
   "source": [
    "newModel.score(X_train_scaled, y)"
   ]
  },
  {
   "cell_type": "code",
   "execution_count": 96,
   "metadata": {},
   "outputs": [],
   "source": [
    "mymodel_filename = 'mymodel.pkl'\n",
    "pickle.dump(newModel, open(mymodel_filename, 'wb'))"
   ]
  },
  {
   "cell_type": "code",
   "execution_count": null,
   "metadata": {},
   "outputs": [],
   "source": [
    "fourfactor_filename = 'fourfactor.pkl'\n",
    "pickle.dump(newModel, open(mymodel_filename, 'wb'))"
   ]
  },
  {
   "cell_type": "markdown",
   "metadata": {},
   "source": [
    "# Create team name abreviation list"
   ]
  },
  {
   "cell_type": "code",
   "execution_count": 107,
   "metadata": {},
   "outputs": [],
   "source": [
    "temp = db.testing_data.find()\n",
    "temp = list(temp)\n",
    "for i in temp:\n",
    "    i.pop('_id', None)\n",
    "df = pd.DataFrame(temp)"
   ]
  },
  {
   "cell_type": "code",
   "execution_count": 108,
   "metadata": {},
   "outputs": [],
   "source": [
    "teams = df['Team'].unique()"
   ]
  },
  {
   "cell_type": "code",
   "execution_count": 109,
   "metadata": {},
   "outputs": [],
   "source": [
    "myteam = [team for team in teams]"
   ]
  },
  {
   "cell_type": "code",
   "execution_count": 110,
   "metadata": {},
   "outputs": [],
   "source": [
    "myteam.sort()"
   ]
  },
  {
   "cell_type": "code",
   "execution_count": 111,
   "metadata": {},
   "outputs": [],
   "source": [
    "item = {'Teams': myteam}"
   ]
  },
  {
   "cell_type": "code",
   "execution_count": 112,
   "metadata": {},
   "outputs": [
    {
     "data": {
      "text/plain": [
       "['ATL',\n",
       " 'BKN',\n",
       " 'BOS',\n",
       " 'CHA',\n",
       " 'CHI',\n",
       " 'CLE',\n",
       " 'DAL',\n",
       " 'DEN',\n",
       " 'DET',\n",
       " 'GSW',\n",
       " 'HOU',\n",
       " 'IND',\n",
       " 'LAC',\n",
       " 'LAL',\n",
       " 'MEM',\n",
       " 'MIA',\n",
       " 'MIL',\n",
       " 'MIN',\n",
       " 'NOP',\n",
       " 'NYK',\n",
       " 'OKC',\n",
       " 'ORL',\n",
       " 'PHI',\n",
       " 'PHX',\n",
       " 'POR',\n",
       " 'SAC',\n",
       " 'SAS',\n",
       " 'TOR',\n",
       " 'UTA',\n",
       " 'WAS']"
      ]
     },
     "execution_count": 112,
     "metadata": {},
     "output_type": "execute_result"
    }
   ],
   "source": [
    "item['Teams']"
   ]
  },
  {
   "cell_type": "code",
   "execution_count": 113,
   "metadata": {},
   "outputs": [],
   "source": [
    "db.nba_teams_data.drop()"
   ]
  },
  {
   "cell_type": "code",
   "execution_count": 114,
   "metadata": {},
   "outputs": [
    {
     "data": {
      "text/plain": [
       "<pymongo.results.InsertOneResult at 0x17b77ba7748>"
      ]
     },
     "execution_count": 114,
     "metadata": {},
     "output_type": "execute_result"
    }
   ],
   "source": [
    "db.nba_teams_data.insert_one(item)"
   ]
  },
  {
   "cell_type": "markdown",
   "metadata": {},
   "source": [
    "# Try using SGD Classifier"
   ]
  },
  {
   "cell_type": "code",
   "execution_count": 10,
   "metadata": {},
   "outputs": [],
   "source": [
    "from sklearn.linear_model import SGDClassifier\n",
    "from sklearn.preprocessing import StandardScaler"
   ]
  },
  {
   "cell_type": "code",
   "execution_count": 67,
   "metadata": {},
   "outputs": [],
   "source": [
    "temp = db.training_data.find()\n",
    "temp = list(temp)\n",
    "for i in temp:\n",
    "    i.pop('_id', None)\n",
    "df_train = pd.DataFrame(temp)"
   ]
  },
  {
   "cell_type": "code",
   "execution_count": 319,
   "metadata": {},
   "outputs": [],
   "source": [
    "X = df_train.loc[:,['TS%', 'TOV%', 'OREB%', 'DefRtg', 'OppFTARate', 'OppOREB%', 'OppTOV%', 'OppeFG%']]\n",
    "y = df_train['W/L']"
   ]
  },
  {
   "cell_type": "code",
   "execution_count": 320,
   "metadata": {},
   "outputs": [],
   "source": [
    "X_scaler = StandardScaler().fit(X)\n",
    "X_train_scaled = X_scaler.transform(X)"
   ]
  },
  {
   "cell_type": "code",
   "execution_count": 321,
   "metadata": {},
   "outputs": [],
   "source": [
    "mySGD_model = SGDClassifier(class_weight='balanced', loss=\"log\", max_iter=1000, tol=1e-3, penalty=\"elasticnet\")"
   ]
  },
  {
   "cell_type": "code",
   "execution_count": 322,
   "metadata": {},
   "outputs": [
    {
     "data": {
      "text/plain": [
       "SGDClassifier(alpha=0.0001, average=False, class_weight='balanced',\n",
       "       epsilon=0.1, eta0=0.0, fit_intercept=True, l1_ratio=0.15,\n",
       "       learning_rate='optimal', loss='log', max_iter=1000, n_iter=None,\n",
       "       n_jobs=1, penalty='elasticnet', power_t=0.5, random_state=None,\n",
       "       shuffle=True, tol=0.001, verbose=0, warm_start=False)"
      ]
     },
     "execution_count": 322,
     "metadata": {},
     "output_type": "execute_result"
    }
   ],
   "source": [
    "#mySGD_model.fit(X_train_scaled, y)\n",
    "mySGD_model.fit(X, y)"
   ]
  },
  {
   "cell_type": "code",
   "execution_count": 323,
   "metadata": {},
   "outputs": [
    {
     "data": {
      "text/plain": [
       "0.967479674796748"
      ]
     },
     "execution_count": 323,
     "metadata": {},
     "output_type": "execute_result"
    }
   ],
   "source": [
    "#mySGD_model.score(X_train_scaled, y)\n",
    "mySGD_model.score(X, y)"
   ]
  },
  {
   "cell_type": "code",
   "execution_count": 324,
   "metadata": {},
   "outputs": [
    {
     "data": {
      "text/plain": [
       "array([[1388.84546039, -878.31615929,  457.14469911, -641.01932362,\n",
       "         -21.96489429,  -57.08961328,  186.79282751, -151.91013057]])"
      ]
     },
     "execution_count": 324,
     "metadata": {},
     "output_type": "execute_result"
    }
   ],
   "source": [
    "mySGD_model.coef_"
   ]
  },
  {
   "cell_type": "code",
   "execution_count": 325,
   "metadata": {},
   "outputs": [
    {
     "data": {
      "text/plain": [
       "array([106.58519224])"
      ]
     },
     "execution_count": 325,
     "metadata": {},
     "output_type": "execute_result"
    }
   ],
   "source": [
    "mySGD_model.intercept_"
   ]
  },
  {
   "cell_type": "code",
   "execution_count": 63,
   "metadata": {},
   "outputs": [],
   "source": [
    "temp = db.testing_data.find()\n",
    "#temp = db.testing_data.find({'Team': 'LAL'})\n",
    "temp = list(temp)\n",
    "for i in temp:\n",
    "    i.pop('_id', None)\n",
    "df_test = pd.DataFrame(temp)"
   ]
  },
  {
   "cell_type": "code",
   "execution_count": 327,
   "metadata": {},
   "outputs": [],
   "source": [
    "X = df_test.loc[:,['TS%', 'TOV%', 'OREB%', 'DefRtg', 'OppFTARate', 'OppOREB%', 'OppTOV%', 'OppeFG%']]\n",
    "y = df_test['W/L']"
   ]
  },
  {
   "cell_type": "code",
   "execution_count": 328,
   "metadata": {},
   "outputs": [],
   "source": [
    "X_test_scaled = X_scaler.transform(X)"
   ]
  },
  {
   "cell_type": "code",
   "execution_count": 329,
   "metadata": {},
   "outputs": [
    {
     "data": {
      "text/plain": [
       "0.8810848400556328"
      ]
     },
     "execution_count": 329,
     "metadata": {},
     "output_type": "execute_result"
    }
   ],
   "source": [
    "mySGD_model.score(X_test_scaled, y)"
   ]
  },
  {
   "cell_type": "markdown",
   "metadata": {},
   "source": [
    "# Use Logistic Regression with Different Solvers and Params"
   ]
  },
  {
   "cell_type": "code",
   "execution_count": 185,
   "metadata": {},
   "outputs": [],
   "source": [
    "from sklearn.linear_model import LogisticRegressionCV\n",
    "from sklearn.preprocessing import StandardScaler"
   ]
  },
  {
   "cell_type": "code",
   "execution_count": 78,
   "metadata": {},
   "outputs": [],
   "source": [
    "temp = db.training_data.find()\n",
    "temp = list(temp)\n",
    "for i in temp:\n",
    "    i.pop('_id', None)\n",
    "df_train = pd.DataFrame(temp)"
   ]
  },
  {
   "cell_type": "code",
   "execution_count": 330,
   "metadata": {},
   "outputs": [],
   "source": [
    "X = df_train.loc[:,['TS%', 'TOV%', 'OREB%', 'DefRtg', 'OppFTARate', 'OppOREB%', 'OppTOV%', 'OppeFG%']]\n",
    "#X = df_train.loc[:,['TS%', 'TOV%', 'OREB%', 'PIE', 'OppFTARate', 'OppOREB%', 'OppTOV%', 'OppeFG%']]\n",
    "y = df_train['W/L']"
   ]
  },
  {
   "cell_type": "code",
   "execution_count": 331,
   "metadata": {},
   "outputs": [],
   "source": [
    "X_scaler = StandardScaler().fit(X)\n",
    "X_train_scaled = X_scaler.transform(X)"
   ]
  },
  {
   "cell_type": "code",
   "execution_count": 332,
   "metadata": {},
   "outputs": [],
   "source": [
    "#myimprov_model = LogisticRegression(C = .5, solver='saga', max_iter=1000, multi_class='ovr', penalty='l1', verbose=1)\n",
    "myimprov_model = LogisticRegression(C = .75, solver='liblinear', multi_class='ovr', penalty='l2', verbose=1)"
   ]
  },
  {
   "cell_type": "code",
   "execution_count": 333,
   "metadata": {},
   "outputs": [
    {
     "name": "stdout",
     "output_type": "stream",
     "text": [
      "[LibLinear]"
     ]
    },
    {
     "data": {
      "text/plain": [
       "LogisticRegression(C=0.75, class_weight=None, dual=False, fit_intercept=True,\n",
       "          intercept_scaling=1, max_iter=100, multi_class='ovr', n_jobs=1,\n",
       "          penalty='l2', random_state=None, solver='liblinear', tol=0.0001,\n",
       "          verbose=1, warm_start=False)"
      ]
     },
     "execution_count": 333,
     "metadata": {},
     "output_type": "execute_result"
    }
   ],
   "source": [
    "myimprov_model.fit(X_train_scaled, y)"
   ]
  },
  {
   "cell_type": "code",
   "execution_count": 334,
   "metadata": {},
   "outputs": [
    {
     "data": {
      "text/plain": [
       "0.9589430894308943"
      ]
     },
     "execution_count": 334,
     "metadata": {},
     "output_type": "execute_result"
    }
   ],
   "source": [
    "myimprov_model.score(X_train_scaled, y)"
   ]
  },
  {
   "cell_type": "code",
   "execution_count": 335,
   "metadata": {},
   "outputs": [
    {
     "data": {
      "text/plain": [
       "array([[ 3.67536209, -1.81108284,  1.68552637,  3.83347145, -0.7598472 ,\n",
       "        -1.6865153 ,  1.8023864 , -3.62916502]])"
      ]
     },
     "execution_count": 335,
     "metadata": {},
     "output_type": "execute_result"
    }
   ],
   "source": [
    "myimprov_model.coef_"
   ]
  },
  {
   "cell_type": "code",
   "execution_count": 336,
   "metadata": {},
   "outputs": [
    {
     "data": {
      "text/plain": [
       "array([0.04685163])"
      ]
     },
     "execution_count": 336,
     "metadata": {},
     "output_type": "execute_result"
    }
   ],
   "source": [
    "myimprov_model.intercept_"
   ]
  },
  {
   "cell_type": "code",
   "execution_count": 10,
   "metadata": {},
   "outputs": [],
   "source": [
    "temp = db.testing_data.find()\n",
    "#temp = db.testing_data.find({'Team': 'LAL'})\n",
    "temp = list(temp)\n",
    "for i in temp:\n",
    "    i.pop('_id', None)\n",
    "df_test = pd.DataFrame(temp)"
   ]
  },
  {
   "cell_type": "code",
   "execution_count": 11,
   "metadata": {},
   "outputs": [],
   "source": [
    "X_test = df_test.loc[:,['TS%', 'TOV%', 'OREB%', 'PIE', 'OppFTARate', 'OppOREB%', 'OppTOV%', 'OppeFG%']]\n",
    "#X_test = df_test.loc[:,['TS%', 'TOV%', 'OREB%', 'DefRtg', 'OppFTARate', 'OppOREB%', 'OppTOV%', 'OppeFG%']]\n",
    "y_test = df_test['W/L']"
   ]
  },
  {
   "cell_type": "code",
   "execution_count": 338,
   "metadata": {},
   "outputs": [],
   "source": [
    "X_test_scaled = X_scaler.transform(X_test)"
   ]
  },
  {
   "cell_type": "code",
   "execution_count": 339,
   "metadata": {},
   "outputs": [
    {
     "data": {
      "text/plain": [
       "0.958970792767733"
      ]
     },
     "execution_count": 339,
     "metadata": {},
     "output_type": "execute_result"
    }
   ],
   "source": [
    "myimprov_model.score(X_test_scaled, y_test)"
   ]
  },
  {
   "cell_type": "code",
   "execution_count": 184,
   "metadata": {},
   "outputs": [],
   "source": [
    "mymodel_mod_filename = 'mymodel_mod.pkl'\n",
    "pickle.dump(myimprov_model, open(mymodel_mod_filename, 'wb'))"
   ]
  },
  {
   "cell_type": "markdown",
   "metadata": {},
   "source": [
    "# Final My Model"
   ]
  },
  {
   "cell_type": "code",
   "execution_count": 3,
   "metadata": {},
   "outputs": [],
   "source": [
    "from sklearn.linear_model import LogisticRegressionCV\n",
    "from sklearn.preprocessing import StandardScaler"
   ]
  },
  {
   "cell_type": "code",
   "execution_count": 7,
   "metadata": {},
   "outputs": [],
   "source": [
    "temp = db.training_data.find()\n",
    "temp = list(temp)\n",
    "for i in temp:\n",
    "    i.pop('_id', None)\n",
    "df_train = pd.DataFrame(temp)"
   ]
  },
  {
   "cell_type": "code",
   "execution_count": 8,
   "metadata": {},
   "outputs": [],
   "source": [
    "X_train = df_train.loc[:,['TS%', 'TOV%', 'OREB%', 'FTARate', 'DefRtg', 'OppFTARate', 'OppOREB%', 'OppTOV%', 'OppeFG%']]\n",
    "y_train = df_train['W/L']"
   ]
  },
  {
   "cell_type": "code",
   "execution_count": 15,
   "metadata": {},
   "outputs": [],
   "source": [
    "temp = db.testing_data.find()\n",
    "temp = list(temp)\n",
    "for i in temp:\n",
    "    i.pop('_id', None)\n",
    "df_test = pd.DataFrame(temp)"
   ]
  },
  {
   "cell_type": "code",
   "execution_count": 16,
   "metadata": {},
   "outputs": [],
   "source": [
    "X_test = df_test.loc[:,['TS%', 'TOV%', 'OREB%', 'FTARate', 'DefRtg', 'OppFTARate', 'OppOREB%', 'OppTOV%', 'OppeFG%']]\n",
    "y_test = df_test['W/L']"
   ]
  },
  {
   "cell_type": "code",
   "execution_count": 345,
   "metadata": {},
   "outputs": [],
   "source": [
    "X_scaler = StandardScaler().fit(X_train)\n",
    "X_train_scaled = X_scaler.transform(X_train)"
   ]
  },
  {
   "cell_type": "code",
   "execution_count": 346,
   "metadata": {},
   "outputs": [],
   "source": [
    "my_model = LogisticRegression(C = .75, solver='liblinear', multi_class='ovr', penalty='l1', verbose=1)\n",
    "my_model2 = LogisticRegression(C = .75, solver='liblinear', multi_class='ovr', penalty='l2', verbose=1)"
   ]
  },
  {
   "cell_type": "code",
   "execution_count": 347,
   "metadata": {},
   "outputs": [
    {
     "name": "stdout",
     "output_type": "stream",
     "text": [
      "[LibLinear][LibLinear]"
     ]
    },
    {
     "data": {
      "text/plain": [
       "LogisticRegression(C=0.75, class_weight=None, dual=False, fit_intercept=True,\n",
       "          intercept_scaling=1, max_iter=100, multi_class='ovr', n_jobs=1,\n",
       "          penalty='l2', random_state=None, solver='liblinear', tol=0.0001,\n",
       "          verbose=1, warm_start=False)"
      ]
     },
     "execution_count": 347,
     "metadata": {},
     "output_type": "execute_result"
    }
   ],
   "source": [
    "my_model.fit(X_train_scaled, y_train)\n",
    "my_model2.fit(X_train_scaled, y_train)"
   ]
  },
  {
   "cell_type": "code",
   "execution_count": 348,
   "metadata": {},
   "outputs": [
    {
     "data": {
      "text/plain": [
       "0.9857723577235772"
      ]
     },
     "execution_count": 348,
     "metadata": {},
     "output_type": "execute_result"
    }
   ],
   "source": [
    "my_model.score(X_train_scaled, y_train)"
   ]
  },
  {
   "cell_type": "code",
   "execution_count": 394,
   "metadata": {},
   "outputs": [
    {
     "data": {
      "text/plain": [
       "array([[ 11.40427755,  -5.08396126,   4.70684683,  -0.03101464,\n",
       "        -11.49806998,  -0.18802941,  -0.16798583,   0.        ,\n",
       "         -0.49324332]])"
      ]
     },
     "execution_count": 394,
     "metadata": {},
     "output_type": "execute_result"
    }
   ],
   "source": [
    "my_model.coef_"
   ]
  },
  {
   "cell_type": "code",
   "execution_count": 349,
   "metadata": {},
   "outputs": [
    {
     "data": {
      "text/plain": [
       "0.984959349593496"
      ]
     },
     "execution_count": 349,
     "metadata": {},
     "output_type": "execute_result"
    }
   ],
   "source": [
    "my_model2.score(X_train_scaled, y_train)"
   ]
  },
  {
   "cell_type": "code",
   "execution_count": 350,
   "metadata": {},
   "outputs": [],
   "source": [
    "X_test_scaled = X_scaler.transform(X_test)"
   ]
  },
  {
   "cell_type": "code",
   "execution_count": 351,
   "metadata": {},
   "outputs": [
    {
     "data": {
      "text/plain": [
       "0.9777468706536857"
      ]
     },
     "execution_count": 351,
     "metadata": {},
     "output_type": "execute_result"
    }
   ],
   "source": [
    "my_model.score(X_test_scaled, y_test)"
   ]
  },
  {
   "cell_type": "code",
   "execution_count": 352,
   "metadata": {},
   "outputs": [
    {
     "data": {
      "text/plain": [
       "0.9749652294853964"
      ]
     },
     "execution_count": 352,
     "metadata": {},
     "output_type": "execute_result"
    }
   ],
   "source": [
    "my_model2.score(X_test_scaled, y_test)"
   ]
  },
  {
   "cell_type": "code",
   "execution_count": 353,
   "metadata": {},
   "outputs": [],
   "source": [
    "mymodel_filename = 'mymodel.pkl'\n",
    "pickle.dump(my_model, open(mymodel_filename, 'wb'))"
   ]
  },
  {
   "cell_type": "code",
   "execution_count": 354,
   "metadata": {},
   "outputs": [],
   "source": [
    "from sklearn.externals import joblib"
   ]
  },
  {
   "cell_type": "code",
   "execution_count": 355,
   "metadata": {},
   "outputs": [
    {
     "data": {
      "text/plain": [
       "['my_scaler.save']"
      ]
     },
     "execution_count": 355,
     "metadata": {},
     "output_type": "execute_result"
    }
   ],
   "source": [
    "myscaler_filename = \"my_scaler.save\"\n",
    "joblib.dump(X_scaler, myscaler_filename)"
   ]
  },
  {
   "cell_type": "markdown",
   "metadata": {},
   "source": [
    "# Save Model Params to DB"
   ]
  },
  {
   "cell_type": "code",
   "execution_count": 356,
   "metadata": {},
   "outputs": [],
   "source": [
    "temp = {'Model': 'FourFactor', 'Params': {'eFG%': 1.32, 'TOV%': -2.3}}"
   ]
  },
  {
   "cell_type": "code",
   "execution_count": 5,
   "metadata": {},
   "outputs": [],
   "source": [
    "from sklearn.externals import joblib"
   ]
  },
  {
   "cell_type": "code",
   "execution_count": 357,
   "metadata": {},
   "outputs": [
    {
     "data": {
      "text/plain": [
       "{'Model': 'FourFactor', 'Params': {'eFG%': 1.32, 'TOV%': -2.3}}"
      ]
     },
     "execution_count": 357,
     "metadata": {},
     "output_type": "execute_result"
    }
   ],
   "source": [
    "temp"
   ]
  },
  {
   "cell_type": "code",
   "execution_count": 360,
   "metadata": {},
   "outputs": [
    {
     "data": {
      "text/plain": [
       "dict_keys(['eFG%', 'TOV%'])"
      ]
     },
     "execution_count": 360,
     "metadata": {},
     "output_type": "execute_result"
    }
   ],
   "source": [
    "temp['Params'].keys()"
   ]
  },
  {
   "cell_type": "code",
   "execution_count": 6,
   "metadata": {},
   "outputs": [],
   "source": [
    "ffscaler_filename = \"fourfactor_scaler.save\"\n",
    "myscaler_filename = \"my_scaler.save\"\n",
    "ffmodel_filename = \"fourfactor.pkl\"\n",
    "mymodel_filename = \"mymodel.pkl\"\n",
    "ff_scaler = joblib.load(ffscaler_filename)\n",
    "my_scaler = joblib.load(myscaler_filename)\n",
    "ff_model = pickle.load(open(ffmodel_filename, 'rb'))\n",
    "my_model = pickle.load(open(mymodel_filename, 'rb'))"
   ]
  },
  {
   "cell_type": "code",
   "execution_count": 363,
   "metadata": {},
   "outputs": [],
   "source": [
    "ff_params = ['eFG%', 'FTARate', 'TOV%', 'OREB%', 'OppFTARate', 'OppOREB%', 'OppTOV%', 'OppeFG%']"
   ]
  },
  {
   "cell_type": "code",
   "execution_count": 43,
   "metadata": {},
   "outputs": [],
   "source": [
    "predictors = X.columns\n",
    "test_coefs = ff_model.coef_\n",
    "coef = pd.Series(ff_model.coef_[0],predictors).sort_values()\n",
    "temp = coef.to_json(orient='index')"
   ]
  },
  {
   "cell_type": "code",
   "execution_count": 51,
   "metadata": {},
   "outputs": [],
   "source": [
    "predictors = X_train.columns\n",
    "test_coefs = my_model.coef_\n",
    "coef = pd.Series(my_model.coef_[0],predictors).sort_values()\n",
    "temp = coef.to_json(orient='index')"
   ]
  },
  {
   "cell_type": "code",
   "execution_count": 52,
   "metadata": {},
   "outputs": [],
   "source": [
    "import json\n",
    "temp = json.loads(temp)"
   ]
  },
  {
   "cell_type": "code",
   "execution_count": 53,
   "metadata": {},
   "outputs": [
    {
     "data": {
      "text/plain": [
       "{'DefRtg': -55.6103943848,\n",
       " 'TOV%': -26.08780405,\n",
       " 'OppeFG%': -3.9724455983,\n",
       " 'OppOREB%': -2.2944071961,\n",
       " 'OppFTARate': -1.4081111981,\n",
       " 'FTARate': -1.1509283544,\n",
       " 'OppTOV%': 0.5013923099,\n",
       " 'OREB%': 24.2486078293,\n",
       " 'TS%': 57.6994211662}"
      ]
     },
     "execution_count": 53,
     "metadata": {},
     "output_type": "execute_result"
    }
   ],
   "source": [
    "temp"
   ]
  },
  {
   "cell_type": "code",
   "execution_count": 376,
   "metadata": {},
   "outputs": [
    {
     "data": {
      "text/plain": [
       "8"
      ]
     },
     "execution_count": 376,
     "metadata": {},
     "output_type": "execute_result"
    }
   ],
   "source": [
    "len(ff_params)"
   ]
  },
  {
   "cell_type": "code",
   "execution_count": 369,
   "metadata": {},
   "outputs": [],
   "source": [
    "ff_coeff = ff_model.coef_"
   ]
  },
  {
   "cell_type": "code",
   "execution_count": 373,
   "metadata": {},
   "outputs": [
    {
     "data": {
      "text/plain": [
       "4.683034703835938"
      ]
     },
     "execution_count": 373,
     "metadata": {},
     "output_type": "execute_result"
    }
   ],
   "source": [
    "ff_coeff[0][0]"
   ]
  },
  {
   "cell_type": "code",
   "execution_count": 47,
   "metadata": {},
   "outputs": [],
   "source": [
    "ff_param_dict = {\"Model\": 'FourFactor'}"
   ]
  },
  {
   "cell_type": "code",
   "execution_count": 382,
   "metadata": {},
   "outputs": [],
   "source": [
    "params = {}\n",
    "for x in range(len(ff_params)):\n",
    "    params[ff_params[x]] = ff_coeff[0][x]"
   ]
  },
  {
   "cell_type": "code",
   "execution_count": 383,
   "metadata": {},
   "outputs": [
    {
     "data": {
      "text/plain": [
       "{'eFG%': 4.683034703835938,\n",
       " 'FTARate': 1.005048419979348,\n",
       " 'TOV%': -2.0501431297617843,\n",
       " 'OREB%': 1.8125909686145414,\n",
       " 'OppFTARate': -0.8953167277553704,\n",
       " 'OppOREB%': -1.9474752006571598,\n",
       " 'OppTOV%': 2.070218253710733,\n",
       " 'OppeFG%': -4.606842798474364}"
      ]
     },
     "execution_count": 383,
     "metadata": {},
     "output_type": "execute_result"
    }
   ],
   "source": [
    "params"
   ]
  },
  {
   "cell_type": "code",
   "execution_count": 48,
   "metadata": {},
   "outputs": [],
   "source": [
    "ff_param_dict['Params'] = temp"
   ]
  },
  {
   "cell_type": "code",
   "execution_count": 49,
   "metadata": {},
   "outputs": [
    {
     "data": {
      "text/plain": [
       "{'Model': 'FourFactor',\n",
       " 'Params': {'OppeFG%': -4.913293456,\n",
       "  'TOV%': -2.2270211942,\n",
       "  'OppOREB%': -2.0183340464,\n",
       "  'OppFTARate': -0.9987336864,\n",
       "  'FTARate': 0.9987336864,\n",
       "  'OREB%': 2.0183340464,\n",
       "  'OppTOV%': 2.2270211942,\n",
       "  'eFG%': 4.913293456}}"
      ]
     },
     "execution_count": 49,
     "metadata": {},
     "output_type": "execute_result"
    }
   ],
   "source": [
    "ff_param_dict"
   ]
  },
  {
   "cell_type": "code",
   "execution_count": 50,
   "metadata": {},
   "outputs": [
    {
     "data": {
      "text/plain": [
       "<pymongo.results.InsertOneResult at 0x146d4588408>"
      ]
     },
     "execution_count": 50,
     "metadata": {},
     "output_type": "execute_result"
    }
   ],
   "source": [
    "# insert data to collection\n",
    "db.model_data.insert_one(ff_param_dict)"
   ]
  },
  {
   "cell_type": "code",
   "execution_count": 54,
   "metadata": {},
   "outputs": [],
   "source": [
    "my_params = ['TS%', 'TOV%', 'OREB%', 'FTARate', 'DefRtg', 'OppFTARate', 'OppOREB%', 'OppTOV%', 'OppeFG%']\n",
    "my_coeff = my_model.coef_\n",
    "my_param_dict = {\"Model\": 'MyModel'}"
   ]
  },
  {
   "cell_type": "code",
   "execution_count": 388,
   "metadata": {},
   "outputs": [],
   "source": [
    "params = {}\n",
    "for x in range(len(my_params)):\n",
    "    params[my_params[x]] = my_coeff[0][x]"
   ]
  },
  {
   "cell_type": "code",
   "execution_count": 55,
   "metadata": {},
   "outputs": [],
   "source": [
    "my_param_dict['Params'] = temp"
   ]
  },
  {
   "cell_type": "code",
   "execution_count": 56,
   "metadata": {},
   "outputs": [
    {
     "data": {
      "text/plain": [
       "{'Model': 'MyModel',\n",
       " 'Params': {'DefRtg': -55.6103943848,\n",
       "  'TOV%': -26.08780405,\n",
       "  'OppeFG%': -3.9724455983,\n",
       "  'OppOREB%': -2.2944071961,\n",
       "  'OppFTARate': -1.4081111981,\n",
       "  'FTARate': -1.1509283544,\n",
       "  'OppTOV%': 0.5013923099,\n",
       "  'OREB%': 24.2486078293,\n",
       "  'TS%': 57.6994211662}}"
      ]
     },
     "execution_count": 56,
     "metadata": {},
     "output_type": "execute_result"
    }
   ],
   "source": [
    "my_param_dict"
   ]
  },
  {
   "cell_type": "code",
   "execution_count": 57,
   "metadata": {},
   "outputs": [
    {
     "data": {
      "text/plain": [
       "<pymongo.results.InsertOneResult at 0x146d4591f08>"
      ]
     },
     "execution_count": 57,
     "metadata": {},
     "output_type": "execute_result"
    }
   ],
   "source": [
    "db.model_data.insert_one(my_param_dict)"
   ]
  },
  {
   "cell_type": "code",
   "execution_count": 391,
   "metadata": {},
   "outputs": [],
   "source": [
    "temp = db.model_data.find()\n",
    "temp = list(temp)\n",
    "for i in temp:\n",
    "    i.pop('_id', None)\n",
    "df_model = pd.DataFrame(temp)"
   ]
  },
  {
   "cell_type": "code",
   "execution_count": 392,
   "metadata": {},
   "outputs": [
    {
     "data": {
      "text/html": [
       "<div>\n",
       "<style scoped>\n",
       "    .dataframe tbody tr th:only-of-type {\n",
       "        vertical-align: middle;\n",
       "    }\n",
       "\n",
       "    .dataframe tbody tr th {\n",
       "        vertical-align: top;\n",
       "    }\n",
       "\n",
       "    .dataframe thead th {\n",
       "        text-align: right;\n",
       "    }\n",
       "</style>\n",
       "<table border=\"1\" class=\"dataframe\">\n",
       "  <thead>\n",
       "    <tr style=\"text-align: right;\">\n",
       "      <th></th>\n",
       "      <th>Model</th>\n",
       "      <th>Params</th>\n",
       "    </tr>\n",
       "  </thead>\n",
       "  <tbody>\n",
       "    <tr>\n",
       "      <th>0</th>\n",
       "      <td>FourFactor</td>\n",
       "      <td>{'eFG%': 4.683034703835938, 'FTARate': 1.00504...</td>\n",
       "    </tr>\n",
       "    <tr>\n",
       "      <th>1</th>\n",
       "      <td>MyModel</td>\n",
       "      <td>{'TS%': 11.404277545301252, 'TOV%': -5.0839612...</td>\n",
       "    </tr>\n",
       "  </tbody>\n",
       "</table>\n",
       "</div>"
      ],
      "text/plain": [
       "        Model                                             Params\n",
       "0  FourFactor  {'eFG%': 4.683034703835938, 'FTARate': 1.00504...\n",
       "1     MyModel  {'TS%': 11.404277545301252, 'TOV%': -5.0839612..."
      ]
     },
     "execution_count": 392,
     "metadata": {},
     "output_type": "execute_result"
    }
   ],
   "source": [
    "df_model"
   ]
  },
  {
   "cell_type": "code",
   "execution_count": 393,
   "metadata": {},
   "outputs": [
    {
     "data": {
      "text/plain": [
       "[{'Model': 'FourFactor',\n",
       "  'Params': {'eFG%': 4.683034703835938,\n",
       "   'FTARate': 1.005048419979348,\n",
       "   'TOV%': -2.0501431297617843,\n",
       "   'OREB%': 1.8125909686145414,\n",
       "   'OppFTARate': -0.8953167277553704,\n",
       "   'OppOREB%': -1.9474752006571598,\n",
       "   'OppTOV%': 2.070218253710733,\n",
       "   'OppeFG%': -4.606842798474364}},\n",
       " {'Model': 'MyModel',\n",
       "  'Params': {'TS%': 11.404277545301252,\n",
       "   'TOV%': -5.083961259394972,\n",
       "   'OREB%': 4.70684682797853,\n",
       "   'FTARate': -0.031014639569532973,\n",
       "   'DefRtg': -11.498069978539354,\n",
       "   'OppFTARate': -0.18802940796162598,\n",
       "   'OppOREB%': -0.16798583232429629,\n",
       "   'OppTOV%': 0.0,\n",
       "   'OppeFG%': -0.49324331746862743}}]"
      ]
     },
     "execution_count": 393,
     "metadata": {},
     "output_type": "execute_result"
    }
   ],
   "source": [
    "temp"
   ]
  },
  {
   "cell_type": "markdown",
   "metadata": {},
   "source": [
    "# Naive Bayes Model"
   ]
  },
  {
   "cell_type": "code",
   "execution_count": 4,
   "metadata": {},
   "outputs": [],
   "source": [
    "from sklearn.naive_bayes import GaussianNB"
   ]
  },
  {
   "cell_type": "code",
   "execution_count": 17,
   "metadata": {},
   "outputs": [],
   "source": [
    "X_scaler = StandardScaler().fit(X_train)\n",
    "X_train_scaled = X_scaler.transform(X_train)\n",
    "X_test_scaled = X_scaler.transform(X_test)"
   ]
  },
  {
   "cell_type": "code",
   "execution_count": 18,
   "metadata": {},
   "outputs": [],
   "source": [
    "gNB_model = GaussianNB()"
   ]
  },
  {
   "cell_type": "code",
   "execution_count": 19,
   "metadata": {},
   "outputs": [
    {
     "data": {
      "text/plain": [
       "GaussianNB(priors=None)"
      ]
     },
     "execution_count": 19,
     "metadata": {},
     "output_type": "execute_result"
    }
   ],
   "source": [
    "gNB_model.fit(X_train_scaled, y_train)"
   ]
  },
  {
   "cell_type": "code",
   "execution_count": 28,
   "metadata": {},
   "outputs": [],
   "source": [
    "predictions = gNB_model.predict(X_train_scaled)"
   ]
  },
  {
   "cell_type": "code",
   "execution_count": 27,
   "metadata": {},
   "outputs": [
    {
     "data": {
      "text/plain": [
       "0.8686991869918699"
      ]
     },
     "execution_count": 27,
     "metadata": {},
     "output_type": "execute_result"
    }
   ],
   "source": [
    "gNB_model.score(X_train_scaled, y_train)"
   ]
  },
  {
   "cell_type": "code",
   "execution_count": 29,
   "metadata": {},
   "outputs": [
    {
     "name": "stdout",
     "output_type": "stream",
     "text": [
      "Predicted W is 1233, actual is 1230\n"
     ]
    }
   ],
   "source": [
    "predictwincount = 0\n",
    "actualwincount = 0\n",
    "for x in range (len(predictions)):\n",
    "    if(predictions[x] == 'W'):\n",
    "        predictwincount += 1\n",
    "    if(y_train[x] == 'W'):\n",
    "        actualwincount += 1\n",
    "print(f\"Predicted W is {predictwincount}, actual is {actualwincount}\")"
   ]
  },
  {
   "cell_type": "code",
   "execution_count": 24,
   "metadata": {},
   "outputs": [
    {
     "data": {
      "text/plain": [
       "0.8660834454912517"
      ]
     },
     "execution_count": 24,
     "metadata": {},
     "output_type": "execute_result"
    }
   ],
   "source": [
    "gNB_model.score(X_test_scaled, y_test)"
   ]
  },
  {
   "cell_type": "code",
   "execution_count": 25,
   "metadata": {},
   "outputs": [],
   "source": [
    "predictions = gNB_model.predict(X_test_scaled)"
   ]
  },
  {
   "cell_type": "code",
   "execution_count": 26,
   "metadata": {},
   "outputs": [
    {
     "name": "stdout",
     "output_type": "stream",
     "text": [
      "Predicted W is 714, actual is 743\n"
     ]
    }
   ],
   "source": [
    "predictwincount = 0\n",
    "actualwincount = 0\n",
    "for x in range (len(predictions)):\n",
    "    if(predictions[x] == 'W'):\n",
    "        predictwincount += 1\n",
    "    if(y_test[x] == 'W'):\n",
    "        actualwincount += 1\n",
    "print(f\"Predicted W is {predictwincount}, actual is {actualwincount}\")"
   ]
  },
  {
   "cell_type": "markdown",
   "metadata": {},
   "source": [
    "# Check distribution of params"
   ]
  },
  {
   "cell_type": "code",
   "execution_count": 59,
   "metadata": {},
   "outputs": [],
   "source": [
    "import seaborn as sns\n",
    "import matplotlib.pyplot as plt\n",
    "%matplotlib inline"
   ]
  },
  {
   "cell_type": "code",
   "execution_count": 60,
   "metadata": {},
   "outputs": [],
   "source": [
    "sns.set(color_codes=True)"
   ]
  },
  {
   "cell_type": "code",
   "execution_count": 40,
   "metadata": {},
   "outputs": [
    {
     "data": {
      "text/plain": [
       "Index(['TS%', 'TOV%', 'OREB%', 'FTARate', 'DefRtg', 'OppFTARate', 'OppOREB%',\n",
       "       'OppTOV%', 'OppeFG%'],\n",
       "      dtype='object')"
      ]
     },
     "execution_count": 40,
     "metadata": {},
     "output_type": "execute_result"
    }
   ],
   "source": [
    "X_train.columns"
   ]
  },
  {
   "cell_type": "code",
   "execution_count": 61,
   "metadata": {},
   "outputs": [],
   "source": [
    "#x = [temp for temp in X_train['TS%']]\n",
    "#x = [temp for temp in X_train['TOV%']]\n",
    "#x = [temp for temp in X_train['FTARate']]\n",
    "#x = [temp for temp in X_train['DefRtg']]\n",
    "#x = [temp for temp in X_train['OppFTARate']]\n",
    "#x = [temp for temp in X_train['OppOREB%']]\n",
    "#x = [temp for temp in X_train['OppTOV%']]\n",
    "x = [temp for temp in X_train['OppeFG%']]"
   ]
  },
  {
   "cell_type": "code",
   "execution_count": 63,
   "metadata": {},
   "outputs": [
    {
     "data": {
      "text/plain": [
       "<matplotlib.axes._subplots.AxesSubplot at 0x21855bcdb00>"
      ]
     },
     "execution_count": 63,
     "metadata": {},
     "output_type": "execute_result"
    },
    {
     "data": {
      "image/png": "[encoded data removed]",
      "text/plain": [
       "<Figure size 432x288 with 1 Axes>"
      ]
     },
     "metadata": {},
     "output_type": "display_data"
    }
   ],
   "source": [
    "sns.distplot(x, hist=False, rug=True)"
   ]
  },
  {
   "cell_type": "markdown",
   "metadata": {},
   "source": [
    "# Histogram Plots"
   ]
  },
  {
   "cell_type": "code",
   "execution_count": 107,
   "metadata": {},
   "outputs": [],
   "source": [
    "temp = db.testing_data.find()\n",
    "#temp = db.testing_data.find({'Team': 'LAL'})\n",
    "temp = list(temp)\n",
    "for i in temp:\n",
    "    i.pop('_id', None)\n",
    "df_test = pd.DataFrame(temp)"
   ]
  },
  {
   "cell_type": "code",
   "execution_count": 65,
   "metadata": {},
   "outputs": [],
   "source": [
    "temp = db.training_data.find()\n",
    "#temp = db.testing_data.find({'Team': 'LAL'})\n",
    "temp = list(temp)\n",
    "for i in temp:\n",
    "    i.pop('_id', None)\n",
    "df_train = pd.DataFrame(temp)"
   ]
  },
  {
   "cell_type": "code",
   "execution_count": 67,
   "metadata": {},
   "outputs": [
    {
     "data": {
      "text/plain": [
       "Index(['AST%', 'AST/TO', 'ASTRatio', 'DREB%', 'DefRtg', 'FTARate', 'GameDate',\n",
       "       'MIN', 'MatchUp', 'NetRtg', 'OREB%', 'OffRtg', 'OppFTARate', 'OppOREB%',\n",
       "       'OppTOV%', 'OppeFG%', 'PACE', 'PIE', 'REB%', 'TOV%', 'TS%', 'Team',\n",
       "       'W/L', 'eFG%'],\n",
       "      dtype='object')"
      ]
     },
     "execution_count": 67,
     "metadata": {},
     "output_type": "execute_result"
    }
   ],
   "source": [
    "df_train.columns"
   ]
  },
  {
   "cell_type": "code",
   "execution_count": 68,
   "metadata": {},
   "outputs": [],
   "source": [
    "df_train = df_train[['AST%', 'AST/TO', 'ASTRatio', 'DREB%', 'DefRtg', 'FTARate', 'OREB%', 'OffRtg', 'OppFTARate', 'OppOREB%',\n",
    "                     'OppTOV%', 'OppeFG%', 'PACE', 'PIE', 'REB%', 'TOV%', 'TS%', 'eFG%', 'Team']]"
   ]
  },
  {
   "cell_type": "code",
   "execution_count": 69,
   "metadata": {},
   "outputs": [],
   "source": [
    "df_test = df_test[['AST%', 'AST/TO', 'ASTRatio', 'DREB%', 'DefRtg', 'FTARate', 'OREB%', 'OffRtg', 'OppFTARate', 'OppOREB%',\n",
    "                     'OppTOV%', 'OppeFG%', 'PACE', 'PIE', 'REB%', 'TOV%', 'TS%', 'eFG%', 'Team']]"
   ]
  },
  {
   "cell_type": "code",
   "execution_count": 71,
   "metadata": {},
   "outputs": [],
   "source": [
    "result = pd.concat([df_train, df_test])"
   ]
  },
  {
   "cell_type": "code",
   "execution_count": 72,
   "metadata": {},
   "outputs": [
    {
     "data": {
      "text/plain": [
       "3946"
      ]
     },
     "execution_count": 72,
     "metadata": {},
     "output_type": "execute_result"
    }
   ],
   "source": [
    "len(result)"
   ]
  },
  {
   "cell_type": "code",
   "execution_count": 124,
   "metadata": {},
   "outputs": [],
   "source": [
    "temp = db.testing_data.find({'GameDate': {'$lte': '2019-01-28T00:00:00.000Z'}}).sort('GameDate',pymongo.DESCENDING).limit(1)"
   ]
  },
  {
   "cell_type": "code",
   "execution_count": 140,
   "metadata": {},
   "outputs": [],
   "source": [
    "temp = db.testing_data.find().sort('GameDate',pymongo.DESCENDING).limit(1)"
   ]
  },
  {
   "cell_type": "code",
   "execution_count": 141,
   "metadata": {},
   "outputs": [],
   "source": [
    "date_index = temp[0]['GameDate']"
   ]
  },
  {
   "cell_type": "code",
   "execution_count": 142,
   "metadata": {},
   "outputs": [
    {
     "data": {
      "text/plain": [
       "'2019-01-29T00:00:00.000Z'"
      ]
     },
     "execution_count": 142,
     "metadata": {},
     "output_type": "execute_result"
    }
   ],
   "source": [
    "date_index"
   ]
  },
  {
   "cell_type": "code",
   "execution_count": 146,
   "metadata": {},
   "outputs": [],
   "source": [
    "temp_df = df_test.loc[df_test['GameDate'] > date_index]"
   ]
  },
  {
   "cell_type": "code",
   "execution_count": 147,
   "metadata": {},
   "outputs": [
    {
     "data": {
      "text/plain": [
       "0"
      ]
     },
     "execution_count": 147,
     "metadata": {},
     "output_type": "execute_result"
    }
   ],
   "source": [
    "len(temp_df)"
   ]
  },
  {
   "cell_type": "code",
   "execution_count": 139,
   "metadata": {},
   "outputs": [
    {
     "data": {
      "text/html": [
       "<div>\n",
       "<style scoped>\n",
       "    .dataframe tbody tr th:only-of-type {\n",
       "        vertical-align: middle;\n",
       "    }\n",
       "\n",
       "    .dataframe tbody tr th {\n",
       "        vertical-align: top;\n",
       "    }\n",
       "\n",
       "    .dataframe thead th {\n",
       "        text-align: right;\n",
       "    }\n",
       "</style>\n",
       "<table border=\"1\" class=\"dataframe\">\n",
       "  <thead>\n",
       "    <tr style=\"text-align: right;\">\n",
       "      <th></th>\n",
       "      <th>Team</th>\n",
       "      <th>MatchUp</th>\n",
       "      <th>GameDate</th>\n",
       "      <th>W/L</th>\n",
       "      <th>MIN</th>\n",
       "      <th>OffRtg</th>\n",
       "      <th>DefRtg</th>\n",
       "      <th>NetRtg</th>\n",
       "      <th>AST%</th>\n",
       "      <th>AST/TO</th>\n",
       "      <th>...</th>\n",
       "      <th>TOV%</th>\n",
       "      <th>eFG%</th>\n",
       "      <th>TS%</th>\n",
       "      <th>PACE</th>\n",
       "      <th>PIE</th>\n",
       "      <th>FTARate</th>\n",
       "      <th>OppeFG%</th>\n",
       "      <th>OppFTARate</th>\n",
       "      <th>OppTOV%</th>\n",
       "      <th>OppOREB%</th>\n",
       "    </tr>\n",
       "  </thead>\n",
       "  <tbody>\n",
       "    <tr>\n",
       "      <th>0</th>\n",
       "      <td>DAL</td>\n",
       "      <td>DAL @ NYK</td>\n",
       "      <td>2019-01-30</td>\n",
       "      <td>W</td>\n",
       "      <td>48</td>\n",
       "      <td>118.8</td>\n",
       "      <td>92.8</td>\n",
       "      <td>26.0</td>\n",
       "      <td>68.9</td>\n",
       "      <td>1.63</td>\n",
       "      <td>...</td>\n",
       "      <td>19.8</td>\n",
       "      <td>62.5</td>\n",
       "      <td>64.2</td>\n",
       "      <td>96.5</td>\n",
       "      <td>62.7</td>\n",
       "      <td>0.131</td>\n",
       "      <td>44.9</td>\n",
       "      <td>0.359</td>\n",
       "      <td>12.4</td>\n",
       "      <td>13.7</td>\n",
       "    </tr>\n",
       "    <tr>\n",
       "      <th>1</th>\n",
       "      <td>CHA</td>\n",
       "      <td>CHA @ BOS</td>\n",
       "      <td>2019-01-30</td>\n",
       "      <td>L</td>\n",
       "      <td>48</td>\n",
       "      <td>97.9</td>\n",
       "      <td>134.0</td>\n",
       "      <td>-36.1</td>\n",
       "      <td>51.3</td>\n",
       "      <td>1.67</td>\n",
       "      <td>...</td>\n",
       "      <td>12.5</td>\n",
       "      <td>51.1</td>\n",
       "      <td>51.0</td>\n",
       "      <td>95.0</td>\n",
       "      <td>30.8</td>\n",
       "      <td>0.079</td>\n",
       "      <td>62.2</td>\n",
       "      <td>0.178</td>\n",
       "      <td>12.8</td>\n",
       "      <td>39.0</td>\n",
       "    </tr>\n",
       "    <tr>\n",
       "      <th>2</th>\n",
       "      <td>NYK</td>\n",
       "      <td>NYK vs. DAL</td>\n",
       "      <td>2019-01-30</td>\n",
       "      <td>L</td>\n",
       "      <td>48</td>\n",
       "      <td>92.8</td>\n",
       "      <td>118.8</td>\n",
       "      <td>-26.0</td>\n",
       "      <td>50.0</td>\n",
       "      <td>1.33</td>\n",
       "      <td>...</td>\n",
       "      <td>12.4</td>\n",
       "      <td>44.9</td>\n",
       "      <td>49.8</td>\n",
       "      <td>96.5</td>\n",
       "      <td>37.3</td>\n",
       "      <td>0.359</td>\n",
       "      <td>62.5</td>\n",
       "      <td>0.131</td>\n",
       "      <td>19.8</td>\n",
       "      <td>26.8</td>\n",
       "    </tr>\n",
       "    <tr>\n",
       "      <th>3</th>\n",
       "      <td>CHI</td>\n",
       "      <td>CHI @ MIA</td>\n",
       "      <td>2019-01-30</td>\n",
       "      <td>W</td>\n",
       "      <td>48</td>\n",
       "      <td>112.9</td>\n",
       "      <td>95.7</td>\n",
       "      <td>17.2</td>\n",
       "      <td>65.0</td>\n",
       "      <td>2.00</td>\n",
       "      <td>...</td>\n",
       "      <td>14.0</td>\n",
       "      <td>56.4</td>\n",
       "      <td>60.2</td>\n",
       "      <td>93.0</td>\n",
       "      <td>61.4</td>\n",
       "      <td>0.269</td>\n",
       "      <td>44.9</td>\n",
       "      <td>0.146</td>\n",
       "      <td>16.1</td>\n",
       "      <td>32.1</td>\n",
       "    </tr>\n",
       "    <tr>\n",
       "      <th>4</th>\n",
       "      <td>MIA</td>\n",
       "      <td>MIA vs. CHI</td>\n",
       "      <td>2019-01-30</td>\n",
       "      <td>L</td>\n",
       "      <td>48</td>\n",
       "      <td>95.7</td>\n",
       "      <td>112.9</td>\n",
       "      <td>-17.2</td>\n",
       "      <td>64.7</td>\n",
       "      <td>1.47</td>\n",
       "      <td>...</td>\n",
       "      <td>16.1</td>\n",
       "      <td>44.9</td>\n",
       "      <td>47.0</td>\n",
       "      <td>93.0</td>\n",
       "      <td>38.6</td>\n",
       "      <td>0.146</td>\n",
       "      <td>56.4</td>\n",
       "      <td>0.269</td>\n",
       "      <td>14.0</td>\n",
       "      <td>17.1</td>\n",
       "    </tr>\n",
       "    <tr>\n",
       "      <th>5</th>\n",
       "      <td>BOS</td>\n",
       "      <td>BOS vs. CHA</td>\n",
       "      <td>2019-01-30</td>\n",
       "      <td>W</td>\n",
       "      <td>48</td>\n",
       "      <td>134.0</td>\n",
       "      <td>97.9</td>\n",
       "      <td>36.1</td>\n",
       "      <td>68.0</td>\n",
       "      <td>2.83</td>\n",
       "      <td>...</td>\n",
       "      <td>12.8</td>\n",
       "      <td>62.2</td>\n",
       "      <td>64.9</td>\n",
       "      <td>95.0</td>\n",
       "      <td>69.2</td>\n",
       "      <td>0.178</td>\n",
       "      <td>51.1</td>\n",
       "      <td>0.079</td>\n",
       "      <td>12.5</td>\n",
       "      <td>21.2</td>\n",
       "    </tr>\n",
       "    <tr>\n",
       "      <th>6</th>\n",
       "      <td>PHX</td>\n",
       "      <td>PHX @ SAS</td>\n",
       "      <td>2019-01-29</td>\n",
       "      <td>L</td>\n",
       "      <td>48</td>\n",
       "      <td>122.8</td>\n",
       "      <td>123.5</td>\n",
       "      <td>-0.8</td>\n",
       "      <td>54.2</td>\n",
       "      <td>1.44</td>\n",
       "      <td>...</td>\n",
       "      <td>17.8</td>\n",
       "      <td>68.1</td>\n",
       "      <td>70.2</td>\n",
       "      <td>101.5</td>\n",
       "      <td>51.7</td>\n",
       "      <td>0.238</td>\n",
       "      <td>54.5</td>\n",
       "      <td>0.200</td>\n",
       "      <td>10.8</td>\n",
       "      <td>35.2</td>\n",
       "    </tr>\n",
       "    <tr>\n",
       "      <th>7</th>\n",
       "      <td>OKC</td>\n",
       "      <td>OKC @ ORL</td>\n",
       "      <td>2019-01-29</td>\n",
       "      <td>W</td>\n",
       "      <td>48</td>\n",
       "      <td>124.8</td>\n",
       "      <td>114.7</td>\n",
       "      <td>10.0</td>\n",
       "      <td>51.0</td>\n",
       "      <td>3.57</td>\n",
       "      <td>...</td>\n",
       "      <td>6.9</td>\n",
       "      <td>58.8</td>\n",
       "      <td>61.5</td>\n",
       "      <td>101.5</td>\n",
       "      <td>55.9</td>\n",
       "      <td>0.286</td>\n",
       "      <td>50.0</td>\n",
       "      <td>0.176</td>\n",
       "      <td>11.8</td>\n",
       "      <td>33.3</td>\n",
       "    </tr>\n",
       "    <tr>\n",
       "      <th>8</th>\n",
       "      <td>ORL</td>\n",
       "      <td>ORL vs. OKC</td>\n",
       "      <td>2019-01-29</td>\n",
       "      <td>L</td>\n",
       "      <td>48</td>\n",
       "      <td>114.7</td>\n",
       "      <td>124.8</td>\n",
       "      <td>-10.0</td>\n",
       "      <td>59.1</td>\n",
       "      <td>2.17</td>\n",
       "      <td>...</td>\n",
       "      <td>11.8</td>\n",
       "      <td>50.0</td>\n",
       "      <td>53.2</td>\n",
       "      <td>101.5</td>\n",
       "      <td>44.1</td>\n",
       "      <td>0.176</td>\n",
       "      <td>58.8</td>\n",
       "      <td>0.286</td>\n",
       "      <td>6.9</td>\n",
       "      <td>17.8</td>\n",
       "    </tr>\n",
       "    <tr>\n",
       "      <th>9</th>\n",
       "      <td>CLE</td>\n",
       "      <td>CLE vs. WAS</td>\n",
       "      <td>2019-01-29</td>\n",
       "      <td>W</td>\n",
       "      <td>48</td>\n",
       "      <td>113.7</td>\n",
       "      <td>111.9</td>\n",
       "      <td>1.8</td>\n",
       "      <td>66.7</td>\n",
       "      <td>1.88</td>\n",
       "      <td>...</td>\n",
       "      <td>15.7</td>\n",
       "      <td>62.5</td>\n",
       "      <td>61.3</td>\n",
       "      <td>101.5</td>\n",
       "      <td>49.4</td>\n",
       "      <td>0.286</td>\n",
       "      <td>55.2</td>\n",
       "      <td>0.264</td>\n",
       "      <td>5.9</td>\n",
       "      <td>8.7</td>\n",
       "    </tr>\n",
       "    <tr>\n",
       "      <th>10</th>\n",
       "      <td>NOP</td>\n",
       "      <td>NOP @ HOU</td>\n",
       "      <td>2019-01-29</td>\n",
       "      <td>W</td>\n",
       "      <td>48</td>\n",
       "      <td>116.3</td>\n",
       "      <td>111.5</td>\n",
       "      <td>4.8</td>\n",
       "      <td>58.7</td>\n",
       "      <td>1.59</td>\n",
       "      <td>...</td>\n",
       "      <td>16.3</td>\n",
       "      <td>56.1</td>\n",
       "      <td>59.9</td>\n",
       "      <td>104.0</td>\n",
       "      <td>58.6</td>\n",
       "      <td>0.278</td>\n",
       "      <td>49.0</td>\n",
       "      <td>0.238</td>\n",
       "      <td>11.5</td>\n",
       "      <td>32.3</td>\n",
       "    </tr>\n",
       "    <tr>\n",
       "      <th>11</th>\n",
       "      <td>PHI</td>\n",
       "      <td>PHI @ LAL</td>\n",
       "      <td>2019-01-29</td>\n",
       "      <td>W</td>\n",
       "      <td>48</td>\n",
       "      <td>117.5</td>\n",
       "      <td>101.9</td>\n",
       "      <td>15.5</td>\n",
       "      <td>78.6</td>\n",
       "      <td>2.75</td>\n",
       "      <td>...</td>\n",
       "      <td>11.7</td>\n",
       "      <td>53.2</td>\n",
       "      <td>57.4</td>\n",
       "      <td>103.0</td>\n",
       "      <td>58.9</td>\n",
       "      <td>0.301</td>\n",
       "      <td>50.5</td>\n",
       "      <td>0.174</td>\n",
       "      <td>20.4</td>\n",
       "      <td>35.3</td>\n",
       "    </tr>\n",
       "    <tr>\n",
       "      <th>12</th>\n",
       "      <td>HOU</td>\n",
       "      <td>HOU vs. NOP</td>\n",
       "      <td>2019-01-29</td>\n",
       "      <td>L</td>\n",
       "      <td>48</td>\n",
       "      <td>111.5</td>\n",
       "      <td>116.3</td>\n",
       "      <td>-4.8</td>\n",
       "      <td>55.0</td>\n",
       "      <td>1.83</td>\n",
       "      <td>...</td>\n",
       "      <td>11.5</td>\n",
       "      <td>49.0</td>\n",
       "      <td>52.0</td>\n",
       "      <td>104.0</td>\n",
       "      <td>41.4</td>\n",
       "      <td>0.238</td>\n",
       "      <td>56.1</td>\n",
       "      <td>0.278</td>\n",
       "      <td>16.3</td>\n",
       "      <td>31.9</td>\n",
       "    </tr>\n",
       "    <tr>\n",
       "      <th>13</th>\n",
       "      <td>BKN</td>\n",
       "      <td>BKN vs. CHI</td>\n",
       "      <td>2019-01-29</td>\n",
       "      <td>W</td>\n",
       "      <td>48</td>\n",
       "      <td>108.9</td>\n",
       "      <td>103.5</td>\n",
       "      <td>5.4</td>\n",
       "      <td>59.5</td>\n",
       "      <td>3.13</td>\n",
       "      <td>...</td>\n",
       "      <td>7.1</td>\n",
       "      <td>50.0</td>\n",
       "      <td>54.7</td>\n",
       "      <td>112.5</td>\n",
       "      <td>53.3</td>\n",
       "      <td>0.426</td>\n",
       "      <td>54.8</td>\n",
       "      <td>0.202</td>\n",
       "      <td>15.9</td>\n",
       "      <td>23.5</td>\n",
       "    </tr>\n",
       "    <tr>\n",
       "      <th>14</th>\n",
       "      <td>SAS</td>\n",
       "      <td>SAS vs. PHX</td>\n",
       "      <td>2019-01-29</td>\n",
       "      <td>W</td>\n",
       "      <td>48</td>\n",
       "      <td>123.5</td>\n",
       "      <td>122.8</td>\n",
       "      <td>0.8</td>\n",
       "      <td>61.7</td>\n",
       "      <td>2.64</td>\n",
       "      <td>...</td>\n",
       "      <td>10.8</td>\n",
       "      <td>54.5</td>\n",
       "      <td>57.9</td>\n",
       "      <td>101.5</td>\n",
       "      <td>48.3</td>\n",
       "      <td>0.200</td>\n",
       "      <td>68.1</td>\n",
       "      <td>0.238</td>\n",
       "      <td>17.8</td>\n",
       "      <td>14.7</td>\n",
       "    </tr>\n",
       "    <tr>\n",
       "      <th>15</th>\n",
       "      <td>MIL</td>\n",
       "      <td>MIL @ DET</td>\n",
       "      <td>2019-01-29</td>\n",
       "      <td>W</td>\n",
       "      <td>48</td>\n",
       "      <td>121.1</td>\n",
       "      <td>109.4</td>\n",
       "      <td>11.7</td>\n",
       "      <td>68.1</td>\n",
       "      <td>2.91</td>\n",
       "      <td>...</td>\n",
       "      <td>11.6</td>\n",
       "      <td>61.5</td>\n",
       "      <td>62.9</td>\n",
       "      <td>95.5</td>\n",
       "      <td>55.6</td>\n",
       "      <td>0.115</td>\n",
       "      <td>53.9</td>\n",
       "      <td>0.135</td>\n",
       "      <td>12.5</td>\n",
       "      <td>27.1</td>\n",
       "    </tr>\n",
       "    <tr>\n",
       "      <th>16</th>\n",
       "      <td>CHI</td>\n",
       "      <td>CHI @ BKN</td>\n",
       "      <td>2019-01-29</td>\n",
       "      <td>L</td>\n",
       "      <td>48</td>\n",
       "      <td>103.5</td>\n",
       "      <td>108.9</td>\n",
       "      <td>-5.4</td>\n",
       "      <td>36.2</td>\n",
       "      <td>0.94</td>\n",
       "      <td>...</td>\n",
       "      <td>15.9</td>\n",
       "      <td>54.8</td>\n",
       "      <td>57.2</td>\n",
       "      <td>112.5</td>\n",
       "      <td>46.7</td>\n",
       "      <td>0.202</td>\n",
       "      <td>50.0</td>\n",
       "      <td>0.426</td>\n",
       "      <td>7.1</td>\n",
       "      <td>18.6</td>\n",
       "    </tr>\n",
       "    <tr>\n",
       "      <th>17</th>\n",
       "      <td>DET</td>\n",
       "      <td>DET vs. MIL</td>\n",
       "      <td>2019-01-29</td>\n",
       "      <td>L</td>\n",
       "      <td>48</td>\n",
       "      <td>109.4</td>\n",
       "      <td>121.1</td>\n",
       "      <td>-11.7</td>\n",
       "      <td>69.0</td>\n",
       "      <td>2.42</td>\n",
       "      <td>...</td>\n",
       "      <td>12.5</td>\n",
       "      <td>53.9</td>\n",
       "      <td>55.7</td>\n",
       "      <td>95.5</td>\n",
       "      <td>44.4</td>\n",
       "      <td>0.135</td>\n",
       "      <td>61.5</td>\n",
       "      <td>0.115</td>\n",
       "      <td>11.6</td>\n",
       "      <td>19.0</td>\n",
       "    </tr>\n",
       "    <tr>\n",
       "      <th>18</th>\n",
       "      <td>WAS</td>\n",
       "      <td>WAS @ CLE</td>\n",
       "      <td>2019-01-29</td>\n",
       "      <td>L</td>\n",
       "      <td>48</td>\n",
       "      <td>111.9</td>\n",
       "      <td>113.7</td>\n",
       "      <td>-1.8</td>\n",
       "      <td>73.8</td>\n",
       "      <td>5.17</td>\n",
       "      <td>...</td>\n",
       "      <td>5.9</td>\n",
       "      <td>55.2</td>\n",
       "      <td>58.2</td>\n",
       "      <td>101.5</td>\n",
       "      <td>50.6</td>\n",
       "      <td>0.264</td>\n",
       "      <td>62.5</td>\n",
       "      <td>0.286</td>\n",
       "      <td>15.7</td>\n",
       "      <td>27.7</td>\n",
       "    </tr>\n",
       "    <tr>\n",
       "      <th>19</th>\n",
       "      <td>LAL</td>\n",
       "      <td>LAL vs. PHI</td>\n",
       "      <td>2019-01-29</td>\n",
       "      <td>L</td>\n",
       "      <td>48</td>\n",
       "      <td>101.9</td>\n",
       "      <td>117.5</td>\n",
       "      <td>-15.5</td>\n",
       "      <td>60.5</td>\n",
       "      <td>1.24</td>\n",
       "      <td>...</td>\n",
       "      <td>20.4</td>\n",
       "      <td>50.5</td>\n",
       "      <td>53.0</td>\n",
       "      <td>103.0</td>\n",
       "      <td>41.1</td>\n",
       "      <td>0.174</td>\n",
       "      <td>53.2</td>\n",
       "      <td>0.301</td>\n",
       "      <td>11.7</td>\n",
       "      <td>30.2</td>\n",
       "    </tr>\n",
       "  </tbody>\n",
       "</table>\n",
       "<p>20 rows × 24 columns</p>\n",
       "</div>"
      ],
      "text/plain": [
       "   Team      MatchUp   GameDate W/L  MIN  OffRtg  DefRtg  NetRtg  AST%  \\\n",
       "0   DAL    DAL @ NYK 2019-01-30   W   48   118.8    92.8    26.0  68.9   \n",
       "1   CHA    CHA @ BOS 2019-01-30   L   48    97.9   134.0   -36.1  51.3   \n",
       "2   NYK  NYK vs. DAL 2019-01-30   L   48    92.8   118.8   -26.0  50.0   \n",
       "3   CHI    CHI @ MIA 2019-01-30   W   48   112.9    95.7    17.2  65.0   \n",
       "4   MIA  MIA vs. CHI 2019-01-30   L   48    95.7   112.9   -17.2  64.7   \n",
       "5   BOS  BOS vs. CHA 2019-01-30   W   48   134.0    97.9    36.1  68.0   \n",
       "6   PHX    PHX @ SAS 2019-01-29   L   48   122.8   123.5    -0.8  54.2   \n",
       "7   OKC    OKC @ ORL 2019-01-29   W   48   124.8   114.7    10.0  51.0   \n",
       "8   ORL  ORL vs. OKC 2019-01-29   L   48   114.7   124.8   -10.0  59.1   \n",
       "9   CLE  CLE vs. WAS 2019-01-29   W   48   113.7   111.9     1.8  66.7   \n",
       "10  NOP    NOP @ HOU 2019-01-29   W   48   116.3   111.5     4.8  58.7   \n",
       "11  PHI    PHI @ LAL 2019-01-29   W   48   117.5   101.9    15.5  78.6   \n",
       "12  HOU  HOU vs. NOP 2019-01-29   L   48   111.5   116.3    -4.8  55.0   \n",
       "13  BKN  BKN vs. CHI 2019-01-29   W   48   108.9   103.5     5.4  59.5   \n",
       "14  SAS  SAS vs. PHX 2019-01-29   W   48   123.5   122.8     0.8  61.7   \n",
       "15  MIL    MIL @ DET 2019-01-29   W   48   121.1   109.4    11.7  68.1   \n",
       "16  CHI    CHI @ BKN 2019-01-29   L   48   103.5   108.9    -5.4  36.2   \n",
       "17  DET  DET vs. MIL 2019-01-29   L   48   109.4   121.1   -11.7  69.0   \n",
       "18  WAS    WAS @ CLE 2019-01-29   L   48   111.9   113.7    -1.8  73.8   \n",
       "19  LAL  LAL vs. PHI 2019-01-29   L   48   101.9   117.5   -15.5  60.5   \n",
       "\n",
       "    AST/TO    ...     TOV%  eFG%   TS%   PACE   PIE  FTARate  OppeFG%  \\\n",
       "0     1.63    ...     19.8  62.5  64.2   96.5  62.7    0.131     44.9   \n",
       "1     1.67    ...     12.5  51.1  51.0   95.0  30.8    0.079     62.2   \n",
       "2     1.33    ...     12.4  44.9  49.8   96.5  37.3    0.359     62.5   \n",
       "3     2.00    ...     14.0  56.4  60.2   93.0  61.4    0.269     44.9   \n",
       "4     1.47    ...     16.1  44.9  47.0   93.0  38.6    0.146     56.4   \n",
       "5     2.83    ...     12.8  62.2  64.9   95.0  69.2    0.178     51.1   \n",
       "6     1.44    ...     17.8  68.1  70.2  101.5  51.7    0.238     54.5   \n",
       "7     3.57    ...      6.9  58.8  61.5  101.5  55.9    0.286     50.0   \n",
       "8     2.17    ...     11.8  50.0  53.2  101.5  44.1    0.176     58.8   \n",
       "9     1.88    ...     15.7  62.5  61.3  101.5  49.4    0.286     55.2   \n",
       "10    1.59    ...     16.3  56.1  59.9  104.0  58.6    0.278     49.0   \n",
       "11    2.75    ...     11.7  53.2  57.4  103.0  58.9    0.301     50.5   \n",
       "12    1.83    ...     11.5  49.0  52.0  104.0  41.4    0.238     56.1   \n",
       "13    3.13    ...      7.1  50.0  54.7  112.5  53.3    0.426     54.8   \n",
       "14    2.64    ...     10.8  54.5  57.9  101.5  48.3    0.200     68.1   \n",
       "15    2.91    ...     11.6  61.5  62.9   95.5  55.6    0.115     53.9   \n",
       "16    0.94    ...     15.9  54.8  57.2  112.5  46.7    0.202     50.0   \n",
       "17    2.42    ...     12.5  53.9  55.7   95.5  44.4    0.135     61.5   \n",
       "18    5.17    ...      5.9  55.2  58.2  101.5  50.6    0.264     62.5   \n",
       "19    1.24    ...     20.4  50.5  53.0  103.0  41.1    0.174     53.2   \n",
       "\n",
       "    OppFTARate  OppTOV%  OppOREB%  \n",
       "0        0.359     12.4      13.7  \n",
       "1        0.178     12.8      39.0  \n",
       "2        0.131     19.8      26.8  \n",
       "3        0.146     16.1      32.1  \n",
       "4        0.269     14.0      17.1  \n",
       "5        0.079     12.5      21.2  \n",
       "6        0.200     10.8      35.2  \n",
       "7        0.176     11.8      33.3  \n",
       "8        0.286      6.9      17.8  \n",
       "9        0.264      5.9       8.7  \n",
       "10       0.238     11.5      32.3  \n",
       "11       0.174     20.4      35.3  \n",
       "12       0.278     16.3      31.9  \n",
       "13       0.202     15.9      23.5  \n",
       "14       0.238     17.8      14.7  \n",
       "15       0.135     12.5      27.1  \n",
       "16       0.426      7.1      18.6  \n",
       "17       0.115     11.6      19.0  \n",
       "18       0.286     15.7      27.7  \n",
       "19       0.301     11.7      30.2  \n",
       "\n",
       "[20 rows x 24 columns]"
      ]
     },
     "execution_count": 139,
     "metadata": {},
     "output_type": "execute_result"
    }
   ],
   "source": [
    "result_new.loc[result_new['GameDate'] > date_index]"
   ]
  },
  {
   "cell_type": "code",
   "execution_count": 158,
   "metadata": {},
   "outputs": [],
   "source": [
    "def update_testing_db(df_new):\n",
    "    # create mongo db connection\n",
    "    conn = 'mongodb://localhost:27017'\n",
    "    client = pymongo.MongoClient(conn)\n",
    "    # connect to my nba data db\n",
    "    db = client.nba_data_db\n",
    "    # Find latest boxscore date\n",
    "    temp = db.testing_data.find().sort('GameDate',pymongo.DESCENDING).limit(1)\n",
    "    date_index = temp[0]['GameDate']\n",
    "    df_update = df_new.loc[df_new['GameDate'] > date_index]\n",
    "    update_length = len(df_update)\n",
    "    if update_length > 0:\n",
    "        print(f'Updating testing_db with {update_length}')\n",
    "        #for index, row in df_update.iterrows():\n",
    "            #print(row['MatchUp'])\n",
    "        items = df_update.to_json(orient='records', date_format='iso')\n",
    "        # Load to json\n",
    "        items_db = json.loads(items)\n",
    "        #print(items)\n",
    "        # insert data to collection\n",
    "        db.testing_data.insert_many(items_db)\n",
    "    else:\n",
    "        print('No records to update!')\n",
    "    return update_length"
   ]
  },
  {
   "cell_type": "code",
   "execution_count": 159,
   "metadata": {},
   "outputs": [
    {
     "name": "stdout",
     "output_type": "stream",
     "text": [
      "Updating testing_db with 6\n",
      "DAL @ NYK\n",
      "CHA @ BOS\n",
      "NYK vs. DAL\n",
      "CHI @ MIA\n",
      "MIA vs. CHI\n",
      "BOS vs. CHA\n",
      "[{\"Team\":\"DAL\",\"MatchUp\":\"DAL @ NYK\",\"GameDate\":\"2019-01-30T00:00:00.000Z\",\"W\\/L\":\"W\",\"MIN\":48,\"OffRtg\":118.8,\"DefRtg\":92.8,\"NetRtg\":26.0,\"AST%\":68.9,\"AST\\/TO\":1.63,\"ASTRatio\":22.5,\"OREB%\":26.8,\"DREB%\":86.3,\"REB%\":59.8,\"TOV%\":19.8,\"eFG%\":62.5,\"TS%\":64.2,\"PACE\":96.5,\"PIE\":62.7,\"FTARate\":0.131,\"OppeFG%\":44.9,\"OppFTARate\":0.359,\"OppTOV%\":12.4,\"OppOREB%\":13.7},{\"Team\":\"CHA\",\"MatchUp\":\"CHA @ BOS\",\"GameDate\":\"2019-01-30T00:00:00.000Z\",\"W\\/L\":\"L\",\"MIN\":48,\"OffRtg\":97.9,\"DefRtg\":134.0,\"NetRtg\":-36.1,\"AST%\":51.3,\"AST\\/TO\":1.67,\"ASTRatio\":15.7,\"OREB%\":21.2,\"DREB%\":61.0,\"REB%\":38.7,\"TOV%\":12.5,\"eFG%\":51.1,\"TS%\":51.0,\"PACE\":95.0,\"PIE\":30.8,\"FTARate\":0.079,\"OppeFG%\":62.2,\"OppFTARate\":0.178,\"OppTOV%\":12.8,\"OppOREB%\":39.0},{\"Team\":\"NYK\",\"MatchUp\":\"NYK vs. DAL\",\"GameDate\":\"2019-01-30T00:00:00.000Z\",\"W\\/L\":\"L\",\"MIN\":48,\"OffRtg\":92.8,\"DefRtg\":118.8,\"NetRtg\":-26.0,\"AST%\":50.0,\"AST\\/TO\":1.33,\"ASTRatio\":13.3,\"OREB%\":13.7,\"DREB%\":73.2,\"REB%\":40.2,\"TOV%\":12.4,\"eFG%\":44.9,\"TS%\":49.8,\"PACE\":96.5,\"PIE\":37.3,\"FTARate\":0.359,\"OppeFG%\":62.5,\"OppFTARate\":0.131,\"OppTOV%\":19.8,\"OppOREB%\":26.8},{\"Team\":\"CHI\",\"MatchUp\":\"CHI @ MIA\",\"GameDate\":\"2019-01-30T00:00:00.000Z\",\"W\\/L\":\"W\",\"MIN\":48,\"OffRtg\":112.9,\"DefRtg\":95.7,\"NetRtg\":17.2,\"AST%\":65.0,\"AST\\/TO\":2.0,\"ASTRatio\":20.6,\"OREB%\":17.1,\"DREB%\":67.9,\"REB%\":46.4,\"TOV%\":14.0,\"eFG%\":56.4,\"TS%\":60.2,\"PACE\":93.0,\"PIE\":61.4,\"FTARate\":0.269,\"OppeFG%\":44.9,\"OppFTARate\":0.146,\"OppTOV%\":16.1,\"OppOREB%\":32.1},{\"Team\":\"MIA\",\"MatchUp\":\"MIA vs. CHI\",\"GameDate\":\"2019-01-30T00:00:00.000Z\",\"W\\/L\":\"L\",\"MIN\":48,\"OffRtg\":95.7,\"DefRtg\":112.9,\"NetRtg\":-17.2,\"AST%\":64.7,\"AST\\/TO\":1.47,\"ASTRatio\":16.5,\"OREB%\":32.1,\"DREB%\":82.9,\"REB%\":53.6,\"TOV%\":16.1,\"eFG%\":44.9,\"TS%\":47.0,\"PACE\":93.0,\"PIE\":38.6,\"FTARate\":0.146,\"OppeFG%\":56.4,\"OppFTARate\":0.269,\"OppTOV%\":14.0,\"OppOREB%\":17.1},{\"Team\":\"BOS\",\"MatchUp\":\"BOS vs. CHA\",\"GameDate\":\"2019-01-30T00:00:00.000Z\",\"W\\/L\":\"W\",\"MIN\":48,\"OffRtg\":134.0,\"DefRtg\":97.9,\"NetRtg\":36.1,\"AST%\":68.0,\"AST\\/TO\":2.83,\"ASTRatio\":23.6,\"OREB%\":39.0,\"DREB%\":78.8,\"REB%\":61.3,\"TOV%\":12.8,\"eFG%\":62.2,\"TS%\":64.9,\"PACE\":95.0,\"PIE\":69.2,\"FTARate\":0.178,\"OppeFG%\":51.1,\"OppFTARate\":0.079,\"OppTOV%\":12.5,\"OppOREB%\":21.2}]\n"
     ]
    }
   ],
   "source": [
    "update_testing_db(result_new)"
   ]
  },
  {
   "cell_type": "code",
   "execution_count": 173,
   "metadata": {},
   "outputs": [],
   "source": [
    "def update_nba_stats():\n",
    "    # create mongo db connection\n",
    "    conn = 'mongodb://localhost:27017'\n",
    "    client = pymongo.MongoClient(conn)\n",
    "    # connect to my nba data db\n",
    "    db = client.nba_data_db\n",
    "    # Get training data\n",
    "    temp = db.training_data.find()\n",
    "    temp = list(temp)\n",
    "    for i in temp:\n",
    "        i.pop('_id', None)\n",
    "    df_train = pd.DataFrame(temp)\n",
    "    # Get training data\n",
    "    temp = db.testing_data.find()\n",
    "    temp = list(temp)\n",
    "    for i in temp:\n",
    "        i.pop('_id', None)\n",
    "    df_test = pd.DataFrame(temp)\n",
    "    df_winloss = pd.concat([df_train, df_test])\n",
    "    df_winloss = df_winloss.groupby(['W/L'])['AST%', 'AST/TO', 'ASTRatio', 'DREB%', \n",
    "                                     'DefRtg','OREB%', 'OffRtg', 'PACE', \n",
    "                                     'PIE', 'REB%', 'TOV%','TS%',\n",
    "                                     'eFG%', 'FTARate', 'OppFTARate', 'OppOREB%',\n",
    "                                     'OppTOV%', 'OppeFG%'].mean()\n",
    "    df_winloss = df_winloss.reset_index()\n",
    "    db.nba_stats_data.drop()\n",
    "    # export to json\n",
    "    items = df_winloss.to_json(orient='records')\n",
    "    # load json string to json\n",
    "    items_db = json.loads(items)\n",
    "    # insert data to collection\n",
    "    db.nba_stats_data.insert_many(items_db)\n",
    "    return(df_winloss)"
   ]
  },
  {
   "cell_type": "code",
   "execution_count": 174,
   "metadata": {},
   "outputs": [],
   "source": [
    "my_df = update_nba_stats()"
   ]
  },
  {
   "cell_type": "code",
   "execution_count": 175,
   "metadata": {},
   "outputs": [
    {
     "data": {
      "text/html": [
       "<div>\n",
       "<style scoped>\n",
       "    .dataframe tbody tr th:only-of-type {\n",
       "        vertical-align: middle;\n",
       "    }\n",
       "\n",
       "    .dataframe tbody tr th {\n",
       "        vertical-align: top;\n",
       "    }\n",
       "\n",
       "    .dataframe thead th {\n",
       "        text-align: right;\n",
       "    }\n",
       "</style>\n",
       "<table border=\"1\" class=\"dataframe\">\n",
       "  <thead>\n",
       "    <tr style=\"text-align: right;\">\n",
       "      <th></th>\n",
       "      <th>W/L</th>\n",
       "      <th>AST%</th>\n",
       "      <th>AST/TO</th>\n",
       "      <th>ASTRatio</th>\n",
       "      <th>DREB%</th>\n",
       "      <th>DefRtg</th>\n",
       "      <th>OREB%</th>\n",
       "      <th>OffRtg</th>\n",
       "      <th>PACE</th>\n",
       "      <th>PIE</th>\n",
       "      <th>REB%</th>\n",
       "      <th>TOV%</th>\n",
       "      <th>TS%</th>\n",
       "      <th>eFG%</th>\n",
       "      <th>FTARate</th>\n",
       "      <th>OppFTARate</th>\n",
       "      <th>OppOREB%</th>\n",
       "      <th>OppTOV%</th>\n",
       "      <th>OppeFG%</th>\n",
       "    </tr>\n",
       "  </thead>\n",
       "  <tbody>\n",
       "    <tr>\n",
       "      <th>0</th>\n",
       "      <td>L</td>\n",
       "      <td>57.755264</td>\n",
       "      <td>1.622368</td>\n",
       "      <td>16.264786</td>\n",
       "      <td>72.429421</td>\n",
       "      <td>113.935013</td>\n",
       "      <td>25.943778</td>\n",
       "      <td>102.597481</td>\n",
       "      <td>99.09196</td>\n",
       "      <td>43.091486</td>\n",
       "      <td>48.117733</td>\n",
       "      <td>14.750227</td>\n",
       "      <td>52.941461</td>\n",
       "      <td>49.381612</td>\n",
       "      <td>0.248024</td>\n",
       "      <td>0.269676</td>\n",
       "      <td>27.571537</td>\n",
       "      <td>13.992343</td>\n",
       "      <td>55.186297</td>\n",
       "    </tr>\n",
       "    <tr>\n",
       "      <th>1</th>\n",
       "      <td>W</td>\n",
       "      <td>59.957531</td>\n",
       "      <td>1.962625</td>\n",
       "      <td>18.231688</td>\n",
       "      <td>74.057733</td>\n",
       "      <td>102.597481</td>\n",
       "      <td>27.571537</td>\n",
       "      <td>113.935013</td>\n",
       "      <td>99.09196</td>\n",
       "      <td>56.908967</td>\n",
       "      <td>51.883073</td>\n",
       "      <td>13.992343</td>\n",
       "      <td>58.669924</td>\n",
       "      <td>55.186297</td>\n",
       "      <td>0.269676</td>\n",
       "      <td>0.248024</td>\n",
       "      <td>25.943778</td>\n",
       "      <td>14.750227</td>\n",
       "      <td>49.381612</td>\n",
       "    </tr>\n",
       "  </tbody>\n",
       "</table>\n",
       "</div>"
      ],
      "text/plain": [
       "  W/L       AST%    AST/TO   ASTRatio      DREB%      DefRtg      OREB%  \\\n",
       "0   L  57.755264  1.622368  16.264786  72.429421  113.935013  25.943778   \n",
       "1   W  59.957531  1.962625  18.231688  74.057733  102.597481  27.571537   \n",
       "\n",
       "       OffRtg      PACE        PIE       REB%       TOV%        TS%  \\\n",
       "0  102.597481  99.09196  43.091486  48.117733  14.750227  52.941461   \n",
       "1  113.935013  99.09196  56.908967  51.883073  13.992343  58.669924   \n",
       "\n",
       "        eFG%   FTARate  OppFTARate   OppOREB%    OppTOV%    OppeFG%  \n",
       "0  49.381612  0.248024    0.269676  27.571537  13.992343  55.186297  \n",
       "1  55.186297  0.269676    0.248024  25.943778  14.750227  49.381612  "
      ]
     },
     "execution_count": 175,
     "metadata": {},
     "output_type": "execute_result"
    }
   ],
   "source": [
    "my_df.head()"
   ]
  },
  {
   "cell_type": "code",
   "execution_count": 167,
   "metadata": {},
   "outputs": [
    {
     "data": {
      "text/plain": [
       "'2019-01-29T00:00:00.000Z'"
      ]
     },
     "execution_count": 167,
     "metadata": {},
     "output_type": "execute_result"
    }
   ],
   "source": [
    "date_index"
   ]
  },
  {
   "cell_type": "code",
   "execution_count": 168,
   "metadata": {},
   "outputs": [
    {
     "data": {
      "text/plain": [
       "str"
      ]
     },
     "execution_count": 168,
     "metadata": {},
     "output_type": "execute_result"
    }
   ],
   "source": [
    "type(date_index)"
   ]
  },
  {
   "cell_type": "code",
   "execution_count": 169,
   "metadata": {},
   "outputs": [],
   "source": [
    "import dateutil.parser\n",
    "yourdate = dateutil.parser.parse(date_index)"
   ]
  },
  {
   "cell_type": "code",
   "execution_count": 172,
   "metadata": {},
   "outputs": [
    {
     "data": {
      "text/plain": [
       "'01/29/2019'"
      ]
     },
     "execution_count": 172,
     "metadata": {},
     "output_type": "execute_result"
    }
   ],
   "source": [
    "yourdate.strftime('%m/%d/%Y')"
   ]
  },
  {
   "cell_type": "code",
   "execution_count": 185,
   "metadata": {},
   "outputs": [
    {
     "name": "stdout",
     "output_type": "stream",
     "text": [
      "1522\n",
      "2019-01-30T00:00:00.000Z\n"
     ]
    }
   ],
   "source": [
    "# create mongo db connection\n",
    "conn = 'mongodb://localhost:27017'\n",
    "client = pymongo.MongoClient(conn)\n",
    "# connect to my nba data db\n",
    "db = client.nba_data_db\n",
    "# Find latest boxscore date\n",
    "count = db.testing_data.count_documents({})\n",
    "print(count)\n",
    "if count != 0:\n",
    "    temp = db.testing_data.find().sort('GameDate',pymongo.DESCENDING).limit(1)\n",
    "    date_index = temp[0]['GameDate']\n",
    "else:\n",
    "    date_index = None\n",
    "print(date_index)"
   ]
  },
  {
   "cell_type": "code",
   "execution_count": 180,
   "metadata": {},
   "outputs": [
    {
     "name": "stdout",
     "output_type": "stream",
     "text": [
      "None\n"
     ]
    }
   ],
   "source": [
    "mytemp = None\n",
    "print(mytemp)"
   ]
  },
  {
   "cell_type": "code",
   "execution_count": 181,
   "metadata": {},
   "outputs": [
    {
     "name": "stdout",
     "output_type": "stream",
     "text": [
      "True\n"
     ]
    }
   ],
   "source": [
    "if(mytemp == None):\n",
    "    print(\"True\")"
   ]
  },
  {
   "cell_type": "code",
   "execution_count": null,
   "metadata": {},
   "outputs": [],
   "source": []
  }
 ],
 "metadata": {
  "kernelspec": {
   "display_name": "Python [conda env:PythonData]",
   "language": "python",
   "name": "conda-env-PythonData-py"
  },
  "language_info": {
   "codemirror_mode": {
    "name": "ipython",
    "version": 3
   },
   "file_extension": ".py",
   "mimetype": "text/x-python",
   "name": "python",
   "nbconvert_exporter": "python",
   "pygments_lexer": "ipython3",
   "version": "3.6.5"
  }
 },
 "nbformat": 4,
 "nbformat_minor": 2
}
